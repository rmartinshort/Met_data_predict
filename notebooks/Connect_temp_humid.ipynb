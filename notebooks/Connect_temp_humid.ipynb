{
 "cells": [
  {
   "cell_type": "markdown",
   "metadata": {},
   "source": [
    "connect the temperature and humidity dataset to the soil moisture dataset"
   ]
  },
  {
   "cell_type": "code",
   "execution_count": 20,
   "metadata": {
    "collapsed": true
   },
   "outputs": [],
   "source": [
    "import pandas as pd\n",
    "import datetime\n",
    "import obspy as op\n",
    "import numpy as np\n",
    "from scipy import interpolate"
   ]
  },
  {
   "cell_type": "code",
   "execution_count": 2,
   "metadata": {
    "collapsed": true
   },
   "outputs": [],
   "source": [
    "soil_M = pd.read_csv(\"Fnames_soilM_interp.csv\")"
   ]
  },
  {
   "cell_type": "code",
   "execution_count": 3,
   "metadata": {
    "collapsed": true
   },
   "outputs": [],
   "source": [
    "temp = pd.read_csv(\"Temperature_humidity.dat\")"
   ]
  },
  {
   "cell_type": "code",
   "execution_count": 4,
   "metadata": {
    "collapsed": false
   },
   "outputs": [
    {
     "data": {
      "text/html": [
       "<div>\n",
       "<style scoped>\n",
       "    .dataframe tbody tr th:only-of-type {\n",
       "        vertical-align: middle;\n",
       "    }\n",
       "\n",
       "    .dataframe tbody tr th {\n",
       "        vertical-align: top;\n",
       "    }\n",
       "\n",
       "    .dataframe thead th {\n",
       "        text-align: right;\n",
       "    }\n",
       "</style>\n",
       "<table border=\"1\" class=\"dataframe\">\n",
       "  <thead>\n",
       "    <tr style=\"text-align: right;\">\n",
       "      <th></th>\n",
       "      <th>Daytime</th>\n",
       "      <th>Temphigh</th>\n",
       "      <th>Humidhigh</th>\n",
       "      <th>Humidlow</th>\n",
       "      <th>Battvolt</th>\n",
       "      <th>Pressure</th>\n",
       "      <th>Scaled_temp</th>\n",
       "      <th>Scaled_pressure</th>\n",
       "      <th>hour_of_day</th>\n",
       "    </tr>\n",
       "  </thead>\n",
       "  <tbody>\n",
       "    <tr>\n",
       "      <th>0</th>\n",
       "      <td>2016-07-28 00:00:00</td>\n",
       "      <td>16.06</td>\n",
       "      <td>75.05</td>\n",
       "      <td>0</td>\n",
       "      <td>12.39</td>\n",
       "      <td>1020</td>\n",
       "      <td>0.505827</td>\n",
       "      <td>0.963173</td>\n",
       "      <td>0</td>\n",
       "    </tr>\n",
       "    <tr>\n",
       "      <th>1</th>\n",
       "      <td>2016-07-28 01:00:00</td>\n",
       "      <td>15.40</td>\n",
       "      <td>74.29</td>\n",
       "      <td>0</td>\n",
       "      <td>12.38</td>\n",
       "      <td>1020</td>\n",
       "      <td>0.485039</td>\n",
       "      <td>0.963173</td>\n",
       "      <td>1</td>\n",
       "    </tr>\n",
       "    <tr>\n",
       "      <th>2</th>\n",
       "      <td>2016-07-28 02:00:00</td>\n",
       "      <td>13.58</td>\n",
       "      <td>77.73</td>\n",
       "      <td>0</td>\n",
       "      <td>12.37</td>\n",
       "      <td>1020</td>\n",
       "      <td>0.427717</td>\n",
       "      <td>0.963173</td>\n",
       "      <td>2</td>\n",
       "    </tr>\n",
       "    <tr>\n",
       "      <th>3</th>\n",
       "      <td>2016-07-28 03:00:00</td>\n",
       "      <td>12.40</td>\n",
       "      <td>78.49</td>\n",
       "      <td>0</td>\n",
       "      <td>12.36</td>\n",
       "      <td>1020</td>\n",
       "      <td>0.390551</td>\n",
       "      <td>0.963173</td>\n",
       "      <td>3</td>\n",
       "    </tr>\n",
       "    <tr>\n",
       "      <th>4</th>\n",
       "      <td>2016-07-28 04:00:00</td>\n",
       "      <td>12.13</td>\n",
       "      <td>78.54</td>\n",
       "      <td>0</td>\n",
       "      <td>12.35</td>\n",
       "      <td>1020</td>\n",
       "      <td>0.382047</td>\n",
       "      <td>0.963173</td>\n",
       "      <td>4</td>\n",
       "    </tr>\n",
       "  </tbody>\n",
       "</table>\n",
       "</div>"
      ],
      "text/plain": [
       "               Daytime  Temphigh  Humidhigh  Humidlow  Battvolt  Pressure  \\\n",
       "0  2016-07-28 00:00:00     16.06      75.05         0     12.39      1020   \n",
       "1  2016-07-28 01:00:00     15.40      74.29         0     12.38      1020   \n",
       "2  2016-07-28 02:00:00     13.58      77.73         0     12.37      1020   \n",
       "3  2016-07-28 03:00:00     12.40      78.49         0     12.36      1020   \n",
       "4  2016-07-28 04:00:00     12.13      78.54         0     12.35      1020   \n",
       "\n",
       "   Scaled_temp  Scaled_pressure  hour_of_day  \n",
       "0     0.505827         0.963173            0  \n",
       "1     0.485039         0.963173            1  \n",
       "2     0.427717         0.963173            2  \n",
       "3     0.390551         0.963173            3  \n",
       "4     0.382047         0.963173            4  "
      ]
     },
     "execution_count": 4,
     "metadata": {},
     "output_type": "execute_result"
    }
   ],
   "source": [
    "temp.head()"
   ]
  },
  {
   "cell_type": "code",
   "execution_count": 7,
   "metadata": {
    "collapsed": false
   },
   "outputs": [],
   "source": [
    "temp.drop([\"Scaled_temp\",\"Scaled_pressure\"],axis=1,inplace=True)"
   ]
  },
  {
   "cell_type": "code",
   "execution_count": 8,
   "metadata": {
    "collapsed": true
   },
   "outputs": [],
   "source": [
    "#Find the start of the temperature experiment\n",
    "stime = op.UTCDateTime(temp['Daytime'][0])"
   ]
  },
  {
   "cell_type": "code",
   "execution_count": 9,
   "metadata": {
    "collapsed": true
   },
   "outputs": [],
   "source": [
    "temp['tsince_start'] = temp['Daytime'].apply(lambda x: op.UTCDateTime(x)-stime)"
   ]
  },
  {
   "cell_type": "code",
   "execution_count": 10,
   "metadata": {
    "collapsed": false
   },
   "outputs": [
    {
     "data": {
      "text/html": [
       "<div>\n",
       "<style scoped>\n",
       "    .dataframe tbody tr th:only-of-type {\n",
       "        vertical-align: middle;\n",
       "    }\n",
       "\n",
       "    .dataframe tbody tr th {\n",
       "        vertical-align: top;\n",
       "    }\n",
       "\n",
       "    .dataframe thead th {\n",
       "        text-align: right;\n",
       "    }\n",
       "</style>\n",
       "<table border=\"1\" class=\"dataframe\">\n",
       "  <thead>\n",
       "    <tr style=\"text-align: right;\">\n",
       "      <th></th>\n",
       "      <th>Daytime</th>\n",
       "      <th>Temphigh</th>\n",
       "      <th>Humidhigh</th>\n",
       "      <th>Humidlow</th>\n",
       "      <th>Battvolt</th>\n",
       "      <th>Pressure</th>\n",
       "      <th>hour_of_day</th>\n",
       "      <th>tsince_start</th>\n",
       "    </tr>\n",
       "  </thead>\n",
       "  <tbody>\n",
       "    <tr>\n",
       "      <th>0</th>\n",
       "      <td>2016-07-28 00:00:00</td>\n",
       "      <td>16.06</td>\n",
       "      <td>75.05</td>\n",
       "      <td>0</td>\n",
       "      <td>12.39</td>\n",
       "      <td>1020</td>\n",
       "      <td>0</td>\n",
       "      <td>0.0</td>\n",
       "    </tr>\n",
       "    <tr>\n",
       "      <th>1</th>\n",
       "      <td>2016-07-28 01:00:00</td>\n",
       "      <td>15.40</td>\n",
       "      <td>74.29</td>\n",
       "      <td>0</td>\n",
       "      <td>12.38</td>\n",
       "      <td>1020</td>\n",
       "      <td>1</td>\n",
       "      <td>3600.0</td>\n",
       "    </tr>\n",
       "    <tr>\n",
       "      <th>2</th>\n",
       "      <td>2016-07-28 02:00:00</td>\n",
       "      <td>13.58</td>\n",
       "      <td>77.73</td>\n",
       "      <td>0</td>\n",
       "      <td>12.37</td>\n",
       "      <td>1020</td>\n",
       "      <td>2</td>\n",
       "      <td>7200.0</td>\n",
       "    </tr>\n",
       "    <tr>\n",
       "      <th>3</th>\n",
       "      <td>2016-07-28 03:00:00</td>\n",
       "      <td>12.40</td>\n",
       "      <td>78.49</td>\n",
       "      <td>0</td>\n",
       "      <td>12.36</td>\n",
       "      <td>1020</td>\n",
       "      <td>3</td>\n",
       "      <td>10800.0</td>\n",
       "    </tr>\n",
       "    <tr>\n",
       "      <th>4</th>\n",
       "      <td>2016-07-28 04:00:00</td>\n",
       "      <td>12.13</td>\n",
       "      <td>78.54</td>\n",
       "      <td>0</td>\n",
       "      <td>12.35</td>\n",
       "      <td>1020</td>\n",
       "      <td>4</td>\n",
       "      <td>14400.0</td>\n",
       "    </tr>\n",
       "  </tbody>\n",
       "</table>\n",
       "</div>"
      ],
      "text/plain": [
       "               Daytime  Temphigh  Humidhigh  Humidlow  Battvolt  Pressure  \\\n",
       "0  2016-07-28 00:00:00     16.06      75.05         0     12.39      1020   \n",
       "1  2016-07-28 01:00:00     15.40      74.29         0     12.38      1020   \n",
       "2  2016-07-28 02:00:00     13.58      77.73         0     12.37      1020   \n",
       "3  2016-07-28 03:00:00     12.40      78.49         0     12.36      1020   \n",
       "4  2016-07-28 04:00:00     12.13      78.54         0     12.35      1020   \n",
       "\n",
       "   hour_of_day  tsince_start  \n",
       "0            0           0.0  \n",
       "1            1        3600.0  \n",
       "2            2        7200.0  \n",
       "3            3       10800.0  \n",
       "4            4       14400.0  "
      ]
     },
     "execution_count": 10,
     "metadata": {},
     "output_type": "execute_result"
    }
   ],
   "source": [
    "temp.head()"
   ]
  },
  {
   "cell_type": "code",
   "execution_count": 14,
   "metadata": {
    "collapsed": false
   },
   "outputs": [],
   "source": [
    "soil_M.rename(index=str,columns={\"tsince_start\":\"tsince_start_soilM\"},inplace=True)"
   ]
  },
  {
   "cell_type": "code",
   "execution_count": 18,
   "metadata": {
    "collapsed": false
   },
   "outputs": [],
   "source": [
    "soil_M['tsince_start_temp'] = soil_M['DateTime'].apply(lambda x: op.UTCDateTime(x)+30-stime)"
   ]
  },
  {
   "cell_type": "code",
   "execution_count": 21,
   "metadata": {
    "collapsed": false
   },
   "outputs": [
    {
     "name": "stdout",
     "output_type": "stream",
     "text": [
      "Temphigh\n",
      "Humidhigh\n",
      "Humidlow\n",
      "Battvolt\n"
     ]
    }
   ],
   "source": [
    "X = np.array(temp['tsince_start'])\n",
    "for i in range(1,5):\n",
    "    colname = temp.columns[i]\n",
    "    print(colname)\n",
    "    newcolname = colname+'_interp'\n",
    "    Y = np.array(temp[colname])\n",
    "    f = interpolate.interp1d(X,Y,kind='linear')\n",
    "    soil_M[newcolname] = f(np.array(soil_M['tsince_start_temp']))"
   ]
  },
  {
   "cell_type": "code",
   "execution_count": 22,
   "metadata": {
    "collapsed": false
   },
   "outputs": [
    {
     "data": {
      "text/html": [
       "<div>\n",
       "<style scoped>\n",
       "    .dataframe tbody tr th:only-of-type {\n",
       "        vertical-align: middle;\n",
       "    }\n",
       "\n",
       "    .dataframe tbody tr th {\n",
       "        vertical-align: top;\n",
       "    }\n",
       "\n",
       "    .dataframe thead th {\n",
       "        text-align: right;\n",
       "    }\n",
       "</style>\n",
       "<table border=\"1\" class=\"dataframe\">\n",
       "  <thead>\n",
       "    <tr style=\"text-align: right;\">\n",
       "      <th></th>\n",
       "      <th>file_name</th>\n",
       "      <th>Line</th>\n",
       "      <th>Timestamp</th>\n",
       "      <th>DateTime</th>\n",
       "      <th>tsince_start_soilM</th>\n",
       "      <th>M1_20_Avg_interp</th>\n",
       "      <th>M2_20_Avg_interp</th>\n",
       "      <th>M3_20_Avg_interp</th>\n",
       "      <th>M4_10_Avg_interp</th>\n",
       "      <th>M4_35_Avg_interp</th>\n",
       "      <th>...</th>\n",
       "      <th>M7_20_Avg_interp</th>\n",
       "      <th>M7_35_Avg_interp</th>\n",
       "      <th>M8_20_Avg_interp</th>\n",
       "      <th>M9_20_Avg_interp</th>\n",
       "      <th>M9_35_Avg_interp</th>\n",
       "      <th>tsince_start_temp</th>\n",
       "      <th>Temphigh_interp</th>\n",
       "      <th>Humidhigh_interp</th>\n",
       "      <th>Humidlow_interp</th>\n",
       "      <th>Battvolt_interp</th>\n",
       "    </tr>\n",
       "  </thead>\n",
       "  <tbody>\n",
       "    <tr>\n",
       "      <th>0</th>\n",
       "      <td>./20160805180738_40_Hz_LineC</td>\n",
       "      <td>LineC</td>\n",
       "      <td>20160805180738</td>\n",
       "      <td>2016-08-05 18:07:38</td>\n",
       "      <td>21488.0</td>\n",
       "      <td>0.581</td>\n",
       "      <td>0.61056</td>\n",
       "      <td>0.202</td>\n",
       "      <td>0.533</td>\n",
       "      <td>0.497813</td>\n",
       "      <td>...</td>\n",
       "      <td>0.558187</td>\n",
       "      <td>0.562</td>\n",
       "      <td>0.311</td>\n",
       "      <td>0.417</td>\n",
       "      <td>0.495187</td>\n",
       "      <td>756488.0</td>\n",
       "      <td>27.437489</td>\n",
       "      <td>45.485533</td>\n",
       "      <td>0.0</td>\n",
       "      <td>12.74</td>\n",
       "    </tr>\n",
       "    <tr>\n",
       "      <th>1</th>\n",
       "      <td>./20160805180738_40_Hz_LineCSN.mseed</td>\n",
       "      <td>LineCSN</td>\n",
       "      <td>20160805180738</td>\n",
       "      <td>2016-08-05 18:07:38</td>\n",
       "      <td>21488.0</td>\n",
       "      <td>0.581</td>\n",
       "      <td>0.61056</td>\n",
       "      <td>0.202</td>\n",
       "      <td>0.533</td>\n",
       "      <td>0.497813</td>\n",
       "      <td>...</td>\n",
       "      <td>0.558187</td>\n",
       "      <td>0.562</td>\n",
       "      <td>0.311</td>\n",
       "      <td>0.417</td>\n",
       "      <td>0.495187</td>\n",
       "      <td>756488.0</td>\n",
       "      <td>27.437489</td>\n",
       "      <td>45.485533</td>\n",
       "      <td>0.0</td>\n",
       "      <td>12.74</td>\n",
       "    </tr>\n",
       "    <tr>\n",
       "      <th>2</th>\n",
       "      <td>./20160805180738_40_Hz_Line2EW.mseed</td>\n",
       "      <td>Line2EW</td>\n",
       "      <td>20160805180738</td>\n",
       "      <td>2016-08-05 18:07:38</td>\n",
       "      <td>21488.0</td>\n",
       "      <td>0.581</td>\n",
       "      <td>0.61056</td>\n",
       "      <td>0.202</td>\n",
       "      <td>0.533</td>\n",
       "      <td>0.497813</td>\n",
       "      <td>...</td>\n",
       "      <td>0.558187</td>\n",
       "      <td>0.562</td>\n",
       "      <td>0.311</td>\n",
       "      <td>0.417</td>\n",
       "      <td>0.495187</td>\n",
       "      <td>756488.0</td>\n",
       "      <td>27.437489</td>\n",
       "      <td>45.485533</td>\n",
       "      <td>0.0</td>\n",
       "      <td>12.74</td>\n",
       "    </tr>\n",
       "    <tr>\n",
       "      <th>3</th>\n",
       "      <td>./20160805180738_40_Hz_Line2</td>\n",
       "      <td>Line2</td>\n",
       "      <td>20160805180738</td>\n",
       "      <td>2016-08-05 18:07:38</td>\n",
       "      <td>21488.0</td>\n",
       "      <td>0.581</td>\n",
       "      <td>0.61056</td>\n",
       "      <td>0.202</td>\n",
       "      <td>0.533</td>\n",
       "      <td>0.497813</td>\n",
       "      <td>...</td>\n",
       "      <td>0.558187</td>\n",
       "      <td>0.562</td>\n",
       "      <td>0.311</td>\n",
       "      <td>0.417</td>\n",
       "      <td>0.495187</td>\n",
       "      <td>756488.0</td>\n",
       "      <td>27.437489</td>\n",
       "      <td>45.485533</td>\n",
       "      <td>0.0</td>\n",
       "      <td>12.74</td>\n",
       "    </tr>\n",
       "    <tr>\n",
       "      <th>4</th>\n",
       "      <td>./20160805180838_40_Hz_Line2EW.mseed</td>\n",
       "      <td>Line2EW</td>\n",
       "      <td>20160805180838</td>\n",
       "      <td>2016-08-05 18:08:38</td>\n",
       "      <td>21548.0</td>\n",
       "      <td>0.581</td>\n",
       "      <td>0.61026</td>\n",
       "      <td>0.202</td>\n",
       "      <td>0.533</td>\n",
       "      <td>0.497913</td>\n",
       "      <td>...</td>\n",
       "      <td>0.558087</td>\n",
       "      <td>0.562</td>\n",
       "      <td>0.311</td>\n",
       "      <td>0.417</td>\n",
       "      <td>0.495087</td>\n",
       "      <td>756548.0</td>\n",
       "      <td>27.423656</td>\n",
       "      <td>45.512033</td>\n",
       "      <td>0.0</td>\n",
       "      <td>12.74</td>\n",
       "    </tr>\n",
       "  </tbody>\n",
       "</table>\n",
       "<p>5 rows × 24 columns</p>\n",
       "</div>"
      ],
      "text/plain": [
       "                              file_name     Line       Timestamp  \\\n",
       "0          ./20160805180738_40_Hz_LineC    LineC  20160805180738   \n",
       "1  ./20160805180738_40_Hz_LineCSN.mseed  LineCSN  20160805180738   \n",
       "2  ./20160805180738_40_Hz_Line2EW.mseed  Line2EW  20160805180738   \n",
       "3          ./20160805180738_40_Hz_Line2    Line2  20160805180738   \n",
       "4  ./20160805180838_40_Hz_Line2EW.mseed  Line2EW  20160805180838   \n",
       "\n",
       "              DateTime  tsince_start_soilM  M1_20_Avg_interp  \\\n",
       "0  2016-08-05 18:07:38             21488.0             0.581   \n",
       "1  2016-08-05 18:07:38             21488.0             0.581   \n",
       "2  2016-08-05 18:07:38             21488.0             0.581   \n",
       "3  2016-08-05 18:07:38             21488.0             0.581   \n",
       "4  2016-08-05 18:08:38             21548.0             0.581   \n",
       "\n",
       "   M2_20_Avg_interp  M3_20_Avg_interp  M4_10_Avg_interp  M4_35_Avg_interp  \\\n",
       "0           0.61056             0.202             0.533          0.497813   \n",
       "1           0.61056             0.202             0.533          0.497813   \n",
       "2           0.61056             0.202             0.533          0.497813   \n",
       "3           0.61056             0.202             0.533          0.497813   \n",
       "4           0.61026             0.202             0.533          0.497913   \n",
       "\n",
       "        ...         M7_20_Avg_interp  M7_35_Avg_interp  M8_20_Avg_interp  \\\n",
       "0       ...                 0.558187             0.562             0.311   \n",
       "1       ...                 0.558187             0.562             0.311   \n",
       "2       ...                 0.558187             0.562             0.311   \n",
       "3       ...                 0.558187             0.562             0.311   \n",
       "4       ...                 0.558087             0.562             0.311   \n",
       "\n",
       "   M9_20_Avg_interp  M9_35_Avg_interp  tsince_start_temp  Temphigh_interp  \\\n",
       "0             0.417          0.495187           756488.0        27.437489   \n",
       "1             0.417          0.495187           756488.0        27.437489   \n",
       "2             0.417          0.495187           756488.0        27.437489   \n",
       "3             0.417          0.495187           756488.0        27.437489   \n",
       "4             0.417          0.495087           756548.0        27.423656   \n",
       "\n",
       "   Humidhigh_interp  Humidlow_interp  Battvolt_interp  \n",
       "0         45.485533              0.0            12.74  \n",
       "1         45.485533              0.0            12.74  \n",
       "2         45.485533              0.0            12.74  \n",
       "3         45.485533              0.0            12.74  \n",
       "4         45.512033              0.0            12.74  \n",
       "\n",
       "[5 rows x 24 columns]"
      ]
     },
     "execution_count": 22,
     "metadata": {},
     "output_type": "execute_result"
    }
   ],
   "source": [
    "soil_M.head()"
   ]
  },
  {
   "cell_type": "code",
   "execution_count": 23,
   "metadata": {
    "collapsed": true
   },
   "outputs": [],
   "source": [
    "soil_M.to_csv(\"Fnames_soilM_temp.csv\",index=False)"
   ]
  },
  {
   "cell_type": "code",
   "execution_count": null,
   "metadata": {
    "collapsed": true
   },
   "outputs": [],
   "source": []
  }
 ],
 "metadata": {
  "kernelspec": {
   "display_name": "Python [conda env:python3]",
   "language": "python",
   "name": "conda-env-python3-py"
  },
  "language_info": {
   "codemirror_mode": {
    "name": "ipython",
    "version": 3
   },
   "file_extension": ".py",
   "mimetype": "text/x-python",
   "name": "python",
   "nbconvert_exporter": "python",
   "pygments_lexer": "ipython3",
   "version": "3.6.4"
  }
 },
 "nbformat": 4,
 "nbformat_minor": 1
}
