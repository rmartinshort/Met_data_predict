{
 "cells": [
  {
   "cell_type": "markdown",
   "metadata": {},
   "source": [
    "### Random forest classification on data from sliding window\n",
    "\n",
    "Aim is to use a sliding window to calculate features. The window length might act a bit like a filter"
   ]
  },
  {
   "cell_type": "code",
   "execution_count": 1,
   "metadata": {
    "collapsed": true
   },
   "outputs": [],
   "source": [
    "import pandas as pd\n",
    "import obspy as op\n",
    "import numpy as np\n",
    "import matplotlib.pyplot as plt\n",
    "from scipy import interpolate\n",
    "import glob\n",
    "%matplotlib inline"
   ]
  },
  {
   "cell_type": "code",
   "execution_count": 9,
   "metadata": {
    "collapsed": true
   },
   "outputs": [],
   "source": [
    "all_data = pd.read_csv(\"Fnames_soilM_temp.csv\")\n",
    "lineCSN = all_data[all_data['Line'] == \"LineCSN\"]\n",
    "\n",
    "#Extract just the soil moisture time series corresponding to probe M3_20\n",
    "lineCSN_M3 = lineCSN[['file_name','DateTime','M3_20_Avg_interp','Temphigh_interp']]\n",
    "lineCSN_M3.reset_index(drop=True,inplace=True)\n",
    "lineCSN_M3.assign(DateTime = pd.to_datetime(lineCSN_M3['DateTime']))\n",
    "lineCSN_M3.set_index('DateTime',inplace=True)\n",
    "#Generate linking column\n",
    "lineCSN_M3 = lineCSN_M3.assign(file_name=lineCSN_M3['file_name'].apply(lambda x: x[2:]))"
   ]
  },
  {
   "cell_type": "code",
   "execution_count": 12,
   "metadata": {
    "collapsed": false
   },
   "outputs": [
    {
     "name": "stdout",
     "output_type": "stream",
     "text": [
      "skewness\n",
      "minimum\n",
      "maximum\n",
      "abs_energy\n",
      "cid_ce\n",
      "median\n",
      "x_crossing_m\n",
      "variance\n",
      "interquartile_range\n",
      "mean_change\n",
      "root_mean_square\n",
      "mean\n",
      "mean_abs_change\n",
      "kurtosis\n"
     ]
    }
   ],
   "source": [
    "feature_files = glob.glob('/home/rmartinshort/Documents/Berkeley/Fiber/data_test/Soil_moisture_predict/rms_sliding_10/*.csv')\n",
    "feature_dfs = []\n",
    "for csv_file in feature_files:\n",
    "    fname = csv_file.split('/')[-1].split('.')[0][:-18]\n",
    "    print(fname)\n",
    "    df = pd.read_csv(csv_file)\n",
    "    df.name = fname\n",
    "    feature_dfs.append(df)"
   ]
  },
  {
   "cell_type": "code",
   "execution_count": 13,
   "metadata": {
    "collapsed": false
   },
   "outputs": [
    {
     "data": {
      "text/html": [
       "<div>\n",
       "<style scoped>\n",
       "    .dataframe tbody tr th:only-of-type {\n",
       "        vertical-align: middle;\n",
       "    }\n",
       "\n",
       "    .dataframe tbody tr th {\n",
       "        vertical-align: top;\n",
       "    }\n",
       "\n",
       "    .dataframe thead th {\n",
       "        text-align: right;\n",
       "    }\n",
       "</style>\n",
       "<table border=\"1\" class=\"dataframe\">\n",
       "  <thead>\n",
       "    <tr style=\"text-align: right;\">\n",
       "      <th></th>\n",
       "      <th>channel_75</th>\n",
       "      <th>channel_76</th>\n",
       "      <th>channel_77</th>\n",
       "      <th>channel_78</th>\n",
       "      <th>channel_79</th>\n",
       "      <th>channel_80</th>\n",
       "      <th>channel_81</th>\n",
       "      <th>channel_82</th>\n",
       "      <th>channel_83</th>\n",
       "      <th>channel_84</th>\n",
       "      <th>...</th>\n",
       "      <th>channel_86</th>\n",
       "      <th>channel_87</th>\n",
       "      <th>channel_88</th>\n",
       "      <th>channel_89</th>\n",
       "      <th>channel_90</th>\n",
       "      <th>channel_91</th>\n",
       "      <th>channel_92</th>\n",
       "      <th>channel_93</th>\n",
       "      <th>channel_94</th>\n",
       "      <th>time</th>\n",
       "    </tr>\n",
       "  </thead>\n",
       "  <tbody>\n",
       "    <tr>\n",
       "      <th>0</th>\n",
       "      <td>-0.269375</td>\n",
       "      <td>-0.256548</td>\n",
       "      <td>-0.151903</td>\n",
       "      <td>0.069723</td>\n",
       "      <td>0.141415</td>\n",
       "      <td>0.169870</td>\n",
       "      <td>0.124374</td>\n",
       "      <td>-0.096271</td>\n",
       "      <td>-0.124580</td>\n",
       "      <td>-0.294946</td>\n",
       "      <td>...</td>\n",
       "      <td>-0.081089</td>\n",
       "      <td>-0.045847</td>\n",
       "      <td>-0.343732</td>\n",
       "      <td>-0.241530</td>\n",
       "      <td>-0.046841</td>\n",
       "      <td>0.226312</td>\n",
       "      <td>0.239830</td>\n",
       "      <td>0.357177</td>\n",
       "      <td>0.182656</td>\n",
       "      <td>2016-08-05T18:12:38.969414Z</td>\n",
       "    </tr>\n",
       "    <tr>\n",
       "      <th>1</th>\n",
       "      <td>-0.036099</td>\n",
       "      <td>-0.109032</td>\n",
       "      <td>-0.057988</td>\n",
       "      <td>0.116761</td>\n",
       "      <td>0.037290</td>\n",
       "      <td>0.079942</td>\n",
       "      <td>0.025367</td>\n",
       "      <td>-0.094667</td>\n",
       "      <td>0.028545</td>\n",
       "      <td>-0.023225</td>\n",
       "      <td>...</td>\n",
       "      <td>-0.080795</td>\n",
       "      <td>-0.059955</td>\n",
       "      <td>-0.336017</td>\n",
       "      <td>-0.257605</td>\n",
       "      <td>0.041217</td>\n",
       "      <td>0.232311</td>\n",
       "      <td>0.241358</td>\n",
       "      <td>0.293522</td>\n",
       "      <td>0.250899</td>\n",
       "      <td>2016-08-05T18:17:38.969779Z</td>\n",
       "    </tr>\n",
       "    <tr>\n",
       "      <th>2</th>\n",
       "      <td>-0.609823</td>\n",
       "      <td>-0.267885</td>\n",
       "      <td>-0.284022</td>\n",
       "      <td>-0.169787</td>\n",
       "      <td>-0.141827</td>\n",
       "      <td>-0.108281</td>\n",
       "      <td>-0.393403</td>\n",
       "      <td>-0.097614</td>\n",
       "      <td>-0.153862</td>\n",
       "      <td>-0.157018</td>\n",
       "      <td>...</td>\n",
       "      <td>-0.432070</td>\n",
       "      <td>-0.767684</td>\n",
       "      <td>-0.745247</td>\n",
       "      <td>-0.385655</td>\n",
       "      <td>0.238561</td>\n",
       "      <td>0.136256</td>\n",
       "      <td>0.090512</td>\n",
       "      <td>0.188097</td>\n",
       "      <td>0.374976</td>\n",
       "      <td>2016-08-05T18:22:38.969779Z</td>\n",
       "    </tr>\n",
       "    <tr>\n",
       "      <th>3</th>\n",
       "      <td>-0.819602</td>\n",
       "      <td>-0.355962</td>\n",
       "      <td>-0.378902</td>\n",
       "      <td>-0.345712</td>\n",
       "      <td>0.105413</td>\n",
       "      <td>-0.074047</td>\n",
       "      <td>-0.498908</td>\n",
       "      <td>-0.081797</td>\n",
       "      <td>NaN</td>\n",
       "      <td>NaN</td>\n",
       "      <td>...</td>\n",
       "      <td>NaN</td>\n",
       "      <td>NaN</td>\n",
       "      <td>NaN</td>\n",
       "      <td>-0.505557</td>\n",
       "      <td>NaN</td>\n",
       "      <td>-0.030877</td>\n",
       "      <td>0.039957</td>\n",
       "      <td>0.345046</td>\n",
       "      <td>0.193354</td>\n",
       "      <td>2016-08-05T18:27:38.969779Z</td>\n",
       "    </tr>\n",
       "    <tr>\n",
       "      <th>4</th>\n",
       "      <td>NaN</td>\n",
       "      <td>NaN</td>\n",
       "      <td>NaN</td>\n",
       "      <td>NaN</td>\n",
       "      <td>NaN</td>\n",
       "      <td>NaN</td>\n",
       "      <td>NaN</td>\n",
       "      <td>NaN</td>\n",
       "      <td>NaN</td>\n",
       "      <td>NaN</td>\n",
       "      <td>...</td>\n",
       "      <td>NaN</td>\n",
       "      <td>NaN</td>\n",
       "      <td>NaN</td>\n",
       "      <td>NaN</td>\n",
       "      <td>NaN</td>\n",
       "      <td>NaN</td>\n",
       "      <td>NaN</td>\n",
       "      <td>NaN</td>\n",
       "      <td>NaN</td>\n",
       "      <td>2016-08-05T19:03:01.282279Z</td>\n",
       "    </tr>\n",
       "  </tbody>\n",
       "</table>\n",
       "<p>5 rows × 21 columns</p>\n",
       "</div>"
      ],
      "text/plain": [
       "   channel_75  channel_76  channel_77  channel_78  channel_79  channel_80  \\\n",
       "0   -0.269375   -0.256548   -0.151903    0.069723    0.141415    0.169870   \n",
       "1   -0.036099   -0.109032   -0.057988    0.116761    0.037290    0.079942   \n",
       "2   -0.609823   -0.267885   -0.284022   -0.169787   -0.141827   -0.108281   \n",
       "3   -0.819602   -0.355962   -0.378902   -0.345712    0.105413   -0.074047   \n",
       "4         NaN         NaN         NaN         NaN         NaN         NaN   \n",
       "\n",
       "   channel_81  channel_82  channel_83  channel_84  \\\n",
       "0    0.124374   -0.096271   -0.124580   -0.294946   \n",
       "1    0.025367   -0.094667    0.028545   -0.023225   \n",
       "2   -0.393403   -0.097614   -0.153862   -0.157018   \n",
       "3   -0.498908   -0.081797         NaN         NaN   \n",
       "4         NaN         NaN         NaN         NaN   \n",
       "\n",
       "              ...               channel_86  channel_87  channel_88  \\\n",
       "0             ...                -0.081089   -0.045847   -0.343732   \n",
       "1             ...                -0.080795   -0.059955   -0.336017   \n",
       "2             ...                -0.432070   -0.767684   -0.745247   \n",
       "3             ...                      NaN         NaN         NaN   \n",
       "4             ...                      NaN         NaN         NaN   \n",
       "\n",
       "   channel_89  channel_90  channel_91  channel_92  channel_93  channel_94  \\\n",
       "0   -0.241530   -0.046841    0.226312    0.239830    0.357177    0.182656   \n",
       "1   -0.257605    0.041217    0.232311    0.241358    0.293522    0.250899   \n",
       "2   -0.385655    0.238561    0.136256    0.090512    0.188097    0.374976   \n",
       "3   -0.505557         NaN   -0.030877    0.039957    0.345046    0.193354   \n",
       "4         NaN         NaN         NaN         NaN         NaN         NaN   \n",
       "\n",
       "                          time  \n",
       "0  2016-08-05T18:12:38.969414Z  \n",
       "1  2016-08-05T18:17:38.969779Z  \n",
       "2  2016-08-05T18:22:38.969779Z  \n",
       "3  2016-08-05T18:27:38.969779Z  \n",
       "4  2016-08-05T19:03:01.282279Z  \n",
       "\n",
       "[5 rows x 21 columns]"
      ]
     },
     "execution_count": 13,
     "metadata": {},
     "output_type": "execute_result"
    }
   ],
   "source": [
    "feature_dfs[0].head()"
   ]
  },
  {
   "cell_type": "code",
   "execution_count": 14,
   "metadata": {
    "collapsed": false
   },
   "outputs": [
    {
     "data": {
      "text/html": [
       "<div>\n",
       "<style scoped>\n",
       "    .dataframe tbody tr th:only-of-type {\n",
       "        vertical-align: middle;\n",
       "    }\n",
       "\n",
       "    .dataframe tbody tr th {\n",
       "        vertical-align: top;\n",
       "    }\n",
       "\n",
       "    .dataframe thead th {\n",
       "        text-align: right;\n",
       "    }\n",
       "</style>\n",
       "<table border=\"1\" class=\"dataframe\">\n",
       "  <thead>\n",
       "    <tr style=\"text-align: right;\">\n",
       "      <th></th>\n",
       "      <th>file_name</th>\n",
       "      <th>M3_20_Avg_interp</th>\n",
       "      <th>Temphigh_interp</th>\n",
       "    </tr>\n",
       "    <tr>\n",
       "      <th>DateTime</th>\n",
       "      <th></th>\n",
       "      <th></th>\n",
       "      <th></th>\n",
       "    </tr>\n",
       "  </thead>\n",
       "  <tbody>\n",
       "    <tr>\n",
       "      <th>2016-08-05 18:07:38</th>\n",
       "      <td>20160805180738_40_Hz_LineCSN.mseed</td>\n",
       "      <td>0.202000</td>\n",
       "      <td>27.437489</td>\n",
       "    </tr>\n",
       "    <tr>\n",
       "      <th>2016-08-05 18:08:38</th>\n",
       "      <td>20160805180838_40_Hz_LineCSN.mseed</td>\n",
       "      <td>0.202000</td>\n",
       "      <td>27.423656</td>\n",
       "    </tr>\n",
       "    <tr>\n",
       "      <th>2016-08-05 18:09:38</th>\n",
       "      <td>20160805180938_40_Hz_LineCSN.mseed</td>\n",
       "      <td>0.202013</td>\n",
       "      <td>27.409822</td>\n",
       "    </tr>\n",
       "    <tr>\n",
       "      <th>2016-08-05 18:10:38</th>\n",
       "      <td>20160805181038_40_Hz_LineCSN.mseed</td>\n",
       "      <td>0.202113</td>\n",
       "      <td>27.395989</td>\n",
       "    </tr>\n",
       "    <tr>\n",
       "      <th>2016-08-05 18:11:38</th>\n",
       "      <td>20160805181138_40_Hz_LineCSN.mseed</td>\n",
       "      <td>0.202213</td>\n",
       "      <td>27.382156</td>\n",
       "    </tr>\n",
       "  </tbody>\n",
       "</table>\n",
       "</div>"
      ],
      "text/plain": [
       "                                              file_name  M3_20_Avg_interp  \\\n",
       "DateTime                                                                    \n",
       "2016-08-05 18:07:38  20160805180738_40_Hz_LineCSN.mseed          0.202000   \n",
       "2016-08-05 18:08:38  20160805180838_40_Hz_LineCSN.mseed          0.202000   \n",
       "2016-08-05 18:09:38  20160805180938_40_Hz_LineCSN.mseed          0.202013   \n",
       "2016-08-05 18:10:38  20160805181038_40_Hz_LineCSN.mseed          0.202113   \n",
       "2016-08-05 18:11:38  20160805181138_40_Hz_LineCSN.mseed          0.202213   \n",
       "\n",
       "                     Temphigh_interp  \n",
       "DateTime                              \n",
       "2016-08-05 18:07:38        27.437489  \n",
       "2016-08-05 18:08:38        27.423656  \n",
       "2016-08-05 18:09:38        27.409822  \n",
       "2016-08-05 18:10:38        27.395989  \n",
       "2016-08-05 18:11:38        27.382156  "
      ]
     },
     "execution_count": 14,
     "metadata": {},
     "output_type": "execute_result"
    }
   ],
   "source": [
    "lineCSN_M3.head()"
   ]
  },
  {
   "cell_type": "markdown",
   "metadata": {},
   "source": [
    "We need to generate an interpolation function first, so we can interpolate the soil moisture and temperature values to the time column in each of the feature dataframes"
   ]
  },
  {
   "cell_type": "code",
   "execution_count": 15,
   "metadata": {
    "collapsed": true
   },
   "outputs": [],
   "source": [
    "lineCSN_M3['TTime'] = lineCSN_M3.index"
   ]
  },
  {
   "cell_type": "code",
   "execution_count": 16,
   "metadata": {
    "collapsed": false
   },
   "outputs": [
    {
     "name": "stdout",
     "output_type": "stream",
     "text": [
      "2016-08-05T18:07:38.000000Z\n"
     ]
    }
   ],
   "source": [
    "stime = lineCSN_M3.index[0]\n",
    "print(op.UTCDateTime(stime))"
   ]
  },
  {
   "cell_type": "code",
   "execution_count": 17,
   "metadata": {
    "collapsed": false
   },
   "outputs": [],
   "source": [
    "lineCSN_M3 = lineCSN_M3.assign(tsince_start=lineCSN_M3['TTime'].apply(lambda x: op.UTCDateTime(x) - op.UTCDateTime(stime)))"
   ]
  },
  {
   "cell_type": "code",
   "execution_count": 18,
   "metadata": {
    "collapsed": false
   },
   "outputs": [
    {
     "data": {
      "text/html": [
       "<div>\n",
       "<style scoped>\n",
       "    .dataframe tbody tr th:only-of-type {\n",
       "        vertical-align: middle;\n",
       "    }\n",
       "\n",
       "    .dataframe tbody tr th {\n",
       "        vertical-align: top;\n",
       "    }\n",
       "\n",
       "    .dataframe thead th {\n",
       "        text-align: right;\n",
       "    }\n",
       "</style>\n",
       "<table border=\"1\" class=\"dataframe\">\n",
       "  <thead>\n",
       "    <tr style=\"text-align: right;\">\n",
       "      <th></th>\n",
       "      <th>file_name</th>\n",
       "      <th>M3_20_Avg_interp</th>\n",
       "      <th>Temphigh_interp</th>\n",
       "      <th>TTime</th>\n",
       "      <th>tsince_start</th>\n",
       "    </tr>\n",
       "    <tr>\n",
       "      <th>DateTime</th>\n",
       "      <th></th>\n",
       "      <th></th>\n",
       "      <th></th>\n",
       "      <th></th>\n",
       "      <th></th>\n",
       "    </tr>\n",
       "  </thead>\n",
       "  <tbody>\n",
       "    <tr>\n",
       "      <th>2016-08-05 18:07:38</th>\n",
       "      <td>20160805180738_40_Hz_LineCSN.mseed</td>\n",
       "      <td>0.202000</td>\n",
       "      <td>27.437489</td>\n",
       "      <td>2016-08-05 18:07:38</td>\n",
       "      <td>0.0</td>\n",
       "    </tr>\n",
       "    <tr>\n",
       "      <th>2016-08-05 18:08:38</th>\n",
       "      <td>20160805180838_40_Hz_LineCSN.mseed</td>\n",
       "      <td>0.202000</td>\n",
       "      <td>27.423656</td>\n",
       "      <td>2016-08-05 18:08:38</td>\n",
       "      <td>60.0</td>\n",
       "    </tr>\n",
       "    <tr>\n",
       "      <th>2016-08-05 18:09:38</th>\n",
       "      <td>20160805180938_40_Hz_LineCSN.mseed</td>\n",
       "      <td>0.202013</td>\n",
       "      <td>27.409822</td>\n",
       "      <td>2016-08-05 18:09:38</td>\n",
       "      <td>120.0</td>\n",
       "    </tr>\n",
       "    <tr>\n",
       "      <th>2016-08-05 18:10:38</th>\n",
       "      <td>20160805181038_40_Hz_LineCSN.mseed</td>\n",
       "      <td>0.202113</td>\n",
       "      <td>27.395989</td>\n",
       "      <td>2016-08-05 18:10:38</td>\n",
       "      <td>180.0</td>\n",
       "    </tr>\n",
       "    <tr>\n",
       "      <th>2016-08-05 18:11:38</th>\n",
       "      <td>20160805181138_40_Hz_LineCSN.mseed</td>\n",
       "      <td>0.202213</td>\n",
       "      <td>27.382156</td>\n",
       "      <td>2016-08-05 18:11:38</td>\n",
       "      <td>240.0</td>\n",
       "    </tr>\n",
       "    <tr>\n",
       "      <th>2016-08-05 18:12:38</th>\n",
       "      <td>20160805181238_40_Hz_LineCSN.mseed</td>\n",
       "      <td>0.202313</td>\n",
       "      <td>27.368322</td>\n",
       "      <td>2016-08-05 18:12:38</td>\n",
       "      <td>300.0</td>\n",
       "    </tr>\n",
       "    <tr>\n",
       "      <th>2016-08-05 18:13:38</th>\n",
       "      <td>20160805181338_40_Hz_LineCSN.mseed</td>\n",
       "      <td>0.202413</td>\n",
       "      <td>27.354489</td>\n",
       "      <td>2016-08-05 18:13:38</td>\n",
       "      <td>360.0</td>\n",
       "    </tr>\n",
       "  </tbody>\n",
       "</table>\n",
       "</div>"
      ],
      "text/plain": [
       "                                              file_name  M3_20_Avg_interp  \\\n",
       "DateTime                                                                    \n",
       "2016-08-05 18:07:38  20160805180738_40_Hz_LineCSN.mseed          0.202000   \n",
       "2016-08-05 18:08:38  20160805180838_40_Hz_LineCSN.mseed          0.202000   \n",
       "2016-08-05 18:09:38  20160805180938_40_Hz_LineCSN.mseed          0.202013   \n",
       "2016-08-05 18:10:38  20160805181038_40_Hz_LineCSN.mseed          0.202113   \n",
       "2016-08-05 18:11:38  20160805181138_40_Hz_LineCSN.mseed          0.202213   \n",
       "2016-08-05 18:12:38  20160805181238_40_Hz_LineCSN.mseed          0.202313   \n",
       "2016-08-05 18:13:38  20160805181338_40_Hz_LineCSN.mseed          0.202413   \n",
       "\n",
       "                     Temphigh_interp                TTime  tsince_start  \n",
       "DateTime                                                                 \n",
       "2016-08-05 18:07:38        27.437489  2016-08-05 18:07:38           0.0  \n",
       "2016-08-05 18:08:38        27.423656  2016-08-05 18:08:38          60.0  \n",
       "2016-08-05 18:09:38        27.409822  2016-08-05 18:09:38         120.0  \n",
       "2016-08-05 18:10:38        27.395989  2016-08-05 18:10:38         180.0  \n",
       "2016-08-05 18:11:38        27.382156  2016-08-05 18:11:38         240.0  \n",
       "2016-08-05 18:12:38        27.368322  2016-08-05 18:12:38         300.0  \n",
       "2016-08-05 18:13:38        27.354489  2016-08-05 18:13:38         360.0  "
      ]
     },
     "execution_count": 18,
     "metadata": {},
     "output_type": "execute_result"
    }
   ],
   "source": [
    "lineCSN_M3.head(7)"
   ]
  },
  {
   "cell_type": "code",
   "execution_count": 19,
   "metadata": {
    "collapsed": true
   },
   "outputs": [],
   "source": [
    "f_soilM = interpolate.interp1d(lineCSN_M3['tsince_start'].values,lineCSN_M3['M3_20_Avg_interp'].values)"
   ]
  },
  {
   "cell_type": "code",
   "execution_count": 20,
   "metadata": {
    "collapsed": true
   },
   "outputs": [],
   "source": [
    "f_temp = interpolate.interp1d(lineCSN_M3['tsince_start'].values,lineCSN_M3['Temphigh_interp'].values)"
   ]
  },
  {
   "cell_type": "code",
   "execution_count": 80,
   "metadata": {
    "collapsed": true
   },
   "outputs": [],
   "source": [
    "channels_to_drop = ['time','channel_75','channel_76','channel_77','channel_78','channel_79','channel_90',\n",
    "                   'channel_91','channel_92','channel_93','channel_94']\n",
    "channels_to_drop = ['time']\n",
    "\n",
    "def extract_mean_over_channels(indf):\n",
    "    \n",
    "    newcolname = \"mean_%s\" %indf.name\n",
    "    opdf = indf[['time']]\n",
    "    opdf = opdf.assign(mean_col = indf.drop(channels_to_drop,axis=1).mean(axis=1))\n",
    "    opdf.columns = ['time',newcolname]\n",
    "    \n",
    "    return opdf"
   ]
  },
  {
   "cell_type": "code",
   "execution_count": 81,
   "metadata": {
    "collapsed": false
   },
   "outputs": [],
   "source": [
    "indf = extract_mean_over_channels(feature_dfs[0])"
   ]
  },
  {
   "cell_type": "code",
   "execution_count": 82,
   "metadata": {
    "collapsed": false
   },
   "outputs": [
    {
     "data": {
      "text/html": [
       "<div>\n",
       "<style scoped>\n",
       "    .dataframe tbody tr th:only-of-type {\n",
       "        vertical-align: middle;\n",
       "    }\n",
       "\n",
       "    .dataframe tbody tr th {\n",
       "        vertical-align: top;\n",
       "    }\n",
       "\n",
       "    .dataframe thead th {\n",
       "        text-align: right;\n",
       "    }\n",
       "</style>\n",
       "<table border=\"1\" class=\"dataframe\">\n",
       "  <thead>\n",
       "    <tr style=\"text-align: right;\">\n",
       "      <th></th>\n",
       "      <th>time</th>\n",
       "      <th>mean_skewness</th>\n",
       "    </tr>\n",
       "  </thead>\n",
       "  <tbody>\n",
       "    <tr>\n",
       "      <th>0</th>\n",
       "      <td>2016-08-05T18:12:38.969414Z</td>\n",
       "      <td>-0.028533</td>\n",
       "    </tr>\n",
       "    <tr>\n",
       "      <th>1</th>\n",
       "      <td>2016-08-05T18:17:38.969779Z</td>\n",
       "      <td>0.010846</td>\n",
       "    </tr>\n",
       "    <tr>\n",
       "      <th>2</th>\n",
       "      <td>2016-08-05T18:22:38.969779Z</td>\n",
       "      <td>-0.210072</td>\n",
       "    </tr>\n",
       "    <tr>\n",
       "      <th>3</th>\n",
       "      <td>2016-08-05T18:27:38.969779Z</td>\n",
       "      <td>-0.185200</td>\n",
       "    </tr>\n",
       "    <tr>\n",
       "      <th>4</th>\n",
       "      <td>2016-08-05T19:03:01.282279Z</td>\n",
       "      <td>NaN</td>\n",
       "    </tr>\n",
       "  </tbody>\n",
       "</table>\n",
       "</div>"
      ],
      "text/plain": [
       "                          time  mean_skewness\n",
       "0  2016-08-05T18:12:38.969414Z      -0.028533\n",
       "1  2016-08-05T18:17:38.969779Z       0.010846\n",
       "2  2016-08-05T18:22:38.969779Z      -0.210072\n",
       "3  2016-08-05T18:27:38.969779Z      -0.185200\n",
       "4  2016-08-05T19:03:01.282279Z            NaN"
      ]
     },
     "execution_count": 82,
     "metadata": {},
     "output_type": "execute_result"
    }
   ],
   "source": [
    "indf.head()"
   ]
  },
  {
   "cell_type": "code",
   "execution_count": 83,
   "metadata": {
    "collapsed": false
   },
   "outputs": [],
   "source": [
    "for feature_df in feature_dfs[1:]:\n",
    "    \n",
    "    mean_feature = extract_mean_over_channels(feature_df)\n",
    "    merged_df = pd.merge(indf,mean_feature,on='time')\n",
    "    indf = merged_df"
   ]
  },
  {
   "cell_type": "code",
   "execution_count": 84,
   "metadata": {
    "collapsed": false
   },
   "outputs": [
    {
     "data": {
      "text/html": [
       "<div>\n",
       "<style scoped>\n",
       "    .dataframe tbody tr th:only-of-type {\n",
       "        vertical-align: middle;\n",
       "    }\n",
       "\n",
       "    .dataframe tbody tr th {\n",
       "        vertical-align: top;\n",
       "    }\n",
       "\n",
       "    .dataframe thead th {\n",
       "        text-align: right;\n",
       "    }\n",
       "</style>\n",
       "<table border=\"1\" class=\"dataframe\">\n",
       "  <thead>\n",
       "    <tr style=\"text-align: right;\">\n",
       "      <th></th>\n",
       "      <th>time</th>\n",
       "      <th>mean_skewness</th>\n",
       "      <th>mean_minimum</th>\n",
       "      <th>mean_maximum</th>\n",
       "      <th>mean_abs_energy</th>\n",
       "      <th>mean_cid_ce</th>\n",
       "      <th>mean_median</th>\n",
       "      <th>mean_x_crossing_m</th>\n",
       "      <th>mean_variance</th>\n",
       "      <th>mean_interquartile_range</th>\n",
       "      <th>mean_mean_change</th>\n",
       "      <th>mean_root_mean_square</th>\n",
       "      <th>mean_mean</th>\n",
       "      <th>mean_mean_abs_change</th>\n",
       "      <th>mean_kurtosis</th>\n",
       "    </tr>\n",
       "  </thead>\n",
       "  <tbody>\n",
       "    <tr>\n",
       "      <th>0</th>\n",
       "      <td>2016-08-05T18:12:38.969414Z</td>\n",
       "      <td>-0.028533</td>\n",
       "      <td>-614.650394</td>\n",
       "      <td>677.723929</td>\n",
       "      <td>3.549637e+07</td>\n",
       "      <td>8245.104204</td>\n",
       "      <td>-0.210091</td>\n",
       "      <td>12465.150000</td>\n",
       "      <td>1478.912574</td>\n",
       "      <td>17.885254</td>\n",
       "      <td>-0.000047</td>\n",
       "      <td>38.008812</td>\n",
       "      <td>-0.277244</td>\n",
       "      <td>27.096341</td>\n",
       "      <td>46.098760</td>\n",
       "    </tr>\n",
       "    <tr>\n",
       "      <th>1</th>\n",
       "      <td>2016-08-05T18:17:38.969779Z</td>\n",
       "      <td>0.010846</td>\n",
       "      <td>-663.605323</td>\n",
       "      <td>703.095324</td>\n",
       "      <td>3.829154e+07</td>\n",
       "      <td>8493.125831</td>\n",
       "      <td>-0.218435</td>\n",
       "      <td>12309.650000</td>\n",
       "      <td>1595.404642</td>\n",
       "      <td>18.936258</td>\n",
       "      <td>-0.000202</td>\n",
       "      <td>39.491262</td>\n",
       "      <td>-0.261959</td>\n",
       "      <td>27.739620</td>\n",
       "      <td>50.212988</td>\n",
       "    </tr>\n",
       "    <tr>\n",
       "      <th>2</th>\n",
       "      <td>2016-08-05T18:22:38.969779Z</td>\n",
       "      <td>-0.210072</td>\n",
       "      <td>-682.698426</td>\n",
       "      <td>622.789212</td>\n",
       "      <td>2.680343e+07</td>\n",
       "      <td>7455.428461</td>\n",
       "      <td>-0.242036</td>\n",
       "      <td>12570.400000</td>\n",
       "      <td>1116.702617</td>\n",
       "      <td>17.644778</td>\n",
       "      <td>0.000174</td>\n",
       "      <td>32.870414</td>\n",
       "      <td>-0.293362</td>\n",
       "      <td>25.171494</td>\n",
       "      <td>62.586067</td>\n",
       "    </tr>\n",
       "    <tr>\n",
       "      <th>3</th>\n",
       "      <td>2016-08-05T18:27:38.969779Z</td>\n",
       "      <td>-0.185200</td>\n",
       "      <td>-521.258771</td>\n",
       "      <td>455.539861</td>\n",
       "      <td>1.749924e+07</td>\n",
       "      <td>6082.305022</td>\n",
       "      <td>-0.359450</td>\n",
       "      <td>12515.923077</td>\n",
       "      <td>728.947431</td>\n",
       "      <td>13.898409</td>\n",
       "      <td>-0.000015</td>\n",
       "      <td>26.673438</td>\n",
       "      <td>-0.388563</td>\n",
       "      <td>20.734640</td>\n",
       "      <td>40.252782</td>\n",
       "    </tr>\n",
       "    <tr>\n",
       "      <th>4</th>\n",
       "      <td>2016-08-05T19:03:01.282279Z</td>\n",
       "      <td>NaN</td>\n",
       "      <td>NaN</td>\n",
       "      <td>NaN</td>\n",
       "      <td>NaN</td>\n",
       "      <td>NaN</td>\n",
       "      <td>NaN</td>\n",
       "      <td>NaN</td>\n",
       "      <td>NaN</td>\n",
       "      <td>NaN</td>\n",
       "      <td>NaN</td>\n",
       "      <td>NaN</td>\n",
       "      <td>NaN</td>\n",
       "      <td>NaN</td>\n",
       "      <td>NaN</td>\n",
       "    </tr>\n",
       "  </tbody>\n",
       "</table>\n",
       "</div>"
      ],
      "text/plain": [
       "                          time  mean_skewness  mean_minimum  mean_maximum  \\\n",
       "0  2016-08-05T18:12:38.969414Z      -0.028533   -614.650394    677.723929   \n",
       "1  2016-08-05T18:17:38.969779Z       0.010846   -663.605323    703.095324   \n",
       "2  2016-08-05T18:22:38.969779Z      -0.210072   -682.698426    622.789212   \n",
       "3  2016-08-05T18:27:38.969779Z      -0.185200   -521.258771    455.539861   \n",
       "4  2016-08-05T19:03:01.282279Z            NaN           NaN           NaN   \n",
       "\n",
       "   mean_abs_energy  mean_cid_ce  mean_median  mean_x_crossing_m  \\\n",
       "0     3.549637e+07  8245.104204    -0.210091       12465.150000   \n",
       "1     3.829154e+07  8493.125831    -0.218435       12309.650000   \n",
       "2     2.680343e+07  7455.428461    -0.242036       12570.400000   \n",
       "3     1.749924e+07  6082.305022    -0.359450       12515.923077   \n",
       "4              NaN          NaN          NaN                NaN   \n",
       "\n",
       "   mean_variance  mean_interquartile_range  mean_mean_change  \\\n",
       "0    1478.912574                 17.885254         -0.000047   \n",
       "1    1595.404642                 18.936258         -0.000202   \n",
       "2    1116.702617                 17.644778          0.000174   \n",
       "3     728.947431                 13.898409         -0.000015   \n",
       "4            NaN                       NaN               NaN   \n",
       "\n",
       "   mean_root_mean_square  mean_mean  mean_mean_abs_change  mean_kurtosis  \n",
       "0              38.008812  -0.277244             27.096341      46.098760  \n",
       "1              39.491262  -0.261959             27.739620      50.212988  \n",
       "2              32.870414  -0.293362             25.171494      62.586067  \n",
       "3              26.673438  -0.388563             20.734640      40.252782  \n",
       "4                    NaN        NaN                   NaN            NaN  "
      ]
     },
     "execution_count": 84,
     "metadata": {},
     "output_type": "execute_result"
    }
   ],
   "source": [
    "merged_df.head()"
   ]
  },
  {
   "cell_type": "code",
   "execution_count": 85,
   "metadata": {
    "collapsed": false
   },
   "outputs": [],
   "source": [
    "merged_df = merged_df.assign(tsince_start=merged_df['time'].apply(lambda x: op.UTCDateTime(x)-op.UTCDateTime(stime)))"
   ]
  },
  {
   "cell_type": "code",
   "execution_count": 86,
   "metadata": {
    "collapsed": false
   },
   "outputs": [
    {
     "data": {
      "text/html": [
       "<div>\n",
       "<style scoped>\n",
       "    .dataframe tbody tr th:only-of-type {\n",
       "        vertical-align: middle;\n",
       "    }\n",
       "\n",
       "    .dataframe tbody tr th {\n",
       "        vertical-align: top;\n",
       "    }\n",
       "\n",
       "    .dataframe thead th {\n",
       "        text-align: right;\n",
       "    }\n",
       "</style>\n",
       "<table border=\"1\" class=\"dataframe\">\n",
       "  <thead>\n",
       "    <tr style=\"text-align: right;\">\n",
       "      <th></th>\n",
       "      <th>time</th>\n",
       "      <th>mean_skewness</th>\n",
       "      <th>mean_minimum</th>\n",
       "      <th>mean_maximum</th>\n",
       "      <th>mean_abs_energy</th>\n",
       "      <th>mean_cid_ce</th>\n",
       "      <th>mean_median</th>\n",
       "      <th>mean_x_crossing_m</th>\n",
       "      <th>mean_variance</th>\n",
       "      <th>mean_interquartile_range</th>\n",
       "      <th>mean_mean_change</th>\n",
       "      <th>mean_root_mean_square</th>\n",
       "      <th>mean_mean</th>\n",
       "      <th>mean_mean_abs_change</th>\n",
       "      <th>mean_kurtosis</th>\n",
       "      <th>tsince_start</th>\n",
       "    </tr>\n",
       "  </thead>\n",
       "  <tbody>\n",
       "    <tr>\n",
       "      <th>0</th>\n",
       "      <td>2016-08-05T18:12:38.969414Z</td>\n",
       "      <td>-0.028533</td>\n",
       "      <td>-614.650394</td>\n",
       "      <td>677.723929</td>\n",
       "      <td>3.549637e+07</td>\n",
       "      <td>8245.104204</td>\n",
       "      <td>-0.210091</td>\n",
       "      <td>12465.150000</td>\n",
       "      <td>1478.912574</td>\n",
       "      <td>17.885254</td>\n",
       "      <td>-0.000047</td>\n",
       "      <td>38.008812</td>\n",
       "      <td>-0.277244</td>\n",
       "      <td>27.096341</td>\n",
       "      <td>46.098760</td>\n",
       "      <td>300.969414</td>\n",
       "    </tr>\n",
       "    <tr>\n",
       "      <th>1</th>\n",
       "      <td>2016-08-05T18:17:38.969779Z</td>\n",
       "      <td>0.010846</td>\n",
       "      <td>-663.605323</td>\n",
       "      <td>703.095324</td>\n",
       "      <td>3.829154e+07</td>\n",
       "      <td>8493.125831</td>\n",
       "      <td>-0.218435</td>\n",
       "      <td>12309.650000</td>\n",
       "      <td>1595.404642</td>\n",
       "      <td>18.936258</td>\n",
       "      <td>-0.000202</td>\n",
       "      <td>39.491262</td>\n",
       "      <td>-0.261959</td>\n",
       "      <td>27.739620</td>\n",
       "      <td>50.212988</td>\n",
       "      <td>600.969779</td>\n",
       "    </tr>\n",
       "    <tr>\n",
       "      <th>2</th>\n",
       "      <td>2016-08-05T18:22:38.969779Z</td>\n",
       "      <td>-0.210072</td>\n",
       "      <td>-682.698426</td>\n",
       "      <td>622.789212</td>\n",
       "      <td>2.680343e+07</td>\n",
       "      <td>7455.428461</td>\n",
       "      <td>-0.242036</td>\n",
       "      <td>12570.400000</td>\n",
       "      <td>1116.702617</td>\n",
       "      <td>17.644778</td>\n",
       "      <td>0.000174</td>\n",
       "      <td>32.870414</td>\n",
       "      <td>-0.293362</td>\n",
       "      <td>25.171494</td>\n",
       "      <td>62.586067</td>\n",
       "      <td>900.969779</td>\n",
       "    </tr>\n",
       "    <tr>\n",
       "      <th>3</th>\n",
       "      <td>2016-08-05T18:27:38.969779Z</td>\n",
       "      <td>-0.185200</td>\n",
       "      <td>-521.258771</td>\n",
       "      <td>455.539861</td>\n",
       "      <td>1.749924e+07</td>\n",
       "      <td>6082.305022</td>\n",
       "      <td>-0.359450</td>\n",
       "      <td>12515.923077</td>\n",
       "      <td>728.947431</td>\n",
       "      <td>13.898409</td>\n",
       "      <td>-0.000015</td>\n",
       "      <td>26.673438</td>\n",
       "      <td>-0.388563</td>\n",
       "      <td>20.734640</td>\n",
       "      <td>40.252782</td>\n",
       "      <td>1200.969779</td>\n",
       "    </tr>\n",
       "    <tr>\n",
       "      <th>4</th>\n",
       "      <td>2016-08-05T19:03:01.282279Z</td>\n",
       "      <td>NaN</td>\n",
       "      <td>NaN</td>\n",
       "      <td>NaN</td>\n",
       "      <td>NaN</td>\n",
       "      <td>NaN</td>\n",
       "      <td>NaN</td>\n",
       "      <td>NaN</td>\n",
       "      <td>NaN</td>\n",
       "      <td>NaN</td>\n",
       "      <td>NaN</td>\n",
       "      <td>NaN</td>\n",
       "      <td>NaN</td>\n",
       "      <td>NaN</td>\n",
       "      <td>NaN</td>\n",
       "      <td>3323.282279</td>\n",
       "    </tr>\n",
       "  </tbody>\n",
       "</table>\n",
       "</div>"
      ],
      "text/plain": [
       "                          time  mean_skewness  mean_minimum  mean_maximum  \\\n",
       "0  2016-08-05T18:12:38.969414Z      -0.028533   -614.650394    677.723929   \n",
       "1  2016-08-05T18:17:38.969779Z       0.010846   -663.605323    703.095324   \n",
       "2  2016-08-05T18:22:38.969779Z      -0.210072   -682.698426    622.789212   \n",
       "3  2016-08-05T18:27:38.969779Z      -0.185200   -521.258771    455.539861   \n",
       "4  2016-08-05T19:03:01.282279Z            NaN           NaN           NaN   \n",
       "\n",
       "   mean_abs_energy  mean_cid_ce  mean_median  mean_x_crossing_m  \\\n",
       "0     3.549637e+07  8245.104204    -0.210091       12465.150000   \n",
       "1     3.829154e+07  8493.125831    -0.218435       12309.650000   \n",
       "2     2.680343e+07  7455.428461    -0.242036       12570.400000   \n",
       "3     1.749924e+07  6082.305022    -0.359450       12515.923077   \n",
       "4              NaN          NaN          NaN                NaN   \n",
       "\n",
       "   mean_variance  mean_interquartile_range  mean_mean_change  \\\n",
       "0    1478.912574                 17.885254         -0.000047   \n",
       "1    1595.404642                 18.936258         -0.000202   \n",
       "2    1116.702617                 17.644778          0.000174   \n",
       "3     728.947431                 13.898409         -0.000015   \n",
       "4            NaN                       NaN               NaN   \n",
       "\n",
       "   mean_root_mean_square  mean_mean  mean_mean_abs_change  mean_kurtosis  \\\n",
       "0              38.008812  -0.277244             27.096341      46.098760   \n",
       "1              39.491262  -0.261959             27.739620      50.212988   \n",
       "2              32.870414  -0.293362             25.171494      62.586067   \n",
       "3              26.673438  -0.388563             20.734640      40.252782   \n",
       "4                    NaN        NaN                   NaN            NaN   \n",
       "\n",
       "   tsince_start  \n",
       "0    300.969414  \n",
       "1    600.969779  \n",
       "2    900.969779  \n",
       "3   1200.969779  \n",
       "4   3323.282279  "
      ]
     },
     "execution_count": 86,
     "metadata": {},
     "output_type": "execute_result"
    }
   ],
   "source": [
    "merged_df.head()"
   ]
  },
  {
   "cell_type": "code",
   "execution_count": 87,
   "metadata": {
    "collapsed": true
   },
   "outputs": [],
   "source": [
    "merged_df = merged_df.assign(M3_20_Avg_interp=merged_df['tsince_start'].apply(lambda x: f_soilM(x)))\n",
    "merged_df = merged_df.assign(Temphigh_interp=merged_df['tsince_start'].apply(lambda x: f_temp(x)))"
   ]
  },
  {
   "cell_type": "code",
   "execution_count": 88,
   "metadata": {
    "collapsed": false
   },
   "outputs": [
    {
     "data": {
      "text/html": [
       "<div>\n",
       "<style scoped>\n",
       "    .dataframe tbody tr th:only-of-type {\n",
       "        vertical-align: middle;\n",
       "    }\n",
       "\n",
       "    .dataframe tbody tr th {\n",
       "        vertical-align: top;\n",
       "    }\n",
       "\n",
       "    .dataframe thead th {\n",
       "        text-align: right;\n",
       "    }\n",
       "</style>\n",
       "<table border=\"1\" class=\"dataframe\">\n",
       "  <thead>\n",
       "    <tr style=\"text-align: right;\">\n",
       "      <th></th>\n",
       "      <th>time</th>\n",
       "      <th>mean_skewness</th>\n",
       "      <th>mean_minimum</th>\n",
       "      <th>mean_maximum</th>\n",
       "      <th>mean_abs_energy</th>\n",
       "      <th>mean_cid_ce</th>\n",
       "      <th>mean_median</th>\n",
       "      <th>mean_x_crossing_m</th>\n",
       "      <th>mean_variance</th>\n",
       "      <th>mean_interquartile_range</th>\n",
       "      <th>mean_mean_change</th>\n",
       "      <th>mean_root_mean_square</th>\n",
       "      <th>mean_mean</th>\n",
       "      <th>mean_mean_abs_change</th>\n",
       "      <th>mean_kurtosis</th>\n",
       "      <th>tsince_start</th>\n",
       "      <th>M3_20_Avg_interp</th>\n",
       "      <th>Temphigh_interp</th>\n",
       "    </tr>\n",
       "  </thead>\n",
       "  <tbody>\n",
       "    <tr>\n",
       "      <th>0</th>\n",
       "      <td>2016-08-05T18:12:38.969414Z</td>\n",
       "      <td>-0.028533</td>\n",
       "      <td>-614.650394</td>\n",
       "      <td>677.723929</td>\n",
       "      <td>3.549637e+07</td>\n",
       "      <td>8245.104204</td>\n",
       "      <td>-0.210091</td>\n",
       "      <td>12465.150000</td>\n",
       "      <td>1478.912574</td>\n",
       "      <td>17.885254</td>\n",
       "      <td>-0.000047</td>\n",
       "      <td>38.008812</td>\n",
       "      <td>-0.277244</td>\n",
       "      <td>27.096341</td>\n",
       "      <td>46.098760</td>\n",
       "      <td>300.969414</td>\n",
       "      <td>0.202315</td>\n",
       "      <td>27.368099</td>\n",
       "    </tr>\n",
       "    <tr>\n",
       "      <th>1</th>\n",
       "      <td>2016-08-05T18:17:38.969779Z</td>\n",
       "      <td>0.010846</td>\n",
       "      <td>-663.605323</td>\n",
       "      <td>703.095324</td>\n",
       "      <td>3.829154e+07</td>\n",
       "      <td>8493.125831</td>\n",
       "      <td>-0.218435</td>\n",
       "      <td>12309.650000</td>\n",
       "      <td>1595.404642</td>\n",
       "      <td>18.936258</td>\n",
       "      <td>-0.000202</td>\n",
       "      <td>39.491262</td>\n",
       "      <td>-0.261959</td>\n",
       "      <td>27.739620</td>\n",
       "      <td>50.212988</td>\n",
       "      <td>600.969779</td>\n",
       "      <td>0.202815</td>\n",
       "      <td>27.298932</td>\n",
       "    </tr>\n",
       "    <tr>\n",
       "      <th>2</th>\n",
       "      <td>2016-08-05T18:22:38.969779Z</td>\n",
       "      <td>-0.210072</td>\n",
       "      <td>-682.698426</td>\n",
       "      <td>622.789212</td>\n",
       "      <td>2.680343e+07</td>\n",
       "      <td>7455.428461</td>\n",
       "      <td>-0.242036</td>\n",
       "      <td>12570.400000</td>\n",
       "      <td>1116.702617</td>\n",
       "      <td>17.644778</td>\n",
       "      <td>0.000174</td>\n",
       "      <td>32.870414</td>\n",
       "      <td>-0.293362</td>\n",
       "      <td>25.171494</td>\n",
       "      <td>62.586067</td>\n",
       "      <td>900.969779</td>\n",
       "      <td>0.202685</td>\n",
       "      <td>27.229765</td>\n",
       "    </tr>\n",
       "    <tr>\n",
       "      <th>3</th>\n",
       "      <td>2016-08-05T18:27:38.969779Z</td>\n",
       "      <td>-0.185200</td>\n",
       "      <td>-521.258771</td>\n",
       "      <td>455.539861</td>\n",
       "      <td>1.749924e+07</td>\n",
       "      <td>6082.305022</td>\n",
       "      <td>-0.359450</td>\n",
       "      <td>12515.923077</td>\n",
       "      <td>728.947431</td>\n",
       "      <td>13.898409</td>\n",
       "      <td>-0.000015</td>\n",
       "      <td>26.673438</td>\n",
       "      <td>-0.388563</td>\n",
       "      <td>20.734640</td>\n",
       "      <td>40.252782</td>\n",
       "      <td>1200.969779</td>\n",
       "      <td>0.202185</td>\n",
       "      <td>27.160599</td>\n",
       "    </tr>\n",
       "    <tr>\n",
       "      <th>4</th>\n",
       "      <td>2016-08-05T19:03:01.282279Z</td>\n",
       "      <td>NaN</td>\n",
       "      <td>NaN</td>\n",
       "      <td>NaN</td>\n",
       "      <td>NaN</td>\n",
       "      <td>NaN</td>\n",
       "      <td>NaN</td>\n",
       "      <td>NaN</td>\n",
       "      <td>NaN</td>\n",
       "      <td>NaN</td>\n",
       "      <td>NaN</td>\n",
       "      <td>NaN</td>\n",
       "      <td>NaN</td>\n",
       "      <td>NaN</td>\n",
       "      <td>NaN</td>\n",
       "      <td>3323.282279</td>\n",
       "      <td>0.202000</td>\n",
       "      <td>26.158960</td>\n",
       "    </tr>\n",
       "  </tbody>\n",
       "</table>\n",
       "</div>"
      ],
      "text/plain": [
       "                          time  mean_skewness  mean_minimum  mean_maximum  \\\n",
       "0  2016-08-05T18:12:38.969414Z      -0.028533   -614.650394    677.723929   \n",
       "1  2016-08-05T18:17:38.969779Z       0.010846   -663.605323    703.095324   \n",
       "2  2016-08-05T18:22:38.969779Z      -0.210072   -682.698426    622.789212   \n",
       "3  2016-08-05T18:27:38.969779Z      -0.185200   -521.258771    455.539861   \n",
       "4  2016-08-05T19:03:01.282279Z            NaN           NaN           NaN   \n",
       "\n",
       "   mean_abs_energy  mean_cid_ce  mean_median  mean_x_crossing_m  \\\n",
       "0     3.549637e+07  8245.104204    -0.210091       12465.150000   \n",
       "1     3.829154e+07  8493.125831    -0.218435       12309.650000   \n",
       "2     2.680343e+07  7455.428461    -0.242036       12570.400000   \n",
       "3     1.749924e+07  6082.305022    -0.359450       12515.923077   \n",
       "4              NaN          NaN          NaN                NaN   \n",
       "\n",
       "   mean_variance  mean_interquartile_range  mean_mean_change  \\\n",
       "0    1478.912574                 17.885254         -0.000047   \n",
       "1    1595.404642                 18.936258         -0.000202   \n",
       "2    1116.702617                 17.644778          0.000174   \n",
       "3     728.947431                 13.898409         -0.000015   \n",
       "4            NaN                       NaN               NaN   \n",
       "\n",
       "   mean_root_mean_square  mean_mean  mean_mean_abs_change  mean_kurtosis  \\\n",
       "0              38.008812  -0.277244             27.096341      46.098760   \n",
       "1              39.491262  -0.261959             27.739620      50.212988   \n",
       "2              32.870414  -0.293362             25.171494      62.586067   \n",
       "3              26.673438  -0.388563             20.734640      40.252782   \n",
       "4                    NaN        NaN                   NaN            NaN   \n",
       "\n",
       "   tsince_start  M3_20_Avg_interp  Temphigh_interp  \n",
       "0    300.969414          0.202315        27.368099  \n",
       "1    600.969779          0.202815        27.298932  \n",
       "2    900.969779          0.202685        27.229765  \n",
       "3   1200.969779          0.202185        27.160599  \n",
       "4   3323.282279          0.202000        26.158960  "
      ]
     },
     "execution_count": 88,
     "metadata": {},
     "output_type": "execute_result"
    }
   ],
   "source": [
    "merged_df.head()"
   ]
  },
  {
   "cell_type": "code",
   "execution_count": 89,
   "metadata": {
    "collapsed": false
   },
   "outputs": [],
   "source": [
    "cleaned_df = merged_df.dropna()"
   ]
  },
  {
   "cell_type": "code",
   "execution_count": 90,
   "metadata": {
    "collapsed": false
   },
   "outputs": [
    {
     "data": {
      "text/html": [
       "<div>\n",
       "<style scoped>\n",
       "    .dataframe tbody tr th:only-of-type {\n",
       "        vertical-align: middle;\n",
       "    }\n",
       "\n",
       "    .dataframe tbody tr th {\n",
       "        vertical-align: top;\n",
       "    }\n",
       "\n",
       "    .dataframe thead th {\n",
       "        text-align: right;\n",
       "    }\n",
       "</style>\n",
       "<table border=\"1\" class=\"dataframe\">\n",
       "  <thead>\n",
       "    <tr style=\"text-align: right;\">\n",
       "      <th></th>\n",
       "      <th>time</th>\n",
       "      <th>mean_skewness</th>\n",
       "      <th>mean_minimum</th>\n",
       "      <th>mean_maximum</th>\n",
       "      <th>mean_abs_energy</th>\n",
       "      <th>mean_cid_ce</th>\n",
       "      <th>mean_median</th>\n",
       "      <th>mean_x_crossing_m</th>\n",
       "      <th>mean_variance</th>\n",
       "      <th>mean_interquartile_range</th>\n",
       "      <th>mean_mean_change</th>\n",
       "      <th>mean_root_mean_square</th>\n",
       "      <th>mean_mean</th>\n",
       "      <th>mean_mean_abs_change</th>\n",
       "      <th>mean_kurtosis</th>\n",
       "      <th>tsince_start</th>\n",
       "      <th>M3_20_Avg_interp</th>\n",
       "      <th>Temphigh_interp</th>\n",
       "    </tr>\n",
       "  </thead>\n",
       "  <tbody>\n",
       "    <tr>\n",
       "      <th>0</th>\n",
       "      <td>2016-08-05T18:12:38.969414Z</td>\n",
       "      <td>-0.028533</td>\n",
       "      <td>-614.650394</td>\n",
       "      <td>677.723929</td>\n",
       "      <td>3.549637e+07</td>\n",
       "      <td>8245.104204</td>\n",
       "      <td>-0.210091</td>\n",
       "      <td>12465.150000</td>\n",
       "      <td>1478.912574</td>\n",
       "      <td>17.885254</td>\n",
       "      <td>-0.000047</td>\n",
       "      <td>38.008812</td>\n",
       "      <td>-0.277244</td>\n",
       "      <td>27.096341</td>\n",
       "      <td>46.098760</td>\n",
       "      <td>300.969414</td>\n",
       "      <td>0.202315</td>\n",
       "      <td>27.368099</td>\n",
       "    </tr>\n",
       "    <tr>\n",
       "      <th>1</th>\n",
       "      <td>2016-08-05T18:17:38.969779Z</td>\n",
       "      <td>0.010846</td>\n",
       "      <td>-663.605323</td>\n",
       "      <td>703.095324</td>\n",
       "      <td>3.829154e+07</td>\n",
       "      <td>8493.125831</td>\n",
       "      <td>-0.218435</td>\n",
       "      <td>12309.650000</td>\n",
       "      <td>1595.404642</td>\n",
       "      <td>18.936258</td>\n",
       "      <td>-0.000202</td>\n",
       "      <td>39.491262</td>\n",
       "      <td>-0.261959</td>\n",
       "      <td>27.739620</td>\n",
       "      <td>50.212988</td>\n",
       "      <td>600.969779</td>\n",
       "      <td>0.202815</td>\n",
       "      <td>27.298932</td>\n",
       "    </tr>\n",
       "    <tr>\n",
       "      <th>2</th>\n",
       "      <td>2016-08-05T18:22:38.969779Z</td>\n",
       "      <td>-0.210072</td>\n",
       "      <td>-682.698426</td>\n",
       "      <td>622.789212</td>\n",
       "      <td>2.680343e+07</td>\n",
       "      <td>7455.428461</td>\n",
       "      <td>-0.242036</td>\n",
       "      <td>12570.400000</td>\n",
       "      <td>1116.702617</td>\n",
       "      <td>17.644778</td>\n",
       "      <td>0.000174</td>\n",
       "      <td>32.870414</td>\n",
       "      <td>-0.293362</td>\n",
       "      <td>25.171494</td>\n",
       "      <td>62.586067</td>\n",
       "      <td>900.969779</td>\n",
       "      <td>0.202685</td>\n",
       "      <td>27.229765</td>\n",
       "    </tr>\n",
       "    <tr>\n",
       "      <th>3</th>\n",
       "      <td>2016-08-05T18:27:38.969779Z</td>\n",
       "      <td>-0.185200</td>\n",
       "      <td>-521.258771</td>\n",
       "      <td>455.539861</td>\n",
       "      <td>1.749924e+07</td>\n",
       "      <td>6082.305022</td>\n",
       "      <td>-0.359450</td>\n",
       "      <td>12515.923077</td>\n",
       "      <td>728.947431</td>\n",
       "      <td>13.898409</td>\n",
       "      <td>-0.000015</td>\n",
       "      <td>26.673438</td>\n",
       "      <td>-0.388563</td>\n",
       "      <td>20.734640</td>\n",
       "      <td>40.252782</td>\n",
       "      <td>1200.969779</td>\n",
       "      <td>0.202185</td>\n",
       "      <td>27.160599</td>\n",
       "    </tr>\n",
       "    <tr>\n",
       "      <th>6</th>\n",
       "      <td>2016-08-05T19:43:23.598811Z</td>\n",
       "      <td>-0.013476</td>\n",
       "      <td>-271.111517</td>\n",
       "      <td>276.919128</td>\n",
       "      <td>2.100399e+07</td>\n",
       "      <td>6857.302135</td>\n",
       "      <td>-0.557008</td>\n",
       "      <td>12265.050000</td>\n",
       "      <td>874.828803</td>\n",
       "      <td>21.100299</td>\n",
       "      <td>0.000348</td>\n",
       "      <td>29.440751</td>\n",
       "      <td>-0.563170</td>\n",
       "      <td>26.866278</td>\n",
       "      <td>9.639218</td>\n",
       "      <td>5745.598811</td>\n",
       "      <td>0.202000</td>\n",
       "      <td>24.796010</td>\n",
       "    </tr>\n",
       "    <tr>\n",
       "      <th>7</th>\n",
       "      <td>2016-08-05T19:48:23.598811Z</td>\n",
       "      <td>-0.007792</td>\n",
       "      <td>-280.429809</td>\n",
       "      <td>308.135023</td>\n",
       "      <td>2.945192e+07</td>\n",
       "      <td>8134.505695</td>\n",
       "      <td>-0.569386</td>\n",
       "      <td>12425.150000</td>\n",
       "      <td>1226.792112</td>\n",
       "      <td>28.080901</td>\n",
       "      <td>-0.000171</td>\n",
       "      <td>34.799422</td>\n",
       "      <td>-0.589465</td>\n",
       "      <td>33.797160</td>\n",
       "      <td>6.443161</td>\n",
       "      <td>6045.598811</td>\n",
       "      <td>0.202000</td>\n",
       "      <td>24.576843</td>\n",
       "    </tr>\n",
       "    <tr>\n",
       "      <th>8</th>\n",
       "      <td>2016-08-05T19:53:23.598811Z</td>\n",
       "      <td>-0.040136</td>\n",
       "      <td>-320.910078</td>\n",
       "      <td>333.859269</td>\n",
       "      <td>3.140838e+07</td>\n",
       "      <td>8525.055047</td>\n",
       "      <td>-0.528508</td>\n",
       "      <td>12686.600000</td>\n",
       "      <td>1308.230364</td>\n",
       "      <td>32.008862</td>\n",
       "      <td>0.000252</td>\n",
       "      <td>35.796593</td>\n",
       "      <td>-0.616826</td>\n",
       "      <td>36.437691</td>\n",
       "      <td>6.540906</td>\n",
       "      <td>6345.598811</td>\n",
       "      <td>0.201611</td>\n",
       "      <td>24.357676</td>\n",
       "    </tr>\n",
       "    <tr>\n",
       "      <th>9</th>\n",
       "      <td>2016-08-05T19:58:23.598811Z</td>\n",
       "      <td>-0.160891</td>\n",
       "      <td>-709.042281</td>\n",
       "      <td>620.679876</td>\n",
       "      <td>2.934539e+07</td>\n",
       "      <td>8459.125414</td>\n",
       "      <td>-0.612073</td>\n",
       "      <td>12769.900000</td>\n",
       "      <td>1222.165346</td>\n",
       "      <td>26.174337</td>\n",
       "      <td>0.000419</td>\n",
       "      <td>34.613211</td>\n",
       "      <td>-0.650330</td>\n",
       "      <td>32.804763</td>\n",
       "      <td>30.478672</td>\n",
       "      <td>6645.598811</td>\n",
       "      <td>0.201111</td>\n",
       "      <td>24.138510</td>\n",
       "    </tr>\n",
       "    <tr>\n",
       "      <th>10</th>\n",
       "      <td>2016-08-05T20:03:23.598811Z</td>\n",
       "      <td>-0.117534</td>\n",
       "      <td>-709.042281</td>\n",
       "      <td>620.679876</td>\n",
       "      <td>2.363327e+07</td>\n",
       "      <td>7438.195833</td>\n",
       "      <td>-0.669291</td>\n",
       "      <td>12592.950000</td>\n",
       "      <td>984.234357</td>\n",
       "      <td>21.526760</td>\n",
       "      <td>0.000127</td>\n",
       "      <td>31.063217</td>\n",
       "      <td>-0.660311</td>\n",
       "      <td>27.712539</td>\n",
       "      <td>44.198772</td>\n",
       "      <td>6945.598811</td>\n",
       "      <td>0.201000</td>\n",
       "      <td>23.989423</td>\n",
       "    </tr>\n",
       "    <tr>\n",
       "      <th>11</th>\n",
       "      <td>2016-08-05T20:08:23.598811Z</td>\n",
       "      <td>0.108879</td>\n",
       "      <td>-373.885270</td>\n",
       "      <td>381.809902</td>\n",
       "      <td>2.648225e+07</td>\n",
       "      <td>7655.152280</td>\n",
       "      <td>-0.656384</td>\n",
       "      <td>12495.000000</td>\n",
       "      <td>1103.056486</td>\n",
       "      <td>23.136270</td>\n",
       "      <td>0.000255</td>\n",
       "      <td>32.830687</td>\n",
       "      <td>-0.585056</td>\n",
       "      <td>29.812009</td>\n",
       "      <td>13.696726</td>\n",
       "      <td>7245.598811</td>\n",
       "      <td>0.201000</td>\n",
       "      <td>23.860256</td>\n",
       "    </tr>\n",
       "  </tbody>\n",
       "</table>\n",
       "</div>"
      ],
      "text/plain": [
       "                           time  mean_skewness  mean_minimum  mean_maximum  \\\n",
       "0   2016-08-05T18:12:38.969414Z      -0.028533   -614.650394    677.723929   \n",
       "1   2016-08-05T18:17:38.969779Z       0.010846   -663.605323    703.095324   \n",
       "2   2016-08-05T18:22:38.969779Z      -0.210072   -682.698426    622.789212   \n",
       "3   2016-08-05T18:27:38.969779Z      -0.185200   -521.258771    455.539861   \n",
       "6   2016-08-05T19:43:23.598811Z      -0.013476   -271.111517    276.919128   \n",
       "7   2016-08-05T19:48:23.598811Z      -0.007792   -280.429809    308.135023   \n",
       "8   2016-08-05T19:53:23.598811Z      -0.040136   -320.910078    333.859269   \n",
       "9   2016-08-05T19:58:23.598811Z      -0.160891   -709.042281    620.679876   \n",
       "10  2016-08-05T20:03:23.598811Z      -0.117534   -709.042281    620.679876   \n",
       "11  2016-08-05T20:08:23.598811Z       0.108879   -373.885270    381.809902   \n",
       "\n",
       "    mean_abs_energy  mean_cid_ce  mean_median  mean_x_crossing_m  \\\n",
       "0      3.549637e+07  8245.104204    -0.210091       12465.150000   \n",
       "1      3.829154e+07  8493.125831    -0.218435       12309.650000   \n",
       "2      2.680343e+07  7455.428461    -0.242036       12570.400000   \n",
       "3      1.749924e+07  6082.305022    -0.359450       12515.923077   \n",
       "6      2.100399e+07  6857.302135    -0.557008       12265.050000   \n",
       "7      2.945192e+07  8134.505695    -0.569386       12425.150000   \n",
       "8      3.140838e+07  8525.055047    -0.528508       12686.600000   \n",
       "9      2.934539e+07  8459.125414    -0.612073       12769.900000   \n",
       "10     2.363327e+07  7438.195833    -0.669291       12592.950000   \n",
       "11     2.648225e+07  7655.152280    -0.656384       12495.000000   \n",
       "\n",
       "    mean_variance  mean_interquartile_range  mean_mean_change  \\\n",
       "0     1478.912574                 17.885254         -0.000047   \n",
       "1     1595.404642                 18.936258         -0.000202   \n",
       "2     1116.702617                 17.644778          0.000174   \n",
       "3      728.947431                 13.898409         -0.000015   \n",
       "6      874.828803                 21.100299          0.000348   \n",
       "7     1226.792112                 28.080901         -0.000171   \n",
       "8     1308.230364                 32.008862          0.000252   \n",
       "9     1222.165346                 26.174337          0.000419   \n",
       "10     984.234357                 21.526760          0.000127   \n",
       "11    1103.056486                 23.136270          0.000255   \n",
       "\n",
       "    mean_root_mean_square  mean_mean  mean_mean_abs_change  mean_kurtosis  \\\n",
       "0               38.008812  -0.277244             27.096341      46.098760   \n",
       "1               39.491262  -0.261959             27.739620      50.212988   \n",
       "2               32.870414  -0.293362             25.171494      62.586067   \n",
       "3               26.673438  -0.388563             20.734640      40.252782   \n",
       "6               29.440751  -0.563170             26.866278       9.639218   \n",
       "7               34.799422  -0.589465             33.797160       6.443161   \n",
       "8               35.796593  -0.616826             36.437691       6.540906   \n",
       "9               34.613211  -0.650330             32.804763      30.478672   \n",
       "10              31.063217  -0.660311             27.712539      44.198772   \n",
       "11              32.830687  -0.585056             29.812009      13.696726   \n",
       "\n",
       "    tsince_start  M3_20_Avg_interp  Temphigh_interp  \n",
       "0     300.969414          0.202315        27.368099  \n",
       "1     600.969779          0.202815        27.298932  \n",
       "2     900.969779          0.202685        27.229765  \n",
       "3    1200.969779          0.202185        27.160599  \n",
       "6    5745.598811          0.202000        24.796010  \n",
       "7    6045.598811          0.202000        24.576843  \n",
       "8    6345.598811          0.201611        24.357676  \n",
       "9    6645.598811          0.201111        24.138510  \n",
       "10   6945.598811          0.201000        23.989423  \n",
       "11   7245.598811          0.201000        23.860256  "
      ]
     },
     "execution_count": 90,
     "metadata": {},
     "output_type": "execute_result"
    }
   ],
   "source": [
    "cleaned_df.head(10)"
   ]
  },
  {
   "cell_type": "markdown",
   "metadata": {},
   "source": [
    "Training on unfilted timeseries"
   ]
  },
  {
   "cell_type": "code",
   "execution_count": 91,
   "metadata": {
    "collapsed": true
   },
   "outputs": [],
   "source": [
    "from sklearn.ensemble import RandomForestRegressor\n",
    "from sklearn.model_selection import train_test_split "
   ]
  },
  {
   "cell_type": "code",
   "execution_count": 92,
   "metadata": {
    "collapsed": true
   },
   "outputs": [],
   "source": [
    "y = cleaned_df['M3_20_Avg_interp']\n",
    "X = cleaned_df.drop(['time','tsince_start','M3_20_Avg_interp','Temphigh_interp'],axis=1)"
   ]
  },
  {
   "cell_type": "code",
   "execution_count": 93,
   "metadata": {
    "collapsed": true
   },
   "outputs": [],
   "source": [
    "X_train, X_test, y_train, y_test = train_test_split(X,y,test_size=0.3)\n",
    "regr = RandomForestRegressor(n_estimators=800,min_samples_leaf=10,oob_score=True,n_jobs=2)"
   ]
  },
  {
   "cell_type": "code",
   "execution_count": 94,
   "metadata": {
    "collapsed": false
   },
   "outputs": [
    {
     "data": {
      "text/plain": [
       "RandomForestRegressor(bootstrap=True, criterion='mse', max_depth=None,\n",
       "           max_features='auto', max_leaf_nodes=None,\n",
       "           min_impurity_decrease=0.0, min_impurity_split=None,\n",
       "           min_samples_leaf=10, min_samples_split=2,\n",
       "           min_weight_fraction_leaf=0.0, n_estimators=800, n_jobs=2,\n",
       "           oob_score=True, random_state=None, verbose=0, warm_start=False)"
      ]
     },
     "execution_count": 94,
     "metadata": {},
     "output_type": "execute_result"
    }
   ],
   "source": [
    "regr.fit(X_train,y_train)"
   ]
  },
  {
   "cell_type": "code",
   "execution_count": 76,
   "metadata": {
    "collapsed": false
   },
   "outputs": [
    {
     "name": "stdout",
     "output_type": "stream",
     "text": [
      "[0.06966305 0.07804305 0.05751667 0.01605771 0.0504194  0.12652258\n",
      " 0.15967383 0.01639524 0.08934588 0.05755217 0.02487226 0.12951569\n",
      " 0.05872888 0.06569358]\n",
      "0.14832882768221134\n"
     ]
    }
   ],
   "source": [
    "print(regr.feature_importances_)\n",
    "print(regr.oob_score_)"
   ]
  },
  {
   "cell_type": "code",
   "execution_count": 77,
   "metadata": {
    "collapsed": false
   },
   "outputs": [
    {
     "data": {
      "text/plain": [
       "0.13478115921721512"
      ]
     },
     "execution_count": 77,
     "metadata": {},
     "output_type": "execute_result"
    }
   ],
   "source": [
    "regr.score(X_test,y_test)"
   ]
  },
  {
   "cell_type": "code",
   "execution_count": 78,
   "metadata": {
    "collapsed": true
   },
   "outputs": [],
   "source": [
    "regr_pred = regr.predict(X_test)"
   ]
  },
  {
   "cell_type": "code",
   "execution_count": 79,
   "metadata": {
    "collapsed": false
   },
   "outputs": [
    {
     "data": {
      "image/png": "[encoded data removed]",
      "text/plain": [
       "<Figure size 720x432 with 1 Axes>"
      ]
     },
     "metadata": {},
     "output_type": "display_data"
    }
   ],
   "source": [
    "plt.figure(figsize=(10,6))\n",
    "plt.title('M3_20 soil moisture predictions vs observations')\n",
    "plt.plot(regr_pred,y_test,'r.')\n",
    "plt.xlabel('Prediction')\n",
    "plt.ylabel('Observation')\n",
    "plt.grid()\n",
    "plt.savefig('soil_moisture_prediction_sliding_window.png')"
   ]
  },
  {
   "cell_type": "markdown",
   "metadata": {},
   "source": [
    "What about the temperature timeseries?"
   ]
  },
  {
   "cell_type": "code",
   "execution_count": 52,
   "metadata": {
    "collapsed": true
   },
   "outputs": [],
   "source": [
    "y = cleaned_df['Temphigh_interp']\n",
    "X = cleaned_df.drop(['time','tsince_start','M3_20_Avg_interp','Temphigh_interp'],axis=1)"
   ]
  },
  {
   "cell_type": "code",
   "execution_count": 53,
   "metadata": {
    "collapsed": true
   },
   "outputs": [],
   "source": [
    "X_train, X_test, y_train, y_test = train_test_split(X,y,test_size=0.3)\n",
    "regr = RandomForestRegressor(n_estimators=600,min_samples_leaf=10,oob_score=True,n_jobs=2)"
   ]
  },
  {
   "cell_type": "code",
   "execution_count": 54,
   "metadata": {
    "collapsed": false
   },
   "outputs": [
    {
     "data": {
      "text/plain": [
       "RandomForestRegressor(bootstrap=True, criterion='mse', max_depth=None,\n",
       "           max_features='auto', max_leaf_nodes=None,\n",
       "           min_impurity_decrease=0.0, min_impurity_split=None,\n",
       "           min_samples_leaf=10, min_samples_split=2,\n",
       "           min_weight_fraction_leaf=0.0, n_estimators=600, n_jobs=2,\n",
       "           oob_score=True, random_state=None, verbose=0, warm_start=False)"
      ]
     },
     "execution_count": 54,
     "metadata": {},
     "output_type": "execute_result"
    }
   ],
   "source": [
    "regr.fit(X_train,y_train)"
   ]
  },
  {
   "cell_type": "code",
   "execution_count": 55,
   "metadata": {
    "collapsed": false
   },
   "outputs": [
    {
     "name": "stdout",
     "output_type": "stream",
     "text": [
      "[0.04822139 0.04500825 0.04779209 0.01093278 0.02799577 0.15468363\n",
      " 0.28243397 0.01096232 0.06672457 0.04009574 0.01678879 0.10617198\n",
      " 0.03761352 0.10457519]\n",
      "0.3117839429438667\n"
     ]
    }
   ],
   "source": [
    "print(regr.feature_importances_)\n",
    "print(regr.oob_score_)"
   ]
  },
  {
   "cell_type": "code",
   "execution_count": 56,
   "metadata": {
    "collapsed": false
   },
   "outputs": [
    {
     "data": {
      "text/plain": [
       "0.34692305472981155"
      ]
     },
     "execution_count": 56,
     "metadata": {},
     "output_type": "execute_result"
    }
   ],
   "source": [
    "regr.score(X_test,y_test)"
   ]
  },
  {
   "cell_type": "code",
   "execution_count": 57,
   "metadata": {
    "collapsed": true
   },
   "outputs": [],
   "source": [
    "regr_pred = regr.predict(X_test)"
   ]
  },
  {
   "cell_type": "code",
   "execution_count": 58,
   "metadata": {
    "collapsed": false
   },
   "outputs": [
    {
     "data": {
      "image/png": "[encoded data removed]",
      "text/plain": [
       "<Figure size 720x432 with 1 Axes>"
      ]
     },
     "metadata": {},
     "output_type": "display_data"
    }
   ],
   "source": [
    "plt.figure(figsize=(10,6))\n",
    "plt.title('Temperature predictions vs observations')\n",
    "plt.plot(regr_pred,y_test,'b.')\n",
    "plt.xlabel('Prediction (C)')\n",
    "plt.ylabel('Observation (C)')\n",
    "plt.grid()\n",
    "plt.savefig('temperature_prediction_sliding_window.png')"
   ]
  },
  {
   "cell_type": "code",
   "execution_count": 182,
   "metadata": {
    "collapsed": true
   },
   "outputs": [],
   "source": [
    "from scipy.signal import butter, lfilter"
   ]
  },
  {
   "cell_type": "code",
   "execution_count": 183,
   "metadata": {
    "collapsed": true
   },
   "outputs": [],
   "source": [
    "def butter_lowpass(cutoff,fs,order=4):\n",
    "    nyq = 0.5*fs\n",
    "    normal_cutoff = cutoff/nyq\n",
    "    b, a = butter(order,normal_cutoff,btype='low')\n",
    "    return b,a\n",
    "\n",
    "def butter_lowpass_filter(data,cutoff,fs,order=4):\n",
    "    b,a = butter_lowpass(cutoff,fs,order=order)\n",
    "    y = lfilter(b,a,data)\n",
    "    return y\n"
   ]
  },
  {
   "cell_type": "code",
   "execution_count": 184,
   "metadata": {
    "collapsed": true
   },
   "outputs": [],
   "source": [
    "fs = 0.00333 #sampling every minute\n",
    "cutoff = 0.0001 #we want to smooth the ts (say one hour smoothing - seems to much for the soil moisture)"
   ]
  },
  {
   "cell_type": "code",
   "execution_count": 185,
   "metadata": {
    "collapsed": false
   },
   "outputs": [
    {
     "name": "stdout",
     "output_type": "stream",
     "text": [
      "mean_skewness\n",
      "mean_minimum\n",
      "mean_maximum\n",
      "mean_abs_energy\n",
      "mean_cid_ce\n",
      "mean_median\n",
      "mean_x_crossing_m\n",
      "mean_variance\n",
      "mean_interquartile_range\n",
      "mean_mean_change\n",
      "mean_root_mean_square\n",
      "mean_mean\n",
      "mean_mean_abs_change\n",
      "mean_kurtosis\n"
     ]
    }
   ],
   "source": [
    "filtered_df = pd.DataFrame()\n",
    "filtered_df['time'] = cleaned_df['time']\n",
    "filtered_df['M3_20_Avg_interp'] = cleaned_df['M3_20_Avg_interp']\n",
    "filtered_df['Temphigh_interp'] = cleaned_df['Temphigh_interp']\n",
    "\n",
    "for column in cleaned_df.columns[1:-3]:\n",
    "    cname = str(column)\n",
    "    print(cname)\n",
    "    filtered_df[cname] = butter_lowpass_filter(cleaned_df[cname].values,cutoff,fs)"
   ]
  },
  {
   "cell_type": "code",
   "execution_count": 186,
   "metadata": {
    "collapsed": false
   },
   "outputs": [],
   "source": [
    "y = filtered_df['M3_20_Avg_interp']\n",
    "X = filtered_df.drop(['time','M3_20_Avg_interp','Temphigh_interp'],axis=1)\n",
    "X_train, X_test, y_train, y_test = train_test_split(X,y,test_size=0.3)"
   ]
  },
  {
   "cell_type": "code",
   "execution_count": 187,
   "metadata": {
    "collapsed": true
   },
   "outputs": [],
   "source": [
    "regr = RandomForestRegressor(n_estimators=300,min_samples_leaf=1,oob_score=True,n_jobs=2)"
   ]
  },
  {
   "cell_type": "code",
   "execution_count": 188,
   "metadata": {
    "collapsed": false
   },
   "outputs": [
    {
     "data": {
      "text/plain": [
       "RandomForestRegressor(bootstrap=True, criterion='mse', max_depth=None,\n",
       "           max_features='auto', max_leaf_nodes=None,\n",
       "           min_impurity_decrease=0.0, min_impurity_split=None,\n",
       "           min_samples_leaf=1, min_samples_split=2,\n",
       "           min_weight_fraction_leaf=0.0, n_estimators=300, n_jobs=2,\n",
       "           oob_score=True, random_state=None, verbose=0, warm_start=False)"
      ]
     },
     "execution_count": 188,
     "metadata": {},
     "output_type": "execute_result"
    }
   ],
   "source": [
    "regr.fit(X_train,y_train)"
   ]
  },
  {
   "cell_type": "code",
   "execution_count": 189,
   "metadata": {
    "collapsed": false
   },
   "outputs": [
    {
     "name": "stdout",
     "output_type": "stream",
     "text": [
      "[0.10230375 0.06978214 0.05915511 0.02104785 0.0387498  0.08808819\n",
      " 0.15616654 0.02198886 0.08025563 0.10866015 0.02432584 0.09424435\n",
      " 0.04020933 0.09502246]\n"
     ]
    }
   ],
   "source": [
    "print(regr.feature_importances_)"
   ]
  },
  {
   "cell_type": "code",
   "execution_count": 190,
   "metadata": {
    "collapsed": false
   },
   "outputs": [
    {
     "name": "stdout",
     "output_type": "stream",
     "text": [
      "0.7639397877613935\n"
     ]
    }
   ],
   "source": [
    "print(regr.oob_score_) "
   ]
  },
  {
   "cell_type": "code",
   "execution_count": 191,
   "metadata": {
    "collapsed": true
   },
   "outputs": [],
   "source": [
    "regr_pred = regr.predict(X_test)"
   ]
  },
  {
   "cell_type": "code",
   "execution_count": 192,
   "metadata": {
    "collapsed": false
   },
   "outputs": [
    {
     "data": {
      "text/plain": [
       "0.7738241618505284"
      ]
     },
     "execution_count": 192,
     "metadata": {},
     "output_type": "execute_result"
    }
   ],
   "source": [
    "regr.score(X_test,y_test)"
   ]
  },
  {
   "cell_type": "code",
   "execution_count": 193,
   "metadata": {
    "collapsed": false
   },
   "outputs": [
    {
     "data": {
      "text/plain": [
       "Text(0,0.5,'Actual')"
      ]
     },
     "execution_count": 193,
     "metadata": {},
     "output_type": "execute_result"
    },
    {
     "data": {
      "image/png": "[encoded data removed]",
      "text/plain": [
       "<Figure size 432x288 with 1 Axes>"
      ]
     },
     "metadata": {},
     "output_type": "display_data"
    }
   ],
   "source": [
    "plt.plot(regr_pred,y_test,'r.')\n",
    "plt.xlabel('Prediction')\n",
    "plt.ylabel('Actual')"
   ]
  },
  {
   "cell_type": "code",
   "execution_count": null,
   "metadata": {
    "collapsed": true
   },
   "outputs": [],
   "source": []
  }
 ],
 "metadata": {
  "anaconda-cloud": {},
  "kernelspec": {
   "display_name": "Python [conda env:python3]",
   "language": "python",
   "name": "conda-env-python3-py"
  },
  "language_info": {
   "codemirror_mode": {
    "name": "ipython",
    "version": 3
   },
   "file_extension": ".py",
   "mimetype": "text/x-python",
   "name": "python",
   "nbconvert_exporter": "python",
   "pygments_lexer": "ipython3",
   "version": "3.6.4"
  }
 },
 "nbformat": 4,
 "nbformat_minor": 1
}
