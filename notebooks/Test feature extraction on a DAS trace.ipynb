{
 "cells": [
  {
   "cell_type": "code",
   "execution_count": 19,
   "metadata": {
    "collapsed": false
   },
   "outputs": [],
   "source": [
    "import numpy as np\n",
    "import pandas as pd\n",
    "import obspy as op\n",
    "%matplotlib inline"
   ]
  },
  {
   "cell_type": "code",
   "execution_count": 2,
   "metadata": {
    "collapsed": true
   },
   "outputs": [],
   "source": [
    "from calculate_features_DAS import * "
   ]
  },
  {
   "cell_type": "code",
   "execution_count": 4,
   "metadata": {
    "collapsed": true
   },
   "outputs": [],
   "source": [
    "#load example stream\n",
    "test_stream = op.read(\"channel_85_clipped.mseed\",format='mseed')"
   ]
  },
  {
   "cell_type": "code",
   "execution_count": 5,
   "metadata": {
    "collapsed": false
   },
   "outputs": [],
   "source": [
    "time = 2 #length of time to calculate features over\n",
    "tinc = test_stream[0].stats.delta\n",
    "window = int(time/tinc) #number of samples per unit time\n",
    "npts = int(test_stream[0].stats.npts)"
   ]
  },
  {
   "cell_type": "code",
   "execution_count": 6,
   "metadata": {
    "collapsed": false
   },
   "outputs": [
    {
     "data": {
      "text/plain": [
       "1 Trace(s) in Stream:\n",
       "FB.00085.00.FON | 2016-09-03T00:00:05.298907Z - 2016-09-10T00:00:14.323907Z | 40.0 Hz, 24192362 samples"
      ]
     },
     "execution_count": 6,
     "metadata": {},
     "output_type": "execute_result"
    }
   ],
   "source": [
    "#merge stream into a single trace\n",
    "test_stream.merge(fill_value=np.NaN)"
   ]
  },
  {
   "cell_type": "code",
   "execution_count": 9,
   "metadata": {
    "collapsed": true
   },
   "outputs": [],
   "source": [
    "#Build feature vectors\n",
    "ltrace = npts-window\n",
    "sma_1_comps = np.empty(ltrace)\n",
    "means = np.empty(ltrace)\n",
    "medians = np.empty(ltrace)\n",
    "iqrs = np.empty(ltrace)\n",
    "minmaxs = np.empty(ltrace)\n",
    "variances = np.empty(ltrace)\n",
    "stds = np.empty(ltrace)\n",
    "mads = np.empty(ltrace)\n",
    "rmss = np.empty(ltrace)\n",
    "skews = np.empty(ltrace)\n",
    "kurtosiss = np.empty(ltrace)\n",
    "k2s = np.empty(ltrace)\n",
    "Xcrossings = np.empty(ltrace)\n",
    "cavs = np.empty(ltrace)\n",
    "Zs = np.empty(ltrace)\n",
    "energys = np.empty(ltrace)\n",
    "time_vector = np.empty(ltrace)"
   ]
  },
  {
   "cell_type": "code",
   "execution_count": 8,
   "metadata": {
    "collapsed": false
   },
   "outputs": [],
   "source": [
    "sma_1_comps[:] = np.nan\n",
    "means[:] = np.nan\n",
    "medians[:] = np.nan\n",
    "iqrs[:] = np.nan\n",
    "minmaxs[:] = np.nan\n",
    "variances[:] = np.nan\n",
    "stds[:] = np.nan\n",
    "mads[:] = np.nan\n",
    "rmss[:] = np.nan\n",
    "skews[:] = np.nan\n",
    "kurtosiss[:] = np.nan\n",
    "k2s[:] = np.nan\n",
    "Xcrossings[:] = np.nan\n",
    "cavs[:] = np.nan\n",
    "Zs[:] = np.nan\n",
    "energys[:] = np.nan\n",
    "time_vector[:] = np.nan"
   ]
  },
  {
   "cell_type": "code",
   "execution_count": 10,
   "metadata": {
    "collapsed": false,
    "scrolled": false
   },
   "outputs": [],
   "source": [
    "#slide the window and extract data\n",
    "trace = test_stream[0].data\n",
    "time__ = np.linspace(0,time,window)\n",
    "for i in range(ltrace):\n",
    "    inslice = trace[i:i+window]\n",
    "    time_vector[i] = i*tinc + time/2 #time corresponding to the middle of the trace\n",
    "    if not np.isnan(inslice).any():\n",
    "        #try:\n",
    "        sma_1_comps[i], means[i], medians[i], iqrs[i],\\\n",
    "    minmaxs[i], variances[i], stds[i], mads[i], rmss[i],\\\n",
    "    skews[i], kurtosiss[i], k2s[i], Xcrossings[i], cavs[i],\\\n",
    "    Zs[i], energys[i] = features_rt(time__,inslice)\n",
    "        #except:\n",
    "        #    print(\"Error calculating features at step %i\" %i)"
   ]
  },
  {
   "cell_type": "code",
   "execution_count": 11,
   "metadata": {
    "collapsed": false
   },
   "outputs": [],
   "source": [
    "df = pd.DataFrame(data={'time':time_vector,'sma_1':sma_1_comps,'mean':means,'medians':medians,'iqr':iqrs,'minmax':minmaxs,'variance':variances,\n",
    "                       'std':stds,'mads':mads,'rms':rmss,'skew':skews,'kurtosis':kurtosiss,'k2s':k2s,'xcs':Xcrossings,\n",
    "                       'cav':cavs,'Z':Zs,'energy':energys})"
   ]
  },
  {
   "cell_type": "code",
   "execution_count": null,
   "metadata": {
    "collapsed": false
   },
   "outputs": [],
   "source": [
    "df.head(100000)"
   ]
  },
  {
   "cell_type": "code",
   "execution_count": 21,
   "metadata": {
    "collapsed": false
   },
   "outputs": [],
   "source": [
    "#load example stream\n",
    "test_stream = op.read(\"channel_85_clipped.mseed\",format='mseed')"
   ]
  },
  {
   "cell_type": "code",
   "execution_count": 24,
   "metadata": {
    "collapsed": false
   },
   "outputs": [
    {
     "data": {
      "text/plain": [
       "1 Trace(s) in Stream:\n",
       "FB.00085.00.FON | 2016-09-03T00:00:05.298907Z - 2016-09-10T00:00:14.323907Z | 40.0 Hz, 24192362 samples"
      ]
     },
     "execution_count": 24,
     "metadata": {},
     "output_type": "execute_result"
    }
   ],
   "source": [
    "test_stream.merge(fill_value=None)"
   ]
  },
  {
   "cell_type": "code",
   "execution_count": 26,
   "metadata": {
    "collapsed": false
   },
   "outputs": [],
   "source": [
    "a = test_stream.copy().filter('lowpass',freq=0.01)"
   ]
  },
  {
   "cell_type": "code",
   "execution_count": 27,
   "metadata": {
    "collapsed": false
   },
   "outputs": [
    {
     "data": {
      "image/png": "[encoded data removed]",
      "text/plain": [
       "<Figure size 800x250 with 1 Axes>"
      ]
     },
     "metadata": {},
     "output_type": "display_data"
    }
   ],
   "source": [
    "a.plot()"
   ]
  },
  {
   "cell_type": "code",
   "execution_count": null,
   "metadata": {
    "collapsed": true
   },
   "outputs": [],
   "source": []
  }
 ],
 "metadata": {
  "anaconda-cloud": {},
  "kernelspec": {
   "display_name": "Python [conda env:python3]",
   "language": "python",
   "name": "conda-env-python3-py"
  },
  "language_info": {
   "codemirror_mode": {
    "name": "ipython",
    "version": 3
   },
   "file_extension": ".py",
   "mimetype": "text/x-python",
   "name": "python",
   "nbconvert_exporter": "python",
   "pygments_lexer": "ipython3",
   "version": "3.6.4"
  }
 },
 "nbformat": 4,
 "nbformat_minor": 1
}
