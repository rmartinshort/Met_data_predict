{
 "cells": [
  {
   "cell_type": "markdown",
   "metadata": {},
   "source": [
    "### Test 2: Train a random forest regressor on per-file features calculated by FeatureCalculate class\n",
    "FeatureCalculate contains some featurs from tsfresh and some from Qingkai's code  \n",
    "This is expected to produce similar results to before, but worth checking if the new features make a difference "
   ]
  },
  {
   "cell_type": "code",
   "execution_count": 3,
   "metadata": {
    "collapsed": true
   },
   "outputs": [],
   "source": [
    "import pandas as pd\n",
    "import obspy as op\n",
    "import numpy as np\n",
    "import matplotlib.pyplot as plt\n",
    "import glob\n",
    "%matplotlib inline"
   ]
  },
  {
   "cell_type": "code",
   "execution_count": 2,
   "metadata": {
    "collapsed": true
   },
   "outputs": [],
   "source": [
    "all_data = pd.read_csv(\"Fnames_soilM_temp.csv\")\n",
    "lineCSN = all_data[all_data['Line'] == \"LineCSN\"]\n",
    "\n",
    "#Extract just the soil moisture time series corresponding to probe M3_20\n",
    "lineCSN_M3 = lineCSN[['file_name','DateTime','M3_20_Avg_interp','Temphigh_interp']]\n",
    "lineCSN_M3.reset_index(drop=True,inplace=True)\n",
    "lineCSN_M3.assign(DateTime = pd.to_datetime(lineCSN_M3['DateTime']))\n",
    "lineCSN_M3.set_index('DateTime',inplace=True)\n",
    "#Generate linking column\n",
    "lineCSN_M3 = lineCSN_M3.assign(file_name=lineCSN_M3['file_name'].apply(lambda x: x[2:]))"
   ]
  },
  {
   "cell_type": "code",
   "execution_count": 11,
   "metadata": {
    "collapsed": false
   },
   "outputs": [],
   "source": [
    "feature_files = glob.glob('rms_fcalc/*.csv')\n",
    "feature_dfs = []\n",
    "for csv_file in feature_files:\n",
    "    fname = csv_file.split('/')[1].split('.')[0][:-10]\n",
    "    df = pd.read_csv(csv_file)\n",
    "    df.name = fname\n",
    "    feature_dfs.append(df)"
   ]
  },
  {
   "cell_type": "code",
   "execution_count": 12,
   "metadata": {
    "collapsed": true
   },
   "outputs": [],
   "source": [
    "def extract_mean_over_channels(indf):\n",
    "    \n",
    "    newcolname = \"mean_%s\" %indf.name\n",
    "    opdf = indf[['file_name']]\n",
    "    opdf = opdf.assign(mean_col = indf.drop('file_name',axis=1).mean(axis=1))\n",
    "    opdf.columns = ['file_name',newcolname]\n",
    "    \n",
    "    return opdf"
   ]
  },
  {
   "cell_type": "code",
   "execution_count": 13,
   "metadata": {
    "collapsed": true
   },
   "outputs": [],
   "source": [
    "indf = lineCSN_M3\n",
    "for feature_df in feature_dfs:\n",
    "    \n",
    "    mean_feature = extract_mean_over_channels(feature_df)\n",
    "    merged_df = pd.merge(indf,mean_feature,on='file_name')\n",
    "    indf = merged_df"
   ]
  },
  {
   "cell_type": "code",
   "execution_count": 15,
   "metadata": {
    "collapsed": true
   },
   "outputs": [],
   "source": [
    "merged_df.index = lineCSN_M3.index"
   ]
  },
  {
   "cell_type": "code",
   "execution_count": 16,
   "metadata": {
    "collapsed": false
   },
   "outputs": [
    {
     "data": {
      "text/html": [
       "<div>\n",
       "<style scoped>\n",
       "    .dataframe tbody tr th:only-of-type {\n",
       "        vertical-align: middle;\n",
       "    }\n",
       "\n",
       "    .dataframe tbody tr th {\n",
       "        vertical-align: top;\n",
       "    }\n",
       "\n",
       "    .dataframe thead th {\n",
       "        text-align: right;\n",
       "    }\n",
       "</style>\n",
       "<table border=\"1\" class=\"dataframe\">\n",
       "  <thead>\n",
       "    <tr style=\"text-align: right;\">\n",
       "      <th></th>\n",
       "      <th>file_name</th>\n",
       "      <th>M3_20_Avg_interp</th>\n",
       "      <th>Temphigh_interp</th>\n",
       "      <th>mean_median</th>\n",
       "      <th>mean_minimum</th>\n",
       "      <th>mean_abs_energy</th>\n",
       "      <th>mean_root_mean_square</th>\n",
       "      <th>mean_mean</th>\n",
       "      <th>mean_cid_ce</th>\n",
       "      <th>mean_mean_change</th>\n",
       "      <th>mean_x_crossing_m</th>\n",
       "      <th>mean_skewness</th>\n",
       "      <th>mean_kurtosis</th>\n",
       "      <th>mean_maximum</th>\n",
       "      <th>mean_mean_abs_change</th>\n",
       "      <th>mean_variance</th>\n",
       "      <th>mean_interquartile_range</th>\n",
       "    </tr>\n",
       "    <tr>\n",
       "      <th>DateTime</th>\n",
       "      <th></th>\n",
       "      <th></th>\n",
       "      <th></th>\n",
       "      <th></th>\n",
       "      <th></th>\n",
       "      <th></th>\n",
       "      <th></th>\n",
       "      <th></th>\n",
       "      <th></th>\n",
       "      <th></th>\n",
       "      <th></th>\n",
       "      <th></th>\n",
       "      <th></th>\n",
       "      <th></th>\n",
       "      <th></th>\n",
       "      <th></th>\n",
       "      <th></th>\n",
       "    </tr>\n",
       "  </thead>\n",
       "  <tbody>\n",
       "    <tr>\n",
       "      <th>2016-08-05 18:07:38</th>\n",
       "      <td>20160805180738_40_Hz_LineCSN.mseed</td>\n",
       "      <td>0.202000</td>\n",
       "      <td>27.437489</td>\n",
       "      <td>-0.256883</td>\n",
       "      <td>-146.639777</td>\n",
       "      <td>1.337353e+06</td>\n",
       "      <td>23.063935</td>\n",
       "      <td>-0.269010</td>\n",
       "      <td>1609.141030</td>\n",
       "      <td>0.000384</td>\n",
       "      <td>1226.15</td>\n",
       "      <td>-0.029094</td>\n",
       "      <td>7.133960</td>\n",
       "      <td>142.298574</td>\n",
       "      <td>20.637504</td>\n",
       "      <td>557.145765</td>\n",
       "      <td>16.598357</td>\n",
       "    </tr>\n",
       "    <tr>\n",
       "      <th>2016-08-05 18:08:38</th>\n",
       "      <td>20160805180838_40_Hz_LineCSN.mseed</td>\n",
       "      <td>0.202000</td>\n",
       "      <td>27.423656</td>\n",
       "      <td>-0.089357</td>\n",
       "      <td>-244.519483</td>\n",
       "      <td>1.936504e+06</td>\n",
       "      <td>27.941960</td>\n",
       "      <td>-0.181803</td>\n",
       "      <td>1966.166111</td>\n",
       "      <td>0.024688</td>\n",
       "      <td>1257.45</td>\n",
       "      <td>-0.020735</td>\n",
       "      <td>19.883738</td>\n",
       "      <td>238.815942</td>\n",
       "      <td>19.770928</td>\n",
       "      <td>806.832323</td>\n",
       "      <td>12.428674</td>\n",
       "    </tr>\n",
       "    <tr>\n",
       "      <th>2016-08-05 18:09:38</th>\n",
       "      <td>20160805180938_40_Hz_LineCSN.mseed</td>\n",
       "      <td>0.202013</td>\n",
       "      <td>27.409822</td>\n",
       "      <td>-0.201373</td>\n",
       "      <td>-401.599379</td>\n",
       "      <td>3.117734e+06</td>\n",
       "      <td>35.140439</td>\n",
       "      <td>-0.163673</td>\n",
       "      <td>2522.915228</td>\n",
       "      <td>0.017649</td>\n",
       "      <td>1242.05</td>\n",
       "      <td>-0.097259</td>\n",
       "      <td>33.186354</td>\n",
       "      <td>414.522634</td>\n",
       "      <td>29.673234</td>\n",
       "      <td>1298.861278</td>\n",
       "      <td>24.788902</td>\n",
       "    </tr>\n",
       "    <tr>\n",
       "      <th>2016-08-05 18:10:38</th>\n",
       "      <td>20160805181038_40_Hz_LineCSN.mseed</td>\n",
       "      <td>0.202113</td>\n",
       "      <td>27.395989</td>\n",
       "      <td>-0.275406</td>\n",
       "      <td>-253.386998</td>\n",
       "      <td>3.048996e+06</td>\n",
       "      <td>35.241241</td>\n",
       "      <td>-0.417050</td>\n",
       "      <td>2680.393873</td>\n",
       "      <td>0.002172</td>\n",
       "      <td>1308.15</td>\n",
       "      <td>-0.188153</td>\n",
       "      <td>7.752490</td>\n",
       "      <td>236.810422</td>\n",
       "      <td>34.666330</td>\n",
       "      <td>1268.854153</td>\n",
       "      <td>27.470094</td>\n",
       "    </tr>\n",
       "    <tr>\n",
       "      <th>2016-08-05 18:11:38</th>\n",
       "      <td>20160805181138_40_Hz_LineCSN.mseed</td>\n",
       "      <td>0.202213</td>\n",
       "      <td>27.382156</td>\n",
       "      <td>-0.176445</td>\n",
       "      <td>-74.926399</td>\n",
       "      <td>4.470121e+05</td>\n",
       "      <td>13.488263</td>\n",
       "      <td>-0.214455</td>\n",
       "      <td>983.665690</td>\n",
       "      <td>-0.001794</td>\n",
       "      <td>1252.65</td>\n",
       "      <td>0.011424</td>\n",
       "      <td>3.741794</td>\n",
       "      <td>74.338417</td>\n",
       "      <td>13.399776</td>\n",
       "      <td>186.202829</td>\n",
       "      <td>11.061511</td>\n",
       "    </tr>\n",
       "  </tbody>\n",
       "</table>\n",
       "</div>"
      ],
      "text/plain": [
       "                                              file_name  M3_20_Avg_interp  \\\n",
       "DateTime                                                                    \n",
       "2016-08-05 18:07:38  20160805180738_40_Hz_LineCSN.mseed          0.202000   \n",
       "2016-08-05 18:08:38  20160805180838_40_Hz_LineCSN.mseed          0.202000   \n",
       "2016-08-05 18:09:38  20160805180938_40_Hz_LineCSN.mseed          0.202013   \n",
       "2016-08-05 18:10:38  20160805181038_40_Hz_LineCSN.mseed          0.202113   \n",
       "2016-08-05 18:11:38  20160805181138_40_Hz_LineCSN.mseed          0.202213   \n",
       "\n",
       "                     Temphigh_interp  mean_median  mean_minimum  \\\n",
       "DateTime                                                          \n",
       "2016-08-05 18:07:38        27.437489    -0.256883   -146.639777   \n",
       "2016-08-05 18:08:38        27.423656    -0.089357   -244.519483   \n",
       "2016-08-05 18:09:38        27.409822    -0.201373   -401.599379   \n",
       "2016-08-05 18:10:38        27.395989    -0.275406   -253.386998   \n",
       "2016-08-05 18:11:38        27.382156    -0.176445    -74.926399   \n",
       "\n",
       "                     mean_abs_energy  mean_root_mean_square  mean_mean  \\\n",
       "DateTime                                                                 \n",
       "2016-08-05 18:07:38     1.337353e+06              23.063935  -0.269010   \n",
       "2016-08-05 18:08:38     1.936504e+06              27.941960  -0.181803   \n",
       "2016-08-05 18:09:38     3.117734e+06              35.140439  -0.163673   \n",
       "2016-08-05 18:10:38     3.048996e+06              35.241241  -0.417050   \n",
       "2016-08-05 18:11:38     4.470121e+05              13.488263  -0.214455   \n",
       "\n",
       "                     mean_cid_ce  mean_mean_change  mean_x_crossing_m  \\\n",
       "DateTime                                                                \n",
       "2016-08-05 18:07:38  1609.141030          0.000384            1226.15   \n",
       "2016-08-05 18:08:38  1966.166111          0.024688            1257.45   \n",
       "2016-08-05 18:09:38  2522.915228          0.017649            1242.05   \n",
       "2016-08-05 18:10:38  2680.393873          0.002172            1308.15   \n",
       "2016-08-05 18:11:38   983.665690         -0.001794            1252.65   \n",
       "\n",
       "                     mean_skewness  mean_kurtosis  mean_maximum  \\\n",
       "DateTime                                                          \n",
       "2016-08-05 18:07:38      -0.029094       7.133960    142.298574   \n",
       "2016-08-05 18:08:38      -0.020735      19.883738    238.815942   \n",
       "2016-08-05 18:09:38      -0.097259      33.186354    414.522634   \n",
       "2016-08-05 18:10:38      -0.188153       7.752490    236.810422   \n",
       "2016-08-05 18:11:38       0.011424       3.741794     74.338417   \n",
       "\n",
       "                     mean_mean_abs_change  mean_variance  \\\n",
       "DateTime                                                   \n",
       "2016-08-05 18:07:38             20.637504     557.145765   \n",
       "2016-08-05 18:08:38             19.770928     806.832323   \n",
       "2016-08-05 18:09:38             29.673234    1298.861278   \n",
       "2016-08-05 18:10:38             34.666330    1268.854153   \n",
       "2016-08-05 18:11:38             13.399776     186.202829   \n",
       "\n",
       "                     mean_interquartile_range  \n",
       "DateTime                                       \n",
       "2016-08-05 18:07:38                 16.598357  \n",
       "2016-08-05 18:08:38                 12.428674  \n",
       "2016-08-05 18:09:38                 24.788902  \n",
       "2016-08-05 18:10:38                 27.470094  \n",
       "2016-08-05 18:11:38                 11.061511  "
      ]
     },
     "execution_count": 16,
     "metadata": {},
     "output_type": "execute_result"
    }
   ],
   "source": [
    "merged_df.head()"
   ]
  },
  {
   "cell_type": "markdown",
   "metadata": {},
   "source": [
    "These files had their median values removed before processing, which explains why the features look different here"
   ]
  },
  {
   "cell_type": "code",
   "execution_count": 30,
   "metadata": {
    "collapsed": true
   },
   "outputs": [],
   "source": [
    "from sklearn.ensemble import RandomForestRegressor\n",
    "from sklearn.model_selection import train_test_split "
   ]
  },
  {
   "cell_type": "code",
   "execution_count": 31,
   "metadata": {
    "collapsed": true
   },
   "outputs": [],
   "source": [
    "cleaned_df = merged_df.dropna()\n",
    "y = cleaned_df['M3_20_Avg_interp']\n",
    "X = cleaned_df.drop(['file_name','M3_20_Avg_interp','Temphigh_interp'],axis=1)"
   ]
  },
  {
   "cell_type": "code",
   "execution_count": 32,
   "metadata": {
    "collapsed": true
   },
   "outputs": [],
   "source": [
    "X_train, X_test, y_train, y_test = train_test_split(X,y,test_size=0.3)"
   ]
  },
  {
   "cell_type": "code",
   "execution_count": 41,
   "metadata": {
    "collapsed": true
   },
   "outputs": [],
   "source": [
    "regr = RandomForestRegressor(n_estimators=300,min_samples_leaf=100,oob_score=True,n_jobs=2)"
   ]
  },
  {
   "cell_type": "code",
   "execution_count": 42,
   "metadata": {
    "collapsed": false
   },
   "outputs": [
    {
     "data": {
      "text/plain": [
       "RandomForestRegressor(bootstrap=True, criterion='mse', max_depth=None,\n",
       "           max_features='auto', max_leaf_nodes=None,\n",
       "           min_impurity_decrease=0.0, min_impurity_split=None,\n",
       "           min_samples_leaf=100, min_samples_split=2,\n",
       "           min_weight_fraction_leaf=0.0, n_estimators=300, n_jobs=2,\n",
       "           oob_score=True, random_state=None, verbose=0, warm_start=False)"
      ]
     },
     "execution_count": 42,
     "metadata": {},
     "output_type": "execute_result"
    }
   ],
   "source": [
    "regr.fit(X_train,y_train)"
   ]
  },
  {
   "cell_type": "code",
   "execution_count": 43,
   "metadata": {
    "collapsed": false
   },
   "outputs": [
    {
     "name": "stdout",
     "output_type": "stream",
     "text": [
      "[0.13588339 0.03856179 0.01361215 0.02665456 0.22371874 0.07751246\n",
      " 0.03994195 0.15403739 0.04000013 0.05094407 0.04056009 0.04470762\n",
      " 0.01321351 0.10065214]\n"
     ]
    }
   ],
   "source": [
    "print(regr.feature_importances_)"
   ]
  },
  {
   "cell_type": "code",
   "execution_count": 44,
   "metadata": {
    "collapsed": false
   },
   "outputs": [
    {
     "name": "stdout",
     "output_type": "stream",
     "text": [
      "0.055142020789129664\n"
     ]
    }
   ],
   "source": [
    "print(regr.oob_score_)"
   ]
  },
  {
   "cell_type": "code",
   "execution_count": 45,
   "metadata": {
    "collapsed": false
   },
   "outputs": [
    {
     "data": {
      "text/plain": [
       "0.05190503960362369"
      ]
     },
     "execution_count": 45,
     "metadata": {},
     "output_type": "execute_result"
    }
   ],
   "source": [
    "regr.score(X_test,y_test)"
   ]
  },
  {
   "cell_type": "code",
   "execution_count": 46,
   "metadata": {
    "collapsed": true
   },
   "outputs": [],
   "source": [
    "regr_pred = regr.predict(X_test)"
   ]
  },
  {
   "cell_type": "code",
   "execution_count": 47,
   "metadata": {
    "collapsed": false
   },
   "outputs": [
    {
     "data": {
      "text/plain": [
       "Text(0,0.5,'Actual')"
      ]
     },
     "execution_count": 47,
     "metadata": {},
     "output_type": "execute_result"
    },
    {
     "data": {
      "image/png": "[encoded data removed]",
      "text/plain": [
       "<Figure size 432x288 with 1 Axes>"
      ]
     },
     "metadata": {},
     "output_type": "display_data"
    }
   ],
   "source": [
    "plt.plot(regr_pred,y_test,'r.')\n",
    "plt.xlabel('Prediction')\n",
    "plt.ylabel('Actual')"
   ]
  },
  {
   "cell_type": "markdown",
   "metadata": {},
   "source": [
    "Again, the fit is poor - very much the same as in the case of the old feature choices. We could try filtering the feature time series though"
   ]
  },
  {
   "cell_type": "markdown",
   "metadata": {},
   "source": [
    "Test with the temperature dataset"
   ]
  },
  {
   "cell_type": "code",
   "execution_count": 48,
   "metadata": {
    "collapsed": true
   },
   "outputs": [],
   "source": [
    "y = cleaned_df['Temphigh_interp']\n",
    "X = cleaned_df.drop(['file_name','M3_20_Avg_interp','Temphigh_interp'],axis=1)\n",
    "X_train, X_test, y_train, y_test = train_test_split(X,y,test_size=0.3)\n",
    "regr = RandomForestRegressor(n_estimators=300,min_samples_leaf=200,oob_score=True,n_jobs=2)"
   ]
  },
  {
   "cell_type": "code",
   "execution_count": 49,
   "metadata": {
    "collapsed": false
   },
   "outputs": [
    {
     "data": {
      "text/plain": [
       "RandomForestRegressor(bootstrap=True, criterion='mse', max_depth=None,\n",
       "           max_features='auto', max_leaf_nodes=None,\n",
       "           min_impurity_decrease=0.0, min_impurity_split=None,\n",
       "           min_samples_leaf=200, min_samples_split=2,\n",
       "           min_weight_fraction_leaf=0.0, n_estimators=300, n_jobs=2,\n",
       "           oob_score=True, random_state=None, verbose=0, warm_start=False)"
      ]
     },
     "execution_count": 49,
     "metadata": {},
     "output_type": "execute_result"
    }
   ],
   "source": [
    "regr.fit(X_train,y_train)"
   ]
  },
  {
   "cell_type": "code",
   "execution_count": 50,
   "metadata": {
    "collapsed": false
   },
   "outputs": [
    {
     "name": "stdout",
     "output_type": "stream",
     "text": [
      "[0.17853202 0.00695928 0.00343459 0.00327248 0.23360644 0.00436689\n",
      " 0.00715367 0.36299276 0.00817801 0.04216779 0.00908433 0.01248937\n",
      " 0.00305176 0.12471062]\n"
     ]
    }
   ],
   "source": [
    "print(regr.feature_importances_)"
   ]
  },
  {
   "cell_type": "code",
   "execution_count": 51,
   "metadata": {
    "collapsed": false
   },
   "outputs": [
    {
     "name": "stdout",
     "output_type": "stream",
     "text": [
      "0.17840912615117155\n"
     ]
    }
   ],
   "source": [
    "print(regr.oob_score_) "
   ]
  },
  {
   "cell_type": "code",
   "execution_count": 52,
   "metadata": {
    "collapsed": false
   },
   "outputs": [
    {
     "data": {
      "text/plain": [
       "0.18292203713373112"
      ]
     },
     "execution_count": 52,
     "metadata": {},
     "output_type": "execute_result"
    }
   ],
   "source": [
    "regr_pred = regr.predict(X_test)\n",
    "regr.score(X_test,y_test)"
   ]
  },
  {
   "cell_type": "code",
   "execution_count": 53,
   "metadata": {
    "collapsed": false
   },
   "outputs": [
    {
     "data": {
      "text/plain": [
       "Text(0,0.5,'Actual')"
      ]
     },
     "execution_count": 53,
     "metadata": {},
     "output_type": "execute_result"
    },
    {
     "data": {
      "image/png": "[encoded data removed]",
      "text/plain": [
       "<Figure size 432x288 with 1 Axes>"
      ]
     },
     "metadata": {},
     "output_type": "display_data"
    }
   ],
   "source": [
    "plt.plot(regr_pred,y_test,'r.')\n",
    "plt.xlabel('Prediction')\n",
    "plt.ylabel('Actual')"
   ]
  },
  {
   "cell_type": "markdown",
   "metadata": {},
   "source": [
    "Temperature prediction with these features is actually slightly better than in test 1"
   ]
  },
  {
   "cell_type": "markdown",
   "metadata": {},
   "source": [
    "### lets try the filtering test again "
   ]
  },
  {
   "cell_type": "code",
   "execution_count": 54,
   "metadata": {
    "collapsed": true
   },
   "outputs": [],
   "source": [
    "from scipy.signal import butter, lfilter"
   ]
  },
  {
   "cell_type": "code",
   "execution_count": 55,
   "metadata": {
    "collapsed": true
   },
   "outputs": [],
   "source": [
    "def butter_lowpass(cutoff,fs,order=4):\n",
    "    nyq = 0.5*fs\n",
    "    normal_cutoff = cutoff/nyq\n",
    "    b, a = butter(order,normal_cutoff,btype='low')\n",
    "    return b,a\n",
    "\n",
    "def butter_lowpass_filter(data,cutoff,fs,order=4):\n",
    "    b,a = butter_lowpass(cutoff,fs,order=order)\n",
    "    y = lfilter(b,a,data)\n",
    "    return y\n"
   ]
  },
  {
   "cell_type": "code",
   "execution_count": 57,
   "metadata": {
    "collapsed": true
   },
   "outputs": [],
   "source": [
    "fs = 0.0167 #sampling every minute\n",
    "cutoff = 0.0001 #we want to smooth the ts"
   ]
  },
  {
   "cell_type": "code",
   "execution_count": 58,
   "metadata": {
    "collapsed": false
   },
   "outputs": [],
   "source": [
    "filtered_df = pd.DataFrame()\n",
    "filtered_df['file_name'] = cleaned_df['file_name']\n",
    "filtered_df['M3_20_Avg_interp'] = cleaned_df['M3_20_Avg_interp']\n",
    "filtered_df['Temphigh_interp'] = cleaned_df['Temphigh_interp']\n",
    "\n",
    "for column in cleaned_df.columns[3:]:\n",
    "    cname = str(column)\n",
    "    filtered_df[cname] = butter_lowpass_filter(cleaned_df[cname].values,cutoff,fs)"
   ]
  },
  {
   "cell_type": "code",
   "execution_count": 67,
   "metadata": {
    "collapsed": true
   },
   "outputs": [],
   "source": [
    "y = filtered_df['Temphigh_interp']\n",
    "X = filtered_df.drop(['file_name','M3_20_Avg_interp','Temphigh_interp'],axis=1)\n",
    "X_train, X_test, y_train, y_test = train_test_split(X,y,test_size=0.3)\n",
    "\n",
    "#Note that when training on the filtered dataset we need to decrease min_samples_leaf in order to get a \n",
    "#better training score\n",
    "\n",
    "regr = RandomForestRegressor(n_estimators=300,min_samples_leaf=10,oob_score=True,n_jobs=2)"
   ]
  },
  {
   "cell_type": "code",
   "execution_count": 68,
   "metadata": {
    "collapsed": false
   },
   "outputs": [
    {
     "data": {
      "text/plain": [
       "RandomForestRegressor(bootstrap=True, criterion='mse', max_depth=None,\n",
       "           max_features='auto', max_leaf_nodes=None,\n",
       "           min_impurity_decrease=0.0, min_impurity_split=None,\n",
       "           min_samples_leaf=10, min_samples_split=2,\n",
       "           min_weight_fraction_leaf=0.0, n_estimators=300, n_jobs=2,\n",
       "           oob_score=True, random_state=None, verbose=0, warm_start=False)"
      ]
     },
     "execution_count": 68,
     "metadata": {},
     "output_type": "execute_result"
    }
   ],
   "source": [
    "regr.fit(X_train,y_train)"
   ]
  },
  {
   "cell_type": "code",
   "execution_count": 69,
   "metadata": {
    "collapsed": false
   },
   "outputs": [
    {
     "name": "stdout",
     "output_type": "stream",
     "text": [
      "[0.07833632 0.03012093 0.02511408 0.01665883 0.08539667 0.01562768\n",
      " 0.08136927 0.32429289 0.08133061 0.13916559 0.03390905 0.0188122\n",
      " 0.02322274 0.04664314]\n"
     ]
    }
   ],
   "source": [
    "print(regr.feature_importances_)"
   ]
  },
  {
   "cell_type": "code",
   "execution_count": 70,
   "metadata": {
    "collapsed": false
   },
   "outputs": [
    {
     "name": "stdout",
     "output_type": "stream",
     "text": [
      "0.9608382172451891\n"
     ]
    }
   ],
   "source": [
    "print(regr.oob_score_) "
   ]
  },
  {
   "cell_type": "code",
   "execution_count": 71,
   "metadata": {
    "collapsed": false
   },
   "outputs": [
    {
     "data": {
      "text/plain": [
       "0.9597248417636347"
      ]
     },
     "execution_count": 71,
     "metadata": {},
     "output_type": "execute_result"
    }
   ],
   "source": [
    "regr.score(X_test,y_test)"
   ]
  },
  {
   "cell_type": "code",
   "execution_count": 72,
   "metadata": {
    "collapsed": true
   },
   "outputs": [],
   "source": [
    "regr_pred = regr.predict(X_test)"
   ]
  },
  {
   "cell_type": "code",
   "execution_count": 73,
   "metadata": {
    "collapsed": false
   },
   "outputs": [
    {
     "data": {
      "text/plain": [
       "Text(0,0.5,'Actual')"
      ]
     },
     "execution_count": 73,
     "metadata": {},
     "output_type": "execute_result"
    },
    {
     "data": {
      "image/png": "[encoded data removed]",
      "text/plain": [
       "<Figure size 432x288 with 1 Axes>"
      ]
     },
     "metadata": {},
     "output_type": "display_data"
    }
   ],
   "source": [
    "plt.plot(regr_pred,y_test,'r.')\n",
    "plt.xlabel('Prediction')\n",
    "plt.ylabel('Actual')"
   ]
  },
  {
   "cell_type": "code",
   "execution_count": 74,
   "metadata": {
    "collapsed": true
   },
   "outputs": [],
   "source": [
    "from sklearn.metrics import mean_absolute_error, explained_variance_score, mean_squared_error, r2_score"
   ]
  },
  {
   "cell_type": "code",
   "execution_count": 75,
   "metadata": {
    "collapsed": false
   },
   "outputs": [
    {
     "data": {
      "text/plain": [
       "0.8399060681373448"
      ]
     },
     "execution_count": 75,
     "metadata": {},
     "output_type": "execute_result"
    }
   ],
   "source": [
    "mean_absolute_error(y_test,regr_pred)"
   ]
  },
  {
   "cell_type": "code",
   "execution_count": 76,
   "metadata": {
    "collapsed": false
   },
   "outputs": [
    {
     "data": {
      "text/plain": [
       "2.2148934687887376"
      ]
     },
     "execution_count": 76,
     "metadata": {},
     "output_type": "execute_result"
    }
   ],
   "source": [
    "mean_squared_error(y_test,regr_pred)"
   ]
  },
  {
   "cell_type": "code",
   "execution_count": 77,
   "metadata": {
    "collapsed": false
   },
   "outputs": [
    {
     "data": {
      "text/plain": [
       "0.9597256870730789"
      ]
     },
     "execution_count": 77,
     "metadata": {},
     "output_type": "execute_result"
    }
   ],
   "source": [
    "explained_variance_score(y_test,regr_pred)"
   ]
  },
  {
   "cell_type": "code",
   "execution_count": 78,
   "metadata": {
    "collapsed": false
   },
   "outputs": [
    {
     "data": {
      "text/plain": [
       "0.9597248417636347"
      ]
     },
     "execution_count": 78,
     "metadata": {},
     "output_type": "execute_result"
    }
   ],
   "source": [
    "r2_score(y_test,regr_pred)"
   ]
  },
  {
   "cell_type": "markdown",
   "metadata": {},
   "source": [
    "By all variance metrics, this is a good fit. Would be interesting to see how well this model does on a completely new DAS dataset - we could test this"
   ]
  },
  {
   "cell_type": "code",
   "execution_count": null,
   "metadata": {
    "collapsed": true
   },
   "outputs": [],
   "source": []
  }
 ],
 "metadata": {
  "kernelspec": {
   "display_name": "Python [conda env:python3]",
   "language": "python",
   "name": "conda-env-python3-py"
  },
  "language_info": {
   "codemirror_mode": {
    "name": "ipython",
    "version": 3
   },
   "file_extension": ".py",
   "mimetype": "text/x-python",
   "name": "python",
   "nbconvert_exporter": "python",
   "pygments_lexer": "ipython3",
   "version": "3.6.4"
  }
 },
 "nbformat": 4,
 "nbformat_minor": 1
}
