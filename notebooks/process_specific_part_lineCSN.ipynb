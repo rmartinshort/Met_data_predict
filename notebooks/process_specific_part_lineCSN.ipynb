{
 "cells": [
  {
   "cell_type": "code",
   "execution_count": 2,
   "metadata": {
    "collapsed": true
   },
   "outputs": [],
   "source": [
    "import pandas as pd\n",
    "import numpy as np\n",
    "import matplotlib.pyplot as plt\n",
    "from scipy import interpolate\n",
    "import datetime\n",
    "import obspy as op\n",
    "import os\n",
    "%matplotlib inline"
   ]
  },
  {
   "cell_type": "markdown",
   "metadata": {},
   "source": [
    "First, load the original soil moisture dataset and interpolate so that each of the DAS files gets a soil moisture value"
   ]
  },
  {
   "cell_type": "code",
   "execution_count": 3,
   "metadata": {
    "collapsed": false
   },
   "outputs": [],
   "source": [
    "os.chdir(\"/home/rmartinshort/Documents/Berkeley/Fiber/data_test/Soil_moisture_predict\")"
   ]
  },
  {
   "cell_type": "code",
   "execution_count": 4,
   "metadata": {
    "collapsed": false
   },
   "outputs": [],
   "source": [
    "soilM = pd.read_csv(\"Soil_moisture_rainfall.csv\")"
   ]
  },
  {
   "cell_type": "code",
   "execution_count": 5,
   "metadata": {
    "collapsed": false
   },
   "outputs": [],
   "source": [
    "#Find the start of the soil experiment\n",
    "stime = op.UTCDateTime(soilM['Daytime'][0])\n",
    "#Determine time since start of the soil moisture dataset\n",
    "soilM['tsince_start'] = soilM['Daytime'].apply(lambda x: op.UTCDateTime(x)-stime)"
   ]
  },
  {
   "cell_type": "code",
   "execution_count": 6,
   "metadata": {
    "collapsed": false
   },
   "outputs": [],
   "source": [
    "all_fnames = pd.read_csv('all_downsampled.dat',names=['file_name'])"
   ]
  },
  {
   "cell_type": "code",
   "execution_count": 7,
   "metadata": {
    "collapsed": false
   },
   "outputs": [],
   "source": [
    "all_fnames['Line'] = all_fnames['file_name'].apply(lambda x: x.split('_')[-1].split('.')[0])"
   ]
  },
  {
   "cell_type": "code",
   "execution_count": 8,
   "metadata": {
    "collapsed": true
   },
   "outputs": [],
   "source": [
    "all_fnames['Timestamp'] = all_fnames['file_name'].apply(lambda x: x.split('_')[0][2:])"
   ]
  },
  {
   "cell_type": "code",
   "execution_count": 9,
   "metadata": {
    "collapsed": true
   },
   "outputs": [],
   "source": [
    "all_fnames['DateTime'] = pd.to_datetime(all_fnames['Timestamp'])"
   ]
  },
  {
   "cell_type": "code",
   "execution_count": 10,
   "metadata": {
    "collapsed": true
   },
   "outputs": [],
   "source": [
    "all_fnames.sort_values(by='DateTime',ascending=True,inplace=True)"
   ]
  },
  {
   "cell_type": "code",
   "execution_count": 11,
   "metadata": {
    "collapsed": true
   },
   "outputs": [],
   "source": [
    "all_fnames.reset_index(drop=True,inplace=True)"
   ]
  },
  {
   "cell_type": "code",
   "execution_count": 12,
   "metadata": {
    "collapsed": false
   },
   "outputs": [],
   "source": [
    "#Find the time between the middle of each minute of DAS recording and the start of the \n",
    "#soil experiment\n",
    "all_fnames['tsince_start'] = all_fnames['DateTime'].apply(lambda x: op.UTCDateTime(x)+30-stime)"
   ]
  },
  {
   "cell_type": "code",
   "execution_count": 13,
   "metadata": {
    "collapsed": false
   },
   "outputs": [
    {
     "data": {
      "text/html": [
       "<div>\n",
       "<style scoped>\n",
       "    .dataframe tbody tr th:only-of-type {\n",
       "        vertical-align: middle;\n",
       "    }\n",
       "\n",
       "    .dataframe tbody tr th {\n",
       "        vertical-align: top;\n",
       "    }\n",
       "\n",
       "    .dataframe thead th {\n",
       "        text-align: right;\n",
       "    }\n",
       "</style>\n",
       "<table border=\"1\" class=\"dataframe\">\n",
       "  <thead>\n",
       "    <tr style=\"text-align: right;\">\n",
       "      <th></th>\n",
       "      <th>file_name</th>\n",
       "      <th>Line</th>\n",
       "      <th>Timestamp</th>\n",
       "      <th>DateTime</th>\n",
       "      <th>tsince_start</th>\n",
       "    </tr>\n",
       "  </thead>\n",
       "  <tbody>\n",
       "    <tr>\n",
       "      <th>0</th>\n",
       "      <td>./20160805180738_40_Hz_LineC</td>\n",
       "      <td>LineC</td>\n",
       "      <td>20160805180738</td>\n",
       "      <td>2016-08-05 18:07:38</td>\n",
       "      <td>21488.0</td>\n",
       "    </tr>\n",
       "    <tr>\n",
       "      <th>1</th>\n",
       "      <td>./20160805180738_40_Hz_LineCSN.mseed</td>\n",
       "      <td>LineCSN</td>\n",
       "      <td>20160805180738</td>\n",
       "      <td>2016-08-05 18:07:38</td>\n",
       "      <td>21488.0</td>\n",
       "    </tr>\n",
       "    <tr>\n",
       "      <th>2</th>\n",
       "      <td>./20160805180738_40_Hz_Line2EW.mseed</td>\n",
       "      <td>Line2EW</td>\n",
       "      <td>20160805180738</td>\n",
       "      <td>2016-08-05 18:07:38</td>\n",
       "      <td>21488.0</td>\n",
       "    </tr>\n",
       "    <tr>\n",
       "      <th>3</th>\n",
       "      <td>./20160805180738_40_Hz_Line2</td>\n",
       "      <td>Line2</td>\n",
       "      <td>20160805180738</td>\n",
       "      <td>2016-08-05 18:07:38</td>\n",
       "      <td>21488.0</td>\n",
       "    </tr>\n",
       "    <tr>\n",
       "      <th>4</th>\n",
       "      <td>./20160805180838_40_Hz_Line2EW.mseed</td>\n",
       "      <td>Line2EW</td>\n",
       "      <td>20160805180838</td>\n",
       "      <td>2016-08-05 18:08:38</td>\n",
       "      <td>21548.0</td>\n",
       "    </tr>\n",
       "  </tbody>\n",
       "</table>\n",
       "</div>"
      ],
      "text/plain": [
       "                              file_name     Line       Timestamp  \\\n",
       "0          ./20160805180738_40_Hz_LineC    LineC  20160805180738   \n",
       "1  ./20160805180738_40_Hz_LineCSN.mseed  LineCSN  20160805180738   \n",
       "2  ./20160805180738_40_Hz_Line2EW.mseed  Line2EW  20160805180738   \n",
       "3          ./20160805180738_40_Hz_Line2    Line2  20160805180738   \n",
       "4  ./20160805180838_40_Hz_Line2EW.mseed  Line2EW  20160805180838   \n",
       "\n",
       "             DateTime  tsince_start  \n",
       "0 2016-08-05 18:07:38       21488.0  \n",
       "1 2016-08-05 18:07:38       21488.0  \n",
       "2 2016-08-05 18:07:38       21488.0  \n",
       "3 2016-08-05 18:07:38       21488.0  \n",
       "4 2016-08-05 18:08:38       21548.0  "
      ]
     },
     "execution_count": 13,
     "metadata": {},
     "output_type": "execute_result"
    }
   ],
   "source": [
    "all_fnames.head()"
   ]
  },
  {
   "cell_type": "code",
   "execution_count": 14,
   "metadata": {
    "collapsed": false
   },
   "outputs": [
    {
     "name": "stdout",
     "output_type": "stream",
     "text": [
      "M1_20_Avg\n",
      "M2_20_Avg\n",
      "M3_20_Avg\n",
      "M4_10_Avg\n",
      "M4_35_Avg\n",
      "M5_20_Avg\n",
      "M5_35_Avg\n",
      "M6_20_Avg\n",
      "M6_35_Avg\n",
      "M7_20_Avg\n",
      "M7_35_Avg\n",
      "M8_20_Avg\n",
      "M9_20_Avg\n",
      "M9_35_Avg\n"
     ]
    }
   ],
   "source": [
    "#Do the interpolation\n",
    "X = np.array(soilM['tsince_start'])\n",
    "for i in range(1,15):\n",
    "    colname = soilM.columns[i]\n",
    "    print(colname)\n",
    "    newcolname = colname+'_interp'\n",
    "    Y = np.array(soilM[colname])\n",
    "    f = interpolate.interp1d(X,Y,kind='linear')\n",
    "    all_fnames[newcolname] = f(np.array(all_fnames['tsince_start']))"
   ]
  },
  {
   "cell_type": "code",
   "execution_count": 15,
   "metadata": {
    "collapsed": true
   },
   "outputs": [],
   "source": [
    "all_fnames.to_csv('Fnames_soilM_interp.csv',index=False)"
   ]
  },
  {
   "cell_type": "code",
   "execution_count": 16,
   "metadata": {
    "collapsed": false
   },
   "outputs": [],
   "source": [
    "all_data = pd.read_csv(\"Fnames_soilM_interp.csv\")"
   ]
  },
  {
   "cell_type": "code",
   "execution_count": 17,
   "metadata": {
    "collapsed": false,
    "scrolled": true
   },
   "outputs": [
    {
     "data": {
      "text/html": [
       "<div>\n",
       "<style scoped>\n",
       "    .dataframe tbody tr th:only-of-type {\n",
       "        vertical-align: middle;\n",
       "    }\n",
       "\n",
       "    .dataframe tbody tr th {\n",
       "        vertical-align: top;\n",
       "    }\n",
       "\n",
       "    .dataframe thead th {\n",
       "        text-align: right;\n",
       "    }\n",
       "</style>\n",
       "<table border=\"1\" class=\"dataframe\">\n",
       "  <thead>\n",
       "    <tr style=\"text-align: right;\">\n",
       "      <th></th>\n",
       "      <th>file_name</th>\n",
       "      <th>Line</th>\n",
       "      <th>Timestamp</th>\n",
       "      <th>DateTime</th>\n",
       "      <th>tsince_start</th>\n",
       "      <th>M1_20_Avg_interp</th>\n",
       "      <th>M2_20_Avg_interp</th>\n",
       "      <th>M3_20_Avg_interp</th>\n",
       "      <th>M4_10_Avg_interp</th>\n",
       "      <th>M4_35_Avg_interp</th>\n",
       "      <th>M5_20_Avg_interp</th>\n",
       "      <th>M5_35_Avg_interp</th>\n",
       "      <th>M6_20_Avg_interp</th>\n",
       "      <th>M6_35_Avg_interp</th>\n",
       "      <th>M7_20_Avg_interp</th>\n",
       "      <th>M7_35_Avg_interp</th>\n",
       "      <th>M8_20_Avg_interp</th>\n",
       "      <th>M9_20_Avg_interp</th>\n",
       "      <th>M9_35_Avg_interp</th>\n",
       "    </tr>\n",
       "  </thead>\n",
       "  <tbody>\n",
       "    <tr>\n",
       "      <th>1</th>\n",
       "      <td>./20160805180738_40_Hz_LineCSN.mseed</td>\n",
       "      <td>LineCSN</td>\n",
       "      <td>20160805180738</td>\n",
       "      <td>2016-08-05 18:07:38</td>\n",
       "      <td>21488.0</td>\n",
       "      <td>0.581000</td>\n",
       "      <td>0.610560</td>\n",
       "      <td>0.202000</td>\n",
       "      <td>0.533</td>\n",
       "      <td>0.497813</td>\n",
       "      <td>0.318</td>\n",
       "      <td>0.410813</td>\n",
       "      <td>0.435</td>\n",
       "      <td>0.456</td>\n",
       "      <td>0.558187</td>\n",
       "      <td>0.562</td>\n",
       "      <td>0.311</td>\n",
       "      <td>0.417</td>\n",
       "      <td>0.495187</td>\n",
       "    </tr>\n",
       "    <tr>\n",
       "      <th>5</th>\n",
       "      <td>./20160805180838_40_Hz_LineCSN.mseed</td>\n",
       "      <td>LineCSN</td>\n",
       "      <td>20160805180838</td>\n",
       "      <td>2016-08-05 18:08:38</td>\n",
       "      <td>21548.0</td>\n",
       "      <td>0.581000</td>\n",
       "      <td>0.610260</td>\n",
       "      <td>0.202000</td>\n",
       "      <td>0.533</td>\n",
       "      <td>0.497913</td>\n",
       "      <td>0.318</td>\n",
       "      <td>0.410913</td>\n",
       "      <td>0.435</td>\n",
       "      <td>0.456</td>\n",
       "      <td>0.558087</td>\n",
       "      <td>0.562</td>\n",
       "      <td>0.311</td>\n",
       "      <td>0.417</td>\n",
       "      <td>0.495087</td>\n",
       "    </tr>\n",
       "    <tr>\n",
       "      <th>6</th>\n",
       "      <td>./20160805180938_40_Hz_LineCSN.mseed</td>\n",
       "      <td>LineCSN</td>\n",
       "      <td>20160805180938</td>\n",
       "      <td>2016-08-05 18:09:38</td>\n",
       "      <td>21608.0</td>\n",
       "      <td>0.580987</td>\n",
       "      <td>0.610027</td>\n",
       "      <td>0.202013</td>\n",
       "      <td>0.533</td>\n",
       "      <td>0.498000</td>\n",
       "      <td>0.318</td>\n",
       "      <td>0.410987</td>\n",
       "      <td>0.435</td>\n",
       "      <td>0.456</td>\n",
       "      <td>0.558000</td>\n",
       "      <td>0.562</td>\n",
       "      <td>0.311</td>\n",
       "      <td>0.417</td>\n",
       "      <td>0.494987</td>\n",
       "    </tr>\n",
       "    <tr>\n",
       "      <th>9</th>\n",
       "      <td>./20160805181038_40_Hz_LineCSN.mseed</td>\n",
       "      <td>LineCSN</td>\n",
       "      <td>20160805181038</td>\n",
       "      <td>2016-08-05 18:10:38</td>\n",
       "      <td>21668.0</td>\n",
       "      <td>0.580887</td>\n",
       "      <td>0.610227</td>\n",
       "      <td>0.202113</td>\n",
       "      <td>0.533</td>\n",
       "      <td>0.498000</td>\n",
       "      <td>0.318</td>\n",
       "      <td>0.410887</td>\n",
       "      <td>0.435</td>\n",
       "      <td>0.456</td>\n",
       "      <td>0.558000</td>\n",
       "      <td>0.562</td>\n",
       "      <td>0.311</td>\n",
       "      <td>0.417</td>\n",
       "      <td>0.494887</td>\n",
       "    </tr>\n",
       "    <tr>\n",
       "      <th>10</th>\n",
       "      <td>./20160805181138_40_Hz_LineCSN.mseed</td>\n",
       "      <td>LineCSN</td>\n",
       "      <td>20160805181138</td>\n",
       "      <td>2016-08-05 18:11:38</td>\n",
       "      <td>21728.0</td>\n",
       "      <td>0.580787</td>\n",
       "      <td>0.610427</td>\n",
       "      <td>0.202213</td>\n",
       "      <td>0.533</td>\n",
       "      <td>0.498000</td>\n",
       "      <td>0.318</td>\n",
       "      <td>0.410787</td>\n",
       "      <td>0.435</td>\n",
       "      <td>0.456</td>\n",
       "      <td>0.558000</td>\n",
       "      <td>0.562</td>\n",
       "      <td>0.311</td>\n",
       "      <td>0.417</td>\n",
       "      <td>0.494787</td>\n",
       "    </tr>\n",
       "  </tbody>\n",
       "</table>\n",
       "</div>"
      ],
      "text/plain": [
       "                               file_name     Line       Timestamp  \\\n",
       "1   ./20160805180738_40_Hz_LineCSN.mseed  LineCSN  20160805180738   \n",
       "5   ./20160805180838_40_Hz_LineCSN.mseed  LineCSN  20160805180838   \n",
       "6   ./20160805180938_40_Hz_LineCSN.mseed  LineCSN  20160805180938   \n",
       "9   ./20160805181038_40_Hz_LineCSN.mseed  LineCSN  20160805181038   \n",
       "10  ./20160805181138_40_Hz_LineCSN.mseed  LineCSN  20160805181138   \n",
       "\n",
       "               DateTime  tsince_start  M1_20_Avg_interp  M2_20_Avg_interp  \\\n",
       "1   2016-08-05 18:07:38       21488.0          0.581000          0.610560   \n",
       "5   2016-08-05 18:08:38       21548.0          0.581000          0.610260   \n",
       "6   2016-08-05 18:09:38       21608.0          0.580987          0.610027   \n",
       "9   2016-08-05 18:10:38       21668.0          0.580887          0.610227   \n",
       "10  2016-08-05 18:11:38       21728.0          0.580787          0.610427   \n",
       "\n",
       "    M3_20_Avg_interp  M4_10_Avg_interp  M4_35_Avg_interp  M5_20_Avg_interp  \\\n",
       "1           0.202000             0.533          0.497813             0.318   \n",
       "5           0.202000             0.533          0.497913             0.318   \n",
       "6           0.202013             0.533          0.498000             0.318   \n",
       "9           0.202113             0.533          0.498000             0.318   \n",
       "10          0.202213             0.533          0.498000             0.318   \n",
       "\n",
       "    M5_35_Avg_interp  M6_20_Avg_interp  M6_35_Avg_interp  M7_20_Avg_interp  \\\n",
       "1           0.410813             0.435             0.456          0.558187   \n",
       "5           0.410913             0.435             0.456          0.558087   \n",
       "6           0.410987             0.435             0.456          0.558000   \n",
       "9           0.410887             0.435             0.456          0.558000   \n",
       "10          0.410787             0.435             0.456          0.558000   \n",
       "\n",
       "    M7_35_Avg_interp  M8_20_Avg_interp  M9_20_Avg_interp  M9_35_Avg_interp  \n",
       "1              0.562             0.311             0.417          0.495187  \n",
       "5              0.562             0.311             0.417          0.495087  \n",
       "6              0.562             0.311             0.417          0.494987  \n",
       "9              0.562             0.311             0.417          0.494887  \n",
       "10             0.562             0.311             0.417          0.494787  "
      ]
     },
     "execution_count": 17,
     "metadata": {},
     "output_type": "execute_result"
    }
   ],
   "source": [
    "lineCSN = all_data[all_data['Line'] == \"LineCSN\"]\n",
    "lineCSN.head()"
   ]
  },
  {
   "cell_type": "code",
   "execution_count": 18,
   "metadata": {
    "collapsed": false
   },
   "outputs": [],
   "source": [
    "lineCSN_M3 = lineCSN[['file_name','DateTime','M3_20_Avg_interp','tsince_start']]"
   ]
  },
  {
   "cell_type": "code",
   "execution_count": 19,
   "metadata": {
    "collapsed": false
   },
   "outputs": [],
   "source": [
    "lineCSN_M3.reset_index(drop=True,inplace=True)"
   ]
  },
  {
   "cell_type": "code",
   "execution_count": 20,
   "metadata": {
    "collapsed": false
   },
   "outputs": [
    {
     "name": "stderr",
     "output_type": "stream",
     "text": [
      "/home/rmartinshort/anaconda2/envs/python3/lib/python3.6/site-packages/ipykernel/__main__.py:1: SettingWithCopyWarning: \n",
      "A value is trying to be set on a copy of a slice from a DataFrame.\n",
      "Try using .loc[row_indexer,col_indexer] = value instead\n",
      "\n",
      "See the caveats in the documentation: http://pandas.pydata.org/pandas-docs/stable/indexing.html#indexing-view-versus-copy\n",
      "  if __name__ == '__main__':\n"
     ]
    }
   ],
   "source": [
    "lineCSN_M3['DateTime'] = pd.to_datetime(lineCSN_M3['DateTime'])"
   ]
  },
  {
   "cell_type": "code",
   "execution_count": 21,
   "metadata": {
    "collapsed": true
   },
   "outputs": [],
   "source": [
    "lineCSN_M3.set_index('DateTime',inplace=True)"
   ]
  },
  {
   "cell_type": "code",
   "execution_count": 22,
   "metadata": {
    "collapsed": false
   },
   "outputs": [
    {
     "data": {
      "text/plain": [
       "<matplotlib.axes._subplots.AxesSubplot at 0x7fd6812a15f8>"
      ]
     },
     "execution_count": 22,
     "metadata": {},
     "output_type": "execute_result"
    },
    {
     "data": {
      "image/png": "[encoded data removed]",
      "text/plain": [
       "<Figure size 432x288 with 1 Axes>"
      ]
     },
     "metadata": {},
     "output_type": "display_data"
    }
   ],
   "source": [
    "lineCSN_M3['M3_20_Avg_interp'].plot()"
   ]
  },
  {
   "cell_type": "code",
   "execution_count": 23,
   "metadata": {
    "collapsed": false
   },
   "outputs": [],
   "source": [
    "start = lineCSN_M3.index.searchsorted(datetime.datetime(2016,9,3))\n",
    "end = lineCSN_M3.index.searchsorted(datetime.datetime(2016,9,10))\n",
    "lineCSN_M3_clipped = lineCSN_M3[start:end]"
   ]
  },
  {
   "cell_type": "code",
   "execution_count": 24,
   "metadata": {
    "collapsed": false
   },
   "outputs": [
    {
     "data": {
      "text/plain": [
       "<matplotlib.axes._subplots.AxesSubplot at 0x7fd67d4e6b70>"
      ]
     },
     "execution_count": 24,
     "metadata": {},
     "output_type": "execute_result"
    },
    {
     "data": {
      "image/png": "[encoded data removed]",
      "text/plain": [
       "<Figure size 432x288 with 1 Axes>"
      ]
     },
     "metadata": {},
     "output_type": "display_data"
    }
   ],
   "source": [
    "lineCSN_M3_clipped['M3_20_Avg_interp'].plot()"
   ]
  },
  {
   "cell_type": "code",
   "execution_count": 25,
   "metadata": {
    "collapsed": false
   },
   "outputs": [
    {
     "name": "stderr",
     "output_type": "stream",
     "text": [
      "/home/rmartinshort/anaconda2/envs/python3/lib/python3.6/site-packages/ipykernel/__main__.py:1: SettingWithCopyWarning: \n",
      "A value is trying to be set on a copy of a slice from a DataFrame.\n",
      "Try using .loc[row_indexer,col_indexer] = value instead\n",
      "\n",
      "See the caveats in the documentation: http://pandas.pydata.org/pandas-docs/stable/indexing.html#indexing-view-versus-copy\n",
      "  if __name__ == '__main__':\n"
     ]
    }
   ],
   "source": [
    "lineCSN_M3_clipped['gap'] = (lineCSN_M3_clipped['tsince_start'].diff())"
   ]
  },
  {
   "cell_type": "code",
   "execution_count": 26,
   "metadata": {
    "collapsed": false
   },
   "outputs": [
    {
     "data": {
      "text/html": [
       "<div>\n",
       "<style scoped>\n",
       "    .dataframe tbody tr th:only-of-type {\n",
       "        vertical-align: middle;\n",
       "    }\n",
       "\n",
       "    .dataframe tbody tr th {\n",
       "        vertical-align: top;\n",
       "    }\n",
       "\n",
       "    .dataframe thead th {\n",
       "        text-align: right;\n",
       "    }\n",
       "</style>\n",
       "<table border=\"1\" class=\"dataframe\">\n",
       "  <thead>\n",
       "    <tr style=\"text-align: right;\">\n",
       "      <th></th>\n",
       "      <th>file_name</th>\n",
       "      <th>M3_20_Avg_interp</th>\n",
       "      <th>tsince_start</th>\n",
       "      <th>gap</th>\n",
       "    </tr>\n",
       "    <tr>\n",
       "      <th>DateTime</th>\n",
       "      <th></th>\n",
       "      <th></th>\n",
       "      <th></th>\n",
       "      <th></th>\n",
       "    </tr>\n",
       "  </thead>\n",
       "  <tbody>\n",
       "    <tr>\n",
       "      <th>2016-09-03 00:00:05</th>\n",
       "      <td>./20160903000005_40_Hz_LineCSN.mseed</td>\n",
       "      <td>0.178000</td>\n",
       "      <td>2461835.0</td>\n",
       "      <td>NaN</td>\n",
       "    </tr>\n",
       "    <tr>\n",
       "      <th>2016-09-03 03:42:05</th>\n",
       "      <td>./20160903034205_40_Hz_LineCSN.mseed</td>\n",
       "      <td>0.178000</td>\n",
       "      <td>2475155.0</td>\n",
       "      <td>120.0</td>\n",
       "    </tr>\n",
       "    <tr>\n",
       "      <th>2016-09-03 10:09:05</th>\n",
       "      <td>./20160903100905_40_Hz_LineCSN.mseed</td>\n",
       "      <td>0.177000</td>\n",
       "      <td>2498375.0</td>\n",
       "      <td>11400.0</td>\n",
       "    </tr>\n",
       "    <tr>\n",
       "      <th>2016-09-04 10:09:05</th>\n",
       "      <td>./20160904100905_40_Hz_LineCSN.mseed</td>\n",
       "      <td>0.176042</td>\n",
       "      <td>2584775.0</td>\n",
       "      <td>11400.0</td>\n",
       "    </tr>\n",
       "    <tr>\n",
       "      <th>2016-09-05 10:09:05</th>\n",
       "      <td>./20160905100905_40_Hz_LineCSN.mseed</td>\n",
       "      <td>0.176042</td>\n",
       "      <td>2671175.0</td>\n",
       "      <td>11400.0</td>\n",
       "    </tr>\n",
       "    <tr>\n",
       "      <th>2016-09-05 21:35:15</th>\n",
       "      <td>./20160905213515_40_Hz_LineCSN.mseed</td>\n",
       "      <td>0.204575</td>\n",
       "      <td>2712345.0</td>\n",
       "      <td>20770.0</td>\n",
       "    </tr>\n",
       "    <tr>\n",
       "      <th>2016-09-06 10:09:15</th>\n",
       "      <td>./20160906100915_40_Hz_LineCSN.mseed</td>\n",
       "      <td>0.239000</td>\n",
       "      <td>2757585.0</td>\n",
       "      <td>11400.0</td>\n",
       "    </tr>\n",
       "    <tr>\n",
       "      <th>2016-09-07 10:09:15</th>\n",
       "      <td>./20160907100915_40_Hz_LineCSN.mseed</td>\n",
       "      <td>0.216000</td>\n",
       "      <td>2843985.0</td>\n",
       "      <td>11400.0</td>\n",
       "    </tr>\n",
       "    <tr>\n",
       "      <th>2016-09-08 10:09:15</th>\n",
       "      <td>./20160908100915_40_Hz_LineCSN.mseed</td>\n",
       "      <td>0.201000</td>\n",
       "      <td>2930385.0</td>\n",
       "      <td>11400.0</td>\n",
       "    </tr>\n",
       "    <tr>\n",
       "      <th>2016-09-08 19:53:14</th>\n",
       "      <td>./20160908195314_40_Hz_LineCSN.mseed</td>\n",
       "      <td>0.198000</td>\n",
       "      <td>2965424.0</td>\n",
       "      <td>539.0</td>\n",
       "    </tr>\n",
       "    <tr>\n",
       "      <th>2016-09-09 10:09:14</th>\n",
       "      <td>./20160909100914_40_Hz_LineCSN.mseed</td>\n",
       "      <td>0.194000</td>\n",
       "      <td>3016784.0</td>\n",
       "      <td>11400.0</td>\n",
       "    </tr>\n",
       "  </tbody>\n",
       "</table>\n",
       "</div>"
      ],
      "text/plain": [
       "                                                file_name  M3_20_Avg_interp  \\\n",
       "DateTime                                                                      \n",
       "2016-09-03 00:00:05  ./20160903000005_40_Hz_LineCSN.mseed          0.178000   \n",
       "2016-09-03 03:42:05  ./20160903034205_40_Hz_LineCSN.mseed          0.178000   \n",
       "2016-09-03 10:09:05  ./20160903100905_40_Hz_LineCSN.mseed          0.177000   \n",
       "2016-09-04 10:09:05  ./20160904100905_40_Hz_LineCSN.mseed          0.176042   \n",
       "2016-09-05 10:09:05  ./20160905100905_40_Hz_LineCSN.mseed          0.176042   \n",
       "2016-09-05 21:35:15  ./20160905213515_40_Hz_LineCSN.mseed          0.204575   \n",
       "2016-09-06 10:09:15  ./20160906100915_40_Hz_LineCSN.mseed          0.239000   \n",
       "2016-09-07 10:09:15  ./20160907100915_40_Hz_LineCSN.mseed          0.216000   \n",
       "2016-09-08 10:09:15  ./20160908100915_40_Hz_LineCSN.mseed          0.201000   \n",
       "2016-09-08 19:53:14  ./20160908195314_40_Hz_LineCSN.mseed          0.198000   \n",
       "2016-09-09 10:09:14  ./20160909100914_40_Hz_LineCSN.mseed          0.194000   \n",
       "\n",
       "                     tsince_start      gap  \n",
       "DateTime                                    \n",
       "2016-09-03 00:00:05     2461835.0      NaN  \n",
       "2016-09-03 03:42:05     2475155.0    120.0  \n",
       "2016-09-03 10:09:05     2498375.0  11400.0  \n",
       "2016-09-04 10:09:05     2584775.0  11400.0  \n",
       "2016-09-05 10:09:05     2671175.0  11400.0  \n",
       "2016-09-05 21:35:15     2712345.0  20770.0  \n",
       "2016-09-06 10:09:15     2757585.0  11400.0  \n",
       "2016-09-07 10:09:15     2843985.0  11400.0  \n",
       "2016-09-08 10:09:15     2930385.0  11400.0  \n",
       "2016-09-08 19:53:14     2965424.0    539.0  \n",
       "2016-09-09 10:09:14     3016784.0  11400.0  "
      ]
     },
     "execution_count": 26,
     "metadata": {},
     "output_type": "execute_result"
    }
   ],
   "source": [
    "#There are some gaps in this data, but since its timestamped this probably won't affect the results too much\n",
    "#otherwise the interpolation looks OK\n",
    "lineCSN_M3_clipped[lineCSN_M3_clipped['gap'] != 60]"
   ]
  },
  {
   "cell_type": "code",
   "execution_count": 27,
   "metadata": {
    "collapsed": false
   },
   "outputs": [
    {
     "data": {
      "text/plain": [
       "8403"
      ]
     },
     "execution_count": 27,
     "metadata": {},
     "output_type": "execute_result"
    }
   ],
   "source": [
    "len(lineCSN_M3_clipped)"
   ]
  },
  {
   "cell_type": "code",
   "execution_count": 28,
   "metadata": {
    "collapsed": true
   },
   "outputs": [],
   "source": [
    "datadir = \"/media/rmartinshort/My Book/4Robert\"\n",
    "import os\n",
    "cwd = os.getcwd()\n",
    "os.chdir(datadir)"
   ]
  },
  {
   "cell_type": "code",
   "execution_count": 29,
   "metadata": {
    "collapsed": false
   },
   "outputs": [],
   "source": [
    "fnames = list(lineCSN_M3_clipped['file_name'])"
   ]
  },
  {
   "cell_type": "code",
   "execution_count": 32,
   "metadata": {
    "collapsed": false
   },
   "outputs": [
    {
     "data": {
      "text/plain": [
       "['./20160903000005_40_Hz_LineCSN.mseed',\n",
       " './20160903000105_40_Hz_LineCSN.mseed',\n",
       " './20160903000205_40_Hz_LineCSN.mseed',\n",
       " './20160903000305_40_Hz_LineCSN.mseed',\n",
       " './20160903000405_40_Hz_LineCSN.mseed',\n",
       " './20160903000505_40_Hz_LineCSN.mseed',\n",
       " './20160903000605_40_Hz_LineCSN.mseed',\n",
       " './20160903000705_40_Hz_LineCSN.mseed',\n",
       " './20160903000805_40_Hz_LineCSN.mseed',\n",
       " './20160903000905_40_Hz_LineCSN.mseed',\n",
       " './20160903001005_40_Hz_LineCSN.mseed',\n",
       " './20160903001105_40_Hz_LineCSN.mseed',\n",
       " './20160903001205_40_Hz_LineCSN.mseed',\n",
       " './20160903001305_40_Hz_LineCSN.mseed',\n",
       " './20160903001405_40_Hz_LineCSN.mseed',\n",
       " './20160903001505_40_Hz_LineCSN.mseed',\n",
       " './20160903001605_40_Hz_LineCSN.mseed',\n",
       " './20160903001705_40_Hz_LineCSN.mseed',\n",
       " './20160903001805_40_Hz_LineCSN.mseed',\n",
       " './20160903001905_40_Hz_LineCSN.mseed',\n",
       " './20160903002005_40_Hz_LineCSN.mseed',\n",
       " './20160903002105_40_Hz_LineCSN.mseed',\n",
       " './20160903002205_40_Hz_LineCSN.mseed',\n",
       " './20160903002305_40_Hz_LineCSN.mseed',\n",
       " './20160903002405_40_Hz_LineCSN.mseed',\n",
       " './20160903002505_40_Hz_LineCSN.mseed',\n",
       " './20160903002605_40_Hz_LineCSN.mseed',\n",
       " './20160903002705_40_Hz_LineCSN.mseed',\n",
       " './20160903002805_40_Hz_LineCSN.mseed',\n",
       " './20160903002905_40_Hz_LineCSN.mseed',\n",
       " './20160903003005_40_Hz_LineCSN.mseed',\n",
       " './20160903003105_40_Hz_LineCSN.mseed',\n",
       " './20160903003205_40_Hz_LineCSN.mseed',\n",
       " './20160903003305_40_Hz_LineCSN.mseed',\n",
       " './20160903003405_40_Hz_LineCSN.mseed',\n",
       " './20160903003505_40_Hz_LineCSN.mseed',\n",
       " './20160903003605_40_Hz_LineCSN.mseed',\n",
       " './20160903003705_40_Hz_LineCSN.mseed',\n",
       " './20160903003805_40_Hz_LineCSN.mseed',\n",
       " './20160903003905_40_Hz_LineCSN.mseed',\n",
       " './20160903004005_40_Hz_LineCSN.mseed',\n",
       " './20160903004105_40_Hz_LineCSN.mseed',\n",
       " './20160903004205_40_Hz_LineCSN.mseed',\n",
       " './20160903004305_40_Hz_LineCSN.mseed',\n",
       " './20160903004405_40_Hz_LineCSN.mseed',\n",
       " './20160903004505_40_Hz_LineCSN.mseed',\n",
       " './20160903004605_40_Hz_LineCSN.mseed',\n",
       " './20160903004705_40_Hz_LineCSN.mseed',\n",
       " './20160903004805_40_Hz_LineCSN.mseed',\n",
       " './20160903004905_40_Hz_LineCSN.mseed',\n",
       " './20160903005005_40_Hz_LineCSN.mseed',\n",
       " './20160903005105_40_Hz_LineCSN.mseed',\n",
       " './20160903005205_40_Hz_LineCSN.mseed',\n",
       " './20160903005305_40_Hz_LineCSN.mseed',\n",
       " './20160903005405_40_Hz_LineCSN.mseed',\n",
       " './20160903005505_40_Hz_LineCSN.mseed',\n",
       " './20160903005605_40_Hz_LineCSN.mseed',\n",
       " './20160903005705_40_Hz_LineCSN.mseed',\n",
       " './20160903005805_40_Hz_LineCSN.mseed',\n",
       " './20160903005905_40_Hz_LineCSN.mseed',\n",
       " './20160903010005_40_Hz_LineCSN.mseed',\n",
       " './20160903010105_40_Hz_LineCSN.mseed',\n",
       " './20160903010205_40_Hz_LineCSN.mseed',\n",
       " './20160903010305_40_Hz_LineCSN.mseed',\n",
       " './20160903010405_40_Hz_LineCSN.mseed',\n",
       " './20160903010505_40_Hz_LineCSN.mseed',\n",
       " './20160903010605_40_Hz_LineCSN.mseed',\n",
       " './20160903010705_40_Hz_LineCSN.mseed',\n",
       " './20160903010805_40_Hz_LineCSN.mseed',\n",
       " './20160903010905_40_Hz_LineCSN.mseed',\n",
       " './20160903011005_40_Hz_LineCSN.mseed',\n",
       " './20160903011105_40_Hz_LineCSN.mseed',\n",
       " './20160903011205_40_Hz_LineCSN.mseed',\n",
       " './20160903011305_40_Hz_LineCSN.mseed',\n",
       " './20160903011405_40_Hz_LineCSN.mseed',\n",
       " './20160903011505_40_Hz_LineCSN.mseed',\n",
       " './20160903011605_40_Hz_LineCSN.mseed',\n",
       " './20160903011705_40_Hz_LineCSN.mseed',\n",
       " './20160903011805_40_Hz_LineCSN.mseed',\n",
       " './20160903011905_40_Hz_LineCSN.mseed',\n",
       " './20160903012005_40_Hz_LineCSN.mseed',\n",
       " './20160903012105_40_Hz_LineCSN.mseed',\n",
       " './20160903012205_40_Hz_LineCSN.mseed',\n",
       " './20160903012305_40_Hz_LineCSN.mseed',\n",
       " './20160903012405_40_Hz_LineCSN.mseed',\n",
       " './20160903012505_40_Hz_LineCSN.mseed',\n",
       " './20160903012605_40_Hz_LineCSN.mseed',\n",
       " './20160903012705_40_Hz_LineCSN.mseed',\n",
       " './20160903012805_40_Hz_LineCSN.mseed',\n",
       " './20160903012905_40_Hz_LineCSN.mseed',\n",
       " './20160903013005_40_Hz_LineCSN.mseed',\n",
       " './20160903013105_40_Hz_LineCSN.mseed',\n",
       " './20160903013205_40_Hz_LineCSN.mseed',\n",
       " './20160903013305_40_Hz_LineCSN.mseed',\n",
       " './20160903013405_40_Hz_LineCSN.mseed',\n",
       " './20160903013505_40_Hz_LineCSN.mseed',\n",
       " './20160903013605_40_Hz_LineCSN.mseed',\n",
       " './20160903013705_40_Hz_LineCSN.mseed',\n",
       " './20160903013805_40_Hz_LineCSN.mseed',\n",
       " './20160903013905_40_Hz_LineCSN.mseed',\n",
       " './20160903014005_40_Hz_LineCSN.mseed',\n",
       " './20160903014105_40_Hz_LineCSN.mseed',\n",
       " './20160903014205_40_Hz_LineCSN.mseed',\n",
       " './20160903014305_40_Hz_LineCSN.mseed',\n",
       " './20160903014405_40_Hz_LineCSN.mseed',\n",
       " './20160903014505_40_Hz_LineCSN.mseed',\n",
       " './20160903014605_40_Hz_LineCSN.mseed',\n",
       " './20160903014705_40_Hz_LineCSN.mseed',\n",
       " './20160903014805_40_Hz_LineCSN.mseed',\n",
       " './20160903014905_40_Hz_LineCSN.mseed',\n",
       " './20160903015005_40_Hz_LineCSN.mseed',\n",
       " './20160903015105_40_Hz_LineCSN.mseed',\n",
       " './20160903015205_40_Hz_LineCSN.mseed',\n",
       " './20160903015305_40_Hz_LineCSN.mseed',\n",
       " './20160903015405_40_Hz_LineCSN.mseed',\n",
       " './20160903015505_40_Hz_LineCSN.mseed',\n",
       " './20160903015605_40_Hz_LineCSN.mseed',\n",
       " './20160903015705_40_Hz_LineCSN.mseed',\n",
       " './20160903015805_40_Hz_LineCSN.mseed',\n",
       " './20160903015905_40_Hz_LineCSN.mseed',\n",
       " './20160903020005_40_Hz_LineCSN.mseed',\n",
       " './20160903020105_40_Hz_LineCSN.mseed',\n",
       " './20160903020205_40_Hz_LineCSN.mseed',\n",
       " './20160903020305_40_Hz_LineCSN.mseed',\n",
       " './20160903020405_40_Hz_LineCSN.mseed',\n",
       " './20160903020505_40_Hz_LineCSN.mseed',\n",
       " './20160903020605_40_Hz_LineCSN.mseed',\n",
       " './20160903020705_40_Hz_LineCSN.mseed',\n",
       " './20160903020805_40_Hz_LineCSN.mseed',\n",
       " './20160903020905_40_Hz_LineCSN.mseed',\n",
       " './20160903021005_40_Hz_LineCSN.mseed',\n",
       " './20160903021105_40_Hz_LineCSN.mseed',\n",
       " './20160903021205_40_Hz_LineCSN.mseed',\n",
       " './20160903021305_40_Hz_LineCSN.mseed',\n",
       " './20160903021405_40_Hz_LineCSN.mseed',\n",
       " './20160903021505_40_Hz_LineCSN.mseed',\n",
       " './20160903021605_40_Hz_LineCSN.mseed',\n",
       " './20160903021705_40_Hz_LineCSN.mseed',\n",
       " './20160903021805_40_Hz_LineCSN.mseed',\n",
       " './20160903021905_40_Hz_LineCSN.mseed',\n",
       " './20160903022005_40_Hz_LineCSN.mseed',\n",
       " './20160903022105_40_Hz_LineCSN.mseed',\n",
       " './20160903022205_40_Hz_LineCSN.mseed',\n",
       " './20160903022305_40_Hz_LineCSN.mseed',\n",
       " './20160903022405_40_Hz_LineCSN.mseed',\n",
       " './20160903022505_40_Hz_LineCSN.mseed',\n",
       " './20160903022605_40_Hz_LineCSN.mseed',\n",
       " './20160903022705_40_Hz_LineCSN.mseed',\n",
       " './20160903022805_40_Hz_LineCSN.mseed',\n",
       " './20160903022905_40_Hz_LineCSN.mseed',\n",
       " './20160903023005_40_Hz_LineCSN.mseed',\n",
       " './20160903023105_40_Hz_LineCSN.mseed',\n",
       " './20160903023205_40_Hz_LineCSN.mseed',\n",
       " './20160903023305_40_Hz_LineCSN.mseed',\n",
       " './20160903023405_40_Hz_LineCSN.mseed',\n",
       " './20160903023505_40_Hz_LineCSN.mseed',\n",
       " './20160903023605_40_Hz_LineCSN.mseed',\n",
       " './20160903023705_40_Hz_LineCSN.mseed',\n",
       " './20160903023805_40_Hz_LineCSN.mseed',\n",
       " './20160903023905_40_Hz_LineCSN.mseed',\n",
       " './20160903024005_40_Hz_LineCSN.mseed',\n",
       " './20160903024105_40_Hz_LineCSN.mseed',\n",
       " './20160903024205_40_Hz_LineCSN.mseed',\n",
       " './20160903024305_40_Hz_LineCSN.mseed',\n",
       " './20160903024405_40_Hz_LineCSN.mseed',\n",
       " './20160903024505_40_Hz_LineCSN.mseed',\n",
       " './20160903024605_40_Hz_LineCSN.mseed',\n",
       " './20160903024705_40_Hz_LineCSN.mseed',\n",
       " './20160903024805_40_Hz_LineCSN.mseed',\n",
       " './20160903024905_40_Hz_LineCSN.mseed',\n",
       " './20160903025005_40_Hz_LineCSN.mseed',\n",
       " './20160903025105_40_Hz_LineCSN.mseed',\n",
       " './20160903025205_40_Hz_LineCSN.mseed',\n",
       " './20160903025305_40_Hz_LineCSN.mseed',\n",
       " './20160903025405_40_Hz_LineCSN.mseed',\n",
       " './20160903025505_40_Hz_LineCSN.mseed',\n",
       " './20160903025605_40_Hz_LineCSN.mseed',\n",
       " './20160903025705_40_Hz_LineCSN.mseed',\n",
       " './20160903025805_40_Hz_LineCSN.mseed',\n",
       " './20160903025905_40_Hz_LineCSN.mseed',\n",
       " './20160903030005_40_Hz_LineCSN.mseed',\n",
       " './20160903030105_40_Hz_LineCSN.mseed',\n",
       " './20160903030205_40_Hz_LineCSN.mseed',\n",
       " './20160903030305_40_Hz_LineCSN.mseed',\n",
       " './20160903030405_40_Hz_LineCSN.mseed',\n",
       " './20160903030505_40_Hz_LineCSN.mseed',\n",
       " './20160903030605_40_Hz_LineCSN.mseed',\n",
       " './20160903030705_40_Hz_LineCSN.mseed',\n",
       " './20160903030805_40_Hz_LineCSN.mseed',\n",
       " './20160903030905_40_Hz_LineCSN.mseed',\n",
       " './20160903031005_40_Hz_LineCSN.mseed',\n",
       " './20160903031105_40_Hz_LineCSN.mseed',\n",
       " './20160903031205_40_Hz_LineCSN.mseed',\n",
       " './20160903031305_40_Hz_LineCSN.mseed',\n",
       " './20160903031405_40_Hz_LineCSN.mseed',\n",
       " './20160903031505_40_Hz_LineCSN.mseed',\n",
       " './20160903031605_40_Hz_LineCSN.mseed',\n",
       " './20160903031705_40_Hz_LineCSN.mseed',\n",
       " './20160903031805_40_Hz_LineCSN.mseed',\n",
       " './20160903031905_40_Hz_LineCSN.mseed',\n",
       " './20160903032005_40_Hz_LineCSN.mseed',\n",
       " './20160903032105_40_Hz_LineCSN.mseed',\n",
       " './20160903032205_40_Hz_LineCSN.mseed',\n",
       " './20160903032305_40_Hz_LineCSN.mseed',\n",
       " './20160903032405_40_Hz_LineCSN.mseed',\n",
       " './20160903032505_40_Hz_LineCSN.mseed',\n",
       " './20160903032605_40_Hz_LineCSN.mseed',\n",
       " './20160903032705_40_Hz_LineCSN.mseed',\n",
       " './20160903032805_40_Hz_LineCSN.mseed',\n",
       " './20160903032905_40_Hz_LineCSN.mseed',\n",
       " './20160903033005_40_Hz_LineCSN.mseed',\n",
       " './20160903033105_40_Hz_LineCSN.mseed',\n",
       " './20160903033205_40_Hz_LineCSN.mseed',\n",
       " './20160903033305_40_Hz_LineCSN.mseed',\n",
       " './20160903033405_40_Hz_LineCSN.mseed',\n",
       " './20160903033505_40_Hz_LineCSN.mseed',\n",
       " './20160903033605_40_Hz_LineCSN.mseed',\n",
       " './20160903033705_40_Hz_LineCSN.mseed',\n",
       " './20160903033805_40_Hz_LineCSN.mseed',\n",
       " './20160903033905_40_Hz_LineCSN.mseed',\n",
       " './20160903034005_40_Hz_LineCSN.mseed',\n",
       " './20160903034205_40_Hz_LineCSN.mseed',\n",
       " './20160903034305_40_Hz_LineCSN.mseed',\n",
       " './20160903034405_40_Hz_LineCSN.mseed',\n",
       " './20160903034505_40_Hz_LineCSN.mseed',\n",
       " './20160903034605_40_Hz_LineCSN.mseed',\n",
       " './20160903034705_40_Hz_LineCSN.mseed',\n",
       " './20160903034805_40_Hz_LineCSN.mseed',\n",
       " './20160903034905_40_Hz_LineCSN.mseed',\n",
       " './20160903035005_40_Hz_LineCSN.mseed',\n",
       " './20160903035105_40_Hz_LineCSN.mseed',\n",
       " './20160903035205_40_Hz_LineCSN.mseed',\n",
       " './20160903035305_40_Hz_LineCSN.mseed',\n",
       " './20160903035405_40_Hz_LineCSN.mseed',\n",
       " './20160903035505_40_Hz_LineCSN.mseed',\n",
       " './20160903035605_40_Hz_LineCSN.mseed',\n",
       " './20160903035705_40_Hz_LineCSN.mseed',\n",
       " './20160903035805_40_Hz_LineCSN.mseed',\n",
       " './20160903035905_40_Hz_LineCSN.mseed',\n",
       " './20160903040005_40_Hz_LineCSN.mseed',\n",
       " './20160903040105_40_Hz_LineCSN.mseed',\n",
       " './20160903040205_40_Hz_LineCSN.mseed',\n",
       " './20160903040305_40_Hz_LineCSN.mseed',\n",
       " './20160903040405_40_Hz_LineCSN.mseed',\n",
       " './20160903040505_40_Hz_LineCSN.mseed',\n",
       " './20160903040605_40_Hz_LineCSN.mseed',\n",
       " './20160903040705_40_Hz_LineCSN.mseed',\n",
       " './20160903040805_40_Hz_LineCSN.mseed',\n",
       " './20160903040905_40_Hz_LineCSN.mseed',\n",
       " './20160903041005_40_Hz_LineCSN.mseed',\n",
       " './20160903041105_40_Hz_LineCSN.mseed',\n",
       " './20160903041205_40_Hz_LineCSN.mseed',\n",
       " './20160903041305_40_Hz_LineCSN.mseed',\n",
       " './20160903041405_40_Hz_LineCSN.mseed',\n",
       " './20160903041505_40_Hz_LineCSN.mseed',\n",
       " './20160903041605_40_Hz_LineCSN.mseed',\n",
       " './20160903041705_40_Hz_LineCSN.mseed',\n",
       " './20160903041805_40_Hz_LineCSN.mseed',\n",
       " './20160903041905_40_Hz_LineCSN.mseed',\n",
       " './20160903042005_40_Hz_LineCSN.mseed',\n",
       " './20160903042105_40_Hz_LineCSN.mseed',\n",
       " './20160903042205_40_Hz_LineCSN.mseed',\n",
       " './20160903042305_40_Hz_LineCSN.mseed',\n",
       " './20160903042405_40_Hz_LineCSN.mseed',\n",
       " './20160903042505_40_Hz_LineCSN.mseed',\n",
       " './20160903042605_40_Hz_LineCSN.mseed',\n",
       " './20160903042705_40_Hz_LineCSN.mseed',\n",
       " './20160903042805_40_Hz_LineCSN.mseed',\n",
       " './20160903042905_40_Hz_LineCSN.mseed',\n",
       " './20160903043005_40_Hz_LineCSN.mseed',\n",
       " './20160903043105_40_Hz_LineCSN.mseed',\n",
       " './20160903043205_40_Hz_LineCSN.mseed',\n",
       " './20160903043305_40_Hz_LineCSN.mseed',\n",
       " './20160903043405_40_Hz_LineCSN.mseed',\n",
       " './20160903043505_40_Hz_LineCSN.mseed',\n",
       " './20160903043605_40_Hz_LineCSN.mseed',\n",
       " './20160903043705_40_Hz_LineCSN.mseed',\n",
       " './20160903043805_40_Hz_LineCSN.mseed',\n",
       " './20160903043905_40_Hz_LineCSN.mseed',\n",
       " './20160903044005_40_Hz_LineCSN.mseed',\n",
       " './20160903044105_40_Hz_LineCSN.mseed',\n",
       " './20160903044205_40_Hz_LineCSN.mseed',\n",
       " './20160903044305_40_Hz_LineCSN.mseed',\n",
       " './20160903044405_40_Hz_LineCSN.mseed',\n",
       " './20160903044505_40_Hz_LineCSN.mseed',\n",
       " './20160903044605_40_Hz_LineCSN.mseed',\n",
       " './20160903044705_40_Hz_LineCSN.mseed',\n",
       " './20160903044805_40_Hz_LineCSN.mseed',\n",
       " './20160903044905_40_Hz_LineCSN.mseed',\n",
       " './20160903045005_40_Hz_LineCSN.mseed',\n",
       " './20160903045105_40_Hz_LineCSN.mseed',\n",
       " './20160903045205_40_Hz_LineCSN.mseed',\n",
       " './20160903045305_40_Hz_LineCSN.mseed',\n",
       " './20160903045405_40_Hz_LineCSN.mseed',\n",
       " './20160903045505_40_Hz_LineCSN.mseed',\n",
       " './20160903045605_40_Hz_LineCSN.mseed',\n",
       " './20160903045705_40_Hz_LineCSN.mseed',\n",
       " './20160903045805_40_Hz_LineCSN.mseed',\n",
       " './20160903045905_40_Hz_LineCSN.mseed',\n",
       " './20160903050005_40_Hz_LineCSN.mseed',\n",
       " './20160903050105_40_Hz_LineCSN.mseed',\n",
       " './20160903050205_40_Hz_LineCSN.mseed',\n",
       " './20160903050305_40_Hz_LineCSN.mseed',\n",
       " './20160903050405_40_Hz_LineCSN.mseed',\n",
       " './20160903050505_40_Hz_LineCSN.mseed',\n",
       " './20160903050605_40_Hz_LineCSN.mseed',\n",
       " './20160903050705_40_Hz_LineCSN.mseed',\n",
       " './20160903050805_40_Hz_LineCSN.mseed',\n",
       " './20160903050905_40_Hz_LineCSN.mseed',\n",
       " './20160903051005_40_Hz_LineCSN.mseed',\n",
       " './20160903051105_40_Hz_LineCSN.mseed',\n",
       " './20160903051205_40_Hz_LineCSN.mseed',\n",
       " './20160903051305_40_Hz_LineCSN.mseed',\n",
       " './20160903051405_40_Hz_LineCSN.mseed',\n",
       " './20160903051505_40_Hz_LineCSN.mseed',\n",
       " './20160903051605_40_Hz_LineCSN.mseed',\n",
       " './20160903051705_40_Hz_LineCSN.mseed',\n",
       " './20160903051805_40_Hz_LineCSN.mseed',\n",
       " './20160903051905_40_Hz_LineCSN.mseed',\n",
       " './20160903052005_40_Hz_LineCSN.mseed',\n",
       " './20160903052105_40_Hz_LineCSN.mseed',\n",
       " './20160903052205_40_Hz_LineCSN.mseed',\n",
       " './20160903052305_40_Hz_LineCSN.mseed',\n",
       " './20160903052405_40_Hz_LineCSN.mseed',\n",
       " './20160903052505_40_Hz_LineCSN.mseed',\n",
       " './20160903052605_40_Hz_LineCSN.mseed',\n",
       " './20160903052705_40_Hz_LineCSN.mseed',\n",
       " './20160903052805_40_Hz_LineCSN.mseed',\n",
       " './20160903052905_40_Hz_LineCSN.mseed',\n",
       " './20160903053005_40_Hz_LineCSN.mseed',\n",
       " './20160903053105_40_Hz_LineCSN.mseed',\n",
       " './20160903053205_40_Hz_LineCSN.mseed',\n",
       " './20160903053305_40_Hz_LineCSN.mseed',\n",
       " './20160903053405_40_Hz_LineCSN.mseed',\n",
       " './20160903053505_40_Hz_LineCSN.mseed',\n",
       " './20160903053605_40_Hz_LineCSN.mseed',\n",
       " './20160903053705_40_Hz_LineCSN.mseed',\n",
       " './20160903053805_40_Hz_LineCSN.mseed',\n",
       " './20160903053905_40_Hz_LineCSN.mseed',\n",
       " './20160903054005_40_Hz_LineCSN.mseed',\n",
       " './20160903054105_40_Hz_LineCSN.mseed',\n",
       " './20160903054205_40_Hz_LineCSN.mseed',\n",
       " './20160903054305_40_Hz_LineCSN.mseed',\n",
       " './20160903054405_40_Hz_LineCSN.mseed',\n",
       " './20160903054505_40_Hz_LineCSN.mseed',\n",
       " './20160903054605_40_Hz_LineCSN.mseed',\n",
       " './20160903054705_40_Hz_LineCSN.mseed',\n",
       " './20160903054805_40_Hz_LineCSN.mseed',\n",
       " './20160903054905_40_Hz_LineCSN.mseed',\n",
       " './20160903055005_40_Hz_LineCSN.mseed',\n",
       " './20160903055105_40_Hz_LineCSN.mseed',\n",
       " './20160903055205_40_Hz_LineCSN.mseed',\n",
       " './20160903055305_40_Hz_LineCSN.mseed',\n",
       " './20160903055405_40_Hz_LineCSN.mseed',\n",
       " './20160903055505_40_Hz_LineCSN.mseed',\n",
       " './20160903055605_40_Hz_LineCSN.mseed',\n",
       " './20160903055705_40_Hz_LineCSN.mseed',\n",
       " './20160903055805_40_Hz_LineCSN.mseed',\n",
       " './20160903055905_40_Hz_LineCSN.mseed',\n",
       " './20160903060005_40_Hz_LineCSN.mseed',\n",
       " './20160903060105_40_Hz_LineCSN.mseed',\n",
       " './20160903060205_40_Hz_LineCSN.mseed',\n",
       " './20160903060305_40_Hz_LineCSN.mseed',\n",
       " './20160903060405_40_Hz_LineCSN.mseed',\n",
       " './20160903060505_40_Hz_LineCSN.mseed',\n",
       " './20160903060605_40_Hz_LineCSN.mseed',\n",
       " './20160903060705_40_Hz_LineCSN.mseed',\n",
       " './20160903060805_40_Hz_LineCSN.mseed',\n",
       " './20160903060905_40_Hz_LineCSN.mseed',\n",
       " './20160903061005_40_Hz_LineCSN.mseed',\n",
       " './20160903061105_40_Hz_LineCSN.mseed',\n",
       " './20160903061205_40_Hz_LineCSN.mseed',\n",
       " './20160903061305_40_Hz_LineCSN.mseed',\n",
       " './20160903061405_40_Hz_LineCSN.mseed',\n",
       " './20160903061505_40_Hz_LineCSN.mseed',\n",
       " './20160903061605_40_Hz_LineCSN.mseed',\n",
       " './20160903061705_40_Hz_LineCSN.mseed',\n",
       " './20160903061805_40_Hz_LineCSN.mseed',\n",
       " './20160903061905_40_Hz_LineCSN.mseed',\n",
       " './20160903062005_40_Hz_LineCSN.mseed',\n",
       " './20160903062105_40_Hz_LineCSN.mseed',\n",
       " './20160903062205_40_Hz_LineCSN.mseed',\n",
       " './20160903062305_40_Hz_LineCSN.mseed',\n",
       " './20160903062405_40_Hz_LineCSN.mseed',\n",
       " './20160903062505_40_Hz_LineCSN.mseed',\n",
       " './20160903062605_40_Hz_LineCSN.mseed',\n",
       " './20160903062705_40_Hz_LineCSN.mseed',\n",
       " './20160903062805_40_Hz_LineCSN.mseed',\n",
       " './20160903062905_40_Hz_LineCSN.mseed',\n",
       " './20160903063005_40_Hz_LineCSN.mseed',\n",
       " './20160903063105_40_Hz_LineCSN.mseed',\n",
       " './20160903063205_40_Hz_LineCSN.mseed',\n",
       " './20160903063305_40_Hz_LineCSN.mseed',\n",
       " './20160903063405_40_Hz_LineCSN.mseed',\n",
       " './20160903063505_40_Hz_LineCSN.mseed',\n",
       " './20160903063605_40_Hz_LineCSN.mseed',\n",
       " './20160903063705_40_Hz_LineCSN.mseed',\n",
       " './20160903063805_40_Hz_LineCSN.mseed',\n",
       " './20160903063905_40_Hz_LineCSN.mseed',\n",
       " './20160903064005_40_Hz_LineCSN.mseed',\n",
       " './20160903064105_40_Hz_LineCSN.mseed',\n",
       " './20160903064205_40_Hz_LineCSN.mseed',\n",
       " './20160903064305_40_Hz_LineCSN.mseed',\n",
       " './20160903064405_40_Hz_LineCSN.mseed',\n",
       " './20160903064505_40_Hz_LineCSN.mseed',\n",
       " './20160903064605_40_Hz_LineCSN.mseed',\n",
       " './20160903064705_40_Hz_LineCSN.mseed',\n",
       " './20160903064805_40_Hz_LineCSN.mseed',\n",
       " './20160903064905_40_Hz_LineCSN.mseed',\n",
       " './20160903065005_40_Hz_LineCSN.mseed',\n",
       " './20160903065105_40_Hz_LineCSN.mseed',\n",
       " './20160903065205_40_Hz_LineCSN.mseed',\n",
       " './20160903065305_40_Hz_LineCSN.mseed',\n",
       " './20160903065405_40_Hz_LineCSN.mseed',\n",
       " './20160903065505_40_Hz_LineCSN.mseed',\n",
       " './20160903065605_40_Hz_LineCSN.mseed',\n",
       " './20160903065705_40_Hz_LineCSN.mseed',\n",
       " './20160903065805_40_Hz_LineCSN.mseed',\n",
       " './20160903065905_40_Hz_LineCSN.mseed',\n",
       " './20160903100905_40_Hz_LineCSN.mseed',\n",
       " './20160903101005_40_Hz_LineCSN.mseed',\n",
       " './20160903101105_40_Hz_LineCSN.mseed',\n",
       " './20160903101205_40_Hz_LineCSN.mseed',\n",
       " './20160903101305_40_Hz_LineCSN.mseed',\n",
       " './20160903101405_40_Hz_LineCSN.mseed',\n",
       " './20160903101505_40_Hz_LineCSN.mseed',\n",
       " './20160903101605_40_Hz_LineCSN.mseed',\n",
       " './20160903101705_40_Hz_LineCSN.mseed',\n",
       " './20160903101805_40_Hz_LineCSN.mseed',\n",
       " './20160903101905_40_Hz_LineCSN.mseed',\n",
       " './20160903102005_40_Hz_LineCSN.mseed',\n",
       " './20160903102105_40_Hz_LineCSN.mseed',\n",
       " './20160903102205_40_Hz_LineCSN.mseed',\n",
       " './20160903102305_40_Hz_LineCSN.mseed',\n",
       " './20160903102405_40_Hz_LineCSN.mseed',\n",
       " './20160903102505_40_Hz_LineCSN.mseed',\n",
       " './20160903102605_40_Hz_LineCSN.mseed',\n",
       " './20160903102705_40_Hz_LineCSN.mseed',\n",
       " './20160903102805_40_Hz_LineCSN.mseed',\n",
       " './20160903102905_40_Hz_LineCSN.mseed',\n",
       " './20160903103005_40_Hz_LineCSN.mseed',\n",
       " './20160903103105_40_Hz_LineCSN.mseed',\n",
       " './20160903103205_40_Hz_LineCSN.mseed',\n",
       " './20160903103305_40_Hz_LineCSN.mseed',\n",
       " './20160903103405_40_Hz_LineCSN.mseed',\n",
       " './20160903103505_40_Hz_LineCSN.mseed',\n",
       " './20160903103605_40_Hz_LineCSN.mseed',\n",
       " './20160903103705_40_Hz_LineCSN.mseed',\n",
       " './20160903103805_40_Hz_LineCSN.mseed',\n",
       " './20160903103905_40_Hz_LineCSN.mseed',\n",
       " './20160903104005_40_Hz_LineCSN.mseed',\n",
       " './20160903104105_40_Hz_LineCSN.mseed',\n",
       " './20160903104205_40_Hz_LineCSN.mseed',\n",
       " './20160903104305_40_Hz_LineCSN.mseed',\n",
       " './20160903104405_40_Hz_LineCSN.mseed',\n",
       " './20160903104505_40_Hz_LineCSN.mseed',\n",
       " './20160903104605_40_Hz_LineCSN.mseed',\n",
       " './20160903104705_40_Hz_LineCSN.mseed',\n",
       " './20160903104805_40_Hz_LineCSN.mseed',\n",
       " './20160903104905_40_Hz_LineCSN.mseed',\n",
       " './20160903105005_40_Hz_LineCSN.mseed',\n",
       " './20160903105105_40_Hz_LineCSN.mseed',\n",
       " './20160903105205_40_Hz_LineCSN.mseed',\n",
       " './20160903105305_40_Hz_LineCSN.mseed',\n",
       " './20160903105405_40_Hz_LineCSN.mseed',\n",
       " './20160903105505_40_Hz_LineCSN.mseed',\n",
       " './20160903105605_40_Hz_LineCSN.mseed',\n",
       " './20160903105705_40_Hz_LineCSN.mseed',\n",
       " './20160903105805_40_Hz_LineCSN.mseed',\n",
       " './20160903105905_40_Hz_LineCSN.mseed',\n",
       " './20160903110005_40_Hz_LineCSN.mseed',\n",
       " './20160903110105_40_Hz_LineCSN.mseed',\n",
       " './20160903110205_40_Hz_LineCSN.mseed',\n",
       " './20160903110305_40_Hz_LineCSN.mseed',\n",
       " './20160903110405_40_Hz_LineCSN.mseed',\n",
       " './20160903110505_40_Hz_LineCSN.mseed',\n",
       " './20160903110605_40_Hz_LineCSN.mseed',\n",
       " './20160903110705_40_Hz_LineCSN.mseed',\n",
       " './20160903110805_40_Hz_LineCSN.mseed',\n",
       " './20160903110905_40_Hz_LineCSN.mseed',\n",
       " './20160903111005_40_Hz_LineCSN.mseed',\n",
       " './20160903111105_40_Hz_LineCSN.mseed',\n",
       " './20160903111205_40_Hz_LineCSN.mseed',\n",
       " './20160903111305_40_Hz_LineCSN.mseed',\n",
       " './20160903111405_40_Hz_LineCSN.mseed',\n",
       " './20160903111505_40_Hz_LineCSN.mseed',\n",
       " './20160903111605_40_Hz_LineCSN.mseed',\n",
       " './20160903111705_40_Hz_LineCSN.mseed',\n",
       " './20160903111805_40_Hz_LineCSN.mseed',\n",
       " './20160903111905_40_Hz_LineCSN.mseed',\n",
       " './20160903112005_40_Hz_LineCSN.mseed',\n",
       " './20160903112105_40_Hz_LineCSN.mseed',\n",
       " './20160903112205_40_Hz_LineCSN.mseed',\n",
       " './20160903112305_40_Hz_LineCSN.mseed',\n",
       " './20160903112405_40_Hz_LineCSN.mseed',\n",
       " './20160903112505_40_Hz_LineCSN.mseed',\n",
       " './20160903112605_40_Hz_LineCSN.mseed',\n",
       " './20160903112705_40_Hz_LineCSN.mseed',\n",
       " './20160903112805_40_Hz_LineCSN.mseed',\n",
       " './20160903112905_40_Hz_LineCSN.mseed',\n",
       " './20160903113005_40_Hz_LineCSN.mseed',\n",
       " './20160903113105_40_Hz_LineCSN.mseed',\n",
       " './20160903113205_40_Hz_LineCSN.mseed',\n",
       " './20160903113305_40_Hz_LineCSN.mseed',\n",
       " './20160903113405_40_Hz_LineCSN.mseed',\n",
       " './20160903113505_40_Hz_LineCSN.mseed',\n",
       " './20160903113605_40_Hz_LineCSN.mseed',\n",
       " './20160903113705_40_Hz_LineCSN.mseed',\n",
       " './20160903113805_40_Hz_LineCSN.mseed',\n",
       " './20160903113905_40_Hz_LineCSN.mseed',\n",
       " './20160903114005_40_Hz_LineCSN.mseed',\n",
       " './20160903114105_40_Hz_LineCSN.mseed',\n",
       " './20160903114205_40_Hz_LineCSN.mseed',\n",
       " './20160903114305_40_Hz_LineCSN.mseed',\n",
       " './20160903114405_40_Hz_LineCSN.mseed',\n",
       " './20160903114505_40_Hz_LineCSN.mseed',\n",
       " './20160903114605_40_Hz_LineCSN.mseed',\n",
       " './20160903114705_40_Hz_LineCSN.mseed',\n",
       " './20160903114805_40_Hz_LineCSN.mseed',\n",
       " './20160903114905_40_Hz_LineCSN.mseed',\n",
       " './20160903115005_40_Hz_LineCSN.mseed',\n",
       " './20160903115105_40_Hz_LineCSN.mseed',\n",
       " './20160903115205_40_Hz_LineCSN.mseed',\n",
       " './20160903115305_40_Hz_LineCSN.mseed',\n",
       " './20160903115405_40_Hz_LineCSN.mseed',\n",
       " './20160903115505_40_Hz_LineCSN.mseed',\n",
       " './20160903115605_40_Hz_LineCSN.mseed',\n",
       " './20160903115705_40_Hz_LineCSN.mseed',\n",
       " './20160903115805_40_Hz_LineCSN.mseed',\n",
       " './20160903115905_40_Hz_LineCSN.mseed',\n",
       " './20160903120005_40_Hz_LineCSN.mseed',\n",
       " './20160903120105_40_Hz_LineCSN.mseed',\n",
       " './20160903120205_40_Hz_LineCSN.mseed',\n",
       " './20160903120305_40_Hz_LineCSN.mseed',\n",
       " './20160903120405_40_Hz_LineCSN.mseed',\n",
       " './20160903120505_40_Hz_LineCSN.mseed',\n",
       " './20160903120605_40_Hz_LineCSN.mseed',\n",
       " './20160903120705_40_Hz_LineCSN.mseed',\n",
       " './20160903120805_40_Hz_LineCSN.mseed',\n",
       " './20160903120905_40_Hz_LineCSN.mseed',\n",
       " './20160903121005_40_Hz_LineCSN.mseed',\n",
       " './20160903121105_40_Hz_LineCSN.mseed',\n",
       " './20160903121205_40_Hz_LineCSN.mseed',\n",
       " './20160903121305_40_Hz_LineCSN.mseed',\n",
       " './20160903121405_40_Hz_LineCSN.mseed',\n",
       " './20160903121505_40_Hz_LineCSN.mseed',\n",
       " './20160903121605_40_Hz_LineCSN.mseed',\n",
       " './20160903121705_40_Hz_LineCSN.mseed',\n",
       " './20160903121805_40_Hz_LineCSN.mseed',\n",
       " './20160903121905_40_Hz_LineCSN.mseed',\n",
       " './20160903122005_40_Hz_LineCSN.mseed',\n",
       " './20160903122105_40_Hz_LineCSN.mseed',\n",
       " './20160903122205_40_Hz_LineCSN.mseed',\n",
       " './20160903122305_40_Hz_LineCSN.mseed',\n",
       " './20160903122405_40_Hz_LineCSN.mseed',\n",
       " './20160903122505_40_Hz_LineCSN.mseed',\n",
       " './20160903122605_40_Hz_LineCSN.mseed',\n",
       " './20160903122705_40_Hz_LineCSN.mseed',\n",
       " './20160903122805_40_Hz_LineCSN.mseed',\n",
       " './20160903122905_40_Hz_LineCSN.mseed',\n",
       " './20160903123005_40_Hz_LineCSN.mseed',\n",
       " './20160903123105_40_Hz_LineCSN.mseed',\n",
       " './20160903123205_40_Hz_LineCSN.mseed',\n",
       " './20160903123305_40_Hz_LineCSN.mseed',\n",
       " './20160903123405_40_Hz_LineCSN.mseed',\n",
       " './20160903123505_40_Hz_LineCSN.mseed',\n",
       " './20160903123605_40_Hz_LineCSN.mseed',\n",
       " './20160903123705_40_Hz_LineCSN.mseed',\n",
       " './20160903123805_40_Hz_LineCSN.mseed',\n",
       " './20160903123905_40_Hz_LineCSN.mseed',\n",
       " './20160903124005_40_Hz_LineCSN.mseed',\n",
       " './20160903124105_40_Hz_LineCSN.mseed',\n",
       " './20160903124205_40_Hz_LineCSN.mseed',\n",
       " './20160903124305_40_Hz_LineCSN.mseed',\n",
       " './20160903124405_40_Hz_LineCSN.mseed',\n",
       " './20160903124505_40_Hz_LineCSN.mseed',\n",
       " './20160903124605_40_Hz_LineCSN.mseed',\n",
       " './20160903124705_40_Hz_LineCSN.mseed',\n",
       " './20160903124805_40_Hz_LineCSN.mseed',\n",
       " './20160903124905_40_Hz_LineCSN.mseed',\n",
       " './20160903125005_40_Hz_LineCSN.mseed',\n",
       " './20160903125105_40_Hz_LineCSN.mseed',\n",
       " './20160903125205_40_Hz_LineCSN.mseed',\n",
       " './20160903125305_40_Hz_LineCSN.mseed',\n",
       " './20160903125405_40_Hz_LineCSN.mseed',\n",
       " './20160903125505_40_Hz_LineCSN.mseed',\n",
       " './20160903125605_40_Hz_LineCSN.mseed',\n",
       " './20160903125705_40_Hz_LineCSN.mseed',\n",
       " './20160903125805_40_Hz_LineCSN.mseed',\n",
       " './20160903125905_40_Hz_LineCSN.mseed',\n",
       " './20160903130005_40_Hz_LineCSN.mseed',\n",
       " './20160903130105_40_Hz_LineCSN.mseed',\n",
       " './20160903130205_40_Hz_LineCSN.mseed',\n",
       " './20160903130305_40_Hz_LineCSN.mseed',\n",
       " './20160903130405_40_Hz_LineCSN.mseed',\n",
       " './20160903130505_40_Hz_LineCSN.mseed',\n",
       " './20160903130605_40_Hz_LineCSN.mseed',\n",
       " './20160903130705_40_Hz_LineCSN.mseed',\n",
       " './20160903130805_40_Hz_LineCSN.mseed',\n",
       " './20160903130905_40_Hz_LineCSN.mseed',\n",
       " './20160903131005_40_Hz_LineCSN.mseed',\n",
       " './20160903131105_40_Hz_LineCSN.mseed',\n",
       " './20160903131205_40_Hz_LineCSN.mseed',\n",
       " './20160903131305_40_Hz_LineCSN.mseed',\n",
       " './20160903131405_40_Hz_LineCSN.mseed',\n",
       " './20160903131505_40_Hz_LineCSN.mseed',\n",
       " './20160903131605_40_Hz_LineCSN.mseed',\n",
       " './20160903131705_40_Hz_LineCSN.mseed',\n",
       " './20160903131805_40_Hz_LineCSN.mseed',\n",
       " './20160903131905_40_Hz_LineCSN.mseed',\n",
       " './20160903132005_40_Hz_LineCSN.mseed',\n",
       " './20160903132105_40_Hz_LineCSN.mseed',\n",
       " './20160903132205_40_Hz_LineCSN.mseed',\n",
       " './20160903132305_40_Hz_LineCSN.mseed',\n",
       " './20160903132405_40_Hz_LineCSN.mseed',\n",
       " './20160903132505_40_Hz_LineCSN.mseed',\n",
       " './20160903132605_40_Hz_LineCSN.mseed',\n",
       " './20160903132705_40_Hz_LineCSN.mseed',\n",
       " './20160903132805_40_Hz_LineCSN.mseed',\n",
       " './20160903132905_40_Hz_LineCSN.mseed',\n",
       " './20160903133005_40_Hz_LineCSN.mseed',\n",
       " './20160903133105_40_Hz_LineCSN.mseed',\n",
       " './20160903133205_40_Hz_LineCSN.mseed',\n",
       " './20160903133305_40_Hz_LineCSN.mseed',\n",
       " './20160903133405_40_Hz_LineCSN.mseed',\n",
       " './20160903133505_40_Hz_LineCSN.mseed',\n",
       " './20160903133605_40_Hz_LineCSN.mseed',\n",
       " './20160903133705_40_Hz_LineCSN.mseed',\n",
       " './20160903133805_40_Hz_LineCSN.mseed',\n",
       " './20160903133905_40_Hz_LineCSN.mseed',\n",
       " './20160903134005_40_Hz_LineCSN.mseed',\n",
       " './20160903134105_40_Hz_LineCSN.mseed',\n",
       " './20160903134205_40_Hz_LineCSN.mseed',\n",
       " './20160903134305_40_Hz_LineCSN.mseed',\n",
       " './20160903134405_40_Hz_LineCSN.mseed',\n",
       " './20160903134505_40_Hz_LineCSN.mseed',\n",
       " './20160903134605_40_Hz_LineCSN.mseed',\n",
       " './20160903134705_40_Hz_LineCSN.mseed',\n",
       " './20160903134805_40_Hz_LineCSN.mseed',\n",
       " './20160903134905_40_Hz_LineCSN.mseed',\n",
       " './20160903135005_40_Hz_LineCSN.mseed',\n",
       " './20160903135105_40_Hz_LineCSN.mseed',\n",
       " './20160903135205_40_Hz_LineCSN.mseed',\n",
       " './20160903135305_40_Hz_LineCSN.mseed',\n",
       " './20160903135405_40_Hz_LineCSN.mseed',\n",
       " './20160903135505_40_Hz_LineCSN.mseed',\n",
       " './20160903135605_40_Hz_LineCSN.mseed',\n",
       " './20160903135705_40_Hz_LineCSN.mseed',\n",
       " './20160903135805_40_Hz_LineCSN.mseed',\n",
       " './20160903135905_40_Hz_LineCSN.mseed',\n",
       " './20160903140005_40_Hz_LineCSN.mseed',\n",
       " './20160903140105_40_Hz_LineCSN.mseed',\n",
       " './20160903140205_40_Hz_LineCSN.mseed',\n",
       " './20160903140305_40_Hz_LineCSN.mseed',\n",
       " './20160903140405_40_Hz_LineCSN.mseed',\n",
       " './20160903140505_40_Hz_LineCSN.mseed',\n",
       " './20160903140605_40_Hz_LineCSN.mseed',\n",
       " './20160903140705_40_Hz_LineCSN.mseed',\n",
       " './20160903140805_40_Hz_LineCSN.mseed',\n",
       " './20160903140905_40_Hz_LineCSN.mseed',\n",
       " './20160903141005_40_Hz_LineCSN.mseed',\n",
       " './20160903141105_40_Hz_LineCSN.mseed',\n",
       " './20160903141205_40_Hz_LineCSN.mseed',\n",
       " './20160903141305_40_Hz_LineCSN.mseed',\n",
       " './20160903141405_40_Hz_LineCSN.mseed',\n",
       " './20160903141505_40_Hz_LineCSN.mseed',\n",
       " './20160903141605_40_Hz_LineCSN.mseed',\n",
       " './20160903141705_40_Hz_LineCSN.mseed',\n",
       " './20160903141805_40_Hz_LineCSN.mseed',\n",
       " './20160903141905_40_Hz_LineCSN.mseed',\n",
       " './20160903142005_40_Hz_LineCSN.mseed',\n",
       " './20160903142105_40_Hz_LineCSN.mseed',\n",
       " './20160903142205_40_Hz_LineCSN.mseed',\n",
       " './20160903142305_40_Hz_LineCSN.mseed',\n",
       " './20160903142405_40_Hz_LineCSN.mseed',\n",
       " './20160903142505_40_Hz_LineCSN.mseed',\n",
       " './20160903142605_40_Hz_LineCSN.mseed',\n",
       " './20160903142705_40_Hz_LineCSN.mseed',\n",
       " './20160903142805_40_Hz_LineCSN.mseed',\n",
       " './20160903142905_40_Hz_LineCSN.mseed',\n",
       " './20160903143005_40_Hz_LineCSN.mseed',\n",
       " './20160903143105_40_Hz_LineCSN.mseed',\n",
       " './20160903143205_40_Hz_LineCSN.mseed',\n",
       " './20160903143305_40_Hz_LineCSN.mseed',\n",
       " './20160903143405_40_Hz_LineCSN.mseed',\n",
       " './20160903143505_40_Hz_LineCSN.mseed',\n",
       " './20160903143605_40_Hz_LineCSN.mseed',\n",
       " './20160903143705_40_Hz_LineCSN.mseed',\n",
       " './20160903143805_40_Hz_LineCSN.mseed',\n",
       " './20160903143905_40_Hz_LineCSN.mseed',\n",
       " './20160903144005_40_Hz_LineCSN.mseed',\n",
       " './20160903144105_40_Hz_LineCSN.mseed',\n",
       " './20160903144205_40_Hz_LineCSN.mseed',\n",
       " './20160903144305_40_Hz_LineCSN.mseed',\n",
       " './20160903144405_40_Hz_LineCSN.mseed',\n",
       " './20160903144505_40_Hz_LineCSN.mseed',\n",
       " './20160903144605_40_Hz_LineCSN.mseed',\n",
       " './20160903144705_40_Hz_LineCSN.mseed',\n",
       " './20160903144805_40_Hz_LineCSN.mseed',\n",
       " './20160903144905_40_Hz_LineCSN.mseed',\n",
       " './20160903145005_40_Hz_LineCSN.mseed',\n",
       " './20160903145105_40_Hz_LineCSN.mseed',\n",
       " './20160903145205_40_Hz_LineCSN.mseed',\n",
       " './20160903145305_40_Hz_LineCSN.mseed',\n",
       " './20160903145405_40_Hz_LineCSN.mseed',\n",
       " './20160903145505_40_Hz_LineCSN.mseed',\n",
       " './20160903145605_40_Hz_LineCSN.mseed',\n",
       " './20160903145705_40_Hz_LineCSN.mseed',\n",
       " './20160903145805_40_Hz_LineCSN.mseed',\n",
       " './20160903145905_40_Hz_LineCSN.mseed',\n",
       " './20160903150005_40_Hz_LineCSN.mseed',\n",
       " './20160903150105_40_Hz_LineCSN.mseed',\n",
       " './20160903150205_40_Hz_LineCSN.mseed',\n",
       " './20160903150305_40_Hz_LineCSN.mseed',\n",
       " './20160903150405_40_Hz_LineCSN.mseed',\n",
       " './20160903150505_40_Hz_LineCSN.mseed',\n",
       " './20160903150605_40_Hz_LineCSN.mseed',\n",
       " './20160903150705_40_Hz_LineCSN.mseed',\n",
       " './20160903150805_40_Hz_LineCSN.mseed',\n",
       " './20160903150905_40_Hz_LineCSN.mseed',\n",
       " './20160903151005_40_Hz_LineCSN.mseed',\n",
       " './20160903151105_40_Hz_LineCSN.mseed',\n",
       " './20160903151205_40_Hz_LineCSN.mseed',\n",
       " './20160903151305_40_Hz_LineCSN.mseed',\n",
       " './20160903151405_40_Hz_LineCSN.mseed',\n",
       " './20160903151505_40_Hz_LineCSN.mseed',\n",
       " './20160903151605_40_Hz_LineCSN.mseed',\n",
       " './20160903151705_40_Hz_LineCSN.mseed',\n",
       " './20160903151805_40_Hz_LineCSN.mseed',\n",
       " './20160903151905_40_Hz_LineCSN.mseed',\n",
       " './20160903152005_40_Hz_LineCSN.mseed',\n",
       " './20160903152105_40_Hz_LineCSN.mseed',\n",
       " './20160903152205_40_Hz_LineCSN.mseed',\n",
       " './20160903152305_40_Hz_LineCSN.mseed',\n",
       " './20160903152405_40_Hz_LineCSN.mseed',\n",
       " './20160903152505_40_Hz_LineCSN.mseed',\n",
       " './20160903152605_40_Hz_LineCSN.mseed',\n",
       " './20160903152705_40_Hz_LineCSN.mseed',\n",
       " './20160903152805_40_Hz_LineCSN.mseed',\n",
       " './20160903152905_40_Hz_LineCSN.mseed',\n",
       " './20160903153005_40_Hz_LineCSN.mseed',\n",
       " './20160903153105_40_Hz_LineCSN.mseed',\n",
       " './20160903153205_40_Hz_LineCSN.mseed',\n",
       " './20160903153305_40_Hz_LineCSN.mseed',\n",
       " './20160903153405_40_Hz_LineCSN.mseed',\n",
       " './20160903153505_40_Hz_LineCSN.mseed',\n",
       " './20160903153605_40_Hz_LineCSN.mseed',\n",
       " './20160903153705_40_Hz_LineCSN.mseed',\n",
       " './20160903153805_40_Hz_LineCSN.mseed',\n",
       " './20160903153905_40_Hz_LineCSN.mseed',\n",
       " './20160903154005_40_Hz_LineCSN.mseed',\n",
       " './20160903154105_40_Hz_LineCSN.mseed',\n",
       " './20160903154205_40_Hz_LineCSN.mseed',\n",
       " './20160903154305_40_Hz_LineCSN.mseed',\n",
       " './20160903154405_40_Hz_LineCSN.mseed',\n",
       " './20160903154505_40_Hz_LineCSN.mseed',\n",
       " './20160903154605_40_Hz_LineCSN.mseed',\n",
       " './20160903154705_40_Hz_LineCSN.mseed',\n",
       " './20160903154805_40_Hz_LineCSN.mseed',\n",
       " './20160903154905_40_Hz_LineCSN.mseed',\n",
       " './20160903155005_40_Hz_LineCSN.mseed',\n",
       " './20160903155105_40_Hz_LineCSN.mseed',\n",
       " './20160903155205_40_Hz_LineCSN.mseed',\n",
       " './20160903155305_40_Hz_LineCSN.mseed',\n",
       " './20160903155405_40_Hz_LineCSN.mseed',\n",
       " './20160903155505_40_Hz_LineCSN.mseed',\n",
       " './20160903155605_40_Hz_LineCSN.mseed',\n",
       " './20160903155705_40_Hz_LineCSN.mseed',\n",
       " './20160903155805_40_Hz_LineCSN.mseed',\n",
       " './20160903155905_40_Hz_LineCSN.mseed',\n",
       " './20160903160005_40_Hz_LineCSN.mseed',\n",
       " './20160903160105_40_Hz_LineCSN.mseed',\n",
       " './20160903160205_40_Hz_LineCSN.mseed',\n",
       " './20160903160305_40_Hz_LineCSN.mseed',\n",
       " './20160903160405_40_Hz_LineCSN.mseed',\n",
       " './20160903160505_40_Hz_LineCSN.mseed',\n",
       " './20160903160605_40_Hz_LineCSN.mseed',\n",
       " './20160903160705_40_Hz_LineCSN.mseed',\n",
       " './20160903160805_40_Hz_LineCSN.mseed',\n",
       " './20160903160905_40_Hz_LineCSN.mseed',\n",
       " './20160903161005_40_Hz_LineCSN.mseed',\n",
       " './20160903161105_40_Hz_LineCSN.mseed',\n",
       " './20160903161205_40_Hz_LineCSN.mseed',\n",
       " './20160903161305_40_Hz_LineCSN.mseed',\n",
       " './20160903161405_40_Hz_LineCSN.mseed',\n",
       " './20160903161505_40_Hz_LineCSN.mseed',\n",
       " './20160903161605_40_Hz_LineCSN.mseed',\n",
       " './20160903161705_40_Hz_LineCSN.mseed',\n",
       " './20160903161805_40_Hz_LineCSN.mseed',\n",
       " './20160903161905_40_Hz_LineCSN.mseed',\n",
       " './20160903162005_40_Hz_LineCSN.mseed',\n",
       " './20160903162105_40_Hz_LineCSN.mseed',\n",
       " './20160903162205_40_Hz_LineCSN.mseed',\n",
       " './20160903162305_40_Hz_LineCSN.mseed',\n",
       " './20160903162405_40_Hz_LineCSN.mseed',\n",
       " './20160903162505_40_Hz_LineCSN.mseed',\n",
       " './20160903162605_40_Hz_LineCSN.mseed',\n",
       " './20160903162705_40_Hz_LineCSN.mseed',\n",
       " './20160903162805_40_Hz_LineCSN.mseed',\n",
       " './20160903162905_40_Hz_LineCSN.mseed',\n",
       " './20160903163005_40_Hz_LineCSN.mseed',\n",
       " './20160903163105_40_Hz_LineCSN.mseed',\n",
       " './20160903163205_40_Hz_LineCSN.mseed',\n",
       " './20160903163305_40_Hz_LineCSN.mseed',\n",
       " './20160903163405_40_Hz_LineCSN.mseed',\n",
       " './20160903163505_40_Hz_LineCSN.mseed',\n",
       " './20160903163605_40_Hz_LineCSN.mseed',\n",
       " './20160903163705_40_Hz_LineCSN.mseed',\n",
       " './20160903163805_40_Hz_LineCSN.mseed',\n",
       " './20160903163905_40_Hz_LineCSN.mseed',\n",
       " './20160903164005_40_Hz_LineCSN.mseed',\n",
       " './20160903164105_40_Hz_LineCSN.mseed',\n",
       " './20160903164205_40_Hz_LineCSN.mseed',\n",
       " './20160903164305_40_Hz_LineCSN.mseed',\n",
       " './20160903164405_40_Hz_LineCSN.mseed',\n",
       " './20160903164505_40_Hz_LineCSN.mseed',\n",
       " './20160903164605_40_Hz_LineCSN.mseed',\n",
       " './20160903164705_40_Hz_LineCSN.mseed',\n",
       " './20160903164805_40_Hz_LineCSN.mseed',\n",
       " './20160903164905_40_Hz_LineCSN.mseed',\n",
       " './20160903165005_40_Hz_LineCSN.mseed',\n",
       " './20160903165105_40_Hz_LineCSN.mseed',\n",
       " './20160903165205_40_Hz_LineCSN.mseed',\n",
       " './20160903165305_40_Hz_LineCSN.mseed',\n",
       " './20160903165405_40_Hz_LineCSN.mseed',\n",
       " './20160903165505_40_Hz_LineCSN.mseed',\n",
       " './20160903165605_40_Hz_LineCSN.mseed',\n",
       " './20160903165705_40_Hz_LineCSN.mseed',\n",
       " './20160903165805_40_Hz_LineCSN.mseed',\n",
       " './20160903165905_40_Hz_LineCSN.mseed',\n",
       " './20160903170005_40_Hz_LineCSN.mseed',\n",
       " './20160903170105_40_Hz_LineCSN.mseed',\n",
       " './20160903170205_40_Hz_LineCSN.mseed',\n",
       " './20160903170305_40_Hz_LineCSN.mseed',\n",
       " './20160903170405_40_Hz_LineCSN.mseed',\n",
       " './20160903170505_40_Hz_LineCSN.mseed',\n",
       " './20160903170605_40_Hz_LineCSN.mseed',\n",
       " './20160903170705_40_Hz_LineCSN.mseed',\n",
       " './20160903170805_40_Hz_LineCSN.mseed',\n",
       " './20160903170905_40_Hz_LineCSN.mseed',\n",
       " './20160903171005_40_Hz_LineCSN.mseed',\n",
       " './20160903171105_40_Hz_LineCSN.mseed',\n",
       " './20160903171205_40_Hz_LineCSN.mseed',\n",
       " './20160903171305_40_Hz_LineCSN.mseed',\n",
       " './20160903171405_40_Hz_LineCSN.mseed',\n",
       " './20160903171505_40_Hz_LineCSN.mseed',\n",
       " './20160903171605_40_Hz_LineCSN.mseed',\n",
       " './20160903171705_40_Hz_LineCSN.mseed',\n",
       " './20160903171805_40_Hz_LineCSN.mseed',\n",
       " './20160903171905_40_Hz_LineCSN.mseed',\n",
       " './20160903172005_40_Hz_LineCSN.mseed',\n",
       " './20160903172105_40_Hz_LineCSN.mseed',\n",
       " './20160903172205_40_Hz_LineCSN.mseed',\n",
       " './20160903172305_40_Hz_LineCSN.mseed',\n",
       " './20160903172405_40_Hz_LineCSN.mseed',\n",
       " './20160903172505_40_Hz_LineCSN.mseed',\n",
       " './20160903172605_40_Hz_LineCSN.mseed',\n",
       " './20160903172705_40_Hz_LineCSN.mseed',\n",
       " './20160903172805_40_Hz_LineCSN.mseed',\n",
       " './20160903172905_40_Hz_LineCSN.mseed',\n",
       " './20160903173005_40_Hz_LineCSN.mseed',\n",
       " './20160903173105_40_Hz_LineCSN.mseed',\n",
       " './20160903173205_40_Hz_LineCSN.mseed',\n",
       " './20160903173305_40_Hz_LineCSN.mseed',\n",
       " './20160903173405_40_Hz_LineCSN.mseed',\n",
       " './20160903173505_40_Hz_LineCSN.mseed',\n",
       " './20160903173605_40_Hz_LineCSN.mseed',\n",
       " './20160903173705_40_Hz_LineCSN.mseed',\n",
       " './20160903173805_40_Hz_LineCSN.mseed',\n",
       " './20160903173905_40_Hz_LineCSN.mseed',\n",
       " './20160903174005_40_Hz_LineCSN.mseed',\n",
       " './20160903174105_40_Hz_LineCSN.mseed',\n",
       " './20160903174205_40_Hz_LineCSN.mseed',\n",
       " './20160903174305_40_Hz_LineCSN.mseed',\n",
       " './20160903174405_40_Hz_LineCSN.mseed',\n",
       " './20160903174505_40_Hz_LineCSN.mseed',\n",
       " './20160903174605_40_Hz_LineCSN.mseed',\n",
       " './20160903174705_40_Hz_LineCSN.mseed',\n",
       " './20160903174805_40_Hz_LineCSN.mseed',\n",
       " './20160903174905_40_Hz_LineCSN.mseed',\n",
       " './20160903175005_40_Hz_LineCSN.mseed',\n",
       " './20160903175105_40_Hz_LineCSN.mseed',\n",
       " './20160903175205_40_Hz_LineCSN.mseed',\n",
       " './20160903175305_40_Hz_LineCSN.mseed',\n",
       " './20160903175405_40_Hz_LineCSN.mseed',\n",
       " './20160903175505_40_Hz_LineCSN.mseed',\n",
       " './20160903175605_40_Hz_LineCSN.mseed',\n",
       " './20160903175705_40_Hz_LineCSN.mseed',\n",
       " './20160903175805_40_Hz_LineCSN.mseed',\n",
       " './20160903175905_40_Hz_LineCSN.mseed',\n",
       " './20160903180005_40_Hz_LineCSN.mseed',\n",
       " './20160903180105_40_Hz_LineCSN.mseed',\n",
       " './20160903180205_40_Hz_LineCSN.mseed',\n",
       " './20160903180305_40_Hz_LineCSN.mseed',\n",
       " './20160903180405_40_Hz_LineCSN.mseed',\n",
       " './20160903180505_40_Hz_LineCSN.mseed',\n",
       " './20160903180605_40_Hz_LineCSN.mseed',\n",
       " './20160903180705_40_Hz_LineCSN.mseed',\n",
       " './20160903180805_40_Hz_LineCSN.mseed',\n",
       " './20160903180905_40_Hz_LineCSN.mseed',\n",
       " './20160903181005_40_Hz_LineCSN.mseed',\n",
       " './20160903181105_40_Hz_LineCSN.mseed',\n",
       " './20160903181205_40_Hz_LineCSN.mseed',\n",
       " './20160903181305_40_Hz_LineCSN.mseed',\n",
       " './20160903181405_40_Hz_LineCSN.mseed',\n",
       " './20160903181505_40_Hz_LineCSN.mseed',\n",
       " './20160903181605_40_Hz_LineCSN.mseed',\n",
       " './20160903181705_40_Hz_LineCSN.mseed',\n",
       " './20160903181805_40_Hz_LineCSN.mseed',\n",
       " './20160903181905_40_Hz_LineCSN.mseed',\n",
       " './20160903182005_40_Hz_LineCSN.mseed',\n",
       " './20160903182105_40_Hz_LineCSN.mseed',\n",
       " './20160903182205_40_Hz_LineCSN.mseed',\n",
       " './20160903182305_40_Hz_LineCSN.mseed',\n",
       " './20160903182405_40_Hz_LineCSN.mseed',\n",
       " './20160903182505_40_Hz_LineCSN.mseed',\n",
       " './20160903182605_40_Hz_LineCSN.mseed',\n",
       " './20160903182705_40_Hz_LineCSN.mseed',\n",
       " './20160903182805_40_Hz_LineCSN.mseed',\n",
       " './20160903182905_40_Hz_LineCSN.mseed',\n",
       " './20160903183005_40_Hz_LineCSN.mseed',\n",
       " './20160903183105_40_Hz_LineCSN.mseed',\n",
       " './20160903183205_40_Hz_LineCSN.mseed',\n",
       " './20160903183305_40_Hz_LineCSN.mseed',\n",
       " './20160903183405_40_Hz_LineCSN.mseed',\n",
       " './20160903183505_40_Hz_LineCSN.mseed',\n",
       " './20160903183605_40_Hz_LineCSN.mseed',\n",
       " './20160903183705_40_Hz_LineCSN.mseed',\n",
       " './20160903183805_40_Hz_LineCSN.mseed',\n",
       " './20160903183905_40_Hz_LineCSN.mseed',\n",
       " './20160903184005_40_Hz_LineCSN.mseed',\n",
       " './20160903184105_40_Hz_LineCSN.mseed',\n",
       " './20160903184205_40_Hz_LineCSN.mseed',\n",
       " './20160903184305_40_Hz_LineCSN.mseed',\n",
       " './20160903184405_40_Hz_LineCSN.mseed',\n",
       " './20160903184505_40_Hz_LineCSN.mseed',\n",
       " './20160903184605_40_Hz_LineCSN.mseed',\n",
       " './20160903184705_40_Hz_LineCSN.mseed',\n",
       " './20160903184805_40_Hz_LineCSN.mseed',\n",
       " './20160903184905_40_Hz_LineCSN.mseed',\n",
       " './20160903185005_40_Hz_LineCSN.mseed',\n",
       " './20160903185105_40_Hz_LineCSN.mseed',\n",
       " './20160903185205_40_Hz_LineCSN.mseed',\n",
       " './20160903185305_40_Hz_LineCSN.mseed',\n",
       " './20160903185405_40_Hz_LineCSN.mseed',\n",
       " './20160903185505_40_Hz_LineCSN.mseed',\n",
       " './20160903185605_40_Hz_LineCSN.mseed',\n",
       " './20160903185705_40_Hz_LineCSN.mseed',\n",
       " './20160903185805_40_Hz_LineCSN.mseed',\n",
       " './20160903185905_40_Hz_LineCSN.mseed',\n",
       " './20160903190005_40_Hz_LineCSN.mseed',\n",
       " './20160903190105_40_Hz_LineCSN.mseed',\n",
       " './20160903190205_40_Hz_LineCSN.mseed',\n",
       " './20160903190305_40_Hz_LineCSN.mseed',\n",
       " './20160903190405_40_Hz_LineCSN.mseed',\n",
       " './20160903190505_40_Hz_LineCSN.mseed',\n",
       " './20160903190605_40_Hz_LineCSN.mseed',\n",
       " './20160903190705_40_Hz_LineCSN.mseed',\n",
       " './20160903190805_40_Hz_LineCSN.mseed',\n",
       " './20160903190905_40_Hz_LineCSN.mseed',\n",
       " './20160903191005_40_Hz_LineCSN.mseed',\n",
       " './20160903191105_40_Hz_LineCSN.mseed',\n",
       " './20160903191205_40_Hz_LineCSN.mseed',\n",
       " './20160903191305_40_Hz_LineCSN.mseed',\n",
       " './20160903191405_40_Hz_LineCSN.mseed',\n",
       " './20160903191505_40_Hz_LineCSN.mseed',\n",
       " './20160903191605_40_Hz_LineCSN.mseed',\n",
       " './20160903191705_40_Hz_LineCSN.mseed',\n",
       " './20160903191805_40_Hz_LineCSN.mseed',\n",
       " './20160903191905_40_Hz_LineCSN.mseed',\n",
       " './20160903192005_40_Hz_LineCSN.mseed',\n",
       " './20160903192105_40_Hz_LineCSN.mseed',\n",
       " './20160903192205_40_Hz_LineCSN.mseed',\n",
       " './20160903192305_40_Hz_LineCSN.mseed',\n",
       " './20160903192405_40_Hz_LineCSN.mseed',\n",
       " './20160903192505_40_Hz_LineCSN.mseed',\n",
       " './20160903192605_40_Hz_LineCSN.mseed',\n",
       " './20160903192705_40_Hz_LineCSN.mseed',\n",
       " './20160903192805_40_Hz_LineCSN.mseed',\n",
       " './20160903192905_40_Hz_LineCSN.mseed',\n",
       " './20160903193005_40_Hz_LineCSN.mseed',\n",
       " './20160903193105_40_Hz_LineCSN.mseed',\n",
       " './20160903193205_40_Hz_LineCSN.mseed',\n",
       " './20160903193305_40_Hz_LineCSN.mseed',\n",
       " './20160903193405_40_Hz_LineCSN.mseed',\n",
       " './20160903193505_40_Hz_LineCSN.mseed',\n",
       " './20160903193605_40_Hz_LineCSN.mseed',\n",
       " './20160903193705_40_Hz_LineCSN.mseed',\n",
       " './20160903193805_40_Hz_LineCSN.mseed',\n",
       " './20160903193905_40_Hz_LineCSN.mseed',\n",
       " './20160903194005_40_Hz_LineCSN.mseed',\n",
       " './20160903194105_40_Hz_LineCSN.mseed',\n",
       " './20160903194205_40_Hz_LineCSN.mseed',\n",
       " './20160903194305_40_Hz_LineCSN.mseed',\n",
       " './20160903194405_40_Hz_LineCSN.mseed',\n",
       " './20160903194505_40_Hz_LineCSN.mseed',\n",
       " './20160903194605_40_Hz_LineCSN.mseed',\n",
       " './20160903194705_40_Hz_LineCSN.mseed',\n",
       " './20160903194805_40_Hz_LineCSN.mseed',\n",
       " './20160903194905_40_Hz_LineCSN.mseed',\n",
       " ...]"
      ]
     },
     "execution_count": 32,
     "metadata": {},
     "output_type": "execute_result"
    }
   ],
   "source": [
    "fnames"
   ]
  },
  {
   "cell_type": "code",
   "execution_count": 37,
   "metadata": {
    "collapsed": false
   },
   "outputs": [],
   "source": [
    "#lets say we just want these traces - these are the traces surrounding probe M3\n",
    "trace_start = 75\n",
    "trace_end = 95\n",
    "\n",
    "master_streams = []\n",
    "for i in range(trace_start,trace_end):\n",
    "    \n",
    "    mstream = op.Stream()\n",
    "    master_streams.append(mstream)\n",
    "\n",
    "for mseed_file in fnames:\n",
    "\n",
    "    f = op.read(mseed_file,format='mseed')\n",
    "    #master_streams[1] += f[1]\n",
    "    ##Take the relevant traces and append to mstreams\n",
    "    j = 0\n",
    "    for i in range(trace_start,trace_end):\n",
    "        master_streams[j] += f[i]\n",
    "        j += 1\n",
    "        \n",
    "        \n",
    "    \n",
    "    "
   ]
  },
  {
   "cell_type": "code",
   "execution_count": 38,
   "metadata": {
    "collapsed": false
   },
   "outputs": [
    {
     "data": {
      "text/plain": [
       "[8403 Trace(s) in Stream:\n",
       "\n",
       "FB.00075.00.FON | 2016-09-03T00:00:05.298907Z - 2016-09-03T00:01:05.273907Z | 40.0 Hz, 2400 samples\n",
       "...\n",
       "(8401 other traces)\n",
       "...\n",
       "FB.00075.00.FON | 2016-09-09T23:59:14.337563Z - 2016-09-10T00:00:14.312563Z | 40.0 Hz, 2400 samples\n",
       "\n",
       "[Use \"print(Stream.__str__(extended=True))\" to print all Traces],\n",
       " 8403 Trace(s) in Stream:\n",
       "\n",
       "FB.00076.00.FON | 2016-09-03T00:00:05.298907Z - 2016-09-03T00:01:05.273907Z | 40.0 Hz, 2400 samples\n",
       "...\n",
       "(8401 other traces)\n",
       "...\n",
       "FB.00076.00.FON | 2016-09-09T23:59:14.337563Z - 2016-09-10T00:00:14.312563Z | 40.0 Hz, 2400 samples\n",
       "\n",
       "[Use \"print(Stream.__str__(extended=True))\" to print all Traces],\n",
       " 8403 Trace(s) in Stream:\n",
       "\n",
       "FB.00077.00.FON | 2016-09-03T00:00:05.298907Z - 2016-09-03T00:01:05.273907Z | 40.0 Hz, 2400 samples\n",
       "...\n",
       "(8401 other traces)\n",
       "...\n",
       "FB.00077.00.FON | 2016-09-09T23:59:14.337563Z - 2016-09-10T00:00:14.312563Z | 40.0 Hz, 2400 samples\n",
       "\n",
       "[Use \"print(Stream.__str__(extended=True))\" to print all Traces],\n",
       " 8403 Trace(s) in Stream:\n",
       "\n",
       "FB.00078.00.FON | 2016-09-03T00:00:05.298907Z - 2016-09-03T00:01:05.273907Z | 40.0 Hz, 2400 samples\n",
       "...\n",
       "(8401 other traces)\n",
       "...\n",
       "FB.00078.00.FON | 2016-09-09T23:59:14.337563Z - 2016-09-10T00:00:14.312563Z | 40.0 Hz, 2400 samples\n",
       "\n",
       "[Use \"print(Stream.__str__(extended=True))\" to print all Traces],\n",
       " 8403 Trace(s) in Stream:\n",
       "\n",
       "FB.00079.00.FON | 2016-09-03T00:00:05.298907Z - 2016-09-03T00:01:05.273907Z | 40.0 Hz, 2400 samples\n",
       "...\n",
       "(8401 other traces)\n",
       "...\n",
       "FB.00079.00.FON | 2016-09-09T23:59:14.337563Z - 2016-09-10T00:00:14.312563Z | 40.0 Hz, 2400 samples\n",
       "\n",
       "[Use \"print(Stream.__str__(extended=True))\" to print all Traces],\n",
       " 8403 Trace(s) in Stream:\n",
       "\n",
       "FB.00080.00.FON | 2016-09-03T00:00:05.298907Z - 2016-09-03T00:01:05.273907Z | 40.0 Hz, 2400 samples\n",
       "...\n",
       "(8401 other traces)\n",
       "...\n",
       "FB.00080.00.FON | 2016-09-09T23:59:14.337563Z - 2016-09-10T00:00:14.312563Z | 40.0 Hz, 2400 samples\n",
       "\n",
       "[Use \"print(Stream.__str__(extended=True))\" to print all Traces],\n",
       " 8403 Trace(s) in Stream:\n",
       "\n",
       "FB.00081.00.FON | 2016-09-03T00:00:05.298907Z - 2016-09-03T00:01:05.273907Z | 40.0 Hz, 2400 samples\n",
       "...\n",
       "(8401 other traces)\n",
       "...\n",
       "FB.00081.00.FON | 2016-09-09T23:59:14.337563Z - 2016-09-10T00:00:14.312563Z | 40.0 Hz, 2400 samples\n",
       "\n",
       "[Use \"print(Stream.__str__(extended=True))\" to print all Traces],\n",
       " 8403 Trace(s) in Stream:\n",
       "\n",
       "FB.00082.00.FON | 2016-09-03T00:00:05.298907Z - 2016-09-03T00:01:05.273907Z | 40.0 Hz, 2400 samples\n",
       "...\n",
       "(8401 other traces)\n",
       "...\n",
       "FB.00082.00.FON | 2016-09-09T23:59:14.337563Z - 2016-09-10T00:00:14.312563Z | 40.0 Hz, 2400 samples\n",
       "\n",
       "[Use \"print(Stream.__str__(extended=True))\" to print all Traces],\n",
       " 8403 Trace(s) in Stream:\n",
       "\n",
       "FB.00083.00.FON | 2016-09-03T00:00:05.298907Z - 2016-09-03T00:01:05.273907Z | 40.0 Hz, 2400 samples\n",
       "...\n",
       "(8401 other traces)\n",
       "...\n",
       "FB.00083.00.FON | 2016-09-09T23:59:14.337563Z - 2016-09-10T00:00:14.312563Z | 40.0 Hz, 2400 samples\n",
       "\n",
       "[Use \"print(Stream.__str__(extended=True))\" to print all Traces],\n",
       " 8403 Trace(s) in Stream:\n",
       "\n",
       "FB.00084.00.FON | 2016-09-03T00:00:05.298907Z - 2016-09-03T00:01:05.273907Z | 40.0 Hz, 2400 samples\n",
       "...\n",
       "(8401 other traces)\n",
       "...\n",
       "FB.00084.00.FON | 2016-09-09T23:59:14.337563Z - 2016-09-10T00:00:14.312563Z | 40.0 Hz, 2400 samples\n",
       "\n",
       "[Use \"print(Stream.__str__(extended=True))\" to print all Traces],\n",
       " 8403 Trace(s) in Stream:\n",
       "\n",
       "FB.00085.00.FON | 2016-09-03T00:00:05.298907Z - 2016-09-03T00:01:05.273907Z | 40.0 Hz, 2400 samples\n",
       "...\n",
       "(8401 other traces)\n",
       "...\n",
       "FB.00085.00.FON | 2016-09-09T23:59:14.337563Z - 2016-09-10T00:00:14.312563Z | 40.0 Hz, 2400 samples\n",
       "\n",
       "[Use \"print(Stream.__str__(extended=True))\" to print all Traces],\n",
       " 8403 Trace(s) in Stream:\n",
       "\n",
       "FB.00086.00.FON | 2016-09-03T00:00:05.298907Z - 2016-09-03T00:01:05.273907Z | 40.0 Hz, 2400 samples\n",
       "...\n",
       "(8401 other traces)\n",
       "...\n",
       "FB.00086.00.FON | 2016-09-09T23:59:14.337563Z - 2016-09-10T00:00:14.312563Z | 40.0 Hz, 2400 samples\n",
       "\n",
       "[Use \"print(Stream.__str__(extended=True))\" to print all Traces],\n",
       " 8403 Trace(s) in Stream:\n",
       "\n",
       "FB.00087.00.FON | 2016-09-03T00:00:05.298907Z - 2016-09-03T00:01:05.273907Z | 40.0 Hz, 2400 samples\n",
       "...\n",
       "(8401 other traces)\n",
       "...\n",
       "FB.00087.00.FON | 2016-09-09T23:59:14.337563Z - 2016-09-10T00:00:14.312563Z | 40.0 Hz, 2400 samples\n",
       "\n",
       "[Use \"print(Stream.__str__(extended=True))\" to print all Traces],\n",
       " 8403 Trace(s) in Stream:\n",
       "\n",
       "FB.00088.00.FON | 2016-09-03T00:00:05.298907Z - 2016-09-03T00:01:05.273907Z | 40.0 Hz, 2400 samples\n",
       "...\n",
       "(8401 other traces)\n",
       "...\n",
       "FB.00088.00.FON | 2016-09-09T23:59:14.337563Z - 2016-09-10T00:00:14.312563Z | 40.0 Hz, 2400 samples\n",
       "\n",
       "[Use \"print(Stream.__str__(extended=True))\" to print all Traces],\n",
       " 8403 Trace(s) in Stream:\n",
       "\n",
       "FB.00089.00.FON | 2016-09-03T00:00:05.298907Z - 2016-09-03T00:01:05.273907Z | 40.0 Hz, 2400 samples\n",
       "...\n",
       "(8401 other traces)\n",
       "...\n",
       "FB.00089.00.FON | 2016-09-09T23:59:14.337563Z - 2016-09-10T00:00:14.312563Z | 40.0 Hz, 2400 samples\n",
       "\n",
       "[Use \"print(Stream.__str__(extended=True))\" to print all Traces],\n",
       " 8403 Trace(s) in Stream:\n",
       "\n",
       "FB.00090.00.FON | 2016-09-03T00:00:05.298907Z - 2016-09-03T00:01:05.273907Z | 40.0 Hz, 2400 samples\n",
       "...\n",
       "(8401 other traces)\n",
       "...\n",
       "FB.00090.00.FON | 2016-09-09T23:59:14.337563Z - 2016-09-10T00:00:14.312563Z | 40.0 Hz, 2400 samples\n",
       "\n",
       "[Use \"print(Stream.__str__(extended=True))\" to print all Traces],\n",
       " 8403 Trace(s) in Stream:\n",
       "\n",
       "FB.00091.00.FON | 2016-09-03T00:00:05.298907Z - 2016-09-03T00:01:05.273907Z | 40.0 Hz, 2400 samples\n",
       "...\n",
       "(8401 other traces)\n",
       "...\n",
       "FB.00091.00.FON | 2016-09-09T23:59:14.337563Z - 2016-09-10T00:00:14.312563Z | 40.0 Hz, 2400 samples\n",
       "\n",
       "[Use \"print(Stream.__str__(extended=True))\" to print all Traces],\n",
       " 8403 Trace(s) in Stream:\n",
       "\n",
       "FB.00092.00.FON | 2016-09-03T00:00:05.298907Z - 2016-09-03T00:01:05.273907Z | 40.0 Hz, 2400 samples\n",
       "...\n",
       "(8401 other traces)\n",
       "...\n",
       "FB.00092.00.FON | 2016-09-09T23:59:14.337563Z - 2016-09-10T00:00:14.312563Z | 40.0 Hz, 2400 samples\n",
       "\n",
       "[Use \"print(Stream.__str__(extended=True))\" to print all Traces],\n",
       " 8403 Trace(s) in Stream:\n",
       "\n",
       "FB.00093.00.FON | 2016-09-03T00:00:05.298907Z - 2016-09-03T00:01:05.273907Z | 40.0 Hz, 2400 samples\n",
       "...\n",
       "(8401 other traces)\n",
       "...\n",
       "FB.00093.00.FON | 2016-09-09T23:59:14.337563Z - 2016-09-10T00:00:14.312563Z | 40.0 Hz, 2400 samples\n",
       "\n",
       "[Use \"print(Stream.__str__(extended=True))\" to print all Traces],\n",
       " 8403 Trace(s) in Stream:\n",
       "\n",
       "FB.00094.00.FON | 2016-09-03T00:00:05.298907Z - 2016-09-03T00:01:05.273907Z | 40.0 Hz, 2400 samples\n",
       "...\n",
       "(8401 other traces)\n",
       "...\n",
       "FB.00094.00.FON | 2016-09-09T23:59:14.337563Z - 2016-09-10T00:00:14.312563Z | 40.0 Hz, 2400 samples\n",
       "\n",
       "[Use \"print(Stream.__str__(extended=True))\" to print all Traces]]"
      ]
     },
     "execution_count": 38,
     "metadata": {},
     "output_type": "execute_result"
    }
   ],
   "source": [
    "master_streams"
   ]
  },
  {
   "cell_type": "code",
   "execution_count": 39,
   "metadata": {
    "collapsed": false
   },
   "outputs": [
    {
     "name": "stdout",
     "output_type": "stream",
     "text": [
      "channel_75_clipped.mseed\n",
      "channel_76_clipped.mseed\n",
      "channel_77_clipped.mseed\n",
      "channel_78_clipped.mseed\n",
      "channel_79_clipped.mseed\n",
      "channel_80_clipped.mseed\n",
      "channel_81_clipped.mseed\n",
      "channel_82_clipped.mseed\n",
      "channel_83_clipped.mseed\n",
      "channel_84_clipped.mseed\n",
      "channel_85_clipped.mseed\n",
      "channel_86_clipped.mseed\n",
      "channel_87_clipped.mseed\n",
      "channel_88_clipped.mseed\n",
      "channel_89_clipped.mseed\n",
      "channel_90_clipped.mseed\n",
      "channel_91_clipped.mseed\n",
      "channel_92_clipped.mseed\n",
      "channel_93_clipped.mseed\n",
      "channel_94_clipped.mseed\n"
     ]
    }
   ],
   "source": [
    "#Write to file\n",
    "i = trace_start\n",
    "for element in master_streams:\n",
    "    outname = 'channel_%i_clipped.mseed' %i\n",
    "    print(outname)\n",
    "    element.write(outname,format='mseed')\n",
    "    i += 1"
   ]
  },
  {
   "cell_type": "code",
   "execution_count": 40,
   "metadata": {
    "collapsed": false
   },
   "outputs": [
    {
     "data": {
      "text/plain": [
       "0"
      ]
     },
     "execution_count": 40,
     "metadata": {},
     "output_type": "execute_result"
    }
   ],
   "source": [
    "os.system('mv channel_*_clipped.mseed %s' %cwd)"
   ]
  },
  {
   "cell_type": "code",
   "execution_count": 41,
   "metadata": {
    "collapsed": false
   },
   "outputs": [
    {
     "data": {
      "text/plain": [
       "[8403 Trace(s) in Stream:\n",
       "\n",
       "FB.00075.00.FON | 2016-09-03T00:00:05.298907Z - 2016-09-03T00:01:05.273907Z | 40.0 Hz, 2400 samples\n",
       "...\n",
       "(8401 other traces)\n",
       "...\n",
       "FB.00075.00.FON | 2016-09-09T23:59:14.337563Z - 2016-09-10T00:00:14.312563Z | 40.0 Hz, 2400 samples\n",
       "\n",
       "[Use \"print(Stream.__str__(extended=True))\" to print all Traces],\n",
       " 8403 Trace(s) in Stream:\n",
       "\n",
       "FB.00076.00.FON | 2016-09-03T00:00:05.298907Z - 2016-09-03T00:01:05.273907Z | 40.0 Hz, 2400 samples\n",
       "...\n",
       "(8401 other traces)\n",
       "...\n",
       "FB.00076.00.FON | 2016-09-09T23:59:14.337563Z - 2016-09-10T00:00:14.312563Z | 40.0 Hz, 2400 samples\n",
       "\n",
       "[Use \"print(Stream.__str__(extended=True))\" to print all Traces],\n",
       " 8403 Trace(s) in Stream:\n",
       "\n",
       "FB.00077.00.FON | 2016-09-03T00:00:05.298907Z - 2016-09-03T00:01:05.273907Z | 40.0 Hz, 2400 samples\n",
       "...\n",
       "(8401 other traces)\n",
       "...\n",
       "FB.00077.00.FON | 2016-09-09T23:59:14.337563Z - 2016-09-10T00:00:14.312563Z | 40.0 Hz, 2400 samples\n",
       "\n",
       "[Use \"print(Stream.__str__(extended=True))\" to print all Traces],\n",
       " 8403 Trace(s) in Stream:\n",
       "\n",
       "FB.00078.00.FON | 2016-09-03T00:00:05.298907Z - 2016-09-03T00:01:05.273907Z | 40.0 Hz, 2400 samples\n",
       "...\n",
       "(8401 other traces)\n",
       "...\n",
       "FB.00078.00.FON | 2016-09-09T23:59:14.337563Z - 2016-09-10T00:00:14.312563Z | 40.0 Hz, 2400 samples\n",
       "\n",
       "[Use \"print(Stream.__str__(extended=True))\" to print all Traces],\n",
       " 8403 Trace(s) in Stream:\n",
       "\n",
       "FB.00079.00.FON | 2016-09-03T00:00:05.298907Z - 2016-09-03T00:01:05.273907Z | 40.0 Hz, 2400 samples\n",
       "...\n",
       "(8401 other traces)\n",
       "...\n",
       "FB.00079.00.FON | 2016-09-09T23:59:14.337563Z - 2016-09-10T00:00:14.312563Z | 40.0 Hz, 2400 samples\n",
       "\n",
       "[Use \"print(Stream.__str__(extended=True))\" to print all Traces],\n",
       " 8403 Trace(s) in Stream:\n",
       "\n",
       "FB.00080.00.FON | 2016-09-03T00:00:05.298907Z - 2016-09-03T00:01:05.273907Z | 40.0 Hz, 2400 samples\n",
       "...\n",
       "(8401 other traces)\n",
       "...\n",
       "FB.00080.00.FON | 2016-09-09T23:59:14.337563Z - 2016-09-10T00:00:14.312563Z | 40.0 Hz, 2400 samples\n",
       "\n",
       "[Use \"print(Stream.__str__(extended=True))\" to print all Traces],\n",
       " 8403 Trace(s) in Stream:\n",
       "\n",
       "FB.00081.00.FON | 2016-09-03T00:00:05.298907Z - 2016-09-03T00:01:05.273907Z | 40.0 Hz, 2400 samples\n",
       "...\n",
       "(8401 other traces)\n",
       "...\n",
       "FB.00081.00.FON | 2016-09-09T23:59:14.337563Z - 2016-09-10T00:00:14.312563Z | 40.0 Hz, 2400 samples\n",
       "\n",
       "[Use \"print(Stream.__str__(extended=True))\" to print all Traces],\n",
       " 8403 Trace(s) in Stream:\n",
       "\n",
       "FB.00082.00.FON | 2016-09-03T00:00:05.298907Z - 2016-09-03T00:01:05.273907Z | 40.0 Hz, 2400 samples\n",
       "...\n",
       "(8401 other traces)\n",
       "...\n",
       "FB.00082.00.FON | 2016-09-09T23:59:14.337563Z - 2016-09-10T00:00:14.312563Z | 40.0 Hz, 2400 samples\n",
       "\n",
       "[Use \"print(Stream.__str__(extended=True))\" to print all Traces],\n",
       " 8403 Trace(s) in Stream:\n",
       "\n",
       "FB.00083.00.FON | 2016-09-03T00:00:05.298907Z - 2016-09-03T00:01:05.273907Z | 40.0 Hz, 2400 samples\n",
       "...\n",
       "(8401 other traces)\n",
       "...\n",
       "FB.00083.00.FON | 2016-09-09T23:59:14.337563Z - 2016-09-10T00:00:14.312563Z | 40.0 Hz, 2400 samples\n",
       "\n",
       "[Use \"print(Stream.__str__(extended=True))\" to print all Traces],\n",
       " 8403 Trace(s) in Stream:\n",
       "\n",
       "FB.00084.00.FON | 2016-09-03T00:00:05.298907Z - 2016-09-03T00:01:05.273907Z | 40.0 Hz, 2400 samples\n",
       "...\n",
       "(8401 other traces)\n",
       "...\n",
       "FB.00084.00.FON | 2016-09-09T23:59:14.337563Z - 2016-09-10T00:00:14.312563Z | 40.0 Hz, 2400 samples\n",
       "\n",
       "[Use \"print(Stream.__str__(extended=True))\" to print all Traces],\n",
       " 8403 Trace(s) in Stream:\n",
       "\n",
       "FB.00085.00.FON | 2016-09-03T00:00:05.298907Z - 2016-09-03T00:01:05.273907Z | 40.0 Hz, 2400 samples\n",
       "...\n",
       "(8401 other traces)\n",
       "...\n",
       "FB.00085.00.FON | 2016-09-09T23:59:14.337563Z - 2016-09-10T00:00:14.312563Z | 40.0 Hz, 2400 samples\n",
       "\n",
       "[Use \"print(Stream.__str__(extended=True))\" to print all Traces],\n",
       " 8403 Trace(s) in Stream:\n",
       "\n",
       "FB.00086.00.FON | 2016-09-03T00:00:05.298907Z - 2016-09-03T00:01:05.273907Z | 40.0 Hz, 2400 samples\n",
       "...\n",
       "(8401 other traces)\n",
       "...\n",
       "FB.00086.00.FON | 2016-09-09T23:59:14.337563Z - 2016-09-10T00:00:14.312563Z | 40.0 Hz, 2400 samples\n",
       "\n",
       "[Use \"print(Stream.__str__(extended=True))\" to print all Traces],\n",
       " 8403 Trace(s) in Stream:\n",
       "\n",
       "FB.00087.00.FON | 2016-09-03T00:00:05.298907Z - 2016-09-03T00:01:05.273907Z | 40.0 Hz, 2400 samples\n",
       "...\n",
       "(8401 other traces)\n",
       "...\n",
       "FB.00087.00.FON | 2016-09-09T23:59:14.337563Z - 2016-09-10T00:00:14.312563Z | 40.0 Hz, 2400 samples\n",
       "\n",
       "[Use \"print(Stream.__str__(extended=True))\" to print all Traces],\n",
       " 8403 Trace(s) in Stream:\n",
       "\n",
       "FB.00088.00.FON | 2016-09-03T00:00:05.298907Z - 2016-09-03T00:01:05.273907Z | 40.0 Hz, 2400 samples\n",
       "...\n",
       "(8401 other traces)\n",
       "...\n",
       "FB.00088.00.FON | 2016-09-09T23:59:14.337563Z - 2016-09-10T00:00:14.312563Z | 40.0 Hz, 2400 samples\n",
       "\n",
       "[Use \"print(Stream.__str__(extended=True))\" to print all Traces],\n",
       " 8403 Trace(s) in Stream:\n",
       "\n",
       "FB.00089.00.FON | 2016-09-03T00:00:05.298907Z - 2016-09-03T00:01:05.273907Z | 40.0 Hz, 2400 samples\n",
       "...\n",
       "(8401 other traces)\n",
       "...\n",
       "FB.00089.00.FON | 2016-09-09T23:59:14.337563Z - 2016-09-10T00:00:14.312563Z | 40.0 Hz, 2400 samples\n",
       "\n",
       "[Use \"print(Stream.__str__(extended=True))\" to print all Traces],\n",
       " 8403 Trace(s) in Stream:\n",
       "\n",
       "FB.00090.00.FON | 2016-09-03T00:00:05.298907Z - 2016-09-03T00:01:05.273907Z | 40.0 Hz, 2400 samples\n",
       "...\n",
       "(8401 other traces)\n",
       "...\n",
       "FB.00090.00.FON | 2016-09-09T23:59:14.337563Z - 2016-09-10T00:00:14.312563Z | 40.0 Hz, 2400 samples\n",
       "\n",
       "[Use \"print(Stream.__str__(extended=True))\" to print all Traces],\n",
       " 8403 Trace(s) in Stream:\n",
       "\n",
       "FB.00091.00.FON | 2016-09-03T00:00:05.298907Z - 2016-09-03T00:01:05.273907Z | 40.0 Hz, 2400 samples\n",
       "...\n",
       "(8401 other traces)\n",
       "...\n",
       "FB.00091.00.FON | 2016-09-09T23:59:14.337563Z - 2016-09-10T00:00:14.312563Z | 40.0 Hz, 2400 samples\n",
       "\n",
       "[Use \"print(Stream.__str__(extended=True))\" to print all Traces],\n",
       " 8403 Trace(s) in Stream:\n",
       "\n",
       "FB.00092.00.FON | 2016-09-03T00:00:05.298907Z - 2016-09-03T00:01:05.273907Z | 40.0 Hz, 2400 samples\n",
       "...\n",
       "(8401 other traces)\n",
       "...\n",
       "FB.00092.00.FON | 2016-09-09T23:59:14.337563Z - 2016-09-10T00:00:14.312563Z | 40.0 Hz, 2400 samples\n",
       "\n",
       "[Use \"print(Stream.__str__(extended=True))\" to print all Traces],\n",
       " 8403 Trace(s) in Stream:\n",
       "\n",
       "FB.00093.00.FON | 2016-09-03T00:00:05.298907Z - 2016-09-03T00:01:05.273907Z | 40.0 Hz, 2400 samples\n",
       "...\n",
       "(8401 other traces)\n",
       "...\n",
       "FB.00093.00.FON | 2016-09-09T23:59:14.337563Z - 2016-09-10T00:00:14.312563Z | 40.0 Hz, 2400 samples\n",
       "\n",
       "[Use \"print(Stream.__str__(extended=True))\" to print all Traces],\n",
       " 8403 Trace(s) in Stream:\n",
       "\n",
       "FB.00094.00.FON | 2016-09-03T00:00:05.298907Z - 2016-09-03T00:01:05.273907Z | 40.0 Hz, 2400 samples\n",
       "...\n",
       "(8401 other traces)\n",
       "...\n",
       "FB.00094.00.FON | 2016-09-09T23:59:14.337563Z - 2016-09-10T00:00:14.312563Z | 40.0 Hz, 2400 samples\n",
       "\n",
       "[Use \"print(Stream.__str__(extended=True))\" to print all Traces]]"
      ]
     },
     "execution_count": 41,
     "metadata": {},
     "output_type": "execute_result"
    }
   ],
   "source": [
    "master_streams"
   ]
  },
  {
   "cell_type": "code",
   "execution_count": 44,
   "metadata": {
    "collapsed": false
   },
   "outputs": [],
   "source": [
    "#test merging facility\n",
    "os.chdir(cwd)\n",
    "tfile = op.read('channel_90_clipped.mseed',format='mseed')\n",
    "#merge_test = tfile.merge(method=1,fill_value=np.nan)"
   ]
  },
  {
   "cell_type": "code",
   "execution_count": 45,
   "metadata": {
    "collapsed": false
   },
   "outputs": [
    {
     "data": {
      "image/png": "[encoded data removed]",
      "text/plain": [
       "<Figure size 800x250 with 1 Axes>"
      ]
     },
     "metadata": {},
     "output_type": "display_data"
    }
   ],
   "source": [
    "tfile.plot()"
   ]
  },
  {
   "cell_type": "code",
   "execution_count": 99,
   "metadata": {
    "collapsed": false
   },
   "outputs": [],
   "source": [
    "data = merge_test[0].data\n",
    "#remove the median of the trace\n",
    "median_non_nan = np.median(data[~np.isnan(data)])\n",
    "data = data - median_non_nan\n",
    "merge_test[0].data = data"
   ]
  },
  {
   "cell_type": "code",
   "execution_count": 100,
   "metadata": {
    "collapsed": false
   },
   "outputs": [
    {
     "data": {
      "image/png": "[encoded data removed]",
      "text/plain": [
       "<Figure size 800x250 with 1 Axes>"
      ]
     },
     "metadata": {},
     "output_type": "display_data"
    }
   ],
   "source": [
    "merge_test[0].plot()"
   ]
  },
  {
   "cell_type": "code",
   "execution_count": 106,
   "metadata": {
    "collapsed": false
   },
   "outputs": [],
   "source": [
    "def despike(trace,scale_factor=200):\n",
    "    \n",
    "    '''Remove all data whose amplitude is larger than scale factor x median of the non-nan parts of trace\n",
    "    This follows the method of Bakku, 2010'''\n",
    "    \n",
    "    data = trace.data\n",
    "    #determine the value above which a spike is declared\n",
    "    cutoff = scale_factor*np.median(abs(data[~np.isnan(data)]))\n",
    "    #This will produce a warning, but the nan values will remain nan\n",
    "    data[abs(data) > cutoff] = np.nan\n",
    "    trace.data = data\n",
    "    \n",
    "    return trace\n",
    "\n",
    "    \n",
    "    "
   ]
  },
  {
   "cell_type": "code",
   "execution_count": 102,
   "metadata": {
    "collapsed": false
   },
   "outputs": [
    {
     "name": "stdout",
     "output_type": "stream",
     "text": [
      "1249.0835886325185\n"
     ]
    },
    {
     "name": "stderr",
     "output_type": "stream",
     "text": [
      "/home/rmartinshort/anaconda2/envs/python3/lib/python3.6/site-packages/ipykernel/__main__.py:9: RuntimeWarning: invalid value encountered in greater\n"
     ]
    }
   ],
   "source": [
    "trace = despike(merge_test[0].copy())"
   ]
  },
  {
   "cell_type": "code",
   "execution_count": 103,
   "metadata": {
    "collapsed": false
   },
   "outputs": [
    {
     "data": {
      "image/png": "[encoded data removed]",
      "text/plain": [
       "<Figure size 800x250 with 1 Axes>"
      ]
     },
     "metadata": {},
     "output_type": "display_data"
    }
   ],
   "source": [
    "trace.plot()"
   ]
  },
  {
   "cell_type": "code",
   "execution_count": 104,
   "metadata": {
    "collapsed": false
   },
   "outputs": [
    {
     "name": "stdout",
     "output_type": "stream",
     "text": [
      "1249.053557362166\n"
     ]
    },
    {
     "name": "stderr",
     "output_type": "stream",
     "text": [
      "/home/rmartinshort/anaconda2/envs/python3/lib/python3.6/site-packages/ipykernel/__main__.py:9: RuntimeWarning: invalid value encountered in greater\n"
     ]
    }
   ],
   "source": [
    "trace = despike(trace)"
   ]
  },
  {
   "cell_type": "code",
   "execution_count": 105,
   "metadata": {
    "collapsed": false
   },
   "outputs": [
    {
     "data": {
      "image/png": "[encoded data removed]",
      "text/plain": [
       "<Figure size 800x250 with 1 Axes>"
      ]
     },
     "metadata": {},
     "output_type": "display_data"
    }
   ],
   "source": [
    "trace.plot()"
   ]
  },
  {
   "cell_type": "code",
   "execution_count": 90,
   "metadata": {
    "collapsed": false
   },
   "outputs": [
    {
     "name": "stderr",
     "output_type": "stream",
     "text": [
      "/home/rmartinshort/anaconda2/envs/python3/lib/python3.6/site-packages/obspy/signal/detrend.py:31: FutureWarning: Conversion of the second argument of issubdtype from `float` to `np.floating` is deprecated. In future, it will be treated as `np.float64 == np.dtype(float).type`.\n",
      "  if not np.issubdtype(data.dtype, float):\n"
     ]
    },
    {
     "data": {
      "text/plain": [
       "1 Trace(s) in Stream:\n",
       "FB.00090.00.FON | 2016-09-03T00:00:05.298907Z - 2016-09-10T00:00:14.323907Z | 40.0 Hz, 24192362 samples"
      ]
     },
     "execution_count": 90,
     "metadata": {},
     "output_type": "execute_result"
    }
   ],
   "source": [
    "merge_test.detrend('demean')\n",
    "merge_test.detrend()"
   ]
  },
  {
   "cell_type": "code",
   "execution_count": 11,
   "metadata": {
    "collapsed": false
   },
   "outputs": [
    {
     "data": {
      "image/png": "[encoded data removed]",
      "text/plain": [
       "<Figure size 800x250 with 1 Axes>"
      ]
     },
     "metadata": {},
     "output_type": "display_data"
    }
   ],
   "source": [
    "merge_test[0].plot()"
   ]
  },
  {
   "cell_type": "code",
   "execution_count": 210,
   "metadata": {
    "collapsed": false
   },
   "outputs": [],
   "source": [
    "m1 = merge_test[0].copy().filter('bandpass',freqmin=1,freqmax=5,zerophase=True)"
   ]
  },
  {
   "cell_type": "code",
   "execution_count": 10,
   "metadata": {
    "collapsed": false
   },
   "outputs": [],
   "source": [
    "import scipy.signal"
   ]
  },
  {
   "cell_type": "code",
   "execution_count": null,
   "metadata": {
    "collapsed": true
   },
   "outputs": [],
   "source": [
    "arr = scipy.signal.medfilt(merge_test[0].data,101)"
   ]
  },
  {
   "cell_type": "code",
   "execution_count": 185,
   "metadata": {
    "collapsed": false
   },
   "outputs": [
    {
     "data": {
      "text/plain": [
       "[<matplotlib.lines.Line2D at 0x7fb57b6faa90>]"
      ]
     },
     "execution_count": 185,
     "metadata": {},
     "output_type": "execute_result"
    },
    {
     "data": {
      "image/png": "[encoded data removed]",
      "text/plain": [
       "<Figure size 432x288 with 1 Axes>"
      ]
     },
     "metadata": {},
     "output_type": "display_data"
    }
   ],
   "source": [
    "plt.plot(arr)"
   ]
  },
  {
   "cell_type": "code",
   "execution_count": 4,
   "metadata": {
    "collapsed": false
   },
   "outputs": [],
   "source": [
    "#Clearly the despiking worked, but we need to understand what its doing to the dataset\n",
    "non_despiked = merge_test[0].data[:1000000]"
   ]
  },
  {
   "cell_type": "code",
   "execution_count": 5,
   "metadata": {
    "collapsed": false
   },
   "outputs": [
    {
     "data": {
      "text/plain": [
       "(-1000, 1000)"
      ]
     },
     "execution_count": 5,
     "metadata": {},
     "output_type": "execute_result"
    },
    {
     "data": {
      "image/png": "[encoded data removed]",
      "text/plain": [
       "<Figure size 432x288 with 1 Axes>"
      ]
     },
     "metadata": {},
     "output_type": "display_data"
    }
   ],
   "source": [
    "plt.plot(non_despiked)\n",
    "plt.ylim(-1000,1000)"
   ]
  },
  {
   "cell_type": "code",
   "execution_count": 7,
   "metadata": {
    "collapsed": false
   },
   "outputs": [
    {
     "data": {
      "text/plain": [
       "(-100, 100)"
      ]
     },
     "execution_count": 7,
     "metadata": {},
     "output_type": "execute_result"
    },
    {
     "data": {
      "image/png": "[encoded data removed]",
      "text/plain": [
       "<Figure size 432x288 with 1 Axes>"
      ]
     },
     "metadata": {},
     "output_type": "display_data"
    }
   ],
   "source": [
    "sp1 = non_despiked[530000:530250]\n",
    "plt.plot(sp1)\n",
    "plt.ylim(-100,100)"
   ]
  },
  {
   "cell_type": "code",
   "execution_count": 8,
   "metadata": {
    "collapsed": false
   },
   "outputs": [
    {
     "ename": "NameError",
     "evalue": "name 'scipy' is not defined",
     "output_type": "error",
     "traceback": [
      "\u001b[0;31m---------------------------------------------------------------------------\u001b[0m",
      "\u001b[0;31mNameError\u001b[0m                                 Traceback (most recent call last)",
      "\u001b[0;32m<ipython-input-8-0e7de5e5772b>\u001b[0m in \u001b[0;36m<module>\u001b[0;34m()\u001b[0m\n\u001b[1;32m      1\u001b[0m \u001b[0;31m#Despike filtering appears to singificantly alter the signal, so we don't really want to do this\u001b[0m\u001b[0;34m\u001b[0m\u001b[0;34m\u001b[0m\u001b[0m\n\u001b[0;32m----> 2\u001b[0;31m \u001b[0marr\u001b[0m \u001b[0;34m=\u001b[0m \u001b[0mscipy\u001b[0m\u001b[0;34m.\u001b[0m\u001b[0msignal\u001b[0m\u001b[0;34m.\u001b[0m\u001b[0mmedfilt\u001b[0m\u001b[0;34m(\u001b[0m\u001b[0msp1\u001b[0m\u001b[0;34m,\u001b[0m\u001b[0;36m5\u001b[0m\u001b[0;34m)\u001b[0m\u001b[0;34m\u001b[0m\u001b[0m\n\u001b[0m",
      "\u001b[0;31mNameError\u001b[0m: name 'scipy' is not defined"
     ]
    }
   ],
   "source": [
    "#Despike filtering appears to singificantly alter the signal, so we don't really want to do this\n",
    "arr = scipy.signal.medfilt(sp1,5)"
   ]
  },
  {
   "cell_type": "code",
   "execution_count": 9,
   "metadata": {
    "collapsed": false
   },
   "outputs": [
    {
     "ename": "NameError",
     "evalue": "name 'arr' is not defined",
     "output_type": "error",
     "traceback": [
      "\u001b[0;31m---------------------------------------------------------------------------\u001b[0m",
      "\u001b[0;31mNameError\u001b[0m                                 Traceback (most recent call last)",
      "\u001b[0;32m<ipython-input-9-4cabc7fb002b>\u001b[0m in \u001b[0;36m<module>\u001b[0;34m()\u001b[0m\n\u001b[0;32m----> 1\u001b[0;31m \u001b[0mplt\u001b[0m\u001b[0;34m.\u001b[0m\u001b[0mplot\u001b[0m\u001b[0;34m(\u001b[0m\u001b[0marr\u001b[0m\u001b[0;34m)\u001b[0m\u001b[0;34m\u001b[0m\u001b[0m\n\u001b[0m\u001b[1;32m      2\u001b[0m \u001b[0mplt\u001b[0m\u001b[0;34m.\u001b[0m\u001b[0mylim\u001b[0m\u001b[0;34m(\u001b[0m\u001b[0;34m-\u001b[0m\u001b[0;36m100\u001b[0m\u001b[0;34m,\u001b[0m\u001b[0;36m100\u001b[0m\u001b[0;34m)\u001b[0m\u001b[0;34m\u001b[0m\u001b[0m\n",
      "\u001b[0;31mNameError\u001b[0m: name 'arr' is not defined"
     ]
    }
   ],
   "source": [
    "plt.plot(arr)\n",
    "plt.ylim(-100,100)"
   ]
  },
  {
   "cell_type": "code",
   "execution_count": 169,
   "metadata": {
    "collapsed": false
   },
   "outputs": [
    {
     "data": {
      "image/png": "[encoded data removed]",
      "text/plain": [
       "<Figure size 800x250 with 1 Axes>"
      ]
     },
     "metadata": {},
     "output_type": "display_data"
    }
   ],
   "source": [
    "merge_test.plot(ymin=100,ymax=100)"
   ]
  },
  {
   "cell_type": "code",
   "execution_count": 11,
   "metadata": {
    "collapsed": false
   },
   "outputs": [],
   "source": [
    "sp1[abs(sp1) > 300] = 0"
   ]
  },
  {
   "cell_type": "code",
   "execution_count": 12,
   "metadata": {
    "collapsed": false
   },
   "outputs": [
    {
     "data": {
      "text/plain": [
       "[<matplotlib.lines.Line2D at 0x7f1b323b8eb8>]"
      ]
     },
     "execution_count": 12,
     "metadata": {},
     "output_type": "execute_result"
    },
    {
     "data": {
      "image/png": "[encoded data removed]",
      "text/plain": [
       "<Figure size 432x288 with 1 Axes>"
      ]
     },
     "metadata": {},
     "output_type": "display_data"
    }
   ],
   "source": [
    "plt.plot(sp1)"
   ]
  },
  {
   "cell_type": "code",
   "execution_count": 107,
   "metadata": {
    "collapsed": true
   },
   "outputs": [],
   "source": [
    "tfile = op.read('channel_124_clipped.mseed',format='mseed')\n",
    "merge_test = tfile.merge(method=1,fill_value=None)"
   ]
  },
  {
   "cell_type": "code",
   "execution_count": 108,
   "metadata": {
    "collapsed": false
   },
   "outputs": [
    {
     "name": "stderr",
     "output_type": "stream",
     "text": [
      "/home/rmartinshort/anaconda2/envs/python3/lib/python3.6/site-packages/ipykernel/__main__.py:2: RuntimeWarning: invalid value encountered in greater\n",
      "  from ipykernel import kernelapp as app\n"
     ]
    }
   ],
   "source": [
    "data = merge_test[0].data\n",
    "data[abs(data) > 1000] = 0 #simple method might just be to replace obviously bad data with NaN\n",
    "merge_test[0].data = data"
   ]
  },
  {
   "cell_type": "code",
   "execution_count": 111,
   "metadata": {
    "collapsed": false
   },
   "outputs": [
    {
     "data": {
      "image/png": "[encoded data removed]",
      "text/plain": [
       "<Figure size 800x250 with 1 Axes>"
      ]
     },
     "metadata": {},
     "output_type": "display_data"
    }
   ],
   "source": [
    "merge_test[0].plot()"
   ]
  },
  {
   "cell_type": "code",
   "execution_count": 85,
   "metadata": {
    "collapsed": false
   },
   "outputs": [],
   "source": [
    "m1 = merge_test[0].filter('lowpass',freq=0.0001)"
   ]
  },
  {
   "cell_type": "code",
   "execution_count": 86,
   "metadata": {
    "collapsed": false
   },
   "outputs": [
    {
     "name": "stdout",
     "output_type": "stream",
     "text": [
      "2016-09-03T00:00:05.298907Z\n"
     ]
    },
    {
     "data": {
      "image/png": "[encoded data removed]",
      "text/plain": [
       "<Figure size 800x250 with 1 Axes>"
      ]
     },
     "metadata": {},
     "output_type": "display_data"
    }
   ],
   "source": [
    "dt = m1.stats.starttime\n",
    "print(dt)\n",
    "m1.plot(starttime = dt, endtime = dt+(144*3600),number_of_ticks=4)"
   ]
  },
  {
   "cell_type": "code",
   "execution_count": null,
   "metadata": {
    "collapsed": true
   },
   "outputs": [],
   "source": []
  }
 ],
 "metadata": {
  "anaconda-cloud": {},
  "kernelspec": {
   "display_name": "Python [conda env:python3]",
   "language": "python",
   "name": "conda-env-python3-py"
  },
  "language_info": {
   "codemirror_mode": {
    "name": "ipython",
    "version": 3
   },
   "file_extension": ".py",
   "mimetype": "text/x-python",
   "name": "python",
   "nbconvert_exporter": "python",
   "pygments_lexer": "ipython3",
   "version": "3.6.4"
  }
 },
 "nbformat": 4,
 "nbformat_minor": 1
}
