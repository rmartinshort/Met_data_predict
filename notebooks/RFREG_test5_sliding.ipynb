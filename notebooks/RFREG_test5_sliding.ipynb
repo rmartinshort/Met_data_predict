{
 "cells": [
  {
   "cell_type": "markdown",
   "metadata": {},
   "source": [
    "### Random forest classification on a sliding window (20 mins)\n",
    "\n",
    "We start by training on the mean over 20 channels as normal, then we retrain on a dataframe containin each of the \n",
    "channel features. Might want to use PCA to lower the number of features and make the process faster"
   ]
  },
  {
   "cell_type": "code",
   "execution_count": 132,
   "metadata": {
    "collapsed": true
   },
   "outputs": [],
   "source": [
    "import pandas as pd\n",
    "import obspy as op\n",
    "import numpy as np\n",
    "import matplotlib.pyplot as plt\n",
    "from scipy import interpolate\n",
    "import glob\n",
    "%matplotlib inline"
   ]
  },
  {
   "cell_type": "code",
   "execution_count": 133,
   "metadata": {
    "collapsed": true
   },
   "outputs": [],
   "source": [
    "all_data = pd.read_csv(\"Fnames_soilM_temp.csv\")\n",
    "lineCSN = all_data[all_data['Line'] == \"LineCSN\"]\n",
    "\n",
    "#Extract just the soil moisture time series corresponding to probe M3_20\n",
    "lineCSN_M3 = lineCSN[['file_name','DateTime','M3_20_Avg_interp','Temphigh_interp']]\n",
    "lineCSN_M3.reset_index(drop=True,inplace=True)\n",
    "lineCSN_M3.assign(DateTime = pd.to_datetime(lineCSN_M3['DateTime']))\n",
    "lineCSN_M3.set_index('DateTime',inplace=True)\n",
    "#Generate linking column\n",
    "lineCSN_M3 = lineCSN_M3.assign(file_name=lineCSN_M3['file_name'].apply(lambda x: x[2:]))"
   ]
  },
  {
   "cell_type": "code",
   "execution_count": 134,
   "metadata": {
    "collapsed": false
   },
   "outputs": [
    {
     "name": "stdout",
     "output_type": "stream",
     "text": [
      "skewness\n",
      "minimum\n",
      "maximum\n",
      "abs_energy\n",
      "cid_ce\n",
      "median\n",
      "x_crossing_m\n",
      "variance\n",
      "interquartile_range\n",
      "mean_change\n",
      "root_mean_square\n",
      "mean\n",
      "mean_abs_change\n",
      "kurtosis\n"
     ]
    }
   ],
   "source": [
    "feature_files = glob.glob('/home/rmartinshort/Documents/Berkeley/Fiber/data_test/Soil_moisture_predict/rms_sliding_20/*.csv')\n",
    "feature_dfs = []\n",
    "for csv_file in feature_files:\n",
    "    fname = csv_file.split('/')[-1].split('.')[0][:-18]\n",
    "    print(fname)\n",
    "    df = pd.read_csv(csv_file)\n",
    "    df.name = fname\n",
    "    feature_dfs.append(df)"
   ]
  },
  {
   "cell_type": "code",
   "execution_count": 135,
   "metadata": {
    "collapsed": true
   },
   "outputs": [],
   "source": [
    "lineCSN_M3['TTime'] = lineCSN_M3.index"
   ]
  },
  {
   "cell_type": "code",
   "execution_count": 136,
   "metadata": {
    "collapsed": false
   },
   "outputs": [
    {
     "name": "stdout",
     "output_type": "stream",
     "text": [
      "2016-08-05T18:07:38.000000Z\n"
     ]
    }
   ],
   "source": [
    "stime = lineCSN_M3.index[0]\n",
    "print(op.UTCDateTime(stime))"
   ]
  },
  {
   "cell_type": "code",
   "execution_count": 145,
   "metadata": {
    "collapsed": false
   },
   "outputs": [],
   "source": [
    "lineCSN_M3 = lineCSN_M3.assign(tsince_start=lineCSN_M3['TTime'].apply(lambda x: op.UTCDateTime(x) - op.UTCDateTime(stime)))"
   ]
  },
  {
   "cell_type": "code",
   "execution_count": 146,
   "metadata": {
    "collapsed": true
   },
   "outputs": [],
   "source": [
    "f_soilM = interpolate.interp1d(lineCSN_M3['tsince_start'].values,lineCSN_M3['M3_20_Avg_interp'].values)"
   ]
  },
  {
   "cell_type": "code",
   "execution_count": 147,
   "metadata": {
    "collapsed": true
   },
   "outputs": [],
   "source": [
    "f_temp = interpolate.interp1d(lineCSN_M3['tsince_start'].values,lineCSN_M3['Temphigh_interp'].values)"
   ]
  },
  {
   "cell_type": "code",
   "execution_count": 148,
   "metadata": {
    "collapsed": true
   },
   "outputs": [],
   "source": [
    "channels_to_drop = ['time','channel_75','channel_76','channel_77','channel_78','channel_79','channel_90',\n",
    "                   'channel_91','channel_92','channel_93','channel_94']\n",
    "channels_to_drop = ['time']\n",
    "\n",
    "def extract_mean_over_channels(indf):\n",
    "    \n",
    "    newcolname = \"mean_%s\" %indf.name\n",
    "    opdf = indf[['time']]\n",
    "    opdf = opdf.assign(mean_col = indf.drop(channels_to_drop,axis=1).mean(axis=1))\n",
    "    opdf.columns = ['time',newcolname]\n",
    "    \n",
    "    return opdf\n",
    "\n",
    "def extract_specific_channels(indf,channels_to_drop=None):\n",
    "    \n",
    "    newchannames = []\n",
    "    if channels_to_drop:\n",
    "        opdf = indf.drop(channels_to_drop,axis=1)\n",
    "    else:\n",
    "        opdf = indf\n",
    "    for name in opdf.columns:\n",
    "        new_name = \"%s_%s\" %(name,indf.name)\n",
    "        newchannames.append(new_name)\n",
    "        \n",
    "    newchannames[-1] = \"time\"\n",
    "    opdf.columns = newchannames\n",
    "    \n",
    "    return opdf\n",
    "    "
   ]
  },
  {
   "cell_type": "code",
   "execution_count": 149,
   "metadata": {
    "collapsed": true
   },
   "outputs": [],
   "source": [
    "indf = extract_mean_over_channels(feature_dfs[0])"
   ]
  },
  {
   "cell_type": "code",
   "execution_count": 150,
   "metadata": {
    "collapsed": true
   },
   "outputs": [],
   "source": [
    "for feature_df in feature_dfs[1:]:\n",
    "    mean_feature = extract_mean_over_channels(feature_df)\n",
    "    merged_df = pd.merge(indf,mean_feature,on='time')\n",
    "    indf = merged_df"
   ]
  },
  {
   "cell_type": "code",
   "execution_count": 152,
   "metadata": {
    "collapsed": true
   },
   "outputs": [],
   "source": [
    "merged_df = merged_df.assign(tsince_start=merged_df['time'].apply(lambda x: op.UTCDateTime(x)-op.UTCDateTime(stime)))"
   ]
  },
  {
   "cell_type": "code",
   "execution_count": 153,
   "metadata": {
    "collapsed": false
   },
   "outputs": [],
   "source": [
    "merged_df = merged_df.assign(M3_20_Avg_interp=merged_df['tsince_start'].apply(lambda x: f_soilM(x)))\n",
    "merged_df = merged_df.assign(Temphigh_interp=merged_df['tsince_start'].apply(lambda x: f_temp(x)))"
   ]
  },
  {
   "cell_type": "code",
   "execution_count": 154,
   "metadata": {
    "collapsed": true
   },
   "outputs": [],
   "source": [
    "cleaned_df = merged_df.dropna()"
   ]
  },
  {
   "cell_type": "code",
   "execution_count": 155,
   "metadata": {
    "collapsed": false
   },
   "outputs": [
    {
     "data": {
      "text/html": [
       "<div>\n",
       "<style scoped>\n",
       "    .dataframe tbody tr th:only-of-type {\n",
       "        vertical-align: middle;\n",
       "    }\n",
       "\n",
       "    .dataframe tbody tr th {\n",
       "        vertical-align: top;\n",
       "    }\n",
       "\n",
       "    .dataframe thead th {\n",
       "        text-align: right;\n",
       "    }\n",
       "</style>\n",
       "<table border=\"1\" class=\"dataframe\">\n",
       "  <thead>\n",
       "    <tr style=\"text-align: right;\">\n",
       "      <th></th>\n",
       "      <th>time</th>\n",
       "      <th>mean_skewness</th>\n",
       "      <th>mean_minimum</th>\n",
       "      <th>mean_maximum</th>\n",
       "      <th>mean_abs_energy</th>\n",
       "      <th>mean_cid_ce</th>\n",
       "      <th>mean_median</th>\n",
       "      <th>mean_x_crossing_m</th>\n",
       "      <th>mean_variance</th>\n",
       "      <th>mean_interquartile_range</th>\n",
       "      <th>mean_mean_change</th>\n",
       "      <th>mean_root_mean_square</th>\n",
       "      <th>mean_mean</th>\n",
       "      <th>mean_mean_abs_change</th>\n",
       "      <th>mean_kurtosis</th>\n",
       "      <th>tsince_start</th>\n",
       "      <th>M3_20_Avg_interp</th>\n",
       "      <th>Temphigh_interp</th>\n",
       "    </tr>\n",
       "  </thead>\n",
       "  <tbody>\n",
       "    <tr>\n",
       "      <th>0</th>\n",
       "      <td>2016-08-05T18:17:38.969414Z</td>\n",
       "      <td>-0.102126</td>\n",
       "      <td>-721.212663</td>\n",
       "      <td>721.917871</td>\n",
       "      <td>6.229980e+07</td>\n",
       "      <td>11123.971324</td>\n",
       "      <td>-0.226115</td>\n",
       "      <td>25038.300000</td>\n",
       "      <td>1297.811570</td>\n",
       "      <td>17.748537</td>\n",
       "      <td>0.000073</td>\n",
       "      <td>35.560678</td>\n",
       "      <td>-0.285303</td>\n",
       "      <td>26.133418</td>\n",
       "      <td>55.086154</td>\n",
       "      <td>600.969414</td>\n",
       "      <td>0.202815</td>\n",
       "      <td>27.298932</td>\n",
       "    </tr>\n",
       "    <tr>\n",
       "      <th>1</th>\n",
       "      <td>2016-08-05T18:22:38.969779Z</td>\n",
       "      <td>-0.176469</td>\n",
       "      <td>-646.033099</td>\n",
       "      <td>614.683878</td>\n",
       "      <td>4.977081e+07</td>\n",
       "      <td>9806.802398</td>\n",
       "      <td>-0.296379</td>\n",
       "      <td>24711.333333</td>\n",
       "      <td>1036.760648</td>\n",
       "      <td>15.428240</td>\n",
       "      <td>-0.000057</td>\n",
       "      <td>31.809881</td>\n",
       "      <td>-0.347156</td>\n",
       "      <td>22.938461</td>\n",
       "      <td>53.446978</td>\n",
       "      <td>900.969779</td>\n",
       "      <td>0.202685</td>\n",
       "      <td>27.229765</td>\n",
       "    </tr>\n",
       "    <tr>\n",
       "      <th>6</th>\n",
       "      <td>2016-08-05T19:48:23.598811Z</td>\n",
       "      <td>-0.023773</td>\n",
       "      <td>-321.296124</td>\n",
       "      <td>343.750739</td>\n",
       "      <td>5.241238e+07</td>\n",
       "      <td>10945.922959</td>\n",
       "      <td>-0.547330</td>\n",
       "      <td>24952.750000</td>\n",
       "      <td>1091.566702</td>\n",
       "      <td>26.150979</td>\n",
       "      <td>0.000110</td>\n",
       "      <td>32.787194</td>\n",
       "      <td>-0.589998</td>\n",
       "      <td>31.651795</td>\n",
       "      <td>7.951195</td>\n",
       "      <td>6045.598811</td>\n",
       "      <td>0.202000</td>\n",
       "      <td>24.576843</td>\n",
       "    </tr>\n",
       "    <tr>\n",
       "      <th>7</th>\n",
       "      <td>2016-08-05T19:53:23.598811Z</td>\n",
       "      <td>-0.080877</td>\n",
       "      <td>-709.042281</td>\n",
       "      <td>620.679876</td>\n",
       "      <td>5.879731e+07</td>\n",
       "      <td>11738.559725</td>\n",
       "      <td>-0.592309</td>\n",
       "      <td>25200.950000</td>\n",
       "      <td>1224.536531</td>\n",
       "      <td>27.106439</td>\n",
       "      <td>0.000015</td>\n",
       "      <td>34.713965</td>\n",
       "      <td>-0.619898</td>\n",
       "      <td>33.300734</td>\n",
       "      <td>18.225917</td>\n",
       "      <td>6345.598811</td>\n",
       "      <td>0.201611</td>\n",
       "      <td>24.357676</td>\n",
       "    </tr>\n",
       "    <tr>\n",
       "      <th>8</th>\n",
       "      <td>2016-08-05T19:58:23.598811Z</td>\n",
       "      <td>-0.085741</td>\n",
       "      <td>-709.042281</td>\n",
       "      <td>620.679876</td>\n",
       "      <td>5.504165e+07</td>\n",
       "      <td>11315.992374</td>\n",
       "      <td>-0.615109</td>\n",
       "      <td>25282.750000</td>\n",
       "      <td>1146.250556</td>\n",
       "      <td>26.361041</td>\n",
       "      <td>-0.000150</td>\n",
       "      <td>33.518628</td>\n",
       "      <td>-0.638568</td>\n",
       "      <td>32.075065</td>\n",
       "      <td>20.807207</td>\n",
       "      <td>6645.598811</td>\n",
       "      <td>0.201111</td>\n",
       "      <td>24.138510</td>\n",
       "    </tr>\n",
       "  </tbody>\n",
       "</table>\n",
       "</div>"
      ],
      "text/plain": [
       "                          time  mean_skewness  mean_minimum  mean_maximum  \\\n",
       "0  2016-08-05T18:17:38.969414Z      -0.102126   -721.212663    721.917871   \n",
       "1  2016-08-05T18:22:38.969779Z      -0.176469   -646.033099    614.683878   \n",
       "6  2016-08-05T19:48:23.598811Z      -0.023773   -321.296124    343.750739   \n",
       "7  2016-08-05T19:53:23.598811Z      -0.080877   -709.042281    620.679876   \n",
       "8  2016-08-05T19:58:23.598811Z      -0.085741   -709.042281    620.679876   \n",
       "\n",
       "   mean_abs_energy   mean_cid_ce  mean_median  mean_x_crossing_m  \\\n",
       "0     6.229980e+07  11123.971324    -0.226115       25038.300000   \n",
       "1     4.977081e+07   9806.802398    -0.296379       24711.333333   \n",
       "6     5.241238e+07  10945.922959    -0.547330       24952.750000   \n",
       "7     5.879731e+07  11738.559725    -0.592309       25200.950000   \n",
       "8     5.504165e+07  11315.992374    -0.615109       25282.750000   \n",
       "\n",
       "   mean_variance  mean_interquartile_range  mean_mean_change  \\\n",
       "0    1297.811570                 17.748537          0.000073   \n",
       "1    1036.760648                 15.428240         -0.000057   \n",
       "6    1091.566702                 26.150979          0.000110   \n",
       "7    1224.536531                 27.106439          0.000015   \n",
       "8    1146.250556                 26.361041         -0.000150   \n",
       "\n",
       "   mean_root_mean_square  mean_mean  mean_mean_abs_change  mean_kurtosis  \\\n",
       "0              35.560678  -0.285303             26.133418      55.086154   \n",
       "1              31.809881  -0.347156             22.938461      53.446978   \n",
       "6              32.787194  -0.589998             31.651795       7.951195   \n",
       "7              34.713965  -0.619898             33.300734      18.225917   \n",
       "8              33.518628  -0.638568             32.075065      20.807207   \n",
       "\n",
       "   tsince_start  M3_20_Avg_interp  Temphigh_interp  \n",
       "0    600.969414          0.202815        27.298932  \n",
       "1    900.969779          0.202685        27.229765  \n",
       "6   6045.598811          0.202000        24.576843  \n",
       "7   6345.598811          0.201611        24.357676  \n",
       "8   6645.598811          0.201111        24.138510  "
      ]
     },
     "execution_count": 155,
     "metadata": {},
     "output_type": "execute_result"
    }
   ],
   "source": [
    "cleaned_df.head()"
   ]
  },
  {
   "cell_type": "markdown",
   "metadata": {},
   "source": [
    "## Train random forest"
   ]
  },
  {
   "cell_type": "code",
   "execution_count": 156,
   "metadata": {
    "collapsed": true
   },
   "outputs": [],
   "source": [
    "from sklearn.ensemble import RandomForestRegressor\n",
    "from sklearn.model_selection import train_test_split "
   ]
  },
  {
   "cell_type": "code",
   "execution_count": 131,
   "metadata": {
    "collapsed": true
   },
   "outputs": [],
   "source": [
    "y = cleaned_df['M3_20_Avg_interp']\n",
    "X = cleaned_df.drop(['time','tsince_start','M3_20_Avg_interp','Temphigh_interp'],axis=1)"
   ]
  },
  {
   "cell_type": "code",
   "execution_count": 31,
   "metadata": {
    "collapsed": true
   },
   "outputs": [],
   "source": [
    "X_train, X_test, y_train, y_test = train_test_split(X,y,test_size=0.3)\n",
    "regr = RandomForestRegressor(n_estimators=800,min_samples_leaf=1,oob_score=True,n_jobs=2)"
   ]
  },
  {
   "cell_type": "code",
   "execution_count": 32,
   "metadata": {
    "collapsed": false
   },
   "outputs": [
    {
     "data": {
      "text/plain": [
       "RandomForestRegressor(bootstrap=True, criterion='mse', max_depth=None,\n",
       "           max_features='auto', max_leaf_nodes=None,\n",
       "           min_impurity_decrease=0.0, min_impurity_split=None,\n",
       "           min_samples_leaf=1, min_samples_split=2,\n",
       "           min_weight_fraction_leaf=0.0, n_estimators=800, n_jobs=2,\n",
       "           oob_score=True, random_state=None, verbose=0, warm_start=False)"
      ]
     },
     "execution_count": 32,
     "metadata": {},
     "output_type": "execute_result"
    }
   ],
   "source": [
    "regr.fit(X_train,y_train)"
   ]
  },
  {
   "cell_type": "code",
   "execution_count": 33,
   "metadata": {
    "collapsed": false
   },
   "outputs": [
    {
     "name": "stdout",
     "output_type": "stream",
     "text": [
      "[0.07932216 0.07502757 0.07264626 0.02577912 0.04755734 0.10880052\n",
      " 0.13156659 0.02615359 0.09942392 0.060811   0.03624954 0.11106833\n",
      " 0.05070572 0.07488834]\n",
      "0.31513684368857564\n"
     ]
    }
   ],
   "source": [
    "print(regr.feature_importances_)\n",
    "print(regr.oob_score_)"
   ]
  },
  {
   "cell_type": "code",
   "execution_count": 34,
   "metadata": {
    "collapsed": false
   },
   "outputs": [
    {
     "data": {
      "text/plain": [
       "0.3123606682464922"
      ]
     },
     "execution_count": 34,
     "metadata": {},
     "output_type": "execute_result"
    }
   ],
   "source": [
    "regr.score(X_test,y_test)"
   ]
  },
  {
   "cell_type": "code",
   "execution_count": 35,
   "metadata": {
    "collapsed": true
   },
   "outputs": [],
   "source": [
    "regr_pred = regr.predict(X_test)"
   ]
  },
  {
   "cell_type": "code",
   "execution_count": 36,
   "metadata": {
    "collapsed": false
   },
   "outputs": [
    {
     "data": {
      "image/png": "[encoded data removed]",
      "text/plain": [
       "<Figure size 720x432 with 1 Axes>"
      ]
     },
     "metadata": {},
     "output_type": "display_data"
    }
   ],
   "source": [
    "plt.figure(figsize=(10,6))\n",
    "plt.title('M3_20 soil moisture predictions vs observations')\n",
    "plt.plot(regr_pred,y_test,'r.')\n",
    "plt.xlabel('Prediction')\n",
    "plt.ylabel('Observation')\n",
    "plt.grid()\n",
    "plt.savefig('soil_moisture_prediction_sliding_window.png')"
   ]
  },
  {
   "cell_type": "markdown",
   "metadata": {},
   "source": [
    "### This is slightly better - it seems that averging over long timseries is a good way preventing noise in the DAS recordings from affecting the results too much"
   ]
  },
  {
   "cell_type": "markdown",
   "metadata": {},
   "source": [
    "### What about the temperature timseries?"
   ]
  },
  {
   "cell_type": "code",
   "execution_count": 157,
   "metadata": {
    "collapsed": true
   },
   "outputs": [],
   "source": [
    "y = cleaned_df['Temphigh_interp']\n",
    "X = cleaned_df.drop(['time','tsince_start','M3_20_Avg_interp','Temphigh_interp'],axis=1)"
   ]
  },
  {
   "cell_type": "code",
   "execution_count": 158,
   "metadata": {
    "collapsed": true
   },
   "outputs": [],
   "source": [
    "X_train, X_test, y_train, y_test = train_test_split(X,y,test_size=0.3)\n",
    "regr = RandomForestRegressor(n_estimators=800,min_samples_leaf=1,oob_score=True,n_jobs=2)"
   ]
  },
  {
   "cell_type": "code",
   "execution_count": 160,
   "metadata": {
    "collapsed": false
   },
   "outputs": [
    {
     "data": {
      "text/plain": [
       "RandomForestRegressor(bootstrap=True, criterion='mse', max_depth=None,\n",
       "           max_features='auto', max_leaf_nodes=None,\n",
       "           min_impurity_decrease=0.0, min_impurity_split=None,\n",
       "           min_samples_leaf=1, min_samples_split=2,\n",
       "           min_weight_fraction_leaf=0.0, n_estimators=800, n_jobs=2,\n",
       "           oob_score=True, random_state=None, verbose=0, warm_start=False)"
      ]
     },
     "execution_count": 160,
     "metadata": {},
     "output_type": "execute_result"
    }
   ],
   "source": [
    "regr.fit(X_train,y_train)"
   ]
  },
  {
   "cell_type": "code",
   "execution_count": 161,
   "metadata": {
    "collapsed": false
   },
   "outputs": [
    {
     "name": "stdout",
     "output_type": "stream",
     "text": [
      "[0.06815691 0.06508013 0.06157914 0.0173012  0.03434344 0.1056264\n",
      " 0.22986218 0.01706309 0.07881565 0.04814048 0.02192402 0.11467565\n",
      " 0.03802034 0.09941138]\n",
      "0.47505067791981326\n"
     ]
    }
   ],
   "source": [
    "print(regr.feature_importances_)\n",
    "print(regr.oob_score_)"
   ]
  },
  {
   "cell_type": "code",
   "execution_count": 163,
   "metadata": {
    "collapsed": true
   },
   "outputs": [],
   "source": [
    "regr_pred = regr.predict(X_test)"
   ]
  },
  {
   "cell_type": "code",
   "execution_count": 164,
   "metadata": {
    "collapsed": false
   },
   "outputs": [
    {
     "data": {
      "image/png": "[encoded data removed]",
      "text/plain": [
       "<Figure size 720x432 with 1 Axes>"
      ]
     },
     "metadata": {},
     "output_type": "display_data"
    }
   ],
   "source": [
    "plt.figure(figsize=(10,6))\n",
    "plt.title('Temperature predictions vs observations')\n",
    "plt.plot(regr_pred,y_test,'b.')\n",
    "plt.xlabel('Prediction')\n",
    "plt.ylabel('Observation')\n",
    "plt.grid()\n",
    "plt.savefig('soil_moisture_prediction_sliding_window.png')"
   ]
  },
  {
   "cell_type": "markdown",
   "metadata": {},
   "source": [
    "Again, the x crossing rate appears to be the most important feature, suggesting that we need to look into more frequency features. Lets first do this by assessing their ability to operate on some timeseries with known characteristics"
   ]
  },
  {
   "cell_type": "markdown",
   "metadata": {},
   "source": [
    "What if we decide to train on the un-averged features? "
   ]
  },
  {
   "cell_type": "code",
   "execution_count": 68,
   "metadata": {
    "collapsed": false
   },
   "outputs": [],
   "source": [
    "odf = extract_specific_channels(feature_dfs[0],channels_to_drop = ['channel_75','channel_76','channel_77','channel_78','channel_79','channel_90',\n",
    "                   'channel_91','channel_92','channel_93','channel_94'])"
   ]
  },
  {
   "cell_type": "code",
   "execution_count": 69,
   "metadata": {
    "collapsed": false
   },
   "outputs": [],
   "source": [
    "for feature_df in feature_dfs[1:]:\n",
    "       \n",
    "    selected_features_df = extract_specific_channels(feature_df,channels_to_drop=['channel_75','channel_76',\n",
    "    'channel_77','channel_78','channel_79','channel_90','channel_91','channel_92','channel_93','channel_94'])\n",
    "    \n",
    "    merged_df = pd.merge(odf,selected_features_df,on='time')\n",
    "    odf = merged_df"
   ]
  },
  {
   "cell_type": "code",
   "execution_count": 70,
   "metadata": {
    "collapsed": false
   },
   "outputs": [
    {
     "data": {
      "text/html": [
       "<div>\n",
       "<style scoped>\n",
       "    .dataframe tbody tr th:only-of-type {\n",
       "        vertical-align: middle;\n",
       "    }\n",
       "\n",
       "    .dataframe tbody tr th {\n",
       "        vertical-align: top;\n",
       "    }\n",
       "\n",
       "    .dataframe thead th {\n",
       "        text-align: right;\n",
       "    }\n",
       "</style>\n",
       "<table border=\"1\" class=\"dataframe\">\n",
       "  <thead>\n",
       "    <tr style=\"text-align: right;\">\n",
       "      <th></th>\n",
       "      <th>channel_80_skewness</th>\n",
       "      <th>channel_81_skewness</th>\n",
       "      <th>channel_82_skewness</th>\n",
       "      <th>channel_83_skewness</th>\n",
       "      <th>channel_84_skewness</th>\n",
       "      <th>channel_85_skewness</th>\n",
       "      <th>channel_86_skewness</th>\n",
       "      <th>channel_87_skewness</th>\n",
       "      <th>channel_88_skewness</th>\n",
       "      <th>channel_89_skewness</th>\n",
       "      <th>...</th>\n",
       "      <th>channel_80_kurtosis</th>\n",
       "      <th>channel_81_kurtosis</th>\n",
       "      <th>channel_82_kurtosis</th>\n",
       "      <th>channel_83_kurtosis</th>\n",
       "      <th>channel_84_kurtosis</th>\n",
       "      <th>channel_85_kurtosis</th>\n",
       "      <th>channel_86_kurtosis</th>\n",
       "      <th>channel_87_kurtosis</th>\n",
       "      <th>channel_88_kurtosis</th>\n",
       "      <th>channel_89_kurtosis</th>\n",
       "    </tr>\n",
       "  </thead>\n",
       "  <tbody>\n",
       "    <tr>\n",
       "      <th>0</th>\n",
       "      <td>0.048278</td>\n",
       "      <td>-0.128039</td>\n",
       "      <td>-0.097322</td>\n",
       "      <td>-0.137754</td>\n",
       "      <td>-0.231239</td>\n",
       "      <td>-0.293718</td>\n",
       "      <td>-0.232668</td>\n",
       "      <td>-0.353032</td>\n",
       "      <td>-0.527534</td>\n",
       "      <td>-0.301697</td>\n",
       "      <td>...</td>\n",
       "      <td>46.094891</td>\n",
       "      <td>42.036151</td>\n",
       "      <td>46.544626</td>\n",
       "      <td>60.468981</td>\n",
       "      <td>64.740819</td>\n",
       "      <td>63.238401</td>\n",
       "      <td>64.539676</td>\n",
       "      <td>61.324153</td>\n",
       "      <td>58.138433</td>\n",
       "      <td>50.373765</td>\n",
       "    </tr>\n",
       "    <tr>\n",
       "      <th>1</th>\n",
       "      <td>0.043735</td>\n",
       "      <td>-0.150696</td>\n",
       "      <td>-0.092640</td>\n",
       "      <td>-0.168818</td>\n",
       "      <td>NaN</td>\n",
       "      <td>-0.324368</td>\n",
       "      <td>NaN</td>\n",
       "      <td>NaN</td>\n",
       "      <td>-0.581619</td>\n",
       "      <td>-0.343729</td>\n",
       "      <td>...</td>\n",
       "      <td>48.173860</td>\n",
       "      <td>41.576663</td>\n",
       "      <td>47.293230</td>\n",
       "      <td>61.973816</td>\n",
       "      <td>NaN</td>\n",
       "      <td>71.118093</td>\n",
       "      <td>NaN</td>\n",
       "      <td>NaN</td>\n",
       "      <td>63.179471</td>\n",
       "      <td>56.502916</td>\n",
       "    </tr>\n",
       "    <tr>\n",
       "      <th>2</th>\n",
       "      <td>NaN</td>\n",
       "      <td>NaN</td>\n",
       "      <td>NaN</td>\n",
       "      <td>NaN</td>\n",
       "      <td>NaN</td>\n",
       "      <td>NaN</td>\n",
       "      <td>NaN</td>\n",
       "      <td>NaN</td>\n",
       "      <td>NaN</td>\n",
       "      <td>NaN</td>\n",
       "      <td>...</td>\n",
       "      <td>NaN</td>\n",
       "      <td>NaN</td>\n",
       "      <td>NaN</td>\n",
       "      <td>NaN</td>\n",
       "      <td>NaN</td>\n",
       "      <td>NaN</td>\n",
       "      <td>NaN</td>\n",
       "      <td>NaN</td>\n",
       "      <td>NaN</td>\n",
       "      <td>NaN</td>\n",
       "    </tr>\n",
       "    <tr>\n",
       "      <th>3</th>\n",
       "      <td>NaN</td>\n",
       "      <td>NaN</td>\n",
       "      <td>NaN</td>\n",
       "      <td>NaN</td>\n",
       "      <td>NaN</td>\n",
       "      <td>NaN</td>\n",
       "      <td>NaN</td>\n",
       "      <td>NaN</td>\n",
       "      <td>NaN</td>\n",
       "      <td>NaN</td>\n",
       "      <td>...</td>\n",
       "      <td>NaN</td>\n",
       "      <td>NaN</td>\n",
       "      <td>NaN</td>\n",
       "      <td>NaN</td>\n",
       "      <td>NaN</td>\n",
       "      <td>NaN</td>\n",
       "      <td>NaN</td>\n",
       "      <td>NaN</td>\n",
       "      <td>NaN</td>\n",
       "      <td>NaN</td>\n",
       "    </tr>\n",
       "    <tr>\n",
       "      <th>4</th>\n",
       "      <td>NaN</td>\n",
       "      <td>NaN</td>\n",
       "      <td>NaN</td>\n",
       "      <td>NaN</td>\n",
       "      <td>NaN</td>\n",
       "      <td>NaN</td>\n",
       "      <td>NaN</td>\n",
       "      <td>NaN</td>\n",
       "      <td>NaN</td>\n",
       "      <td>NaN</td>\n",
       "      <td>...</td>\n",
       "      <td>NaN</td>\n",
       "      <td>NaN</td>\n",
       "      <td>NaN</td>\n",
       "      <td>NaN</td>\n",
       "      <td>NaN</td>\n",
       "      <td>NaN</td>\n",
       "      <td>NaN</td>\n",
       "      <td>NaN</td>\n",
       "      <td>NaN</td>\n",
       "      <td>NaN</td>\n",
       "    </tr>\n",
       "  </tbody>\n",
       "</table>\n",
       "<p>5 rows × 141 columns</p>\n",
       "</div>"
      ],
      "text/plain": [
       "   channel_80_skewness  channel_81_skewness  channel_82_skewness  \\\n",
       "0             0.048278            -0.128039            -0.097322   \n",
       "1             0.043735            -0.150696            -0.092640   \n",
       "2                  NaN                  NaN                  NaN   \n",
       "3                  NaN                  NaN                  NaN   \n",
       "4                  NaN                  NaN                  NaN   \n",
       "\n",
       "   channel_83_skewness  channel_84_skewness  channel_85_skewness  \\\n",
       "0            -0.137754            -0.231239            -0.293718   \n",
       "1            -0.168818                  NaN            -0.324368   \n",
       "2                  NaN                  NaN                  NaN   \n",
       "3                  NaN                  NaN                  NaN   \n",
       "4                  NaN                  NaN                  NaN   \n",
       "\n",
       "   channel_86_skewness  channel_87_skewness  channel_88_skewness  \\\n",
       "0            -0.232668            -0.353032            -0.527534   \n",
       "1                  NaN                  NaN            -0.581619   \n",
       "2                  NaN                  NaN                  NaN   \n",
       "3                  NaN                  NaN                  NaN   \n",
       "4                  NaN                  NaN                  NaN   \n",
       "\n",
       "   channel_89_skewness         ...          channel_80_kurtosis  \\\n",
       "0            -0.301697         ...                    46.094891   \n",
       "1            -0.343729         ...                    48.173860   \n",
       "2                  NaN         ...                          NaN   \n",
       "3                  NaN         ...                          NaN   \n",
       "4                  NaN         ...                          NaN   \n",
       "\n",
       "   channel_81_kurtosis  channel_82_kurtosis  channel_83_kurtosis  \\\n",
       "0            42.036151            46.544626            60.468981   \n",
       "1            41.576663            47.293230            61.973816   \n",
       "2                  NaN                  NaN                  NaN   \n",
       "3                  NaN                  NaN                  NaN   \n",
       "4                  NaN                  NaN                  NaN   \n",
       "\n",
       "   channel_84_kurtosis  channel_85_kurtosis  channel_86_kurtosis  \\\n",
       "0            64.740819            63.238401            64.539676   \n",
       "1                  NaN            71.118093                  NaN   \n",
       "2                  NaN                  NaN                  NaN   \n",
       "3                  NaN                  NaN                  NaN   \n",
       "4                  NaN                  NaN                  NaN   \n",
       "\n",
       "   channel_87_kurtosis  channel_88_kurtosis  channel_89_kurtosis  \n",
       "0            61.324153            58.138433            50.373765  \n",
       "1                  NaN            63.179471            56.502916  \n",
       "2                  NaN                  NaN                  NaN  \n",
       "3                  NaN                  NaN                  NaN  \n",
       "4                  NaN                  NaN                  NaN  \n",
       "\n",
       "[5 rows x 141 columns]"
      ]
     },
     "execution_count": 70,
     "metadata": {},
     "output_type": "execute_result"
    }
   ],
   "source": [
    "merged_df.head()"
   ]
  },
  {
   "cell_type": "code",
   "execution_count": 72,
   "metadata": {
    "collapsed": true
   },
   "outputs": [],
   "source": [
    "merged_df = merged_df.assign(tsince_start=merged_df['time'].apply(lambda x: op.UTCDateTime(x)-op.UTCDateTime(stime)))"
   ]
  },
  {
   "cell_type": "code",
   "execution_count": 73,
   "metadata": {
    "collapsed": false
   },
   "outputs": [],
   "source": [
    "merged_df = merged_df.assign(M3_20_Avg_interp=merged_df['tsince_start'].apply(lambda x: f_soilM(x)))\n",
    "merged_df = merged_df.assign(Temphigh_interp=merged_df['tsince_start'].apply(lambda x: f_temp(x)))"
   ]
  },
  {
   "cell_type": "code",
   "execution_count": 74,
   "metadata": {
    "collapsed": true
   },
   "outputs": [],
   "source": [
    "cleaned_df = merged_df.dropna()"
   ]
  },
  {
   "cell_type": "code",
   "execution_count": 75,
   "metadata": {
    "collapsed": false
   },
   "outputs": [
    {
     "data": {
      "text/html": [
       "<div>\n",
       "<style scoped>\n",
       "    .dataframe tbody tr th:only-of-type {\n",
       "        vertical-align: middle;\n",
       "    }\n",
       "\n",
       "    .dataframe tbody tr th {\n",
       "        vertical-align: top;\n",
       "    }\n",
       "\n",
       "    .dataframe thead th {\n",
       "        text-align: right;\n",
       "    }\n",
       "</style>\n",
       "<table border=\"1\" class=\"dataframe\">\n",
       "  <thead>\n",
       "    <tr style=\"text-align: right;\">\n",
       "      <th></th>\n",
       "      <th>channel_80_skewness</th>\n",
       "      <th>channel_81_skewness</th>\n",
       "      <th>channel_82_skewness</th>\n",
       "      <th>channel_83_skewness</th>\n",
       "      <th>channel_84_skewness</th>\n",
       "      <th>channel_85_skewness</th>\n",
       "      <th>channel_86_skewness</th>\n",
       "      <th>channel_87_skewness</th>\n",
       "      <th>channel_88_skewness</th>\n",
       "      <th>channel_89_skewness</th>\n",
       "      <th>...</th>\n",
       "      <th>channel_83_kurtosis</th>\n",
       "      <th>channel_84_kurtosis</th>\n",
       "      <th>channel_85_kurtosis</th>\n",
       "      <th>channel_86_kurtosis</th>\n",
       "      <th>channel_87_kurtosis</th>\n",
       "      <th>channel_88_kurtosis</th>\n",
       "      <th>channel_89_kurtosis</th>\n",
       "      <th>tsince_start</th>\n",
       "      <th>M3_20_Avg_interp</th>\n",
       "      <th>Temphigh_interp</th>\n",
       "    </tr>\n",
       "  </thead>\n",
       "  <tbody>\n",
       "    <tr>\n",
       "      <th>0</th>\n",
       "      <td>0.048278</td>\n",
       "      <td>-0.128039</td>\n",
       "      <td>-0.097322</td>\n",
       "      <td>-0.137754</td>\n",
       "      <td>-0.231239</td>\n",
       "      <td>-0.293718</td>\n",
       "      <td>-0.232668</td>\n",
       "      <td>-0.353032</td>\n",
       "      <td>-0.527534</td>\n",
       "      <td>-0.301697</td>\n",
       "      <td>...</td>\n",
       "      <td>60.468981</td>\n",
       "      <td>64.740819</td>\n",
       "      <td>63.238401</td>\n",
       "      <td>64.539676</td>\n",
       "      <td>61.324153</td>\n",
       "      <td>58.138433</td>\n",
       "      <td>50.373765</td>\n",
       "      <td>600.969414</td>\n",
       "      <td>0.202815</td>\n",
       "      <td>27.298932</td>\n",
       "    </tr>\n",
       "    <tr>\n",
       "      <th>6</th>\n",
       "      <td>-0.118903</td>\n",
       "      <td>-0.050880</td>\n",
       "      <td>-0.009186</td>\n",
       "      <td>0.006572</td>\n",
       "      <td>-0.031760</td>\n",
       "      <td>-0.125612</td>\n",
       "      <td>-0.038533</td>\n",
       "      <td>-0.003285</td>\n",
       "      <td>-0.001237</td>\n",
       "      <td>0.149073</td>\n",
       "      <td>...</td>\n",
       "      <td>6.865606</td>\n",
       "      <td>7.334290</td>\n",
       "      <td>7.864937</td>\n",
       "      <td>8.046721</td>\n",
       "      <td>7.949246</td>\n",
       "      <td>7.875190</td>\n",
       "      <td>7.534895</td>\n",
       "      <td>6045.598811</td>\n",
       "      <td>0.202000</td>\n",
       "      <td>24.576843</td>\n",
       "    </tr>\n",
       "    <tr>\n",
       "      <th>7</th>\n",
       "      <td>-0.528276</td>\n",
       "      <td>-0.247568</td>\n",
       "      <td>-0.013790</td>\n",
       "      <td>-0.122988</td>\n",
       "      <td>-0.340520</td>\n",
       "      <td>-0.361593</td>\n",
       "      <td>-0.424579</td>\n",
       "      <td>-0.366482</td>\n",
       "      <td>-0.244242</td>\n",
       "      <td>0.257232</td>\n",
       "      <td>...</td>\n",
       "      <td>12.284188</td>\n",
       "      <td>16.737169</td>\n",
       "      <td>23.842672</td>\n",
       "      <td>25.545855</td>\n",
       "      <td>22.256889</td>\n",
       "      <td>20.810494</td>\n",
       "      <td>14.902438</td>\n",
       "      <td>6345.598811</td>\n",
       "      <td>0.201611</td>\n",
       "      <td>24.357676</td>\n",
       "    </tr>\n",
       "    <tr>\n",
       "      <th>8</th>\n",
       "      <td>-0.561823</td>\n",
       "      <td>-0.228582</td>\n",
       "      <td>0.014711</td>\n",
       "      <td>-0.190491</td>\n",
       "      <td>-0.439092</td>\n",
       "      <td>-0.408359</td>\n",
       "      <td>-0.396740</td>\n",
       "      <td>-0.362315</td>\n",
       "      <td>-0.231320</td>\n",
       "      <td>0.305951</td>\n",
       "      <td>...</td>\n",
       "      <td>14.184019</td>\n",
       "      <td>18.928839</td>\n",
       "      <td>26.318064</td>\n",
       "      <td>27.462911</td>\n",
       "      <td>24.683663</td>\n",
       "      <td>22.355252</td>\n",
       "      <td>16.032041</td>\n",
       "      <td>6645.598811</td>\n",
       "      <td>0.201111</td>\n",
       "      <td>24.138510</td>\n",
       "    </tr>\n",
       "    <tr>\n",
       "      <th>9</th>\n",
       "      <td>-0.426245</td>\n",
       "      <td>-0.152872</td>\n",
       "      <td>0.074958</td>\n",
       "      <td>-0.131110</td>\n",
       "      <td>-0.418816</td>\n",
       "      <td>-0.427152</td>\n",
       "      <td>-0.359166</td>\n",
       "      <td>-0.342466</td>\n",
       "      <td>-0.200984</td>\n",
       "      <td>0.280799</td>\n",
       "      <td>...</td>\n",
       "      <td>16.107993</td>\n",
       "      <td>22.077570</td>\n",
       "      <td>29.223632</td>\n",
       "      <td>28.434401</td>\n",
       "      <td>26.310867</td>\n",
       "      <td>23.792393</td>\n",
       "      <td>18.018454</td>\n",
       "      <td>6945.598811</td>\n",
       "      <td>0.201000</td>\n",
       "      <td>23.989423</td>\n",
       "    </tr>\n",
       "  </tbody>\n",
       "</table>\n",
       "<p>5 rows × 144 columns</p>\n",
       "</div>"
      ],
      "text/plain": [
       "   channel_80_skewness  channel_81_skewness  channel_82_skewness  \\\n",
       "0             0.048278            -0.128039            -0.097322   \n",
       "6            -0.118903            -0.050880            -0.009186   \n",
       "7            -0.528276            -0.247568            -0.013790   \n",
       "8            -0.561823            -0.228582             0.014711   \n",
       "9            -0.426245            -0.152872             0.074958   \n",
       "\n",
       "   channel_83_skewness  channel_84_skewness  channel_85_skewness  \\\n",
       "0            -0.137754            -0.231239            -0.293718   \n",
       "6             0.006572            -0.031760            -0.125612   \n",
       "7            -0.122988            -0.340520            -0.361593   \n",
       "8            -0.190491            -0.439092            -0.408359   \n",
       "9            -0.131110            -0.418816            -0.427152   \n",
       "\n",
       "   channel_86_skewness  channel_87_skewness  channel_88_skewness  \\\n",
       "0            -0.232668            -0.353032            -0.527534   \n",
       "6            -0.038533            -0.003285            -0.001237   \n",
       "7            -0.424579            -0.366482            -0.244242   \n",
       "8            -0.396740            -0.362315            -0.231320   \n",
       "9            -0.359166            -0.342466            -0.200984   \n",
       "\n",
       "   channel_89_skewness       ...        channel_83_kurtosis  \\\n",
       "0            -0.301697       ...                  60.468981   \n",
       "6             0.149073       ...                   6.865606   \n",
       "7             0.257232       ...                  12.284188   \n",
       "8             0.305951       ...                  14.184019   \n",
       "9             0.280799       ...                  16.107993   \n",
       "\n",
       "   channel_84_kurtosis  channel_85_kurtosis  channel_86_kurtosis  \\\n",
       "0            64.740819            63.238401            64.539676   \n",
       "6             7.334290             7.864937             8.046721   \n",
       "7            16.737169            23.842672            25.545855   \n",
       "8            18.928839            26.318064            27.462911   \n",
       "9            22.077570            29.223632            28.434401   \n",
       "\n",
       "   channel_87_kurtosis  channel_88_kurtosis  channel_89_kurtosis  \\\n",
       "0            61.324153            58.138433            50.373765   \n",
       "6             7.949246             7.875190             7.534895   \n",
       "7            22.256889            20.810494            14.902438   \n",
       "8            24.683663            22.355252            16.032041   \n",
       "9            26.310867            23.792393            18.018454   \n",
       "\n",
       "   tsince_start  M3_20_Avg_interp  Temphigh_interp  \n",
       "0    600.969414          0.202815        27.298932  \n",
       "6   6045.598811          0.202000        24.576843  \n",
       "7   6345.598811          0.201611        24.357676  \n",
       "8   6645.598811          0.201111        24.138510  \n",
       "9   6945.598811          0.201000        23.989423  \n",
       "\n",
       "[5 rows x 144 columns]"
      ]
     },
     "execution_count": 75,
     "metadata": {},
     "output_type": "execute_result"
    }
   ],
   "source": [
    "cleaned_df.head()"
   ]
  },
  {
   "cell_type": "markdown",
   "metadata": {},
   "source": [
    "### Train random forest using all of channels as features \n",
    "\n",
    "This will probably take a long time: Could use PCA to try to reduce the number of features to train on?"
   ]
  },
  {
   "cell_type": "code",
   "execution_count": 76,
   "metadata": {
    "collapsed": true
   },
   "outputs": [],
   "source": [
    "y = cleaned_df['M3_20_Avg_interp']\n",
    "X = cleaned_df.drop(['time','tsince_start','M3_20_Avg_interp','Temphigh_interp'],axis=1)"
   ]
  },
  {
   "cell_type": "code",
   "execution_count": 90,
   "metadata": {
    "collapsed": true
   },
   "outputs": [],
   "source": [
    "X_train, X_test, y_train, y_test = train_test_split(X,y,test_size=0.3)\n",
    "regr = RandomForestRegressor(n_estimators=800,min_samples_leaf=1,oob_score=True,n_jobs=2)"
   ]
  },
  {
   "cell_type": "code",
   "execution_count": 91,
   "metadata": {
    "collapsed": false
   },
   "outputs": [
    {
     "data": {
      "text/plain": [
       "RandomForestRegressor(bootstrap=True, criterion='mse', max_depth=None,\n",
       "           max_features='auto', max_leaf_nodes=None,\n",
       "           min_impurity_decrease=0.0, min_impurity_split=None,\n",
       "           min_samples_leaf=1, min_samples_split=2,\n",
       "           min_weight_fraction_leaf=0.0, n_estimators=800, n_jobs=2,\n",
       "           oob_score=True, random_state=None, verbose=0, warm_start=False)"
      ]
     },
     "execution_count": 91,
     "metadata": {},
     "output_type": "execute_result"
    }
   ],
   "source": [
    "regr.fit(X_train,y_train)"
   ]
  },
  {
   "cell_type": "code",
   "execution_count": 92,
   "metadata": {
    "collapsed": false
   },
   "outputs": [
    {
     "name": "stdout",
     "output_type": "stream",
     "text": [
      "[0.01462327 0.01392137 0.0104756  0.01072374 0.01023498 0.00933982\n",
      " 0.01119172 0.00988577 0.00854739 0.01143941 0.00804951 0.01023869\n",
      " 0.00972524 0.00709346 0.00857977 0.00911884 0.00558513 0.0063994\n",
      " 0.00534381 0.00819704 0.0095898  0.01086719 0.01365803 0.00726483\n",
      " 0.00660836 0.00663864 0.00540029 0.00634393 0.00587428 0.0074551\n",
      " 0.00387808 0.00280628 0.00211029 0.00174508 0.00152393 0.00203583\n",
      " 0.0018649  0.00170608 0.0046317  0.0032017  0.01336474 0.01387765\n",
      " 0.00632447 0.00492205 0.00233121 0.00344246 0.00302782 0.00251014\n",
      " 0.00391457 0.00500618 0.01574056 0.00889696 0.00741722 0.00779396\n",
      " 0.00856427 0.00740103 0.00929486 0.0086252  0.00889769 0.00659671\n",
      " 0.01271237 0.01241649 0.01395084 0.01632655 0.01174362 0.0260901\n",
      " 0.02202371 0.02872788 0.01839354 0.02463629 0.00432162 0.00283028\n",
      " 0.00221919 0.00188581 0.00156457 0.00231271 0.00212856 0.00179999\n",
      " 0.00615231 0.0039336  0.00746268 0.00483634 0.00537093 0.00479324\n",
      " 0.00486361 0.00403474 0.00394029 0.0050383  0.01129112 0.00887728\n",
      " 0.00496354 0.00387002 0.00370256 0.00386246 0.00330074 0.00306863\n",
      " 0.00311804 0.00319939 0.00345858 0.00458649 0.00418313 0.00275131\n",
      " 0.00232798 0.00182482 0.00156066 0.00193998 0.00174324 0.00162305\n",
      " 0.00451366 0.00309575 0.01077629 0.00733513 0.0071845  0.0089109\n",
      " 0.00500213 0.00860648 0.00961304 0.0086892  0.0189671  0.00964181\n",
      " 0.01796564 0.01938534 0.00582471 0.00532833 0.00297238 0.00317507\n",
      " 0.00326875 0.00442216 0.00657571 0.00586723 0.00845391 0.00642645\n",
      " 0.00497513 0.00471284 0.00356521 0.00348273 0.00354147 0.00370486\n",
      " 0.00437182 0.00601305]\n",
      "0.47936368158742015\n"
     ]
    }
   ],
   "source": [
    "print(regr.feature_importances_)\n",
    "print(regr.oob_score_)"
   ]
  },
  {
   "cell_type": "code",
   "execution_count": 93,
   "metadata": {
    "collapsed": false
   },
   "outputs": [
    {
     "data": {
      "text/plain": [
       "0.5307169255747106"
      ]
     },
     "execution_count": 93,
     "metadata": {},
     "output_type": "execute_result"
    }
   ],
   "source": [
    "regr.score(X_test,y_test)"
   ]
  },
  {
   "cell_type": "code",
   "execution_count": 94,
   "metadata": {
    "collapsed": true
   },
   "outputs": [],
   "source": [
    "regr_pred = regr.predict(X_test)"
   ]
  },
  {
   "cell_type": "code",
   "execution_count": 95,
   "metadata": {
    "collapsed": false
   },
   "outputs": [
    {
     "data": {
      "image/png": "[encoded data removed]",
      "text/plain": [
       "<Figure size 720x432 with 1 Axes>"
      ]
     },
     "metadata": {},
     "output_type": "display_data"
    }
   ],
   "source": [
    "plt.figure(figsize=(10,6))\n",
    "plt.title('M3_20 soil moisture predictions vs observations')\n",
    "plt.plot(regr_pred,y_test,'r.')\n",
    "plt.xlabel('Prediction')\n",
    "plt.ylabel('Observation')\n",
    "plt.grid()\n",
    "plt.savefig('soil_moisture_prediction_sliding_window.png')"
   ]
  },
  {
   "cell_type": "markdown",
   "metadata": {},
   "source": [
    "Using more features produces a better result! "
   ]
  },
  {
   "cell_type": "markdown",
   "metadata": {},
   "source": [
    "What happens if we use more?"
   ]
  },
  {
   "cell_type": "code",
   "execution_count": 97,
   "metadata": {
    "collapsed": true
   },
   "outputs": [],
   "source": [
    "odf = extract_specific_channels(feature_dfs[0])"
   ]
  },
  {
   "cell_type": "code",
   "execution_count": 98,
   "metadata": {
    "collapsed": true
   },
   "outputs": [],
   "source": [
    "for feature_df in feature_dfs[1:]:\n",
    "       \n",
    "    selected_features_df = extract_specific_channels(feature_df)\n",
    "    \n",
    "    merged_df = pd.merge(odf,selected_features_df,on='time')\n",
    "    odf = merged_df"
   ]
  },
  {
   "cell_type": "code",
   "execution_count": 99,
   "metadata": {
    "collapsed": true
   },
   "outputs": [],
   "source": [
    "merged_df = merged_df.assign(tsince_start=merged_df['time'].apply(lambda x: op.UTCDateTime(x)-op.UTCDateTime(stime)))"
   ]
  },
  {
   "cell_type": "code",
   "execution_count": 100,
   "metadata": {
    "collapsed": true
   },
   "outputs": [],
   "source": [
    "merged_df = merged_df.assign(M3_20_Avg_interp=merged_df['tsince_start'].apply(lambda x: f_soilM(x)))\n",
    "merged_df = merged_df.assign(Temphigh_interp=merged_df['tsince_start'].apply(lambda x: f_temp(x)))"
   ]
  },
  {
   "cell_type": "code",
   "execution_count": 101,
   "metadata": {
    "collapsed": true
   },
   "outputs": [],
   "source": [
    "cleaned_df = merged_df.dropna()"
   ]
  },
  {
   "cell_type": "code",
   "execution_count": 102,
   "metadata": {
    "collapsed": true
   },
   "outputs": [],
   "source": [
    "y = cleaned_df['M3_20_Avg_interp']\n",
    "X = cleaned_df.drop(['time','tsince_start','M3_20_Avg_interp','Temphigh_interp'],axis=1)"
   ]
  },
  {
   "cell_type": "code",
   "execution_count": 118,
   "metadata": {
    "collapsed": true
   },
   "outputs": [],
   "source": [
    "X_train, X_test, y_train, y_test = train_test_split(X,y,test_size=0.3)\n",
    "regr = RandomForestRegressor(n_estimators=800,min_samples_leaf=1,oob_score=True,n_jobs=2)"
   ]
  },
  {
   "cell_type": "code",
   "execution_count": 119,
   "metadata": {
    "collapsed": false
   },
   "outputs": [
    {
     "data": {
      "text/plain": [
       "RandomForestRegressor(bootstrap=True, criterion='mse', max_depth=None,\n",
       "           max_features='auto', max_leaf_nodes=None,\n",
       "           min_impurity_decrease=0.0, min_impurity_split=None,\n",
       "           min_samples_leaf=1, min_samples_split=2,\n",
       "           min_weight_fraction_leaf=0.0, n_estimators=800, n_jobs=2,\n",
       "           oob_score=True, random_state=None, verbose=0, warm_start=False)"
      ]
     },
     "execution_count": 119,
     "metadata": {},
     "output_type": "execute_result"
    }
   ],
   "source": [
    "regr.fit(X_train,y_train)"
   ]
  },
  {
   "cell_type": "code",
   "execution_count": 120,
   "metadata": {
    "collapsed": false
   },
   "outputs": [
    {
     "name": "stdout",
     "output_type": "stream",
     "text": [
      "[0.00694721 0.00394511 0.00528584 0.00652337 0.00654592 0.00536356\n",
      " 0.00535383 0.00479071 0.00563772 0.00617685 0.00460142 0.00486057\n",
      " 0.00423563 0.00376111 0.00448463 0.0050634  0.00484017 0.00504478\n",
      " 0.00743546 0.00709358 0.00519995 0.00417275 0.00391148 0.00365333\n",
      " 0.00285386 0.00281031 0.00544018 0.00358453 0.00454342 0.00455705\n",
      " 0.00507214 0.00287832 0.00225491 0.00247444 0.00343154 0.00391258\n",
      " 0.00485286 0.00477734 0.00464706 0.00580396 0.00329405 0.00294672\n",
      " 0.00290733 0.00326564 0.00286431 0.00284075 0.0045273  0.00609098\n",
      " 0.00301514 0.00396192 0.00342949 0.0022048  0.00215254 0.0026146\n",
      " 0.00277363 0.00310734 0.00314957 0.00327272 0.0077051  0.01169972\n",
      " 0.00159768 0.00134506 0.00848134 0.00282169 0.00157988 0.00223443\n",
      " 0.00115436 0.00098876 0.00082569 0.00090339 0.0010404  0.00100518\n",
      " 0.00125693 0.00389591 0.00130977 0.00155981 0.00177022 0.0010089\n",
      " 0.00128616 0.00237213 0.0051705  0.00717894 0.01208436 0.00602724\n",
      " 0.00408334 0.00528773 0.00506806 0.00345238 0.00185987 0.00156662\n",
      " 0.00186976 0.00112822 0.00128085 0.00210573 0.00167002 0.00199699\n",
      " 0.00239038 0.00181054 0.00236525 0.00510675 0.008177   0.00578711\n",
      " 0.00428148 0.00373919 0.00306773 0.0042168  0.00263776 0.00338424\n",
      " 0.00370371 0.00340358 0.00420303 0.0053457  0.00524478 0.00540594\n",
      " 0.00380095 0.00241009 0.00299939 0.00191488 0.00242341 0.00307491\n",
      " 0.01019217 0.00494142 0.00487473 0.00486032 0.00363364 0.00496367\n",
      " 0.00762847 0.01283642 0.01399381 0.00601807 0.0179751  0.01989649\n",
      " 0.01538437 0.00731857 0.00765129 0.00978713 0.00677848 0.00501359\n",
      " 0.00526129 0.01294223 0.00160495 0.00162305 0.0054582  0.00209674\n",
      " 0.00131464 0.0017807  0.00129035 0.00097078 0.00081286 0.00093659\n",
      " 0.00154327 0.00103895 0.00145158 0.00532432 0.00145719 0.00131141\n",
      " 0.00320558 0.0017094  0.00218891 0.00536068 0.00363876 0.00272796\n",
      " 0.00319001 0.00256103 0.00282942 0.00271834 0.00216118 0.00191046\n",
      " 0.00159798 0.00242136 0.00195479 0.00136751 0.00163314 0.0033172\n",
      " 0.00310531 0.00345867 0.00616827 0.00298408 0.00191676 0.0036264\n",
      " 0.0015983  0.00147661 0.00130382 0.00149068 0.00189958 0.00159385\n",
      " 0.00150358 0.0016005  0.00153327 0.00152514 0.00168928 0.00145895\n",
      " 0.00154701 0.00140856 0.00149901 0.00165043 0.00142098 0.00137532\n",
      " 0.00154947 0.00195001 0.00173448 0.00142224 0.00779172 0.0031905\n",
      " 0.0014687  0.0019183  0.0011808  0.0008499  0.00073534 0.00085618\n",
      " 0.00147307 0.00094845 0.00134374 0.00399408 0.0011817  0.00137174\n",
      " 0.00159875 0.00123088 0.00131197 0.00215305 0.00380976 0.00262337\n",
      " 0.00229371 0.00174802 0.0018999  0.00231815 0.00227944 0.0043088\n",
      " 0.00338745 0.0025699  0.00452085 0.00616109 0.00628964 0.01328679\n",
      " 0.00318382 0.00228383 0.00319644 0.0022728  0.00272276 0.00288202\n",
      " 0.00334737 0.00255049 0.00704753 0.01347327 0.00484126 0.00530833\n",
      " 0.0049879  0.00249998 0.00180516 0.00171543 0.00164699 0.00138092\n",
      " 0.00120062 0.00272922 0.00216226 0.00178529 0.00325887 0.00196016\n",
      " 0.00247055 0.00353769 0.00230958 0.00267766 0.00244105 0.00181486\n",
      " 0.00196697 0.00251436 0.00321328 0.00327501 0.00309702 0.00181956\n",
      " 0.00177199 0.00201184 0.00172638 0.00238908 0.00370164 0.00280744\n",
      " 0.00191381 0.00252626 0.002581   0.00333397]\n",
      "0.5628081158128321\n"
     ]
    }
   ],
   "source": [
    "print(regr.feature_importances_)\n",
    "print(regr.oob_score_)"
   ]
  },
  {
   "cell_type": "code",
   "execution_count": 121,
   "metadata": {
    "collapsed": true
   },
   "outputs": [],
   "source": [
    "regr_pred = regr.predict(X_test)"
   ]
  },
  {
   "cell_type": "code",
   "execution_count": 122,
   "metadata": {
    "collapsed": false
   },
   "outputs": [
    {
     "data": {
      "image/png": "[encoded data removed]",
      "text/plain": [
       "<Figure size 720x432 with 1 Axes>"
      ]
     },
     "metadata": {},
     "output_type": "display_data"
    }
   ],
   "source": [
    "plt.figure(figsize=(10,6))\n",
    "plt.title('M3_20 soil moisture predictions vs observations')\n",
    "plt.plot(regr_pred,y_test,'r.')\n",
    "plt.xlabel('Prediction')\n",
    "plt.ylabel('Observation')\n",
    "plt.grid()\n",
    "plt.savefig('soil_moisture_prediction_sliding_window.png')"
   ]
  },
  {
   "cell_type": "markdown",
   "metadata": {},
   "source": [
    "Which column corresponds to the highest importance?"
   ]
  },
  {
   "cell_type": "code",
   "execution_count": 117,
   "metadata": {
    "collapsed": false
   },
   "outputs": [
    {
     "name": "stdout",
     "output_type": "stream",
     "text": [
      "channel_85_x_crossing_m\n"
     ]
    }
   ],
   "source": [
    "print(cleaned_df.columns[np.argmax(regr.feature_importances_)])"
   ]
  },
  {
   "cell_type": "markdown",
   "metadata": {},
   "source": [
    "This makes sense, since channel 85 is closest to the soil moisture probe we're investgating. It suggests that other frequency-related features might be important. "
   ]
  },
  {
   "cell_type": "markdown",
   "metadata": {},
   "source": [
    "Its slightly concerning that we have to set the minimum nodes per leaf to 1 here though. Suggests that there are few patterns in the data"
   ]
  },
  {
   "cell_type": "markdown",
   "metadata": {},
   "source": [
    "### How about the temperature dataset?"
   ]
  },
  {
   "cell_type": "code",
   "execution_count": 123,
   "metadata": {
    "collapsed": true
   },
   "outputs": [],
   "source": [
    "y = cleaned_df['Temphigh_interp']\n",
    "X = cleaned_df.drop(['time','tsince_start','M3_20_Avg_interp','Temphigh_interp'],axis=1)\n",
    "\n",
    "X_train, X_test, y_train, y_test = train_test_split(X,y,test_size=0.3)\n",
    "regr = RandomForestRegressor(n_estimators=800,min_samples_leaf=1,oob_score=True,n_jobs=2)"
   ]
  },
  {
   "cell_type": "code",
   "execution_count": 124,
   "metadata": {
    "collapsed": false
   },
   "outputs": [
    {
     "data": {
      "text/plain": [
       "RandomForestRegressor(bootstrap=True, criterion='mse', max_depth=None,\n",
       "           max_features='auto', max_leaf_nodes=None,\n",
       "           min_impurity_decrease=0.0, min_impurity_split=None,\n",
       "           min_samples_leaf=1, min_samples_split=2,\n",
       "           min_weight_fraction_leaf=0.0, n_estimators=800, n_jobs=2,\n",
       "           oob_score=True, random_state=None, verbose=0, warm_start=False)"
      ]
     },
     "execution_count": 124,
     "metadata": {},
     "output_type": "execute_result"
    }
   ],
   "source": [
    "regr.fit(X_train,y_train)"
   ]
  },
  {
   "cell_type": "code",
   "execution_count": 125,
   "metadata": {
    "collapsed": false
   },
   "outputs": [
    {
     "name": "stdout",
     "output_type": "stream",
     "text": [
      "[0.0066765  0.00634698 0.00466336 0.0076562  0.00475804 0.00588174\n",
      " 0.00552951 0.00401351 0.00385966 0.00442315 0.00480491 0.0036598\n",
      " 0.00400243 0.00431444 0.00384353 0.00348905 0.00377395 0.00394023\n",
      " 0.00449409 0.00538524 0.01188799 0.00362313 0.004271   0.00549136\n",
      " 0.0032985  0.00465634 0.00407819 0.00271945 0.0026906  0.00255815\n",
      " 0.00269262 0.00292007 0.00314269 0.00359897 0.00667937 0.00595228\n",
      " 0.00492737 0.0033925  0.00398557 0.00747877 0.0101154  0.00327273\n",
      " 0.00333138 0.00423964 0.0035279  0.00415651 0.00416604 0.00298781\n",
      " 0.00281686 0.00267169 0.00294823 0.00442802 0.00304463 0.00400805\n",
      " 0.00340472 0.00342154 0.00415631 0.00419284 0.00355898 0.00424811\n",
      " 0.00138317 0.000687   0.0006701  0.00126498 0.00090805 0.0008324\n",
      " 0.00087578 0.00100734 0.00062452 0.0004726  0.00083995 0.00158378\n",
      " 0.00106933 0.00104706 0.00105842 0.00059679 0.00053302 0.00041343\n",
      " 0.0004894  0.00063784 0.00646784 0.00171235 0.00194852 0.00510453\n",
      " 0.0014946  0.00169446 0.00184324 0.00295549 0.00130643 0.00099384\n",
      " 0.00116297 0.00181704 0.00149659 0.00134408 0.00228093 0.00220249\n",
      " 0.00158268 0.00109252 0.00102419 0.00179476 0.01181133 0.00464643\n",
      " 0.0044802  0.0025927  0.00451796 0.00492139 0.00339655 0.00347728\n",
      " 0.00630872 0.00252644 0.00255295 0.00275541 0.00191445 0.00230465\n",
      " 0.00207723 0.00703944 0.00382779 0.01144651 0.00209377 0.00676687\n",
      " 0.00581729 0.00574369 0.00505942 0.00871964 0.0087751  0.01001196\n",
      " 0.00888607 0.00518106 0.00616803 0.01171983 0.02460314 0.01558759\n",
      " 0.11724279 0.00549434 0.00658656 0.00721637 0.00615796 0.00509358\n",
      " 0.00436779 0.00638799 0.0016416  0.00077407 0.00098282 0.00159143\n",
      " 0.00104007 0.00129257 0.00107378 0.00164667 0.00056285 0.00048483\n",
      " 0.00090601 0.00182988 0.00111365 0.00113428 0.0011237  0.00075017\n",
      " 0.00050193 0.00044871 0.00044227 0.00069112 0.00374312 0.00192303\n",
      " 0.00140566 0.00142086 0.00135598 0.00128996 0.00185123 0.00207454\n",
      " 0.00155627 0.00178786 0.00225765 0.00218421 0.00158737 0.00139472\n",
      " 0.0015361  0.00120895 0.00107011 0.00115242 0.00125721 0.00171862\n",
      " 0.00193211 0.00176705 0.00171345 0.00153282 0.00137148 0.0013646\n",
      " 0.00145805 0.00132523 0.00122554 0.00119614 0.00117121 0.00121985\n",
      " 0.00104938 0.00110914 0.00119714 0.00136401 0.00133107 0.00139336\n",
      " 0.00155686 0.00181811 0.00130797 0.00053813 0.00069328 0.00114622\n",
      " 0.00075204 0.00088725 0.00088657 0.00119009 0.00055104 0.00049623\n",
      " 0.0007913  0.00167624 0.0008373  0.00103033 0.00112776 0.00064405\n",
      " 0.00056623 0.00042634 0.00050099 0.0006924  0.00673204 0.00534872\n",
      " 0.00441388 0.01000251 0.0021063  0.00278034 0.00215735 0.00271805\n",
      " 0.00242545 0.00274533 0.00297931 0.00232727 0.00284812 0.00715578\n",
      " 0.00250825 0.00341414 0.00632307 0.0083271  0.0035745  0.00547318\n",
      " 0.00374054 0.0015574  0.00114262 0.00138522 0.00085952 0.00106172\n",
      " 0.00142795 0.00157626 0.00123267 0.00123739 0.0015472  0.00307413\n",
      " 0.00157016 0.00191776 0.00154484 0.00154964 0.00123277 0.00092148\n",
      " 0.00087118 0.00156397 0.01824598 0.00427596 0.00371674 0.00487542\n",
      " 0.00830965 0.00720708 0.01390794 0.00384619 0.0030416  0.00170823\n",
      " 0.00224008 0.00263867 0.00305442 0.00211716 0.00251765 0.00168879\n",
      " 0.00187039 0.00176028 0.00285643 0.00524814]\n",
      "0.6320270415912228\n"
     ]
    }
   ],
   "source": [
    "print(regr.feature_importances_)\n",
    "print(regr.oob_score_)"
   ]
  },
  {
   "cell_type": "code",
   "execution_count": 126,
   "metadata": {
    "collapsed": true
   },
   "outputs": [],
   "source": [
    "regr_pred = regr.predict(X_test)"
   ]
  },
  {
   "cell_type": "code",
   "execution_count": 129,
   "metadata": {
    "collapsed": false
   },
   "outputs": [
    {
     "data": {
      "image/png": "[encoded data removed]",
      "text/plain": [
       "<Figure size 720x432 with 1 Axes>"
      ]
     },
     "metadata": {},
     "output_type": "display_data"
    }
   ],
   "source": [
    "plt.figure(figsize=(10,6))\n",
    "plt.title('Temperature predictions vs observations')\n",
    "plt.plot(regr_pred,y_test,'.')\n",
    "plt.xlabel('Prediction')\n",
    "plt.ylabel('Observation')\n",
    "plt.grid()\n",
    "plt.savefig('soil_moisture_prediction_sliding_window.png')"
   ]
  },
  {
   "cell_type": "code",
   "execution_count": 128,
   "metadata": {
    "collapsed": false
   },
   "outputs": [
    {
     "name": "stdout",
     "output_type": "stream",
     "text": [
      "channel_86_x_crossing_m\n"
     ]
    }
   ],
   "source": [
    "print(cleaned_df.columns[np.argmax(regr.feature_importances_)])"
   ]
  },
  {
   "cell_type": "code",
   "execution_count": null,
   "metadata": {
    "collapsed": true
   },
   "outputs": [],
   "source": []
  }
 ],
 "metadata": {
  "kernelspec": {
   "display_name": "Python [conda env:python3]",
   "language": "python",
   "name": "conda-env-python3-py"
  },
  "language_info": {
   "codemirror_mode": {
    "name": "ipython",
    "version": 3
   },
   "file_extension": ".py",
   "mimetype": "text/x-python",
   "name": "python",
   "nbconvert_exporter": "python",
   "pygments_lexer": "ipython3",
   "version": "3.6.4"
  }
 },
 "nbformat": 4,
 "nbformat_minor": 1
}
