{
 "cells": [
  {
   "cell_type": "markdown",
   "metadata": {},
   "source": [
    "### Test where we generate virtual shot gathers along line 2EW, which is perpendicular to the road\n",
    "\n",
    "#### We might assume that the channel closest to the road should act as a virtual source of surface waves when a car is passing by\n",
    "\n",
    "Again, this is based on the work of Dou et al. (2017). The aim is to identify times when cars pass the array by exloring the quality of the EGFs produced by stacking of the data. We might then be able to use the dispersion characteristics to to predict soil moisture variation"
   ]
  },
  {
   "cell_type": "markdown",
   "metadata": {},
   "source": [
    "<img src=\"DAS_image1.png\" alt=\"Drawing\" style=\"width: 500px;\"/>"
   ]
  },
  {
   "cell_type": "markdown",
   "metadata": {},
   "source": [
    "<img src=\"DAS_image_3.png\" alt=\"Drawing\" style=\"width: 500px;\"/>"
   ]
  },
  {
   "cell_type": "code",
   "execution_count": 2,
   "metadata": {},
   "outputs": [],
   "source": [
    "import glob\n",
    "import os\n",
    "import numpy as np\n",
    "import obspy as op\n",
    "from obspy.signal.cross_correlation import correlate\n",
    "import pandas as pd\n",
    "import matplotlib.pyplot as plt\n",
    "from ts_tools import spectralWhitening, despike, despike \n",
    "%matplotlib inline"
   ]
  },
  {
   "cell_type": "markdown",
   "metadata": {},
   "source": [
    "#### Function to do spectral whitening: Just dividing the data by its amplitude spectrum"
   ]
  },
  {
   "cell_type": "code",
   "execution_count": 66,
   "metadata": {},
   "outputs": [],
   "source": [
    "def whiten(trace):\n",
    "    \n",
    "    tr = trace.copy()\n",
    "    w_dat = spectralWhitening(trace.data)\n",
    "    tr.data = w_dat\n",
    "    \n",
    "    return tr"
   ]
  },
  {
   "cell_type": "code",
   "execution_count": 184,
   "metadata": {},
   "outputs": [],
   "source": [
    "os.chdir(\"/Users/rmartinshort/Documents/Berkeley/Fiber_seismology/Met_data_predict\")"
   ]
  },
  {
   "cell_type": "code",
   "execution_count": 68,
   "metadata": {},
   "outputs": [],
   "source": [
    "all_data = pd.read_csv(\"Fnames_soilM_temp.csv\")\n",
    "lineEW = all_data[all_data['Line'] == \"Line2EW\"][['file_name','DateTime']]\n",
    "#In this experiment we're only interested in the file names and the times\n",
    "\n",
    "\n",
    "lineEW.reset_index(drop=True,inplace=True)\n",
    "#Note that to avoid warning we should use assign to replace column values\n",
    "lineEW.assign(DateTime = pd.to_datetime(lineEW['DateTime']).values)\n",
    "otime = op.UTCDateTime(lineEW['DateTime'][0])\n",
    "lineEW.set_index('DateTime',inplace=True)\n",
    "\n",
    "#Generate linking column\n",
    "lineEW = lineEW.assign(file_name=lineEW['file_name'].apply(lambda x: x[2:]))\n",
    "fnames = list(lineEW['file_name'])"
   ]
  },
  {
   "cell_type": "code",
   "execution_count": 69,
   "metadata": {},
   "outputs": [
    {
     "data": {
      "text/html": [
       "<div>\n",
       "<style scoped>\n",
       "    .dataframe tbody tr th:only-of-type {\n",
       "        vertical-align: middle;\n",
       "    }\n",
       "\n",
       "    .dataframe tbody tr th {\n",
       "        vertical-align: top;\n",
       "    }\n",
       "\n",
       "    .dataframe thead th {\n",
       "        text-align: right;\n",
       "    }\n",
       "</style>\n",
       "<table border=\"1\" class=\"dataframe\">\n",
       "  <thead>\n",
       "    <tr style=\"text-align: right;\">\n",
       "      <th></th>\n",
       "      <th>file_name</th>\n",
       "    </tr>\n",
       "    <tr>\n",
       "      <th>DateTime</th>\n",
       "      <th></th>\n",
       "    </tr>\n",
       "  </thead>\n",
       "  <tbody>\n",
       "    <tr>\n",
       "      <th>2016-08-05 18:07:38</th>\n",
       "      <td>20160805180738_40_Hz_Line2EW.mseed</td>\n",
       "    </tr>\n",
       "    <tr>\n",
       "      <th>2016-08-05 18:08:38</th>\n",
       "      <td>20160805180838_40_Hz_Line2EW.mseed</td>\n",
       "    </tr>\n",
       "    <tr>\n",
       "      <th>2016-08-05 18:09:38</th>\n",
       "      <td>20160805180938_40_Hz_Line2EW.mseed</td>\n",
       "    </tr>\n",
       "    <tr>\n",
       "      <th>2016-08-05 18:10:38</th>\n",
       "      <td>20160805181038_40_Hz_Line2EW.mseed</td>\n",
       "    </tr>\n",
       "    <tr>\n",
       "      <th>2016-08-05 18:11:38</th>\n",
       "      <td>20160805181138_40_Hz_Line2EW.mseed</td>\n",
       "    </tr>\n",
       "  </tbody>\n",
       "</table>\n",
       "</div>"
      ],
      "text/plain": [
       "                                              file_name\n",
       "DateTime                                               \n",
       "2016-08-05 18:07:38  20160805180738_40_Hz_Line2EW.mseed\n",
       "2016-08-05 18:08:38  20160805180838_40_Hz_Line2EW.mseed\n",
       "2016-08-05 18:09:38  20160805180938_40_Hz_Line2EW.mseed\n",
       "2016-08-05 18:10:38  20160805181038_40_Hz_Line2EW.mseed\n",
       "2016-08-05 18:11:38  20160805181138_40_Hz_Line2EW.mseed"
      ]
     },
     "execution_count": 69,
     "metadata": {},
     "output_type": "execute_result"
    }
   ],
   "source": [
    "lineEW.head()"
   ]
  },
  {
   "cell_type": "markdown",
   "metadata": {},
   "source": [
    "#### A test: Read one file, choose the virtual source to be the channel closest to the road. Cross correlate this source with all channels beyond 25 m from the road"
   ]
  },
  {
   "cell_type": "code",
   "execution_count": 70,
   "metadata": {},
   "outputs": [],
   "source": [
    "#Location of the DAS data files\n",
    "datadir = \"/Volumes/Seagate Expansion Drive/DAS_data\"\n",
    "cwd = os.getcwd()\n",
    "os.chdir(datadir)"
   ]
  },
  {
   "cell_type": "code",
   "execution_count": 71,
   "metadata": {},
   "outputs": [],
   "source": [
    "f = op.read('20160805181538_40_Hz_Line2EW.mseed',format='mseed')\n",
    "f = f.detrend('demean')\n",
    "f = f.detrend('linear')\n",
    "rev_f = list(reversed(f))"
   ]
  },
  {
   "cell_type": "code",
   "execution_count": 72,
   "metadata": {},
   "outputs": [],
   "source": [
    "start_trace = 25"
   ]
  },
  {
   "cell_type": "code",
   "execution_count": 73,
   "metadata": {},
   "outputs": [],
   "source": [
    "#use the first trace as the virtual source\n",
    "f0 = whiten(rev_f[0])\n",
    "nchan = len(rev_f)\n",
    "shift = len(f0.data)\n",
    "#cross correlate the virtual source with itself\n",
    "fc = correlate(f0,f0,shift)\n",
    "X = np.linspace(-60,60,2*shift+1)\n",
    "Xcorr_mat = np.zeros([len(fc),nchan-start_trace])\n",
    "Xcorr_mat[:,0] = fc"
   ]
  },
  {
   "cell_type": "code",
   "execution_count": 74,
   "metadata": {},
   "outputs": [
    {
     "data": {
      "text/plain": [
       "[<matplotlib.lines.Line2D at 0x1c108f0e10>]"
      ]
     },
     "execution_count": 74,
     "metadata": {},
     "output_type": "execute_result"
    },
    {
     "data": {
      "image/png": "[encoded data removed]",
      "text/plain": [
       "<matplotlib.figure.Figure at 0x1c10c31ef0>"
      ]
     },
     "metadata": {},
     "output_type": "display_data"
    }
   ],
   "source": [
    "#Cross correlation of virtual source with itself\n",
    "plt.plot(X,fc)"
   ]
  },
  {
   "cell_type": "code",
   "execution_count": 75,
   "metadata": {},
   "outputs": [
    {
     "data": {
      "text/plain": [
       "51"
      ]
     },
     "execution_count": 75,
     "metadata": {},
     "output_type": "execute_result"
    }
   ],
   "source": [
    "nchan"
   ]
  },
  {
   "cell_type": "code",
   "execution_count": 76,
   "metadata": {},
   "outputs": [
    {
     "data": {
      "text/plain": [
       "(4097, 26)"
      ]
     },
     "execution_count": 76,
     "metadata": {},
     "output_type": "execute_result"
    }
   ],
   "source": [
    "np.shape(Xcorr_mat)"
   ]
  },
  {
   "cell_type": "markdown",
   "metadata": {},
   "source": [
    "#### Correlate all traces over this 1 minute timespan and display"
   ]
  },
  {
   "cell_type": "code",
   "execution_count": 77,
   "metadata": {},
   "outputs": [],
   "source": [
    "j = 0\n",
    "for i in range(start_trace,nchan):\n",
    "    fc = correlate(f0,whiten(rev_f[i]),shift)\n",
    "    Xcorr_mat[:,j] = fc\n",
    "    j += 1"
   ]
  },
  {
   "cell_type": "code",
   "execution_count": 78,
   "metadata": {},
   "outputs": [
    {
     "data": {
      "text/plain": [
       "(-1, 1)"
      ]
     },
     "execution_count": 78,
     "metadata": {},
     "output_type": "execute_result"
    },
    {
     "data": {
      "image/png": "[encoded data removed]",
      "text/plain": [
       "<matplotlib.figure.Figure at 0x1c107280b8>"
      ]
     },
     "metadata": {},
     "output_type": "display_data"
    }
   ],
   "source": [
    "plt.figure(figsize=(10,10))\n",
    "plt.imshow(Xcorr_mat,aspect=30,extent=[20,nchan,-60,60],vmax=0.2,interpolation='nearest')\n",
    "plt.colorbar()\n",
    "plt.xlabel('Distance [m]')\n",
    "plt.ylabel('Time [s]')\n",
    "plt.ylim([-1,1])"
   ]
  },
  {
   "cell_type": "markdown",
   "metadata": {},
   "source": [
    "#### Testing the Dou et al. 2017 QC proceedure for surface waves\n",
    ">  Determine RMS amplitude as a function of channel offset from the road \n",
    "\n",
    ">  Fit a power law curve of the type a + b*x^(c) (doesn't work well? Removal of b gives better results) \n",
    "\n",
    ">  We would expect c to be roughly equal to -2 if there is a source of surface waves from the road   \n",
    "\n",
    ">  Find the correlation coefficient between the power law prediction and the observation  \n",
    "\n",
    ">  Compute abs(c*R+2). If this is less than 1, we have a good source of surface waves  \n"
   ]
  },
  {
   "cell_type": "code",
   "execution_count": 155,
   "metadata": {},
   "outputs": [],
   "source": [
    "from scipy.optimize import curve_fit\n",
    "from scipy.stats import pearsonr\n",
    "\n",
    "def func_powerlaw(x,m,a):\n",
    "    \n",
    "    return a*(x**m)\n",
    "\n",
    "target_func = func_powerlaw"
   ]
  },
  {
   "cell_type": "code",
   "execution_count": 180,
   "metadata": {
    "scrolled": true
   },
   "outputs": [
    {
     "data": {
      "image/png": "[encoded data removed]",
      "text/plain": [
       "<matplotlib.figure.Figure at 0x1c1e058f98>"
      ]
     },
     "metadata": {},
     "output_type": "display_data"
    }
   ],
   "source": [
    "chan_n = np.zeros(nchan-start_trace)\n",
    "rms_vals = np.ones(nchan-start_trace)\n",
    "offset = start_trace\n",
    "j = 0 \n",
    "\n",
    "for i in range(start_trace,nchan):\n",
    "    tr = rev_f[i]\n",
    "    x = tr.data\n",
    "    rms_noise = np.sqrt(np.mean(x*x))\n",
    "    rms_vals[j] = rms_noise\n",
    "    chan_n[j] = i\n",
    "    j += 1 \n",
    "\n",
    "plt.plot(chan_n,rms_vals)\n",
    "plt.xlabel('Channel number (offset in meters)')\n",
    "plt.ylabel('RMS noise')\n",
    "plt.grid()"
   ]
  },
  {
   "cell_type": "code",
   "execution_count": 181,
   "metadata": {},
   "outputs": [
    {
     "data": {
      "text/plain": [
       "35.82019742856326"
      ]
     },
     "execution_count": 181,
     "metadata": {},
     "output_type": "execute_result"
    }
   ],
   "source": [
    "rms_vals[0]"
   ]
  },
  {
   "cell_type": "code",
   "execution_count": 172,
   "metadata": {},
   "outputs": [],
   "source": [
    "popt, pcov = curve_fit(target_func,chan_n,rms_vals,xtol=1e-2,maxfev=1500)"
   ]
  },
  {
   "cell_type": "code",
   "execution_count": 173,
   "metadata": {},
   "outputs": [
    {
     "data": {
      "text/plain": [
       "array([ -1.75344413, 227.28375874])"
      ]
     },
     "execution_count": 173,
     "metadata": {},
     "output_type": "execute_result"
    }
   ],
   "source": [
    "popt"
   ]
  },
  {
   "cell_type": "code",
   "execution_count": 174,
   "metadata": {},
   "outputs": [
    {
     "data": {
      "text/plain": [
       "[<matplotlib.lines.Line2D at 0x1c108c2518>]"
      ]
     },
     "execution_count": 174,
     "metadata": {},
     "output_type": "execute_result"
    },
    {
     "data": {
      "image/png": "[encoded data removed]",
      "text/plain": [
       "<matplotlib.figure.Figure at 0x1c1f401cc0>"
      ]
     },
     "metadata": {},
     "output_type": "display_data"
    }
   ],
   "source": [
    "x = chan_n\n",
    "y = popt[1]*x**popt[0]\n",
    "plt.plot(x,y)"
   ]
  },
  {
   "cell_type": "code",
   "execution_count": 175,
   "metadata": {},
   "outputs": [
    {
     "data": {
      "image/png": "[encoded data removed]",
      "text/plain": [
       "<matplotlib.figure.Figure at 0x1c23775080>"
      ]
     },
     "metadata": {},
     "output_type": "display_data"
    }
   ],
   "source": [
    "plt.plot(chan_n,rms_vals)\n",
    "plt.plot(chan_n,target_func(chan_n,*popt),'r-')\n",
    "plt.xlabel('Channel offset')\n",
    "plt.ylabel('RMS value')\n",
    "plt.grid()"
   ]
  },
  {
   "cell_type": "code",
   "execution_count": 176,
   "metadata": {
    "scrolled": true
   },
   "outputs": [
    {
     "data": {
      "image/png": "[encoded data removed]",
      "text/plain": [
       "<matplotlib.figure.Figure at 0x1c1073c780>"
      ]
     },
     "metadata": {},
     "output_type": "display_data"
    }
   ],
   "source": [
    "plt.plot(rms_vals,target_func(chan_n,*popt),'k.')\n",
    "plt.xlabel('RMS value')\n",
    "plt.ylabel('Value from fitted curve')\n",
    "plt.grid()"
   ]
  },
  {
   "cell_type": "code",
   "execution_count": 185,
   "metadata": {},
   "outputs": [
    {
     "name": "stdout",
     "output_type": "stream",
     "text": [
      "0.3944342133594654\n",
      "0.9156640704844758\n"
     ]
    }
   ],
   "source": [
    "corr_coef = pearsonr(rms_vals,target_func(chan_n,*popt))[0]\n",
    "optval = abs(popt[0]*corr_coef + 2)\n",
    "print(optval)\n",
    "print(corr_coef)"
   ]
  },
  {
   "cell_type": "markdown",
   "metadata": {},
   "source": [
    "#### Ran production code to calculate these scores for every minute chunk of data. The idea is then to select just those that have QC scores of less than 1, stack them and cross correlate"
   ]
  },
  {
   "cell_type": "code",
   "execution_count": 186,
   "metadata": {
    "scrolled": true
   },
   "outputs": [],
   "source": [
    "mv_scores = pd.read_csv('Line_2EW_QC_scores.dat')"
   ]
  },
  {
   "cell_type": "code",
   "execution_count": 187,
   "metadata": {},
   "outputs": [
    {
     "data": {
      "text/html": [
       "<div>\n",
       "<style scoped>\n",
       "    .dataframe tbody tr th:only-of-type {\n",
       "        vertical-align: middle;\n",
       "    }\n",
       "\n",
       "    .dataframe tbody tr th {\n",
       "        vertical-align: top;\n",
       "    }\n",
       "\n",
       "    .dataframe thead th {\n",
       "        text-align: right;\n",
       "    }\n",
       "</style>\n",
       "<table border=\"1\" class=\"dataframe\">\n",
       "  <thead>\n",
       "    <tr style=\"text-align: right;\">\n",
       "      <th></th>\n",
       "      <th>QC_scores</th>\n",
       "      <th>c_vals</th>\n",
       "      <th>corr_coefs</th>\n",
       "    </tr>\n",
       "  </thead>\n",
       "  <tbody>\n",
       "    <tr>\n",
       "      <th>count</th>\n",
       "      <td>20000.000000</td>\n",
       "      <td>20000.000000</td>\n",
       "      <td>20000.000000</td>\n",
       "    </tr>\n",
       "    <tr>\n",
       "      <th>mean</th>\n",
       "      <td>1.080828</td>\n",
       "      <td>-1.116137</td>\n",
       "      <td>0.754160</td>\n",
       "    </tr>\n",
       "    <tr>\n",
       "      <th>std</th>\n",
       "      <td>0.451679</td>\n",
       "      <td>0.541026</td>\n",
       "      <td>0.209659</td>\n",
       "    </tr>\n",
       "    <tr>\n",
       "      <th>min</th>\n",
       "      <td>0.002655</td>\n",
       "      <td>-9.257493</td>\n",
       "      <td>0.000454</td>\n",
       "    </tr>\n",
       "    <tr>\n",
       "      <th>25%</th>\n",
       "      <td>0.791098</td>\n",
       "      <td>-1.411222</td>\n",
       "      <td>0.772038</td>\n",
       "    </tr>\n",
       "    <tr>\n",
       "      <th>50%</th>\n",
       "      <td>0.925592</td>\n",
       "      <td>-1.283912</td>\n",
       "      <td>0.835934</td>\n",
       "    </tr>\n",
       "    <tr>\n",
       "      <th>75%</th>\n",
       "      <td>1.215327</td>\n",
       "      <td>-1.017047</td>\n",
       "      <td>0.866555</td>\n",
       "    </tr>\n",
       "    <tr>\n",
       "      <th>max</th>\n",
       "      <td>5.814082</td>\n",
       "      <td>3.277476</td>\n",
       "      <td>0.997389</td>\n",
       "    </tr>\n",
       "  </tbody>\n",
       "</table>\n",
       "</div>"
      ],
      "text/plain": [
       "          QC_scores        c_vals    corr_coefs\n",
       "count  20000.000000  20000.000000  20000.000000\n",
       "mean       1.080828     -1.116137      0.754160\n",
       "std        0.451679      0.541026      0.209659\n",
       "min        0.002655     -9.257493      0.000454\n",
       "25%        0.791098     -1.411222      0.772038\n",
       "50%        0.925592     -1.283912      0.835934\n",
       "75%        1.215327     -1.017047      0.866555\n",
       "max        5.814082      3.277476      0.997389"
      ]
     },
     "execution_count": 187,
     "metadata": {},
     "output_type": "execute_result"
    }
   ],
   "source": [
    "mv_scores.describe()"
   ]
  },
  {
   "cell_type": "code",
   "execution_count": 215,
   "metadata": {},
   "outputs": [],
   "source": [
    "good_QC = mv_scores[mv_scores['QC_scores'] < 1]"
   ]
  },
  {
   "cell_type": "code",
   "execution_count": 216,
   "metadata": {},
   "outputs": [
    {
     "data": {
      "text/plain": [
       "0.18662935419533389"
      ]
     },
     "execution_count": 216,
     "metadata": {},
     "output_type": "execute_result"
    }
   ],
   "source": [
    "len(good_QC)/len(mv_scores)"
   ]
  },
  {
   "cell_type": "code",
   "execution_count": 217,
   "metadata": {},
   "outputs": [
    {
     "data": {
      "text/plain": [
       "12071"
      ]
     },
     "execution_count": 217,
     "metadata": {},
     "output_type": "execute_result"
    }
   ],
   "source": [
    "len(good_QC)"
   ]
  },
  {
   "cell_type": "code",
   "execution_count": 218,
   "metadata": {},
   "outputs": [],
   "source": [
    "#Location of the DAS data files\n",
    "datadir = \"/Volumes/Seagate Expansion Drive/DAS_data\"\n",
    "cwd = os.getcwd()\n",
    "os.chdir(datadir)"
   ]
  },
  {
   "cell_type": "code",
   "execution_count": 219,
   "metadata": {},
   "outputs": [],
   "source": [
    "good_QC.reset_index(inplace=True)"
   ]
  },
  {
   "cell_type": "code",
   "execution_count": 220,
   "metadata": {},
   "outputs": [
    {
     "data": {
      "text/html": [
       "<div>\n",
       "<style scoped>\n",
       "    .dataframe tbody tr th:only-of-type {\n",
       "        vertical-align: middle;\n",
       "    }\n",
       "\n",
       "    .dataframe tbody tr th {\n",
       "        vertical-align: top;\n",
       "    }\n",
       "\n",
       "    .dataframe thead th {\n",
       "        text-align: right;\n",
       "    }\n",
       "</style>\n",
       "<table border=\"1\" class=\"dataframe\">\n",
       "  <thead>\n",
       "    <tr style=\"text-align: right;\">\n",
       "      <th></th>\n",
       "      <th>index</th>\n",
       "      <th>file_name</th>\n",
       "      <th>DateTime</th>\n",
       "      <th>QC_scores</th>\n",
       "      <th>c_vals</th>\n",
       "      <th>corr_coefs</th>\n",
       "    </tr>\n",
       "  </thead>\n",
       "  <tbody>\n",
       "    <tr>\n",
       "      <th>0</th>\n",
       "      <td>0</td>\n",
       "      <td>20160805180738_40_Hz_Line2EW.mseed</td>\n",
       "      <td>2016-08-05 18:07:38</td>\n",
       "      <td>0.506591</td>\n",
       "      <td>-1.650323</td>\n",
       "      <td>0.904919</td>\n",
       "    </tr>\n",
       "    <tr>\n",
       "      <th>1</th>\n",
       "      <td>1</td>\n",
       "      <td>20160805180838_40_Hz_Line2EW.mseed</td>\n",
       "      <td>2016-08-05 18:08:38</td>\n",
       "      <td>0.787695</td>\n",
       "      <td>-1.436849</td>\n",
       "      <td>0.843725</td>\n",
       "    </tr>\n",
       "    <tr>\n",
       "      <th>2</th>\n",
       "      <td>2</td>\n",
       "      <td>20160805180938_40_Hz_Line2EW.mseed</td>\n",
       "      <td>2016-08-05 18:09:38</td>\n",
       "      <td>0.568146</td>\n",
       "      <td>-1.592720</td>\n",
       "      <td>0.898999</td>\n",
       "    </tr>\n",
       "    <tr>\n",
       "      <th>3</th>\n",
       "      <td>3</td>\n",
       "      <td>20160805181038_40_Hz_Line2EW.mseed</td>\n",
       "      <td>2016-08-05 18:10:38</td>\n",
       "      <td>0.670573</td>\n",
       "      <td>-1.476272</td>\n",
       "      <td>0.900530</td>\n",
       "    </tr>\n",
       "    <tr>\n",
       "      <th>4</th>\n",
       "      <td>6</td>\n",
       "      <td>20160805181338_40_Hz_Line2EW.mseed</td>\n",
       "      <td>2016-08-05 18:13:38</td>\n",
       "      <td>0.453823</td>\n",
       "      <td>-1.704376</td>\n",
       "      <td>0.907180</td>\n",
       "    </tr>\n",
       "  </tbody>\n",
       "</table>\n",
       "</div>"
      ],
      "text/plain": [
       "   index                           file_name             DateTime  QC_scores  \\\n",
       "0      0  20160805180738_40_Hz_Line2EW.mseed  2016-08-05 18:07:38   0.506591   \n",
       "1      1  20160805180838_40_Hz_Line2EW.mseed  2016-08-05 18:08:38   0.787695   \n",
       "2      2  20160805180938_40_Hz_Line2EW.mseed  2016-08-05 18:09:38   0.568146   \n",
       "3      3  20160805181038_40_Hz_Line2EW.mseed  2016-08-05 18:10:38   0.670573   \n",
       "4      6  20160805181338_40_Hz_Line2EW.mseed  2016-08-05 18:13:38   0.453823   \n",
       "\n",
       "     c_vals  corr_coefs  \n",
       "0 -1.650323    0.904919  \n",
       "1 -1.436849    0.843725  \n",
       "2 -1.592720    0.898999  \n",
       "3 -1.476272    0.900530  \n",
       "4 -1.704376    0.907180  "
      ]
     },
     "execution_count": 220,
     "metadata": {},
     "output_type": "execute_result"
    }
   ],
   "source": [
    "good_QC.head()"
   ]
  },
  {
   "cell_type": "code",
   "execution_count": 221,
   "metadata": {},
   "outputs": [
    {
     "name": "stdout",
     "output_type": "stream",
     "text": [
      "20160805180738_40_Hz_Line2EW.mseed\n",
      "20160805180838_40_Hz_Line2EW.mseed\n",
      "20160805180938_40_Hz_Line2EW.mseed\n",
      "20160805181038_40_Hz_Line2EW.mseed\n",
      "20160805181338_40_Hz_Line2EW.mseed\n",
      "20160805181438_40_Hz_Line2EW.mseed\n",
      "20160805181538_40_Hz_Line2EW.mseed\n",
      "20160805182238_40_Hz_Line2EW.mseed\n",
      "20160805182738_40_Hz_Line2EW.mseed\n",
      "20160805183038_40_Hz_Line2EW.mseed\n",
      "20160805183138_40_Hz_Line2EW.mseed\n",
      "20160805183238_40_Hz_Line2EW.mseed\n",
      "20160805183338_40_Hz_Line2EW.mseed\n",
      "Issue in cross correlating file 20160805183338_40_Hz_Line2EW.mseed\n",
      "20160805193523_40_Hz_Line2EW.mseed\n",
      "20160805193623_40_Hz_Line2EW.mseed\n",
      "20160805193723_40_Hz_Line2EW.mseed\n",
      "20160805194323_40_Hz_Line2EW.mseed\n",
      "20160805194423_40_Hz_Line2EW.mseed\n",
      "20160805194523_40_Hz_Line2EW.mseed\n",
      "20160805194623_40_Hz_Line2EW.mseed\n",
      "20160805194923_40_Hz_Line2EW.mseed\n",
      "20160805195023_40_Hz_Line2EW.mseed\n",
      "20160805195123_40_Hz_Line2EW.mseed\n",
      "20160805195223_40_Hz_Line2EW.mseed\n",
      "20160805195323_40_Hz_Line2EW.mseed\n",
      "20160805195423_40_Hz_Line2EW.mseed\n",
      "20160805195523_40_Hz_Line2EW.mseed\n",
      "20160805195623_40_Hz_Line2EW.mseed\n",
      "20160805195723_40_Hz_Line2EW.mseed\n",
      "20160805195823_40_Hz_Line2EW.mseed\n",
      "20160805195923_40_Hz_Line2EW.mseed\n",
      "20160805200023_40_Hz_Line2EW.mseed\n",
      "20160805200123_40_Hz_Line2EW.mseed\n",
      "20160805200323_40_Hz_Line2EW.mseed\n",
      "20160805200423_40_Hz_Line2EW.mseed\n",
      "20160805200723_40_Hz_Line2EW.mseed\n",
      "20160805200823_40_Hz_Line2EW.mseed\n",
      "20160805200923_40_Hz_Line2EW.mseed\n",
      "20160805201023_40_Hz_Line2EW.mseed\n",
      "20160805201123_40_Hz_Line2EW.mseed\n",
      "20160805201223_40_Hz_Line2EW.mseed\n",
      "20160805201323_40_Hz_Line2EW.mseed\n",
      "20160805201523_40_Hz_Line2EW.mseed\n",
      "20160805201723_40_Hz_Line2EW.mseed\n",
      "20160805202023_40_Hz_Line2EW.mseed\n",
      "20160805202123_40_Hz_Line2EW.mseed\n",
      "20160805202423_40_Hz_Line2EW.mseed\n",
      "20160805202623_40_Hz_Line2EW.mseed\n",
      "20160805202723_40_Hz_Line2EW.mseed\n",
      "20160805202823_40_Hz_Line2EW.mseed\n",
      "20160805203123_40_Hz_Line2EW.mseed\n",
      "20160805203623_40_Hz_Line2EW.mseed\n",
      "20160805203723_40_Hz_Line2EW.mseed\n",
      "20160805203823_40_Hz_Line2EW.mseed\n",
      "20160805204023_40_Hz_Line2EW.mseed\n",
      "20160805204223_40_Hz_Line2EW.mseed\n",
      "20160805204323_40_Hz_Line2EW.mseed\n",
      "20160805204423_40_Hz_Line2EW.mseed\n",
      "20160805204523_40_Hz_Line2EW.mseed\n",
      "20160805204623_40_Hz_Line2EW.mseed\n",
      "20160805204723_40_Hz_Line2EW.mseed\n",
      "20160805204823_40_Hz_Line2EW.mseed\n",
      "20160805205023_40_Hz_Line2EW.mseed\n",
      "20160805205123_40_Hz_Line2EW.mseed\n",
      "20160805205223_40_Hz_Line2EW.mseed\n",
      "20160805205523_40_Hz_Line2EW.mseed\n",
      "20160805205623_40_Hz_Line2EW.mseed\n",
      "20160805205723_40_Hz_Line2EW.mseed\n",
      "20160805205823_40_Hz_Line2EW.mseed\n",
      "20160805210423_40_Hz_Line2EW.mseed\n",
      "20160805211623_40_Hz_Line2EW.mseed\n",
      "20160805211823_40_Hz_Line2EW.mseed\n",
      "20160805211923_40_Hz_Line2EW.mseed\n",
      "20160805212023_40_Hz_Line2EW.mseed\n",
      "20160805212123_40_Hz_Line2EW.mseed\n",
      "20160805213623_40_Hz_Line2EW.mseed\n",
      "20160805213923_40_Hz_Line2EW.mseed\n",
      "20160805214023_40_Hz_Line2EW.mseed\n",
      "20160805214423_40_Hz_Line2EW.mseed\n",
      "20160805214523_40_Hz_Line2EW.mseed\n",
      "20160805214723_40_Hz_Line2EW.mseed\n",
      "20160805214823_40_Hz_Line2EW.mseed\n",
      "20160805214923_40_Hz_Line2EW.mseed\n",
      "20160805215123_40_Hz_Line2EW.mseed\n",
      "20160805215223_40_Hz_Line2EW.mseed\n",
      "20160805215323_40_Hz_Line2EW.mseed\n",
      "20160805215423_40_Hz_Line2EW.mseed\n",
      "20160805215623_40_Hz_Line2EW.mseed\n",
      "20160805215723_40_Hz_Line2EW.mseed\n",
      "20160805215823_40_Hz_Line2EW.mseed\n",
      "20160805220123_40_Hz_Line2EW.mseed\n",
      "20160805220523_40_Hz_Line2EW.mseed\n",
      "20160805220723_40_Hz_Line2EW.mseed\n",
      "20160805221223_40_Hz_Line2EW.mseed\n",
      "20160805221423_40_Hz_Line2EW.mseed\n",
      "20160805221523_40_Hz_Line2EW.mseed\n",
      "20160805221623_40_Hz_Line2EW.mseed\n",
      "20160805221823_40_Hz_Line2EW.mseed\n",
      "20160805221923_40_Hz_Line2EW.mseed\n",
      "20160805222323_40_Hz_Line2EW.mseed\n",
      "20160805222423_40_Hz_Line2EW.mseed\n",
      "20160805222523_40_Hz_Line2EW.mseed\n",
      "20160805222923_40_Hz_Line2EW.mseed\n",
      "20160805223223_40_Hz_Line2EW.mseed\n",
      "20160805223323_40_Hz_Line2EW.mseed\n",
      "20160805223423_40_Hz_Line2EW.mseed\n",
      "20160805223723_40_Hz_Line2EW.mseed\n",
      "20160805223923_40_Hz_Line2EW.mseed\n",
      "20160805224023_40_Hz_Line2EW.mseed\n",
      "20160805224223_40_Hz_Line2EW.mseed\n",
      "20160805224423_40_Hz_Line2EW.mseed\n",
      "20160805224523_40_Hz_Line2EW.mseed\n",
      "20160805224623_40_Hz_Line2EW.mseed\n",
      "20160805224823_40_Hz_Line2EW.mseed\n",
      "20160805224923_40_Hz_Line2EW.mseed\n",
      "20160805225123_40_Hz_Line2EW.mseed\n",
      "20160805225223_40_Hz_Line2EW.mseed\n",
      "20160805225323_40_Hz_Line2EW.mseed\n",
      "20160805225423_40_Hz_Line2EW.mseed\n",
      "20160805225523_40_Hz_Line2EW.mseed\n",
      "20160805225623_40_Hz_Line2EW.mseed\n",
      "20160805225723_40_Hz_Line2EW.mseed\n",
      "20160805225823_40_Hz_Line2EW.mseed\n",
      "20160805225923_40_Hz_Line2EW.mseed\n",
      "20160805230023_40_Hz_Line2EW.mseed\n",
      "20160805230123_40_Hz_Line2EW.mseed\n",
      "20160805230223_40_Hz_Line2EW.mseed\n",
      "20160805230323_40_Hz_Line2EW.mseed\n",
      "20160805230423_40_Hz_Line2EW.mseed\n",
      "20160805230523_40_Hz_Line2EW.mseed\n",
      "20160805230623_40_Hz_Line2EW.mseed\n",
      "20160805230723_40_Hz_Line2EW.mseed\n",
      "20160805231123_40_Hz_Line2EW.mseed\n",
      "20160805232123_40_Hz_Line2EW.mseed\n",
      "20160805232223_40_Hz_Line2EW.mseed\n",
      "20160805232323_40_Hz_Line2EW.mseed\n",
      "20160805232423_40_Hz_Line2EW.mseed\n",
      "20160805232523_40_Hz_Line2EW.mseed\n",
      "20160805232623_40_Hz_Line2EW.mseed\n",
      "20160805232723_40_Hz_Line2EW.mseed\n",
      "20160805232823_40_Hz_Line2EW.mseed\n",
      "20160805232923_40_Hz_Line2EW.mseed\n",
      "20160805233023_40_Hz_Line2EW.mseed\n",
      "20160805233123_40_Hz_Line2EW.mseed\n",
      "20160805233223_40_Hz_Line2EW.mseed\n",
      "20160805233323_40_Hz_Line2EW.mseed\n",
      "20160805233523_40_Hz_Line2EW.mseed\n",
      "20160805233623_40_Hz_Line2EW.mseed\n",
      "20160805233723_40_Hz_Line2EW.mseed\n",
      "20160805233823_40_Hz_Line2EW.mseed\n",
      "20160805233923_40_Hz_Line2EW.mseed\n",
      "20160805234023_40_Hz_Line2EW.mseed\n",
      "20160805234123_40_Hz_Line2EW.mseed\n",
      "20160805234223_40_Hz_Line2EW.mseed\n",
      "20160805234323_40_Hz_Line2EW.mseed\n",
      "20160805234423_40_Hz_Line2EW.mseed\n",
      "20160805234523_40_Hz_Line2EW.mseed\n",
      "20160805234623_40_Hz_Line2EW.mseed\n",
      "20160805234723_40_Hz_Line2EW.mseed\n",
      "20160805234823_40_Hz_Line2EW.mseed\n",
      "20160805234923_40_Hz_Line2EW.mseed\n",
      "20160805235023_40_Hz_Line2EW.mseed\n",
      "20160805235223_40_Hz_Line2EW.mseed\n",
      "20160805235323_40_Hz_Line2EW.mseed\n",
      "20160805235423_40_Hz_Line2EW.mseed\n",
      "20160805235523_40_Hz_Line2EW.mseed\n",
      "20160805235623_40_Hz_Line2EW.mseed\n",
      "20160805235723_40_Hz_Line2EW.mseed\n",
      "20160805235823_40_Hz_Line2EW.mseed\n",
      "20160806000023_40_Hz_Line2EW.mseed\n",
      "20160806000123_40_Hz_Line2EW.mseed\n",
      "20160806000223_40_Hz_Line2EW.mseed\n",
      "20160806000323_40_Hz_Line2EW.mseed\n",
      "20160806000423_40_Hz_Line2EW.mseed\n",
      "20160806000523_40_Hz_Line2EW.mseed\n",
      "20160806000623_40_Hz_Line2EW.mseed\n",
      "20160806000723_40_Hz_Line2EW.mseed\n",
      "20160806000823_40_Hz_Line2EW.mseed\n",
      "20160806000923_40_Hz_Line2EW.mseed\n",
      "20160806001023_40_Hz_Line2EW.mseed\n",
      "20160806001123_40_Hz_Line2EW.mseed\n",
      "20160806001223_40_Hz_Line2EW.mseed\n",
      "20160806001323_40_Hz_Line2EW.mseed\n",
      "20160806001423_40_Hz_Line2EW.mseed\n",
      "20160806001523_40_Hz_Line2EW.mseed\n",
      "20160806003423_40_Hz_Line2EW.mseed\n",
      "20160806003923_40_Hz_Line2EW.mseed\n",
      "20160806004123_40_Hz_Line2EW.mseed\n",
      "20160806004223_40_Hz_Line2EW.mseed\n",
      "20160806004323_40_Hz_Line2EW.mseed\n",
      "20160806005423_40_Hz_Line2EW.mseed\n",
      "20160806005523_40_Hz_Line2EW.mseed\n",
      "20160806010023_40_Hz_Line2EW.mseed\n",
      "20160806010123_40_Hz_Line2EW.mseed\n",
      "20160806010223_40_Hz_Line2EW.mseed\n",
      "20160806010423_40_Hz_Line2EW.mseed\n",
      "20160806010723_40_Hz_Line2EW.mseed\n",
      "20160806010823_40_Hz_Line2EW.mseed\n",
      "20160806010923_40_Hz_Line2EW.mseed\n",
      "20160806011023_40_Hz_Line2EW.mseed\n"
     ]
    }
   ],
   "source": [
    "### Lets do a simple stack of the data that we've selected here\n",
    "\n",
    "fnames = good_QC['file_name']\n",
    "start_trace = 20\n",
    "\n",
    "fcount = 0\n",
    "for infile in list(fnames[:200]):\n",
    "    print(infile)\n",
    "    \n",
    "    f = op.read(infile,format='mseed')\n",
    "    #f.filter('bandpass',freqmin=2,freqmax=20)\n",
    "    f.detrend('demean')\n",
    "    f.detrend('linear')\n",
    "    rev_f = list(reversed(f))\n",
    "    nchan = len(rev_f)\n",
    "    \n",
    "    trace = rev_f[0]\n",
    "    \n",
    "    if not np.isnan(trace.data).any():\n",
    "        \n",
    "        try:\n",
    "        \n",
    "           shift = trace.stats.npts\n",
    "        \n",
    "           if fcount == 0:\n",
    "            \n",
    "               f0 = trace\n",
    "               fc = correlate(f0,f0,int(shift))\n",
    "               Xcorr_mat = np.zeros([len(fc),nchan-start_trace])\n",
    "            \n",
    "               j = 0 \n",
    "               for i in range(start_trace,nchan):\n",
    "                   fi = rev_f[i]\n",
    "                   fc = correlate(f0,fi,int(shift))\n",
    "                   Xcorr_mat[:,j] = fc\n",
    "                   j += 1\n",
    "        \n",
    "           else:\n",
    "            \n",
    "               f0 = whiten(rev_f[0])\n",
    "            \n",
    "               j = 0\n",
    "               for i in range(start_trace,nchan):\n",
    "                   fc = correlate(f0,whiten(rev_f[i]),int(shift))\n",
    "                   Xcorr_mat[:,j] += fc\n",
    "                   j += 1\n",
    "                                      \n",
    "           fcount += 1\n",
    "        \n",
    "        except:\n",
    "            \n",
    "            print(\"Issue in cross correlating file %s\" %infile)\n",
    "    \n",
    "    else:\n",
    "        \n",
    "        print(\"Spike detected in %s: moving on\" %infile)\n",
    "\n",
    "Xcorr_mat = Xcorr_mat/fcount"
   ]
  },
  {
   "cell_type": "code",
   "execution_count": 222,
   "metadata": {},
   "outputs": [
    {
     "data": {
      "text/plain": [
       "(-0.5, 0.5)"
      ]
     },
     "execution_count": 222,
     "metadata": {},
     "output_type": "execute_result"
    },
    {
     "data": {
      "image/png": "[encoded data removed]",
      "text/plain": [
       "<matplotlib.figure.Figure at 0x1c1d496cc0>"
      ]
     },
     "metadata": {},
     "output_type": "display_data"
    }
   ],
   "source": [
    "plt.figure(figsize=(10,10))\n",
    "plt.imshow(Xcorr_mat,aspect=50,extent=[start_trace,nchan,-60,60])\n",
    "plt.colorbar()\n",
    "plt.xlabel('Distance [m]')\n",
    "plt.ylabel('Time [s]')\n",
    "plt.ylim([-0.5,0.5])"
   ]
  },
  {
   "cell_type": "markdown",
   "metadata": {},
   "source": [
    "Unfortunately this does not look like very much. Maybe the criteria we're using for the rms moveout test isn't working properly?"
   ]
  },
  {
   "cell_type": "code",
   "execution_count": null,
   "metadata": {},
   "outputs": [],
   "source": []
  }
 ],
 "metadata": {
  "kernelspec": {
   "display_name": "Python 3",
   "language": "python",
   "name": "python3"
  },
  "language_info": {
   "codemirror_mode": {
    "name": "ipython",
    "version": 3
   },
   "file_extension": ".py",
   "mimetype": "text/x-python",
   "name": "python",
   "nbconvert_exporter": "python",
   "pygments_lexer": "ipython3",
   "version": "3.6.4"
  }
 },
 "nbformat": 4,
 "nbformat_minor": 1
}
