{
 "cells": [
  {
   "cell_type": "markdown",
   "metadata": {},
   "source": [
    "### Test 1: Apply random forest classifier to features calculated on a per-file basis"
   ]
  },
  {
   "cell_type": "code",
   "execution_count": 2,
   "metadata": {
    "collapsed": true
   },
   "outputs": [],
   "source": [
    "import pandas as pd\n",
    "import obspy as op\n",
    "import numpy as np\n",
    "import matplotlib.pyplot as plt\n",
    "import seaborn as sns\n",
    "%matplotlib inline"
   ]
  },
  {
   "cell_type": "code",
   "execution_count": 5,
   "metadata": {
    "collapsed": false,
    "scrolled": true
   },
   "outputs": [],
   "source": [
    "all_data = pd.read_csv(\"Fnames_soilM_temp.csv\")\n",
    "lineCSN = all_data[all_data['Line'] == \"LineCSN\"]\n",
    "\n",
    "#Extract just the soil moisture time series corresponding to probe M3_20\n",
    "lineCSN_M3 = lineCSN[['file_name','DateTime','M3_20_Avg_interp','Temphigh_interp']]\n",
    "lineCSN_M3.reset_index(drop=True,inplace=True)\n",
    "lineCSN_M3.assign(DateTime = pd.to_datetime(lineCSN_M3['DateTime']))\n",
    "lineCSN_M3.set_index('DateTime',inplace=True)\n"
   ]
  },
  {
   "cell_type": "code",
   "execution_count": 6,
   "metadata": {
    "collapsed": false
   },
   "outputs": [],
   "source": [
    "#Generate linking column\n",
    "lineCSN_M3 = lineCSN_M3.assign(file_name=lineCSN_M3['file_name'].apply(lambda x: x[2:]))"
   ]
  },
  {
   "cell_type": "code",
   "execution_count": 7,
   "metadata": {
    "collapsed": false
   },
   "outputs": [
    {
     "data": {
      "text/html": [
       "<div>\n",
       "<style scoped>\n",
       "    .dataframe tbody tr th:only-of-type {\n",
       "        vertical-align: middle;\n",
       "    }\n",
       "\n",
       "    .dataframe tbody tr th {\n",
       "        vertical-align: top;\n",
       "    }\n",
       "\n",
       "    .dataframe thead th {\n",
       "        text-align: right;\n",
       "    }\n",
       "</style>\n",
       "<table border=\"1\" class=\"dataframe\">\n",
       "  <thead>\n",
       "    <tr style=\"text-align: right;\">\n",
       "      <th></th>\n",
       "      <th>file_name</th>\n",
       "      <th>M3_20_Avg_interp</th>\n",
       "      <th>Temphigh_interp</th>\n",
       "    </tr>\n",
       "    <tr>\n",
       "      <th>DateTime</th>\n",
       "      <th></th>\n",
       "      <th></th>\n",
       "      <th></th>\n",
       "    </tr>\n",
       "  </thead>\n",
       "  <tbody>\n",
       "    <tr>\n",
       "      <th>2016-08-05 18:07:38</th>\n",
       "      <td>20160805180738_40_Hz_LineCSN.mseed</td>\n",
       "      <td>0.202000</td>\n",
       "      <td>27.437489</td>\n",
       "    </tr>\n",
       "    <tr>\n",
       "      <th>2016-08-05 18:08:38</th>\n",
       "      <td>20160805180838_40_Hz_LineCSN.mseed</td>\n",
       "      <td>0.202000</td>\n",
       "      <td>27.423656</td>\n",
       "    </tr>\n",
       "    <tr>\n",
       "      <th>2016-08-05 18:09:38</th>\n",
       "      <td>20160805180938_40_Hz_LineCSN.mseed</td>\n",
       "      <td>0.202013</td>\n",
       "      <td>27.409822</td>\n",
       "    </tr>\n",
       "    <tr>\n",
       "      <th>2016-08-05 18:10:38</th>\n",
       "      <td>20160805181038_40_Hz_LineCSN.mseed</td>\n",
       "      <td>0.202113</td>\n",
       "      <td>27.395989</td>\n",
       "    </tr>\n",
       "    <tr>\n",
       "      <th>2016-08-05 18:11:38</th>\n",
       "      <td>20160805181138_40_Hz_LineCSN.mseed</td>\n",
       "      <td>0.202213</td>\n",
       "      <td>27.382156</td>\n",
       "    </tr>\n",
       "  </tbody>\n",
       "</table>\n",
       "</div>"
      ],
      "text/plain": [
       "                                              file_name  M3_20_Avg_interp  \\\n",
       "DateTime                                                                    \n",
       "2016-08-05 18:07:38  20160805180738_40_Hz_LineCSN.mseed          0.202000   \n",
       "2016-08-05 18:08:38  20160805180838_40_Hz_LineCSN.mseed          0.202000   \n",
       "2016-08-05 18:09:38  20160805180938_40_Hz_LineCSN.mseed          0.202013   \n",
       "2016-08-05 18:10:38  20160805181038_40_Hz_LineCSN.mseed          0.202113   \n",
       "2016-08-05 18:11:38  20160805181138_40_Hz_LineCSN.mseed          0.202213   \n",
       "\n",
       "                     Temphigh_interp  \n",
       "DateTime                              \n",
       "2016-08-05 18:07:38        27.437489  \n",
       "2016-08-05 18:08:38        27.423656  \n",
       "2016-08-05 18:09:38        27.409822  \n",
       "2016-08-05 18:10:38        27.395989  \n",
       "2016-08-05 18:11:38        27.382156  "
      ]
     },
     "execution_count": 7,
     "metadata": {},
     "output_type": "execute_result"
    }
   ],
   "source": [
    "lineCSN_M3.head()"
   ]
  },
  {
   "cell_type": "markdown",
   "metadata": {},
   "source": [
    "Load the feature dfs we just made"
   ]
  },
  {
   "cell_type": "code",
   "execution_count": 8,
   "metadata": {
    "collapsed": false
   },
   "outputs": [],
   "source": [
    "mean = pd.read_csv('mean.csv')\n",
    "mean.name = \"mean\"\n",
    "median = pd.read_csv('median.csv')\n",
    "median.name = \"median\"\n",
    "energy = pd.read_csv('energy.csv')\n",
    "energy.name = \"energy\"\n",
    "iqr = pd.read_csv('iqr.csv')\n",
    "iqr.name = \"iqr\"\n",
    "kurtosis = pd.read_csv('kurtosis.csv')\n",
    "kurtosis.name = \"kurtosis\"\n",
    "rms = pd.read_csv('rms.csv')\n",
    "rms.name = \"rms\"\n",
    "skew = pd.read_csv('skew.csv')\n",
    "skew.name = \"skew\"\n",
    "sma_1_comp = pd.read_csv('sma_1_comp.csv')\n",
    "sma_1_comp.name = \"sma_1_omp\"\n",
    "std = pd.read_csv('std.csv')\n",
    "std.name = \"std\"\n",
    "Z = pd.read_csv('Z.csv')\n",
    "Z.name = \"Z\"\n",
    "variance = pd.read_csv('variance.csv')\n",
    "variance.name = \"var\"\n",
    "xcrossing = pd.read_csv('xcrossing_rate.csv')\n",
    "xcrossing.name = \"xcrossing_rate\"\n",
    "minmax = pd.read_csv('minmax.csv')\n",
    "minmax.name = \"minmax\"\n",
    "mad = pd.read_csv('mad.csv')\n",
    "mad.name = \"mad\"\n",
    "cav = pd.read_csv('cav.csv')\n",
    "cav.name = \"cav\""
   ]
  },
  {
   "cell_type": "code",
   "execution_count": 9,
   "metadata": {
    "collapsed": true
   },
   "outputs": [],
   "source": [
    "features = [mean,median,cav,Z,energy,skew,rms,mad,sma_1_comp,std,variance,xcrossing,minmax,iqr,kurtosis]"
   ]
  },
  {
   "cell_type": "markdown",
   "metadata": {},
   "source": [
    "An example of a feature dataframe"
   ]
  },
  {
   "cell_type": "code",
   "execution_count": 10,
   "metadata": {
    "collapsed": false
   },
   "outputs": [
    {
     "data": {
      "text/html": [
       "<div>\n",
       "<style scoped>\n",
       "    .dataframe tbody tr th:only-of-type {\n",
       "        vertical-align: middle;\n",
       "    }\n",
       "\n",
       "    .dataframe tbody tr th {\n",
       "        vertical-align: top;\n",
       "    }\n",
       "\n",
       "    .dataframe thead th {\n",
       "        text-align: right;\n",
       "    }\n",
       "</style>\n",
       "<table border=\"1\" class=\"dataframe\">\n",
       "  <thead>\n",
       "    <tr style=\"text-align: right;\">\n",
       "      <th></th>\n",
       "      <th>channel_75</th>\n",
       "      <th>channel_76</th>\n",
       "      <th>channel_77</th>\n",
       "      <th>channel_78</th>\n",
       "      <th>channel_79</th>\n",
       "      <th>channel_80</th>\n",
       "      <th>channel_81</th>\n",
       "      <th>channel_82</th>\n",
       "      <th>channel_83</th>\n",
       "      <th>channel_84</th>\n",
       "      <th>...</th>\n",
       "      <th>channel_86</th>\n",
       "      <th>channel_87</th>\n",
       "      <th>channel_88</th>\n",
       "      <th>channel_89</th>\n",
       "      <th>channel_90</th>\n",
       "      <th>channel_91</th>\n",
       "      <th>channel_92</th>\n",
       "      <th>channel_93</th>\n",
       "      <th>channel_94</th>\n",
       "      <th>file_name</th>\n",
       "    </tr>\n",
       "  </thead>\n",
       "  <tbody>\n",
       "    <tr>\n",
       "      <th>0</th>\n",
       "      <td>11.681328</td>\n",
       "      <td>11.297560</td>\n",
       "      <td>10.565713</td>\n",
       "      <td>10.651578</td>\n",
       "      <td>9.927648</td>\n",
       "      <td>10.649434</td>\n",
       "      <td>11.528420</td>\n",
       "      <td>12.121641</td>\n",
       "      <td>12.656151</td>\n",
       "      <td>15.255091</td>\n",
       "      <td>...</td>\n",
       "      <td>16.723557</td>\n",
       "      <td>17.106794</td>\n",
       "      <td>17.401350</td>\n",
       "      <td>18.916747</td>\n",
       "      <td>17.739294</td>\n",
       "      <td>18.236246</td>\n",
       "      <td>18.532227</td>\n",
       "      <td>14.985069</td>\n",
       "      <td>14.814697</td>\n",
       "      <td>20160805180738_40_Hz_LineCSN.mseed</td>\n",
       "    </tr>\n",
       "    <tr>\n",
       "      <th>1</th>\n",
       "      <td>11.566667</td>\n",
       "      <td>11.367564</td>\n",
       "      <td>10.293708</td>\n",
       "      <td>10.528026</td>\n",
       "      <td>10.187237</td>\n",
       "      <td>10.394019</td>\n",
       "      <td>10.176871</td>\n",
       "      <td>11.829739</td>\n",
       "      <td>12.520605</td>\n",
       "      <td>13.665388</td>\n",
       "      <td>...</td>\n",
       "      <td>15.142217</td>\n",
       "      <td>15.262201</td>\n",
       "      <td>15.716973</td>\n",
       "      <td>17.121646</td>\n",
       "      <td>15.819953</td>\n",
       "      <td>16.022636</td>\n",
       "      <td>19.865663</td>\n",
       "      <td>16.466882</td>\n",
       "      <td>15.095997</td>\n",
       "      <td>20160805180838_40_Hz_LineCSN.mseed</td>\n",
       "    </tr>\n",
       "    <tr>\n",
       "      <th>2</th>\n",
       "      <td>17.457526</td>\n",
       "      <td>16.757426</td>\n",
       "      <td>14.713631</td>\n",
       "      <td>15.279337</td>\n",
       "      <td>15.348863</td>\n",
       "      <td>15.728186</td>\n",
       "      <td>16.027678</td>\n",
       "      <td>17.240832</td>\n",
       "      <td>18.369659</td>\n",
       "      <td>19.865462</td>\n",
       "      <td>...</td>\n",
       "      <td>23.811905</td>\n",
       "      <td>24.183990</td>\n",
       "      <td>23.955821</td>\n",
       "      <td>27.518926</td>\n",
       "      <td>22.556312</td>\n",
       "      <td>23.323985</td>\n",
       "      <td>24.246977</td>\n",
       "      <td>23.410367</td>\n",
       "      <td>20.746625</td>\n",
       "      <td>20160805180938_40_Hz_LineCSN.mseed</td>\n",
       "    </tr>\n",
       "    <tr>\n",
       "      <th>3</th>\n",
       "      <td>22.503722</td>\n",
       "      <td>19.208751</td>\n",
       "      <td>17.648510</td>\n",
       "      <td>18.175225</td>\n",
       "      <td>18.467215</td>\n",
       "      <td>18.466986</td>\n",
       "      <td>19.151163</td>\n",
       "      <td>21.811650</td>\n",
       "      <td>22.420826</td>\n",
       "      <td>23.606734</td>\n",
       "      <td>...</td>\n",
       "      <td>28.118455</td>\n",
       "      <td>28.151359</td>\n",
       "      <td>24.944283</td>\n",
       "      <td>24.831824</td>\n",
       "      <td>22.715120</td>\n",
       "      <td>24.763001</td>\n",
       "      <td>25.123822</td>\n",
       "      <td>24.214795</td>\n",
       "      <td>21.177069</td>\n",
       "      <td>20160805181038_40_Hz_LineCSN.mseed</td>\n",
       "    </tr>\n",
       "    <tr>\n",
       "      <th>4</th>\n",
       "      <td>7.909541</td>\n",
       "      <td>7.508461</td>\n",
       "      <td>6.932315</td>\n",
       "      <td>7.417068</td>\n",
       "      <td>7.180079</td>\n",
       "      <td>7.608237</td>\n",
       "      <td>7.936308</td>\n",
       "      <td>9.298768</td>\n",
       "      <td>9.420749</td>\n",
       "      <td>9.748277</td>\n",
       "      <td>...</td>\n",
       "      <td>10.862061</td>\n",
       "      <td>10.854751</td>\n",
       "      <td>9.860103</td>\n",
       "      <td>9.708139</td>\n",
       "      <td>9.775488</td>\n",
       "      <td>10.243657</td>\n",
       "      <td>10.200908</td>\n",
       "      <td>9.650366</td>\n",
       "      <td>8.944905</td>\n",
       "      <td>20160805181138_40_Hz_LineCSN.mseed</td>\n",
       "    </tr>\n",
       "  </tbody>\n",
       "</table>\n",
       "<p>5 rows × 21 columns</p>\n",
       "</div>"
      ],
      "text/plain": [
       "   channel_75  channel_76  channel_77  channel_78  channel_79  channel_80  \\\n",
       "0   11.681328   11.297560   10.565713   10.651578    9.927648   10.649434   \n",
       "1   11.566667   11.367564   10.293708   10.528026   10.187237   10.394019   \n",
       "2   17.457526   16.757426   14.713631   15.279337   15.348863   15.728186   \n",
       "3   22.503722   19.208751   17.648510   18.175225   18.467215   18.466986   \n",
       "4    7.909541    7.508461    6.932315    7.417068    7.180079    7.608237   \n",
       "\n",
       "   channel_81  channel_82  channel_83  channel_84  \\\n",
       "0   11.528420   12.121641   12.656151   15.255091   \n",
       "1   10.176871   11.829739   12.520605   13.665388   \n",
       "2   16.027678   17.240832   18.369659   19.865462   \n",
       "3   19.151163   21.811650   22.420826   23.606734   \n",
       "4    7.936308    9.298768    9.420749    9.748277   \n",
       "\n",
       "                  ...                  channel_86  channel_87  channel_88  \\\n",
       "0                 ...                   16.723557   17.106794   17.401350   \n",
       "1                 ...                   15.142217   15.262201   15.716973   \n",
       "2                 ...                   23.811905   24.183990   23.955821   \n",
       "3                 ...                   28.118455   28.151359   24.944283   \n",
       "4                 ...                   10.862061   10.854751    9.860103   \n",
       "\n",
       "   channel_89  channel_90  channel_91  channel_92  channel_93  channel_94  \\\n",
       "0   18.916747   17.739294   18.236246   18.532227   14.985069   14.814697   \n",
       "1   17.121646   15.819953   16.022636   19.865663   16.466882   15.095997   \n",
       "2   27.518926   22.556312   23.323985   24.246977   23.410367   20.746625   \n",
       "3   24.831824   22.715120   24.763001   25.123822   24.214795   21.177069   \n",
       "4    9.708139    9.775488   10.243657   10.200908    9.650366    8.944905   \n",
       "\n",
       "                            file_name  \n",
       "0  20160805180738_40_Hz_LineCSN.mseed  \n",
       "1  20160805180838_40_Hz_LineCSN.mseed  \n",
       "2  20160805180938_40_Hz_LineCSN.mseed  \n",
       "3  20160805181038_40_Hz_LineCSN.mseed  \n",
       "4  20160805181138_40_Hz_LineCSN.mseed  \n",
       "\n",
       "[5 rows x 21 columns]"
      ]
     },
     "execution_count": 10,
     "metadata": {},
     "output_type": "execute_result"
    }
   ],
   "source": [
    "mean.head()"
   ]
  },
  {
   "cell_type": "markdown",
   "metadata": {},
   "source": [
    "### Testing merge ability"
   ]
  },
  {
   "cell_type": "code",
   "execution_count": 22,
   "metadata": {
    "collapsed": true
   },
   "outputs": [],
   "source": [
    "def extract_mean_over_channels(indf):\n",
    "    \n",
    "    newcolname = \"mean_%s\" %indf.name\n",
    "    opdf = indf[['file_name']]\n",
    "    opdf = opdf.assign(mean_col = indf.drop('file_name',axis=1).mean(axis=1))\n",
    "    opdf.columns = ['file_name',newcolname]\n",
    "    \n",
    "    return opdf"
   ]
  },
  {
   "cell_type": "code",
   "execution_count": 23,
   "metadata": {
    "collapsed": false
   },
   "outputs": [
    {
     "data": {
      "text/html": [
       "<div>\n",
       "<style scoped>\n",
       "    .dataframe tbody tr th:only-of-type {\n",
       "        vertical-align: middle;\n",
       "    }\n",
       "\n",
       "    .dataframe tbody tr th {\n",
       "        vertical-align: top;\n",
       "    }\n",
       "\n",
       "    .dataframe thead th {\n",
       "        text-align: right;\n",
       "    }\n",
       "</style>\n",
       "<table border=\"1\" class=\"dataframe\">\n",
       "  <thead>\n",
       "    <tr style=\"text-align: right;\">\n",
       "      <th></th>\n",
       "      <th>file_name</th>\n",
       "      <th>mean_mean</th>\n",
       "    </tr>\n",
       "  </thead>\n",
       "  <tbody>\n",
       "    <tr>\n",
       "      <th>0</th>\n",
       "      <td>20160805180738_40_Hz_LineCSN.mseed</td>\n",
       "      <td>14.361770</td>\n",
       "    </tr>\n",
       "    <tr>\n",
       "      <th>1</th>\n",
       "      <td>20160805180838_40_Hz_LineCSN.mseed</td>\n",
       "      <td>13.701386</td>\n",
       "    </tr>\n",
       "    <tr>\n",
       "      <th>2</th>\n",
       "      <td>20160805180938_40_Hz_LineCSN.mseed</td>\n",
       "      <td>20.205624</td>\n",
       "    </tr>\n",
       "    <tr>\n",
       "      <th>3</th>\n",
       "      <td>20160805181038_40_Hz_LineCSN.mseed</td>\n",
       "      <td>22.655810</td>\n",
       "    </tr>\n",
       "    <tr>\n",
       "      <th>4</th>\n",
       "      <td>20160805181138_40_Hz_LineCSN.mseed</td>\n",
       "      <td>9.052441</td>\n",
       "    </tr>\n",
       "  </tbody>\n",
       "</table>\n",
       "</div>"
      ],
      "text/plain": [
       "                            file_name  mean_mean\n",
       "0  20160805180738_40_Hz_LineCSN.mseed  14.361770\n",
       "1  20160805180838_40_Hz_LineCSN.mseed  13.701386\n",
       "2  20160805180938_40_Hz_LineCSN.mseed  20.205624\n",
       "3  20160805181038_40_Hz_LineCSN.mseed  22.655810\n",
       "4  20160805181138_40_Hz_LineCSN.mseed   9.052441"
      ]
     },
     "execution_count": 23,
     "metadata": {},
     "output_type": "execute_result"
    }
   ],
   "source": [
    "m1 = extract_mean_over_channels(mean)\n",
    "m1.head()"
   ]
  },
  {
   "cell_type": "code",
   "execution_count": 24,
   "metadata": {
    "collapsed": false
   },
   "outputs": [],
   "source": [
    "indf = lineCSN_M3\n",
    "for feature_df in features:\n",
    "    \n",
    "    mean_feature = extract_mean_over_channels(feature_df)\n",
    "    merged_df = pd.merge(indf,mean_feature,on='file_name')\n",
    "    indf = merged_df"
   ]
  },
  {
   "cell_type": "code",
   "execution_count": 25,
   "metadata": {
    "collapsed": false
   },
   "outputs": [
    {
     "data": {
      "text/html": [
       "<div>\n",
       "<style scoped>\n",
       "    .dataframe tbody tr th:only-of-type {\n",
       "        vertical-align: middle;\n",
       "    }\n",
       "\n",
       "    .dataframe tbody tr th {\n",
       "        vertical-align: top;\n",
       "    }\n",
       "\n",
       "    .dataframe thead th {\n",
       "        text-align: right;\n",
       "    }\n",
       "</style>\n",
       "<table border=\"1\" class=\"dataframe\">\n",
       "  <thead>\n",
       "    <tr style=\"text-align: right;\">\n",
       "      <th></th>\n",
       "      <th>file_name</th>\n",
       "      <th>M3_20_Avg_interp</th>\n",
       "      <th>Temphigh_interp</th>\n",
       "      <th>mean_mean</th>\n",
       "      <th>mean_median</th>\n",
       "      <th>mean_cav</th>\n",
       "      <th>mean_Z</th>\n",
       "      <th>mean_energy</th>\n",
       "      <th>mean_skew</th>\n",
       "      <th>mean_rms</th>\n",
       "      <th>mean_mad</th>\n",
       "      <th>mean_sma_1_omp</th>\n",
       "      <th>mean_std</th>\n",
       "      <th>mean_var</th>\n",
       "      <th>mean_xcrossing_rate</th>\n",
       "      <th>mean_minmax</th>\n",
       "      <th>mean_iqr</th>\n",
       "      <th>mean_kurtosis</th>\n",
       "    </tr>\n",
       "  </thead>\n",
       "  <tbody>\n",
       "    <tr>\n",
       "      <th>0</th>\n",
       "      <td>20160805180738_40_Hz_LineCSN.mseed</td>\n",
       "      <td>0.202000</td>\n",
       "      <td>27.437489</td>\n",
       "      <td>14.361770</td>\n",
       "      <td>8.309841</td>\n",
       "      <td>861.647286</td>\n",
       "      <td>0.446708</td>\n",
       "      <td>1.338238e+06</td>\n",
       "      <td>2.851846</td>\n",
       "      <td>0.470759</td>\n",
       "      <td>3.426352</td>\n",
       "      <td>861.647286</td>\n",
       "      <td>18.029467</td>\n",
       "      <td>341.555477</td>\n",
       "      <td>1226.15</td>\n",
       "      <td>150.839529</td>\n",
       "      <td>13.717603</td>\n",
       "      <td>10.819143</td>\n",
       "    </tr>\n",
       "    <tr>\n",
       "      <th>1</th>\n",
       "      <td>20160805180838_40_Hz_LineCSN.mseed</td>\n",
       "      <td>0.202000</td>\n",
       "      <td>27.423656</td>\n",
       "      <td>13.701386</td>\n",
       "      <td>6.213150</td>\n",
       "      <td>821.345942</td>\n",
       "      <td>0.404207</td>\n",
       "      <td>1.937958e+06</td>\n",
       "      <td>4.377103</td>\n",
       "      <td>0.570359</td>\n",
       "      <td>3.627463</td>\n",
       "      <td>821.345942</td>\n",
       "      <td>24.327355</td>\n",
       "      <td>611.562809</td>\n",
       "      <td>1258.00</td>\n",
       "      <td>248.077050</td>\n",
       "      <td>9.952303</td>\n",
       "      <td>24.638108</td>\n",
       "    </tr>\n",
       "    <tr>\n",
       "      <th>2</th>\n",
       "      <td>20160805180938_40_Hz_LineCSN.mseed</td>\n",
       "      <td>0.202013</td>\n",
       "      <td>27.409822</td>\n",
       "      <td>20.205624</td>\n",
       "      <td>12.393668</td>\n",
       "      <td>1211.619954</td>\n",
       "      <td>0.500408</td>\n",
       "      <td>3.119695e+06</td>\n",
       "      <td>5.666495</td>\n",
       "      <td>0.717259</td>\n",
       "      <td>3.993771</td>\n",
       "      <td>1211.619954</td>\n",
       "      <td>28.717980</td>\n",
       "      <td>875.824013</td>\n",
       "      <td>1243.00</td>\n",
       "      <td>446.195626</td>\n",
       "      <td>18.797455</td>\n",
       "      <td>56.579966</td>\n",
       "    </tr>\n",
       "    <tr>\n",
       "      <th>3</th>\n",
       "      <td>20160805181038_40_Hz_LineCSN.mseed</td>\n",
       "      <td>0.202113</td>\n",
       "      <td>27.395989</td>\n",
       "      <td>22.655810</td>\n",
       "      <td>13.747387</td>\n",
       "      <td>1359.193771</td>\n",
       "      <td>0.354066</td>\n",
       "      <td>3.047592e+06</td>\n",
       "      <td>2.911729</td>\n",
       "      <td>0.719105</td>\n",
       "      <td>4.269980</td>\n",
       "      <td>1359.193771</td>\n",
       "      <td>26.964447</td>\n",
       "      <td>745.507721</td>\n",
       "      <td>1316.50</td>\n",
       "      <td>268.897080</td>\n",
       "      <td>24.549586</td>\n",
       "      <td>13.650838</td>\n",
       "    </tr>\n",
       "    <tr>\n",
       "      <th>4</th>\n",
       "      <td>20160805181138_40_Hz_LineCSN.mseed</td>\n",
       "      <td>0.202213</td>\n",
       "      <td>27.382156</td>\n",
       "      <td>9.052441</td>\n",
       "      <td>5.527184</td>\n",
       "      <td>543.045438</td>\n",
       "      <td>0.710345</td>\n",
       "      <td>4.471846e+05</td>\n",
       "      <td>2.155085</td>\n",
       "      <td>0.275294</td>\n",
       "      <td>2.668708</td>\n",
       "      <td>543.045438</td>\n",
       "      <td>9.993083</td>\n",
       "      <td>102.746092</td>\n",
       "      <td>1252.15</td>\n",
       "      <td>78.910585</td>\n",
       "      <td>9.537744</td>\n",
       "      <td>5.977357</td>\n",
       "    </tr>\n",
       "  </tbody>\n",
       "</table>\n",
       "</div>"
      ],
      "text/plain": [
       "                            file_name  M3_20_Avg_interp  Temphigh_interp  \\\n",
       "0  20160805180738_40_Hz_LineCSN.mseed          0.202000        27.437489   \n",
       "1  20160805180838_40_Hz_LineCSN.mseed          0.202000        27.423656   \n",
       "2  20160805180938_40_Hz_LineCSN.mseed          0.202013        27.409822   \n",
       "3  20160805181038_40_Hz_LineCSN.mseed          0.202113        27.395989   \n",
       "4  20160805181138_40_Hz_LineCSN.mseed          0.202213        27.382156   \n",
       "\n",
       "   mean_mean  mean_median     mean_cav    mean_Z   mean_energy  mean_skew  \\\n",
       "0  14.361770     8.309841   861.647286  0.446708  1.338238e+06   2.851846   \n",
       "1  13.701386     6.213150   821.345942  0.404207  1.937958e+06   4.377103   \n",
       "2  20.205624    12.393668  1211.619954  0.500408  3.119695e+06   5.666495   \n",
       "3  22.655810    13.747387  1359.193771  0.354066  3.047592e+06   2.911729   \n",
       "4   9.052441     5.527184   543.045438  0.710345  4.471846e+05   2.155085   \n",
       "\n",
       "   mean_rms  mean_mad  mean_sma_1_omp   mean_std    mean_var  \\\n",
       "0  0.470759  3.426352      861.647286  18.029467  341.555477   \n",
       "1  0.570359  3.627463      821.345942  24.327355  611.562809   \n",
       "2  0.717259  3.993771     1211.619954  28.717980  875.824013   \n",
       "3  0.719105  4.269980     1359.193771  26.964447  745.507721   \n",
       "4  0.275294  2.668708      543.045438   9.993083  102.746092   \n",
       "\n",
       "   mean_xcrossing_rate  mean_minmax   mean_iqr  mean_kurtosis  \n",
       "0              1226.15   150.839529  13.717603      10.819143  \n",
       "1              1258.00   248.077050   9.952303      24.638108  \n",
       "2              1243.00   446.195626  18.797455      56.579966  \n",
       "3              1316.50   268.897080  24.549586      13.650838  \n",
       "4              1252.15    78.910585   9.537744       5.977357  "
      ]
     },
     "execution_count": 25,
     "metadata": {},
     "output_type": "execute_result"
    }
   ],
   "source": [
    "merged_df.head()"
   ]
  },
  {
   "cell_type": "code",
   "execution_count": 26,
   "metadata": {
    "collapsed": false
   },
   "outputs": [],
   "source": [
    "merged_df.index = lineCSN_M3.index"
   ]
  },
  {
   "cell_type": "code",
   "execution_count": 27,
   "metadata": {
    "collapsed": false
   },
   "outputs": [
    {
     "data": {
      "text/html": [
       "<div>\n",
       "<style scoped>\n",
       "    .dataframe tbody tr th:only-of-type {\n",
       "        vertical-align: middle;\n",
       "    }\n",
       "\n",
       "    .dataframe tbody tr th {\n",
       "        vertical-align: top;\n",
       "    }\n",
       "\n",
       "    .dataframe thead th {\n",
       "        text-align: right;\n",
       "    }\n",
       "</style>\n",
       "<table border=\"1\" class=\"dataframe\">\n",
       "  <thead>\n",
       "    <tr style=\"text-align: right;\">\n",
       "      <th></th>\n",
       "      <th>file_name</th>\n",
       "      <th>M3_20_Avg_interp</th>\n",
       "      <th>Temphigh_interp</th>\n",
       "      <th>mean_mean</th>\n",
       "      <th>mean_median</th>\n",
       "      <th>mean_cav</th>\n",
       "      <th>mean_Z</th>\n",
       "      <th>mean_energy</th>\n",
       "      <th>mean_skew</th>\n",
       "      <th>mean_rms</th>\n",
       "      <th>mean_mad</th>\n",
       "      <th>mean_sma_1_omp</th>\n",
       "      <th>mean_std</th>\n",
       "      <th>mean_var</th>\n",
       "      <th>mean_xcrossing_rate</th>\n",
       "      <th>mean_minmax</th>\n",
       "      <th>mean_iqr</th>\n",
       "      <th>mean_kurtosis</th>\n",
       "    </tr>\n",
       "    <tr>\n",
       "      <th>DateTime</th>\n",
       "      <th></th>\n",
       "      <th></th>\n",
       "      <th></th>\n",
       "      <th></th>\n",
       "      <th></th>\n",
       "      <th></th>\n",
       "      <th></th>\n",
       "      <th></th>\n",
       "      <th></th>\n",
       "      <th></th>\n",
       "      <th></th>\n",
       "      <th></th>\n",
       "      <th></th>\n",
       "      <th></th>\n",
       "      <th></th>\n",
       "      <th></th>\n",
       "      <th></th>\n",
       "      <th></th>\n",
       "    </tr>\n",
       "  </thead>\n",
       "  <tbody>\n",
       "    <tr>\n",
       "      <th>2016-08-05 18:07:38</th>\n",
       "      <td>20160805180738_40_Hz_LineCSN.mseed</td>\n",
       "      <td>0.202000</td>\n",
       "      <td>27.437489</td>\n",
       "      <td>14.361770</td>\n",
       "      <td>8.309841</td>\n",
       "      <td>861.647286</td>\n",
       "      <td>0.446708</td>\n",
       "      <td>1.338238e+06</td>\n",
       "      <td>2.851846</td>\n",
       "      <td>0.470759</td>\n",
       "      <td>3.426352</td>\n",
       "      <td>861.647286</td>\n",
       "      <td>18.029467</td>\n",
       "      <td>341.555477</td>\n",
       "      <td>1226.15</td>\n",
       "      <td>150.839529</td>\n",
       "      <td>13.717603</td>\n",
       "      <td>10.819143</td>\n",
       "    </tr>\n",
       "    <tr>\n",
       "      <th>2016-08-05 18:08:38</th>\n",
       "      <td>20160805180838_40_Hz_LineCSN.mseed</td>\n",
       "      <td>0.202000</td>\n",
       "      <td>27.423656</td>\n",
       "      <td>13.701386</td>\n",
       "      <td>6.213150</td>\n",
       "      <td>821.345942</td>\n",
       "      <td>0.404207</td>\n",
       "      <td>1.937958e+06</td>\n",
       "      <td>4.377103</td>\n",
       "      <td>0.570359</td>\n",
       "      <td>3.627463</td>\n",
       "      <td>821.345942</td>\n",
       "      <td>24.327355</td>\n",
       "      <td>611.562809</td>\n",
       "      <td>1258.00</td>\n",
       "      <td>248.077050</td>\n",
       "      <td>9.952303</td>\n",
       "      <td>24.638108</td>\n",
       "    </tr>\n",
       "    <tr>\n",
       "      <th>2016-08-05 18:09:38</th>\n",
       "      <td>20160805180938_40_Hz_LineCSN.mseed</td>\n",
       "      <td>0.202013</td>\n",
       "      <td>27.409822</td>\n",
       "      <td>20.205624</td>\n",
       "      <td>12.393668</td>\n",
       "      <td>1211.619954</td>\n",
       "      <td>0.500408</td>\n",
       "      <td>3.119695e+06</td>\n",
       "      <td>5.666495</td>\n",
       "      <td>0.717259</td>\n",
       "      <td>3.993771</td>\n",
       "      <td>1211.619954</td>\n",
       "      <td>28.717980</td>\n",
       "      <td>875.824013</td>\n",
       "      <td>1243.00</td>\n",
       "      <td>446.195626</td>\n",
       "      <td>18.797455</td>\n",
       "      <td>56.579966</td>\n",
       "    </tr>\n",
       "    <tr>\n",
       "      <th>2016-08-05 18:10:38</th>\n",
       "      <td>20160805181038_40_Hz_LineCSN.mseed</td>\n",
       "      <td>0.202113</td>\n",
       "      <td>27.395989</td>\n",
       "      <td>22.655810</td>\n",
       "      <td>13.747387</td>\n",
       "      <td>1359.193771</td>\n",
       "      <td>0.354066</td>\n",
       "      <td>3.047592e+06</td>\n",
       "      <td>2.911729</td>\n",
       "      <td>0.719105</td>\n",
       "      <td>4.269980</td>\n",
       "      <td>1359.193771</td>\n",
       "      <td>26.964447</td>\n",
       "      <td>745.507721</td>\n",
       "      <td>1316.50</td>\n",
       "      <td>268.897080</td>\n",
       "      <td>24.549586</td>\n",
       "      <td>13.650838</td>\n",
       "    </tr>\n",
       "    <tr>\n",
       "      <th>2016-08-05 18:11:38</th>\n",
       "      <td>20160805181138_40_Hz_LineCSN.mseed</td>\n",
       "      <td>0.202213</td>\n",
       "      <td>27.382156</td>\n",
       "      <td>9.052441</td>\n",
       "      <td>5.527184</td>\n",
       "      <td>543.045438</td>\n",
       "      <td>0.710345</td>\n",
       "      <td>4.471846e+05</td>\n",
       "      <td>2.155085</td>\n",
       "      <td>0.275294</td>\n",
       "      <td>2.668708</td>\n",
       "      <td>543.045438</td>\n",
       "      <td>9.993083</td>\n",
       "      <td>102.746092</td>\n",
       "      <td>1252.15</td>\n",
       "      <td>78.910585</td>\n",
       "      <td>9.537744</td>\n",
       "      <td>5.977357</td>\n",
       "    </tr>\n",
       "    <tr>\n",
       "      <th>2016-08-05 18:12:38</th>\n",
       "      <td>20160805181238_40_Hz_LineCSN.mseed</td>\n",
       "      <td>0.202313</td>\n",
       "      <td>27.368322</td>\n",
       "      <td>8.627466</td>\n",
       "      <td>5.499426</td>\n",
       "      <td>517.405159</td>\n",
       "      <td>0.844500</td>\n",
       "      <td>4.131829e+05</td>\n",
       "      <td>2.435125</td>\n",
       "      <td>0.262419</td>\n",
       "      <td>2.563802</td>\n",
       "      <td>517.405159</td>\n",
       "      <td>9.524195</td>\n",
       "      <td>94.674329</td>\n",
       "      <td>1242.55</td>\n",
       "      <td>81.792978</td>\n",
       "      <td>8.707979</td>\n",
       "      <td>8.419048</td>\n",
       "    </tr>\n",
       "    <tr>\n",
       "      <th>2016-08-05 18:13:38</th>\n",
       "      <td>20160805181338_40_Hz_LineCSN.mseed</td>\n",
       "      <td>0.202413</td>\n",
       "      <td>27.354489</td>\n",
       "      <td>26.460252</td>\n",
       "      <td>14.703773</td>\n",
       "      <td>1587.489450</td>\n",
       "      <td>0.257395</td>\n",
       "      <td>4.403811e+06</td>\n",
       "      <td>2.809590</td>\n",
       "      <td>0.862578</td>\n",
       "      <td>4.713052</td>\n",
       "      <td>1587.489450</td>\n",
       "      <td>32.933261</td>\n",
       "      <td>1119.715728</td>\n",
       "      <td>1214.15</td>\n",
       "      <td>307.233676</td>\n",
       "      <td>28.677278</td>\n",
       "      <td>11.763342</td>\n",
       "    </tr>\n",
       "    <tr>\n",
       "      <th>2016-08-05 18:14:38</th>\n",
       "      <td>20160805181438_40_Hz_LineCSN.mseed</td>\n",
       "      <td>0.202513</td>\n",
       "      <td>27.340656</td>\n",
       "      <td>16.519360</td>\n",
       "      <td>8.692209</td>\n",
       "      <td>991.100540</td>\n",
       "      <td>0.382212</td>\n",
       "      <td>1.781066e+06</td>\n",
       "      <td>2.700716</td>\n",
       "      <td>0.545073</td>\n",
       "      <td>3.777695</td>\n",
       "      <td>991.100540</td>\n",
       "      <td>20.967610</td>\n",
       "      <td>459.704164</td>\n",
       "      <td>1255.00</td>\n",
       "      <td>183.181363</td>\n",
       "      <td>18.065695</td>\n",
       "      <td>10.654987</td>\n",
       "    </tr>\n",
       "    <tr>\n",
       "      <th>2016-08-05 18:15:38</th>\n",
       "      <td>20160805181538_40_Hz_LineCSN.mseed</td>\n",
       "      <td>0.202613</td>\n",
       "      <td>27.326822</td>\n",
       "      <td>44.295320</td>\n",
       "      <td>18.708027</td>\n",
       "      <td>2657.347432</td>\n",
       "      <td>0.114965</td>\n",
       "      <td>1.824516e+07</td>\n",
       "      <td>3.528740</td>\n",
       "      <td>1.760777</td>\n",
       "      <td>6.600293</td>\n",
       "      <td>2657.347432</td>\n",
       "      <td>74.011403</td>\n",
       "      <td>5595.136678</td>\n",
       "      <td>1175.55</td>\n",
       "      <td>679.688776</td>\n",
       "      <td>35.739100</td>\n",
       "      <td>15.274357</td>\n",
       "    </tr>\n",
       "    <tr>\n",
       "      <th>2016-08-05 18:16:38</th>\n",
       "      <td>20160805181638_40_Hz_LineCSN.mseed</td>\n",
       "      <td>0.202713</td>\n",
       "      <td>27.312989</td>\n",
       "      <td>11.724042</td>\n",
       "      <td>7.207041</td>\n",
       "      <td>703.246091</td>\n",
       "      <td>0.688407</td>\n",
       "      <td>7.847253e+05</td>\n",
       "      <td>2.699983</td>\n",
       "      <td>0.364083</td>\n",
       "      <td>3.035430</td>\n",
       "      <td>703.246091</td>\n",
       "      <td>13.439377</td>\n",
       "      <td>185.060551</td>\n",
       "      <td>1278.60</td>\n",
       "      <td>127.276353</td>\n",
       "      <td>11.880259</td>\n",
       "      <td>11.850197</td>\n",
       "    </tr>\n",
       "  </tbody>\n",
       "</table>\n",
       "</div>"
      ],
      "text/plain": [
       "                                              file_name  M3_20_Avg_interp  \\\n",
       "DateTime                                                                    \n",
       "2016-08-05 18:07:38  20160805180738_40_Hz_LineCSN.mseed          0.202000   \n",
       "2016-08-05 18:08:38  20160805180838_40_Hz_LineCSN.mseed          0.202000   \n",
       "2016-08-05 18:09:38  20160805180938_40_Hz_LineCSN.mseed          0.202013   \n",
       "2016-08-05 18:10:38  20160805181038_40_Hz_LineCSN.mseed          0.202113   \n",
       "2016-08-05 18:11:38  20160805181138_40_Hz_LineCSN.mseed          0.202213   \n",
       "2016-08-05 18:12:38  20160805181238_40_Hz_LineCSN.mseed          0.202313   \n",
       "2016-08-05 18:13:38  20160805181338_40_Hz_LineCSN.mseed          0.202413   \n",
       "2016-08-05 18:14:38  20160805181438_40_Hz_LineCSN.mseed          0.202513   \n",
       "2016-08-05 18:15:38  20160805181538_40_Hz_LineCSN.mseed          0.202613   \n",
       "2016-08-05 18:16:38  20160805181638_40_Hz_LineCSN.mseed          0.202713   \n",
       "\n",
       "                     Temphigh_interp  mean_mean  mean_median     mean_cav  \\\n",
       "DateTime                                                                    \n",
       "2016-08-05 18:07:38        27.437489  14.361770     8.309841   861.647286   \n",
       "2016-08-05 18:08:38        27.423656  13.701386     6.213150   821.345942   \n",
       "2016-08-05 18:09:38        27.409822  20.205624    12.393668  1211.619954   \n",
       "2016-08-05 18:10:38        27.395989  22.655810    13.747387  1359.193771   \n",
       "2016-08-05 18:11:38        27.382156   9.052441     5.527184   543.045438   \n",
       "2016-08-05 18:12:38        27.368322   8.627466     5.499426   517.405159   \n",
       "2016-08-05 18:13:38        27.354489  26.460252    14.703773  1587.489450   \n",
       "2016-08-05 18:14:38        27.340656  16.519360     8.692209   991.100540   \n",
       "2016-08-05 18:15:38        27.326822  44.295320    18.708027  2657.347432   \n",
       "2016-08-05 18:16:38        27.312989  11.724042     7.207041   703.246091   \n",
       "\n",
       "                       mean_Z   mean_energy  mean_skew  mean_rms  mean_mad  \\\n",
       "DateTime                                                                     \n",
       "2016-08-05 18:07:38  0.446708  1.338238e+06   2.851846  0.470759  3.426352   \n",
       "2016-08-05 18:08:38  0.404207  1.937958e+06   4.377103  0.570359  3.627463   \n",
       "2016-08-05 18:09:38  0.500408  3.119695e+06   5.666495  0.717259  3.993771   \n",
       "2016-08-05 18:10:38  0.354066  3.047592e+06   2.911729  0.719105  4.269980   \n",
       "2016-08-05 18:11:38  0.710345  4.471846e+05   2.155085  0.275294  2.668708   \n",
       "2016-08-05 18:12:38  0.844500  4.131829e+05   2.435125  0.262419  2.563802   \n",
       "2016-08-05 18:13:38  0.257395  4.403811e+06   2.809590  0.862578  4.713052   \n",
       "2016-08-05 18:14:38  0.382212  1.781066e+06   2.700716  0.545073  3.777695   \n",
       "2016-08-05 18:15:38  0.114965  1.824516e+07   3.528740  1.760777  6.600293   \n",
       "2016-08-05 18:16:38  0.688407  7.847253e+05   2.699983  0.364083  3.035430   \n",
       "\n",
       "                     mean_sma_1_omp   mean_std     mean_var  \\\n",
       "DateTime                                                      \n",
       "2016-08-05 18:07:38      861.647286  18.029467   341.555477   \n",
       "2016-08-05 18:08:38      821.345942  24.327355   611.562809   \n",
       "2016-08-05 18:09:38     1211.619954  28.717980   875.824013   \n",
       "2016-08-05 18:10:38     1359.193771  26.964447   745.507721   \n",
       "2016-08-05 18:11:38      543.045438   9.993083   102.746092   \n",
       "2016-08-05 18:12:38      517.405159   9.524195    94.674329   \n",
       "2016-08-05 18:13:38     1587.489450  32.933261  1119.715728   \n",
       "2016-08-05 18:14:38      991.100540  20.967610   459.704164   \n",
       "2016-08-05 18:15:38     2657.347432  74.011403  5595.136678   \n",
       "2016-08-05 18:16:38      703.246091  13.439377   185.060551   \n",
       "\n",
       "                     mean_xcrossing_rate  mean_minmax   mean_iqr  \\\n",
       "DateTime                                                           \n",
       "2016-08-05 18:07:38              1226.15   150.839529  13.717603   \n",
       "2016-08-05 18:08:38              1258.00   248.077050   9.952303   \n",
       "2016-08-05 18:09:38              1243.00   446.195626  18.797455   \n",
       "2016-08-05 18:10:38              1316.50   268.897080  24.549586   \n",
       "2016-08-05 18:11:38              1252.15    78.910585   9.537744   \n",
       "2016-08-05 18:12:38              1242.55    81.792978   8.707979   \n",
       "2016-08-05 18:13:38              1214.15   307.233676  28.677278   \n",
       "2016-08-05 18:14:38              1255.00   183.181363  18.065695   \n",
       "2016-08-05 18:15:38              1175.55   679.688776  35.739100   \n",
       "2016-08-05 18:16:38              1278.60   127.276353  11.880259   \n",
       "\n",
       "                     mean_kurtosis  \n",
       "DateTime                            \n",
       "2016-08-05 18:07:38      10.819143  \n",
       "2016-08-05 18:08:38      24.638108  \n",
       "2016-08-05 18:09:38      56.579966  \n",
       "2016-08-05 18:10:38      13.650838  \n",
       "2016-08-05 18:11:38       5.977357  \n",
       "2016-08-05 18:12:38       8.419048  \n",
       "2016-08-05 18:13:38      11.763342  \n",
       "2016-08-05 18:14:38      10.654987  \n",
       "2016-08-05 18:15:38      15.274357  \n",
       "2016-08-05 18:16:38      11.850197  "
      ]
     },
     "execution_count": 27,
     "metadata": {},
     "output_type": "execute_result"
    }
   ],
   "source": [
    "merged_df.head(10)"
   ]
  },
  {
   "cell_type": "markdown",
   "metadata": {},
   "source": [
    "### Plotting: Example of one of the features (maen)\n",
    "Clearly there is a day/night pattern here, but there is also alot of noise and spikes "
   ]
  },
  {
   "cell_type": "code",
   "execution_count": 30,
   "metadata": {
    "collapsed": false
   },
   "outputs": [
    {
     "data": {
      "text/plain": [
       "<matplotlib.axes._subplots.AxesSubplot at 0x7fd3f02a4518>"
      ]
     },
     "execution_count": 30,
     "metadata": {},
     "output_type": "execute_result"
    },
    {
     "data": {
      "image/png": "[encoded data removed]",
      "text/plain": [
       "<Figure size 432x288 with 1 Axes>"
      ]
     },
     "metadata": {},
     "output_type": "display_data"
    }
   ],
   "source": [
    "merged_df['mean_mean'].plot()"
   ]
  },
  {
   "cell_type": "markdown",
   "metadata": {},
   "source": [
    "### Plotting: The soil moisture timeseries that we hope to predict"
   ]
  },
  {
   "cell_type": "code",
   "execution_count": 28,
   "metadata": {
    "collapsed": false
   },
   "outputs": [
    {
     "data": {
      "text/plain": [
       "<matplotlib.axes._subplots.AxesSubplot at 0x7fd3f01616d8>"
      ]
     },
     "execution_count": 28,
     "metadata": {},
     "output_type": "execute_result"
    },
    {
     "data": {
      "image/png": "[encoded data removed]",
      "text/plain": [
       "<Figure size 432x288 with 1 Axes>"
      ]
     },
     "metadata": {},
     "output_type": "display_data"
    }
   ],
   "source": [
    "merged_df['M3_20_Avg_interp'].plot()"
   ]
  },
  {
   "cell_type": "markdown",
   "metadata": {},
   "source": [
    "### Plotting: The temperature timseries that we hope to predict"
   ]
  },
  {
   "cell_type": "code",
   "execution_count": 29,
   "metadata": {
    "collapsed": false
   },
   "outputs": [
    {
     "data": {
      "text/plain": [
       "<matplotlib.axes._subplots.AxesSubplot at 0x7fd3efde42b0>"
      ]
     },
     "execution_count": 29,
     "metadata": {},
     "output_type": "execute_result"
    },
    {
     "data": {
      "image/png": "[encoded data removed]",
      "text/plain": [
       "<Figure size 432x288 with 1 Axes>"
      ]
     },
     "metadata": {},
     "output_type": "display_data"
    }
   ],
   "source": [
    "merged_df['Temphigh_interp'].plot()"
   ]
  },
  {
   "cell_type": "markdown",
   "metadata": {},
   "source": [
    "### We could filter the feature datasets, but lets start just by trying to predict the timeseries with an RF Regressor "
   ]
  },
  {
   "cell_type": "code",
   "execution_count": 31,
   "metadata": {
    "collapsed": true
   },
   "outputs": [],
   "source": [
    "from sklearn.ensemble import RandomForestRegressor\n",
    "from sklearn.model_selection import train_test_split "
   ]
  },
  {
   "cell_type": "markdown",
   "metadata": {},
   "source": [
    "Test 1: Predict the soil moisture data\n",
    "\n",
    " > Min_samples_leaf should be quite high to combat noisei in the data   \n",
    " \n",
    " > Fitting takes quite a long time (5 mins or so for n_estimators=300)"
   ]
  },
  {
   "cell_type": "code",
   "execution_count": 48,
   "metadata": {
    "collapsed": true
   },
   "outputs": [],
   "source": [
    "cleaned_df = merged_df.dropna()\n",
    "y = cleaned_df['M3_20_Avg_interp']\n",
    "X = cleaned_df.drop(['file_name','M3_20_Avg_interp','Temphigh_interp'],axis=1)"
   ]
  },
  {
   "cell_type": "code",
   "execution_count": 49,
   "metadata": {
    "collapsed": false
   },
   "outputs": [],
   "source": [
    "X_train, X_test, y_train, y_test = train_test_split(X,y,test_size=0.3)"
   ]
  },
  {
   "cell_type": "code",
   "execution_count": 50,
   "metadata": {
    "collapsed": true
   },
   "outputs": [],
   "source": [
    "regr = RandomForestRegressor(n_estimators=300,min_samples_leaf=100,oob_score=True,n_jobs=2)"
   ]
  },
  {
   "cell_type": "code",
   "execution_count": 51,
   "metadata": {
    "collapsed": false
   },
   "outputs": [
    {
     "data": {
      "text/plain": [
       "RandomForestRegressor(bootstrap=True, criterion='mse', max_depth=None,\n",
       "           max_features='auto', max_leaf_nodes=None,\n",
       "           min_impurity_decrease=0.0, min_impurity_split=None,\n",
       "           min_samples_leaf=100, min_samples_split=2,\n",
       "           min_weight_fraction_leaf=0.0, n_estimators=300, n_jobs=2,\n",
       "           oob_score=True, random_state=None, verbose=0, warm_start=False)"
      ]
     },
     "execution_count": 51,
     "metadata": {},
     "output_type": "execute_result"
    }
   ],
   "source": [
    "regr.fit(X_train,y_train)"
   ]
  },
  {
   "cell_type": "code",
   "execution_count": 52,
   "metadata": {
    "collapsed": false
   },
   "outputs": [
    {
     "name": "stdout",
     "output_type": "stream",
     "text": [
      "[0.01659608 0.11255544 0.01320358 0.09403871 0.05739097 0.05351103\n",
      " 0.03110954 0.06985594 0.01283306 0.0432213  0.05812096 0.2230024\n",
      " 0.09146388 0.06642841 0.0566687 ]\n"
     ]
    }
   ],
   "source": [
    "print(regr.feature_importances_)"
   ]
  },
  {
   "cell_type": "code",
   "execution_count": 54,
   "metadata": {
    "collapsed": false
   },
   "outputs": [
    {
     "name": "stdout",
     "output_type": "stream",
     "text": [
      "0.024005118823644978\n"
     ]
    }
   ],
   "source": [
    "print(regr.oob_score_) "
   ]
  },
  {
   "cell_type": "markdown",
   "metadata": {},
   "source": [
    "This training set score is really low!"
   ]
  },
  {
   "cell_type": "code",
   "execution_count": 55,
   "metadata": {
    "collapsed": true
   },
   "outputs": [],
   "source": [
    "regr_pred = regr.predict(X_test)"
   ]
  },
  {
   "cell_type": "code",
   "execution_count": 56,
   "metadata": {
    "collapsed": false
   },
   "outputs": [
    {
     "data": {
      "text/plain": [
       "0.021866098507284604"
      ]
     },
     "execution_count": 56,
     "metadata": {},
     "output_type": "execute_result"
    }
   ],
   "source": [
    "regr.score(X_test,y_test)"
   ]
  },
  {
   "cell_type": "code",
   "execution_count": 61,
   "metadata": {
    "collapsed": false
   },
   "outputs": [
    {
     "data": {
      "text/plain": [
       "Text(0,0.5,'Actual')"
      ]
     },
     "execution_count": 61,
     "metadata": {},
     "output_type": "execute_result"
    },
    {
     "data": {
      "image/png": "[encoded data removed]",
      "text/plain": [
       "<Figure size 432x288 with 1 Axes>"
      ]
     },
     "metadata": {},
     "output_type": "display_data"
    }
   ],
   "source": [
    "plt.plot(regr_pred,y_test,'r.')\n",
    "plt.xlabel('Prediction')\n",
    "plt.ylabel('Actual')"
   ]
  },
  {
   "cell_type": "markdown",
   "metadata": {},
   "source": [
    "Test 2: Predict the temperature data with the same technique "
   ]
  },
  {
   "cell_type": "code",
   "execution_count": 62,
   "metadata": {
    "collapsed": true
   },
   "outputs": [],
   "source": [
    "y = cleaned_df['Temphigh_interp']\n",
    "X = cleaned_df.drop(['file_name','M3_20_Avg_interp','Temphigh_interp'],axis=1)"
   ]
  },
  {
   "cell_type": "code",
   "execution_count": 63,
   "metadata": {
    "collapsed": true
   },
   "outputs": [],
   "source": [
    "X_train, X_test, y_train, y_test = train_test_split(X,y,test_size=0.3)"
   ]
  },
  {
   "cell_type": "code",
   "execution_count": 71,
   "metadata": {
    "collapsed": true
   },
   "outputs": [],
   "source": [
    "regr = RandomForestRegressor(n_estimators=300,min_samples_leaf=200,oob_score=True,n_jobs=2)"
   ]
  },
  {
   "cell_type": "code",
   "execution_count": 72,
   "metadata": {
    "collapsed": false
   },
   "outputs": [
    {
     "data": {
      "text/plain": [
       "RandomForestRegressor(bootstrap=True, criterion='mse', max_depth=None,\n",
       "           max_features='auto', max_leaf_nodes=None,\n",
       "           min_impurity_decrease=0.0, min_impurity_split=None,\n",
       "           min_samples_leaf=200, min_samples_split=2,\n",
       "           min_weight_fraction_leaf=0.0, n_estimators=300, n_jobs=2,\n",
       "           oob_score=True, random_state=None, verbose=0, warm_start=False)"
      ]
     },
     "execution_count": 72,
     "metadata": {},
     "output_type": "execute_result"
    }
   ],
   "source": [
    "regr.fit(X_train,y_train)"
   ]
  },
  {
   "cell_type": "code",
   "execution_count": 66,
   "metadata": {
    "collapsed": false
   },
   "outputs": [
    {
     "name": "stdout",
     "output_type": "stream",
     "text": [
      "[0.00902105 0.14548734 0.00713849 0.04408844 0.0115088  0.08608296\n",
      " 0.01119983 0.01865023 0.0074936  0.01465641 0.01787312 0.50565763\n",
      " 0.03520804 0.04358857 0.0423455 ]\n"
     ]
    }
   ],
   "source": [
    "print(regr.feature_importances_)"
   ]
  },
  {
   "cell_type": "code",
   "execution_count": 67,
   "metadata": {
    "collapsed": false
   },
   "outputs": [
    {
     "name": "stdout",
     "output_type": "stream",
     "text": [
      "0.10096682561989756\n"
     ]
    }
   ],
   "source": [
    "print(regr.oob_score_) "
   ]
  },
  {
   "cell_type": "code",
   "execution_count": 68,
   "metadata": {
    "collapsed": true
   },
   "outputs": [],
   "source": [
    "regr_pred = regr.predict(X_test)"
   ]
  },
  {
   "cell_type": "code",
   "execution_count": 69,
   "metadata": {
    "collapsed": false
   },
   "outputs": [
    {
     "data": {
      "text/plain": [
       "0.10284688940097009"
      ]
     },
     "execution_count": 69,
     "metadata": {},
     "output_type": "execute_result"
    }
   ],
   "source": [
    "regr.score(X_test,y_test)"
   ]
  },
  {
   "cell_type": "code",
   "execution_count": 70,
   "metadata": {
    "collapsed": false
   },
   "outputs": [
    {
     "data": {
      "text/plain": [
       "Text(0,0.5,'Actual')"
      ]
     },
     "execution_count": 70,
     "metadata": {},
     "output_type": "execute_result"
    },
    {
     "data": {
      "image/png": "[encoded data removed]",
      "text/plain": [
       "<Figure size 432x288 with 1 Axes>"
      ]
     },
     "metadata": {},
     "output_type": "display_data"
    }
   ],
   "source": [
    "plt.plot(regr_pred,y_test,'r.')\n",
    "plt.xlabel('Prediction')\n",
    "plt.ylabel('Actual')"
   ]
  },
  {
   "cell_type": "markdown",
   "metadata": {
    "collapsed": true
   },
   "source": [
    "There is definity a temperature-related signal in the features"
   ]
  },
  {
   "cell_type": "code",
   "execution_count": 73,
   "metadata": {
    "collapsed": false
   },
   "outputs": [
    {
     "data": {
      "text/plain": [
       "<matplotlib.axes._subplots.AxesSubplot at 0x7fd3e31ed860>"
      ]
     },
     "execution_count": 73,
     "metadata": {},
     "output_type": "execute_result"
    },
    {
     "data": {
      "image/png": "[encoded data removed]",
      "text/plain": [
       "<Figure size 432x288 with 1 Axes>"
      ]
     },
     "metadata": {},
     "output_type": "display_data"
    }
   ],
   "source": [
    "cleaned_df['mean_mean'][:7200].plot()"
   ]
  },
  {
   "cell_type": "code",
   "execution_count": 74,
   "metadata": {
    "collapsed": false
   },
   "outputs": [
    {
     "data": {
      "text/plain": [
       "<matplotlib.axes._subplots.AxesSubplot at 0x7fd3f01f4fd0>"
      ]
     },
     "execution_count": 74,
     "metadata": {},
     "output_type": "execute_result"
    },
    {
     "data": {
      "image/png": "[encoded data removed]",
      "text/plain": [
       "<Figure size 432x288 with 1 Axes>"
      ]
     },
     "metadata": {},
     "output_type": "display_data"
    }
   ],
   "source": [
    "cleaned_df['Temphigh_interp'][:7200].plot()"
   ]
  },
  {
   "cell_type": "markdown",
   "metadata": {},
   "source": [
    "### Perhaps filtering the the feature timeseries will produce a better fit"
   ]
  },
  {
   "cell_type": "code",
   "execution_count": 75,
   "metadata": {
    "collapsed": true
   },
   "outputs": [],
   "source": [
    "from scipy.signal import butter, lfilter"
   ]
  },
  {
   "cell_type": "code",
   "execution_count": 78,
   "metadata": {
    "collapsed": true
   },
   "outputs": [],
   "source": [
    "def butter_lowpass(cutoff,fs,order=4):\n",
    "    nyq = 0.5*fs\n",
    "    normal_cutoff = cutoff/nyq\n",
    "    b, a = butter(order,normal_cutoff,btype='low')\n",
    "    return b,a\n",
    "\n",
    "def butter_lowpass_filter(data,cutoff,fs,order=4):\n",
    "    b,a = butter_lowpass(cutoff,fs,order=order)\n",
    "    y = lfilter(b,a,data)\n",
    "    return y\n"
   ]
  },
  {
   "cell_type": "markdown",
   "metadata": {},
   "source": [
    "Test this filter "
   ]
  },
  {
   "cell_type": "code",
   "execution_count": 85,
   "metadata": {
    "collapsed": false
   },
   "outputs": [],
   "source": [
    "fs = 0.0167 #sampling every minute\n",
    "cutoff = 0.0001 #we want to smooth the ts \n",
    "y = butter_lowpass_filter(cleaned_df['mean_mean'][:7200].values,cutoff,fs)"
   ]
  },
  {
   "cell_type": "code",
   "execution_count": 86,
   "metadata": {
    "collapsed": false
   },
   "outputs": [
    {
     "data": {
      "text/plain": [
       "[<matplotlib.lines.Line2D at 0x7fd3e0f55470>]"
      ]
     },
     "execution_count": 86,
     "metadata": {},
     "output_type": "execute_result"
    },
    {
     "data": {
      "image/png": "[encoded data removed]",
      "text/plain": [
       "<Figure size 432x288 with 1 Axes>"
      ]
     },
     "metadata": {},
     "output_type": "display_data"
    }
   ],
   "source": [
    "plt.plot(y)"
   ]
  },
  {
   "cell_type": "code",
   "execution_count": 94,
   "metadata": {
    "collapsed": false
   },
   "outputs": [],
   "source": [
    "filtered_df = pd.DataFrame()\n",
    "filtered_df['file_name'] = cleaned_df['file_name']\n",
    "filtered_df['M3_20_Avg_interp'] = cleaned_df['M3_20_Avg_interp']\n",
    "filtered_df['Temphigh_interp'] = cleaned_df['Temphigh_interp']\n",
    "\n",
    "for column in cleaned_df.columns[3:]:\n",
    "    cname = str(column)\n",
    "    filtered_df[cname] = butter_lowpass_filter(cleaned_df[cname].values,cutoff,fs)"
   ]
  },
  {
   "cell_type": "code",
   "execution_count": 95,
   "metadata": {
    "collapsed": false
   },
   "outputs": [
    {
     "data": {
      "text/plain": [
       "<matplotlib.axes._subplots.AxesSubplot at 0x7fd3cb6e6780>"
      ]
     },
     "execution_count": 95,
     "metadata": {},
     "output_type": "execute_result"
    },
    {
     "data": {
      "image/png": "[encoded data removed]",
      "text/plain": [
       "<Figure size 432x288 with 1 Axes>"
      ]
     },
     "metadata": {},
     "output_type": "display_data"
    }
   ],
   "source": [
    "filtered_df['mean_mean'][:7200].plot()"
   ]
  },
  {
   "cell_type": "markdown",
   "metadata": {},
   "source": [
    "### Lets try rerunning the classifier on the filtered feature timeseries"
   ]
  },
  {
   "cell_type": "code",
   "execution_count": 96,
   "metadata": {
    "collapsed": true
   },
   "outputs": [],
   "source": [
    "y = filtered_df['Temphigh_interp']\n",
    "X = filtered_df.drop(['file_name','M3_20_Avg_interp','Temphigh_interp'],axis=1)"
   ]
  },
  {
   "cell_type": "code",
   "execution_count": 97,
   "metadata": {
    "collapsed": true
   },
   "outputs": [],
   "source": [
    "X_train, X_test, y_train, y_test = train_test_split(X,y,test_size=0.3)"
   ]
  },
  {
   "cell_type": "code",
   "execution_count": 119,
   "metadata": {
    "collapsed": true
   },
   "outputs": [],
   "source": [
    "regr = RandomForestRegressor(n_estimators=500,min_samples_leaf=10,oob_score=True,n_jobs=2)"
   ]
  },
  {
   "cell_type": "code",
   "execution_count": 120,
   "metadata": {
    "collapsed": false
   },
   "outputs": [
    {
     "data": {
      "text/plain": [
       "RandomForestRegressor(bootstrap=True, criterion='mse', max_depth=None,\n",
       "           max_features='auto', max_leaf_nodes=None,\n",
       "           min_impurity_decrease=0.0, min_impurity_split=None,\n",
       "           min_samples_leaf=10, min_samples_split=2,\n",
       "           min_weight_fraction_leaf=0.0, n_estimators=500, n_jobs=2,\n",
       "           oob_score=True, random_state=None, verbose=0, warm_start=False)"
      ]
     },
     "execution_count": 120,
     "metadata": {},
     "output_type": "execute_result"
    }
   ],
   "source": [
    "regr.fit(X_train,y_train)"
   ]
  },
  {
   "cell_type": "code",
   "execution_count": 121,
   "metadata": {
    "collapsed": false
   },
   "outputs": [
    {
     "name": "stdout",
     "output_type": "stream",
     "text": [
      "[0.00547543 0.08444511 0.00532197 0.09938517 0.03404239 0.10181425\n",
      " 0.01118823 0.02653223 0.00548775 0.02113885 0.06312407 0.34521452\n",
      " 0.05745579 0.03183708 0.10753716]\n"
     ]
    }
   ],
   "source": [
    "print(regr.feature_importances_)"
   ]
  },
  {
   "cell_type": "code",
   "execution_count": 122,
   "metadata": {
    "collapsed": false
   },
   "outputs": [
    {
     "name": "stdout",
     "output_type": "stream",
     "text": [
      "0.9123740395524228\n"
     ]
    }
   ],
   "source": [
    "print(regr.oob_score_) "
   ]
  },
  {
   "cell_type": "code",
   "execution_count": 123,
   "metadata": {
    "collapsed": true
   },
   "outputs": [],
   "source": [
    "regr_pred = regr.predict(X_test)"
   ]
  },
  {
   "cell_type": "code",
   "execution_count": 124,
   "metadata": {
    "collapsed": false
   },
   "outputs": [
    {
     "data": {
      "text/plain": [
       "0.9133734027064158"
      ]
     },
     "execution_count": 124,
     "metadata": {},
     "output_type": "execute_result"
    }
   ],
   "source": [
    "regr.score(X_test,y_test)"
   ]
  },
  {
   "cell_type": "code",
   "execution_count": 125,
   "metadata": {
    "collapsed": false
   },
   "outputs": [
    {
     "data": {
      "text/plain": [
       "Text(0,0.5,'Actual')"
      ]
     },
     "execution_count": 125,
     "metadata": {},
     "output_type": "execute_result"
    },
    {
     "data": {
      "image/png": "[encoded data removed]",
      "text/plain": [
       "<Figure size 432x288 with 1 Axes>"
      ]
     },
     "metadata": {},
     "output_type": "display_data"
    }
   ],
   "source": [
    "plt.plot(regr_pred,y_test,'r.')\n",
    "plt.xlabel('Prediction')\n",
    "plt.ylabel('Actual')"
   ]
  },
  {
   "cell_type": "markdown",
   "metadata": {},
   "source": [
    "A better result! This suggests that noise removal will be important\n",
    "This fit does not seem to improve was we increase n_estimators from 300 to 500\n",
    "Since the temperature is constant over the DAS array, this suggests we could take data from another area, apply this model and get a decent result too. Maybe abolity to predict temperature is affected by other factors"
   ]
  },
  {
   "cell_type": "code",
   "execution_count": null,
   "metadata": {
    "collapsed": true
   },
   "outputs": [],
   "source": []
  }
 ],
 "metadata": {
  "anaconda-cloud": {},
  "kernelspec": {
   "display_name": "Python [conda env:python3]",
   "language": "python",
   "name": "conda-env-python3-py"
  },
  "language_info": {
   "codemirror_mode": {
    "name": "ipython",
    "version": 3
   },
   "file_extension": ".py",
   "mimetype": "text/x-python",
   "name": "python",
   "nbconvert_exporter": "python",
   "pygments_lexer": "ipython3",
   "version": "3.6.4"
  }
 },
 "nbformat": 4,
 "nbformat_minor": 1
}
