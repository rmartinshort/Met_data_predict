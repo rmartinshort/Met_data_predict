{
 "cells": [
  {
   "cell_type": "markdown",
   "metadata": {},
   "source": [
    "## Test with sliding window of 30 minutes with 1 minute overlap\n",
    "\n",
    "### This is the best result we have so far, so we need to explore why this is happening\n",
    "\n",
    "Despike filter = 50 (signal 50x the mean is removed)"
   ]
  },
  {
   "cell_type": "code",
   "execution_count": 60,
   "metadata": {
    "collapsed": true
   },
   "outputs": [],
   "source": [
    "import pandas as pd\n",
    "import obspy as op\n",
    "import numpy as np\n",
    "import matplotlib.pyplot as plt\n",
    "from scipy import interpolate\n",
    "import glob\n",
    "%matplotlib inline"
   ]
  },
  {
   "cell_type": "code",
   "execution_count": 61,
   "metadata": {
    "collapsed": true
   },
   "outputs": [],
   "source": [
    "all_data = pd.read_csv(\"Fnames_soilM_temp.csv\")\n",
    "lineCSN = all_data[all_data['Line'] == \"LineCSN\"]\n",
    "\n",
    "#Extract just the soil moisture time series corresponding to probe M3_20\n",
    "lineCSN_M3 = lineCSN[['file_name','DateTime','M3_20_Avg_interp','Temphigh_interp']]\n",
    "lineCSN_M3.reset_index(drop=True,inplace=True)\n",
    "lineCSN_M3.assign(DateTime = pd.to_datetime(lineCSN_M3['DateTime']))\n",
    "lineCSN_M3.set_index('DateTime',inplace=True)\n",
    "#Generate linking column\n",
    "lineCSN_M3 = lineCSN_M3.assign(file_name=lineCSN_M3['file_name'].apply(lambda x: x[2:]))"
   ]
  },
  {
   "cell_type": "code",
   "execution_count": 244,
   "metadata": {
    "collapsed": false
   },
   "outputs": [
    {
     "name": "stdout",
     "output_type": "stream",
     "text": [
      "mean_change_rms\n",
      "kurtosis_rms\n",
      "abs_energy_rms\n",
      "variance_rms\n",
      "mean_rms\n",
      "maximum_rms\n",
      "minimum_rms\n",
      "cid_ce_rms\n",
      "median_rms\n",
      "mean_abs_change_rms\n",
      "root_mean_square_rms\n",
      "fft_energy_rms\n",
      "peak_welch_rms\n",
      "skewness_rms\n",
      "interquartile_range_rms\n",
      "x_crossing_m_rms\n"
     ]
    }
   ],
   "source": [
    "feature_files = glob.glob('/home/rmartinshort/Documents/Berkeley/Fiber/data_test/Soil_moisture_predict/rms_sliding_30_1/*.csv')\n",
    "feature_dfs = []\n",
    "for csv_file in feature_files:\n",
    "    fname = csv_file.split('/')[-1].split('.')[0][:-19]\n",
    "    print(fname)\n",
    "    df = pd.read_csv(csv_file)\n",
    "    df.name = fname\n",
    "    feature_dfs.append(df)"
   ]
  },
  {
   "cell_type": "code",
   "execution_count": 63,
   "metadata": {
    "collapsed": false
   },
   "outputs": [
    {
     "name": "stdout",
     "output_type": "stream",
     "text": [
      "2016-08-05T18:07:38.000000Z\n"
     ]
    }
   ],
   "source": [
    "lineCSN_M3['TTime'] = lineCSN_M3.index\n",
    "stime = lineCSN_M3.index[0]\n",
    "print(op.UTCDateTime(stime))\n",
    "lineCSN_M3 = lineCSN_M3.assign(tsince_start=lineCSN_M3['TTime'].apply(lambda x: op.UTCDateTime(x) - op.UTCDateTime(stime)))"
   ]
  },
  {
   "cell_type": "code",
   "execution_count": 64,
   "metadata": {
    "collapsed": true
   },
   "outputs": [],
   "source": [
    "f_soilM = interpolate.interp1d(lineCSN_M3['tsince_start'].values,lineCSN_M3['M3_20_Avg_interp'].values)\n",
    "f_temp = interpolate.interp1d(lineCSN_M3['tsince_start'].values,lineCSN_M3['Temphigh_interp'].values)"
   ]
  },
  {
   "cell_type": "code",
   "execution_count": 130,
   "metadata": {
    "collapsed": true
   },
   "outputs": [],
   "source": [
    "def extract_mean_over_channels(indf,channels_to_drop):\n",
    "    \n",
    "    '''Takes an input dataframe, calculates the mean over columns that are not in the list \n",
    "    \"channels_to_drop\". Returns mean dataframe\n",
    "    '''\n",
    "    \n",
    "    newcolname = \"mean_%s\" %indf.name\n",
    "    opdf = indf[['time']]\n",
    "    \n",
    "    ### This requires all data to be non NAN in that window, otherwise a NAN is reported\n",
    "    opdf = opdf.assign(mean_col = indf.drop(channels_to_drop,axis=1).mean(axis=1,skipna=False))\n",
    "    opdf.columns = ['time',newcolname]\n",
    "    \n",
    "    return opdf"
   ]
  },
  {
   "cell_type": "code",
   "execution_count": 131,
   "metadata": {
    "collapsed": false
   },
   "outputs": [
    {
     "data": {
      "text/html": [
       "<div>\n",
       "<style scoped>\n",
       "    .dataframe tbody tr th:only-of-type {\n",
       "        vertical-align: middle;\n",
       "    }\n",
       "\n",
       "    .dataframe tbody tr th {\n",
       "        vertical-align: top;\n",
       "    }\n",
       "\n",
       "    .dataframe thead th {\n",
       "        text-align: right;\n",
       "    }\n",
       "</style>\n",
       "<table border=\"1\" class=\"dataframe\">\n",
       "  <thead>\n",
       "    <tr style=\"text-align: right;\">\n",
       "      <th></th>\n",
       "      <th>channel_80</th>\n",
       "      <th>channel_81</th>\n",
       "      <th>channel_82</th>\n",
       "      <th>channel_83</th>\n",
       "      <th>channel_84</th>\n",
       "      <th>channel_85</th>\n",
       "      <th>channel_86</th>\n",
       "      <th>channel_87</th>\n",
       "      <th>channel_88</th>\n",
       "      <th>channel_89</th>\n",
       "      <th>time</th>\n",
       "    </tr>\n",
       "  </thead>\n",
       "  <tbody>\n",
       "    <tr>\n",
       "      <th>0</th>\n",
       "      <td>NaN</td>\n",
       "      <td>NaN</td>\n",
       "      <td>NaN</td>\n",
       "      <td>NaN</td>\n",
       "      <td>NaN</td>\n",
       "      <td>NaN</td>\n",
       "      <td>NaN</td>\n",
       "      <td>NaN</td>\n",
       "      <td>NaN</td>\n",
       "      <td>NaN</td>\n",
       "      <td>2016-08-05T18:53:01.281914Z</td>\n",
       "    </tr>\n",
       "    <tr>\n",
       "      <th>1</th>\n",
       "      <td>NaN</td>\n",
       "      <td>NaN</td>\n",
       "      <td>NaN</td>\n",
       "      <td>NaN</td>\n",
       "      <td>NaN</td>\n",
       "      <td>NaN</td>\n",
       "      <td>NaN</td>\n",
       "      <td>NaN</td>\n",
       "      <td>NaN</td>\n",
       "      <td>NaN</td>\n",
       "      <td>2016-08-05T18:54:01.282279Z</td>\n",
       "    </tr>\n",
       "    <tr>\n",
       "      <th>2</th>\n",
       "      <td>NaN</td>\n",
       "      <td>NaN</td>\n",
       "      <td>NaN</td>\n",
       "      <td>NaN</td>\n",
       "      <td>NaN</td>\n",
       "      <td>NaN</td>\n",
       "      <td>NaN</td>\n",
       "      <td>NaN</td>\n",
       "      <td>NaN</td>\n",
       "      <td>NaN</td>\n",
       "      <td>2016-08-05T18:55:01.282279Z</td>\n",
       "    </tr>\n",
       "    <tr>\n",
       "      <th>3</th>\n",
       "      <td>NaN</td>\n",
       "      <td>NaN</td>\n",
       "      <td>NaN</td>\n",
       "      <td>NaN</td>\n",
       "      <td>NaN</td>\n",
       "      <td>NaN</td>\n",
       "      <td>NaN</td>\n",
       "      <td>NaN</td>\n",
       "      <td>NaN</td>\n",
       "      <td>NaN</td>\n",
       "      <td>2016-08-05T18:56:01.282279Z</td>\n",
       "    </tr>\n",
       "    <tr>\n",
       "      <th>4</th>\n",
       "      <td>NaN</td>\n",
       "      <td>NaN</td>\n",
       "      <td>NaN</td>\n",
       "      <td>NaN</td>\n",
       "      <td>NaN</td>\n",
       "      <td>NaN</td>\n",
       "      <td>NaN</td>\n",
       "      <td>NaN</td>\n",
       "      <td>NaN</td>\n",
       "      <td>NaN</td>\n",
       "      <td>2016-08-05T18:57:01.282279Z</td>\n",
       "    </tr>\n",
       "  </tbody>\n",
       "</table>\n",
       "</div>"
      ],
      "text/plain": [
       "   channel_80  channel_81  channel_82  channel_83  channel_84  channel_85  \\\n",
       "0         NaN         NaN         NaN         NaN         NaN         NaN   \n",
       "1         NaN         NaN         NaN         NaN         NaN         NaN   \n",
       "2         NaN         NaN         NaN         NaN         NaN         NaN   \n",
       "3         NaN         NaN         NaN         NaN         NaN         NaN   \n",
       "4         NaN         NaN         NaN         NaN         NaN         NaN   \n",
       "\n",
       "   channel_86  channel_87  channel_88  channel_89                         time  \n",
       "0         NaN         NaN         NaN         NaN  2016-08-05T18:53:01.281914Z  \n",
       "1         NaN         NaN         NaN         NaN  2016-08-05T18:54:01.282279Z  \n",
       "2         NaN         NaN         NaN         NaN  2016-08-05T18:55:01.282279Z  \n",
       "3         NaN         NaN         NaN         NaN  2016-08-05T18:56:01.282279Z  \n",
       "4         NaN         NaN         NaN         NaN  2016-08-05T18:57:01.282279Z  "
      ]
     },
     "execution_count": 131,
     "metadata": {},
     "output_type": "execute_result"
    }
   ],
   "source": [
    "feature_dfs[0].head()"
   ]
  },
  {
   "cell_type": "markdown",
   "metadata": {},
   "source": [
    "# Test 1 \n",
    "\n",
    "### Extract just the channels around the probe - 84,85 and 86. Determine their mean features and predict off those"
   ]
  },
  {
   "cell_type": "code",
   "execution_count": 284,
   "metadata": {
    "collapsed": false
   },
   "outputs": [
    {
     "name": "stdout",
     "output_type": "stream",
     "text": [
      "64649\n"
     ]
    }
   ],
   "source": [
    "channels_to_drop = ['time','channel_80','channel_81','channel_82','channel_83',\n",
    "                    'channel_87','channel_88','channel_89']\n",
    "\n",
    "#channels_to_drop = ['time']\n",
    "\n",
    "print(len(feature_dfs[0]))\n",
    "indf = extract_mean_over_channels(feature_dfs[0],channels_to_drop)\n"
   ]
  },
  {
   "cell_type": "code",
   "execution_count": 285,
   "metadata": {
    "collapsed": false
   },
   "outputs": [
    {
     "data": {
      "text/plain": [
       "64649"
      ]
     },
     "execution_count": 285,
     "metadata": {},
     "output_type": "execute_result"
    }
   ],
   "source": [
    "len(indf)"
   ]
  },
  {
   "cell_type": "code",
   "execution_count": 286,
   "metadata": {
    "collapsed": false
   },
   "outputs": [
    {
     "name": "stdout",
     "output_type": "stream",
     "text": [
      "64649\n",
      "64649\n",
      "64649\n",
      "64649\n",
      "64649\n",
      "64649\n",
      "64649\n",
      "64649\n",
      "64649\n",
      "64649\n",
      "64649\n",
      "64649\n",
      "64649\n",
      "64649\n",
      "64649\n"
     ]
    }
   ],
   "source": [
    "\n",
    "for feature_df in feature_dfs[1:]:\n",
    "    \n",
    "    mean_feature = extract_mean_over_channels(feature_df,channels_to_drop)\n",
    "    merged_df = pd.merge(indf,mean_feature,on='time')\n",
    "    indf = merged_df\n",
    "    print(len(indf))"
   ]
  },
  {
   "cell_type": "code",
   "execution_count": 287,
   "metadata": {
    "collapsed": false
   },
   "outputs": [
    {
     "data": {
      "text/html": [
       "<div>\n",
       "<style scoped>\n",
       "    .dataframe tbody tr th:only-of-type {\n",
       "        vertical-align: middle;\n",
       "    }\n",
       "\n",
       "    .dataframe tbody tr th {\n",
       "        vertical-align: top;\n",
       "    }\n",
       "\n",
       "    .dataframe thead th {\n",
       "        text-align: right;\n",
       "    }\n",
       "</style>\n",
       "<table border=\"1\" class=\"dataframe\">\n",
       "  <thead>\n",
       "    <tr style=\"text-align: right;\">\n",
       "      <th></th>\n",
       "      <th>time</th>\n",
       "      <th>mean_mean_change_rms</th>\n",
       "      <th>mean_kurtosis_rms</th>\n",
       "      <th>mean_abs_energy_rms</th>\n",
       "      <th>mean_variance_rms</th>\n",
       "      <th>mean_mean_rms</th>\n",
       "      <th>mean_maximum_rms</th>\n",
       "      <th>mean_minimum_rms</th>\n",
       "      <th>mean_cid_ce_rms</th>\n",
       "      <th>mean_median_rms</th>\n",
       "      <th>mean_mean_abs_change_rms</th>\n",
       "      <th>mean_root_mean_square_rms</th>\n",
       "      <th>mean_fft_energy_rms</th>\n",
       "      <th>mean_peak_welch_rms</th>\n",
       "      <th>mean_skewness_rms</th>\n",
       "      <th>mean_interquartile_range_rms</th>\n",
       "      <th>mean_x_crossing_m_rms</th>\n",
       "    </tr>\n",
       "  </thead>\n",
       "  <tbody>\n",
       "    <tr>\n",
       "      <th>0</th>\n",
       "      <td>2016-08-05T18:53:01.281914Z</td>\n",
       "      <td>NaN</td>\n",
       "      <td>NaN</td>\n",
       "      <td>NaN</td>\n",
       "      <td>NaN</td>\n",
       "      <td>NaN</td>\n",
       "      <td>NaN</td>\n",
       "      <td>NaN</td>\n",
       "      <td>NaN</td>\n",
       "      <td>NaN</td>\n",
       "      <td>NaN</td>\n",
       "      <td>NaN</td>\n",
       "      <td>NaN</td>\n",
       "      <td>NaN</td>\n",
       "      <td>NaN</td>\n",
       "      <td>NaN</td>\n",
       "      <td>NaN</td>\n",
       "    </tr>\n",
       "    <tr>\n",
       "      <th>1</th>\n",
       "      <td>2016-08-05T18:54:01.282279Z</td>\n",
       "      <td>NaN</td>\n",
       "      <td>NaN</td>\n",
       "      <td>NaN</td>\n",
       "      <td>NaN</td>\n",
       "      <td>NaN</td>\n",
       "      <td>NaN</td>\n",
       "      <td>NaN</td>\n",
       "      <td>NaN</td>\n",
       "      <td>NaN</td>\n",
       "      <td>NaN</td>\n",
       "      <td>NaN</td>\n",
       "      <td>NaN</td>\n",
       "      <td>NaN</td>\n",
       "      <td>NaN</td>\n",
       "      <td>NaN</td>\n",
       "      <td>NaN</td>\n",
       "    </tr>\n",
       "    <tr>\n",
       "      <th>2</th>\n",
       "      <td>2016-08-05T18:55:01.282279Z</td>\n",
       "      <td>NaN</td>\n",
       "      <td>NaN</td>\n",
       "      <td>NaN</td>\n",
       "      <td>NaN</td>\n",
       "      <td>NaN</td>\n",
       "      <td>NaN</td>\n",
       "      <td>NaN</td>\n",
       "      <td>NaN</td>\n",
       "      <td>NaN</td>\n",
       "      <td>NaN</td>\n",
       "      <td>NaN</td>\n",
       "      <td>NaN</td>\n",
       "      <td>NaN</td>\n",
       "      <td>NaN</td>\n",
       "      <td>NaN</td>\n",
       "      <td>NaN</td>\n",
       "    </tr>\n",
       "    <tr>\n",
       "      <th>3</th>\n",
       "      <td>2016-08-05T18:56:01.282279Z</td>\n",
       "      <td>NaN</td>\n",
       "      <td>NaN</td>\n",
       "      <td>NaN</td>\n",
       "      <td>NaN</td>\n",
       "      <td>NaN</td>\n",
       "      <td>NaN</td>\n",
       "      <td>NaN</td>\n",
       "      <td>NaN</td>\n",
       "      <td>NaN</td>\n",
       "      <td>NaN</td>\n",
       "      <td>NaN</td>\n",
       "      <td>NaN</td>\n",
       "      <td>NaN</td>\n",
       "      <td>NaN</td>\n",
       "      <td>NaN</td>\n",
       "      <td>NaN</td>\n",
       "    </tr>\n",
       "    <tr>\n",
       "      <th>4</th>\n",
       "      <td>2016-08-05T18:57:01.282279Z</td>\n",
       "      <td>NaN</td>\n",
       "      <td>NaN</td>\n",
       "      <td>NaN</td>\n",
       "      <td>NaN</td>\n",
       "      <td>NaN</td>\n",
       "      <td>NaN</td>\n",
       "      <td>NaN</td>\n",
       "      <td>NaN</td>\n",
       "      <td>NaN</td>\n",
       "      <td>NaN</td>\n",
       "      <td>NaN</td>\n",
       "      <td>NaN</td>\n",
       "      <td>NaN</td>\n",
       "      <td>NaN</td>\n",
       "      <td>NaN</td>\n",
       "      <td>NaN</td>\n",
       "    </tr>\n",
       "  </tbody>\n",
       "</table>\n",
       "</div>"
      ],
      "text/plain": [
       "                          time  mean_mean_change_rms  mean_kurtosis_rms  \\\n",
       "0  2016-08-05T18:53:01.281914Z                   NaN                NaN   \n",
       "1  2016-08-05T18:54:01.282279Z                   NaN                NaN   \n",
       "2  2016-08-05T18:55:01.282279Z                   NaN                NaN   \n",
       "3  2016-08-05T18:56:01.282279Z                   NaN                NaN   \n",
       "4  2016-08-05T18:57:01.282279Z                   NaN                NaN   \n",
       "\n",
       "   mean_abs_energy_rms  mean_variance_rms  mean_mean_rms  mean_maximum_rms  \\\n",
       "0                  NaN                NaN            NaN               NaN   \n",
       "1                  NaN                NaN            NaN               NaN   \n",
       "2                  NaN                NaN            NaN               NaN   \n",
       "3                  NaN                NaN            NaN               NaN   \n",
       "4                  NaN                NaN            NaN               NaN   \n",
       "\n",
       "   mean_minimum_rms  mean_cid_ce_rms  mean_median_rms  \\\n",
       "0               NaN              NaN              NaN   \n",
       "1               NaN              NaN              NaN   \n",
       "2               NaN              NaN              NaN   \n",
       "3               NaN              NaN              NaN   \n",
       "4               NaN              NaN              NaN   \n",
       "\n",
       "   mean_mean_abs_change_rms  mean_root_mean_square_rms  mean_fft_energy_rms  \\\n",
       "0                       NaN                        NaN                  NaN   \n",
       "1                       NaN                        NaN                  NaN   \n",
       "2                       NaN                        NaN                  NaN   \n",
       "3                       NaN                        NaN                  NaN   \n",
       "4                       NaN                        NaN                  NaN   \n",
       "\n",
       "   mean_peak_welch_rms  mean_skewness_rms  mean_interquartile_range_rms  \\\n",
       "0                  NaN                NaN                           NaN   \n",
       "1                  NaN                NaN                           NaN   \n",
       "2                  NaN                NaN                           NaN   \n",
       "3                  NaN                NaN                           NaN   \n",
       "4                  NaN                NaN                           NaN   \n",
       "\n",
       "   mean_x_crossing_m_rms  \n",
       "0                    NaN  \n",
       "1                    NaN  \n",
       "2                    NaN  \n",
       "3                    NaN  \n",
       "4                    NaN  "
      ]
     },
     "execution_count": 287,
     "metadata": {},
     "output_type": "execute_result"
    }
   ],
   "source": [
    "merged_df.head()"
   ]
  },
  {
   "cell_type": "code",
   "execution_count": 288,
   "metadata": {
    "collapsed": true
   },
   "outputs": [],
   "source": [
    "merged_df = merged_df.assign(tsince_start=merged_df['time'].apply(lambda x: op.UTCDateTime(x)-op.UTCDateTime(stime)))  \n",
    "merged_df = merged_df.assign(M3_20_Avg_interp=merged_df['tsince_start'].apply(lambda x: f_soilM(x)))\n",
    "merged_df = merged_df.assign(Temphigh_interp=merged_df['tsince_start'].apply(lambda x: f_temp(x)))"
   ]
  },
  {
   "cell_type": "code",
   "execution_count": 289,
   "metadata": {
    "collapsed": false
   },
   "outputs": [
    {
     "name": "stdout",
     "output_type": "stream",
     "text": [
      "64649\n"
     ]
    },
    {
     "data": {
      "text/plain": [
       "9073"
      ]
     },
     "execution_count": 289,
     "metadata": {},
     "output_type": "execute_result"
    }
   ],
   "source": [
    "print(len(merged_df))\n",
    "cleaned_df = merged_df.dropna()\n",
    "len(cleaned_df)"
   ]
  },
  {
   "cell_type": "code",
   "execution_count": 290,
   "metadata": {
    "collapsed": true
   },
   "outputs": [],
   "source": [
    "from sklearn.ensemble import RandomForestRegressor\n",
    "from sklearn.model_selection import train_test_split"
   ]
  },
  {
   "cell_type": "code",
   "execution_count": 291,
   "metadata": {
    "collapsed": false
   },
   "outputs": [
    {
     "data": {
      "text/plain": [
       "RandomForestRegressor(bootstrap=True, criterion='mse', max_depth=None,\n",
       "           max_features='auto', max_leaf_nodes=None,\n",
       "           min_impurity_decrease=0.0, min_impurity_split=None,\n",
       "           min_samples_leaf=1, min_samples_split=2,\n",
       "           min_weight_fraction_leaf=0.0, n_estimators=300, n_jobs=2,\n",
       "           oob_score=True, random_state=None, verbose=0, warm_start=False)"
      ]
     },
     "execution_count": 291,
     "metadata": {},
     "output_type": "execute_result"
    }
   ],
   "source": [
    "y = cleaned_df['M3_20_Avg_interp']\n",
    "X = cleaned_df.drop(['time','tsince_start','M3_20_Avg_interp','Temphigh_interp'],axis=1)\n",
    "X_train, X_test, y_train, y_test = train_test_split(X,y,test_size=0.3)\n",
    "regr = RandomForestRegressor(n_estimators=300,min_samples_leaf=1,min_samples_split=2,oob_score=True,n_jobs=2)\n",
    "regr.fit(X_train,y_train)"
   ]
  },
  {
   "cell_type": "markdown",
   "metadata": {},
   "source": [
    "min_samples_leaf = 1 produces the best results here. Varying the number of trees between 200 and 800 has little effect"
   ]
  },
  {
   "cell_type": "code",
   "execution_count": 292,
   "metadata": {
    "collapsed": false
   },
   "outputs": [
    {
     "name": "stdout",
     "output_type": "stream",
     "text": [
      "[0.00674676 0.08056402 0.01655096 0.01715687 0.12480817 0.08529681\n",
      " 0.07952078 0.04498742 0.13022642 0.02989545 0.02525637 0.01488952\n",
      " 0.06596169 0.06248518 0.05241891 0.16323467]\n",
      "0.8807195172612114\n"
     ]
    }
   ],
   "source": [
    "print(regr.feature_importances_)\n",
    "print(regr.oob_score_)"
   ]
  },
  {
   "cell_type": "code",
   "execution_count": 293,
   "metadata": {
    "collapsed": false
   },
   "outputs": [
    {
     "data": {
      "text/plain": [
       "0.8844333883716812"
      ]
     },
     "execution_count": 293,
     "metadata": {},
     "output_type": "execute_result"
    }
   ],
   "source": [
    "regr.score(X_test,y_test)"
   ]
  },
  {
   "cell_type": "code",
   "execution_count": 294,
   "metadata": {
    "collapsed": true
   },
   "outputs": [],
   "source": [
    "regr_pred = regr.predict(X_test)\n",
    "\n",
    "outliers_y = []\n",
    "outliers_x = []\n",
    "X_test_indices_bad = []\n",
    "X_test_indices_good = []\n",
    "i = 0\n",
    "for element in zip(regr_pred,y_test):\n",
    "    if abs(element[0]-element[1]) > 0.015:\n",
    "        outliers_x.append(element[0])\n",
    "        outliers_y.append(element[1])\n",
    "        X_test_indices_bad.append(X_test.index[i])\n",
    "    else:\n",
    "        X_test_indices_good.append(X_test.index[i])\n",
    "    i += 1"
   ]
  },
  {
   "cell_type": "code",
   "execution_count": 295,
   "metadata": {
    "collapsed": false,
    "scrolled": true
   },
   "outputs": [
    {
     "data": {
      "image/png": "[encoded data removed]",
      "text/plain": [
       "<Figure size 720x432 with 1 Axes>"
      ]
     },
     "metadata": {},
     "output_type": "display_data"
    }
   ],
   "source": [
    "plt.figure(figsize=(10,6))\n",
    "plt.title('M3_20 soil moisture predictions vs observations')\n",
    "plt.plot(regr_pred,y_test,'r.')\n",
    "plt.plot(outliers_x,outliers_y,'k.')\n",
    "plt.xlabel('Prediction')\n",
    "plt.ylabel('Observation')\n",
    "plt.grid()\n",
    "plt.savefig('soil_moisture_prediction_sliding_window.png')"
   ]
  },
  {
   "cell_type": "code",
   "execution_count": 296,
   "metadata": {
    "collapsed": true
   },
   "outputs": [],
   "source": [
    "outliers = cleaned_df.loc[X_test_indices_bad]\n",
    "inliers = cleaned_df.loc[X_test_indices_good]\n",
    "outlier_x = np.array(outliers['tsince_start'])\n",
    "outlier_y = np.array(outliers['M3_20_Avg_interp'])\n",
    "inlier_x = np.array(inliers['tsince_start'])\n",
    "inlier_y = np.array(inliers['M3_20_Avg_interp'])\n",
    "reg_x = np.array(cleaned_df['tsince_start'])\n",
    "reg_y = np.array(cleaned_df['M3_20_Avg_interp'])"
   ]
  },
  {
   "cell_type": "code",
   "execution_count": 297,
   "metadata": {
    "collapsed": false
   },
   "outputs": [
    {
     "data": {
      "image/png": "[encoded data removed]",
      "text/plain": [
       "<Figure size 1080x720 with 1 Axes>"
      ]
     },
     "metadata": {},
     "output_type": "display_data"
    }
   ],
   "source": [
    "plt.figure(figsize=(15,10))\n",
    "plt.plot(reg_x,reg_y,label='soil_M_timeseries')\n",
    "plt.plot(inlier_x,inlier_y,'k.',label='inlier location')\n",
    "plt.plot(outlier_x,outlier_y,'r.',label='outlier location')\n",
    "plt.xlabel('Time since start (s)')\n",
    "plt.ylabel('Soil moisture value')\n",
    "plt.legend()\n",
    "plt.grid()"
   ]
  },
  {
   "cell_type": "code",
   "execution_count": 298,
   "metadata": {
    "collapsed": false
   },
   "outputs": [
    {
     "name": "stdout",
     "output_type": "stream",
     "text": [
      "0.163234673082097 mean_x_crossing_m_rms\n",
      "0.13022641571749063 mean_median_rms\n",
      "0.12480816978399531 mean_mean_rms\n",
      "0.08529681348636292 mean_maximum_rms\n",
      "0.0805640162275533 mean_kurtosis_rms\n",
      "0.0795207779149587 mean_minimum_rms\n",
      "0.06596168974484352 mean_peak_welch_rms\n",
      "0.06248517625717818 mean_skewness_rms\n",
      "0.05241891217813698 mean_interquartile_range_rms\n",
      "0.04498742375479518 mean_cid_ce_rms\n"
     ]
    }
   ],
   "source": [
    "inds = np.argsort(regr.feature_importances_)[::-1]\n",
    "\n",
    "for i in range(10):\n",
    "    print(regr.feature_importances_[inds[i]],X.columns[inds[i]])"
   ]
  },
  {
   "cell_type": "markdown",
   "metadata": {},
   "source": [
    "Again, the peaks and troughs are not well predicted, but the rest of the timseries is. We should try to see if this model yeilds decent results when applied to features calculated close to another soil moisture probe.\n",
    "\n",
    "We can also see that there are large tim windows inwhich values on one or more channels are NA.\n",
    "\n",
    "This result is quite promising though - suggests that 30 minute windows with 1 minute overlap is a good place to start. The despike filter of 50 may also be playing an importnat role here, so we need to look into that in more detail"
   ]
  },
  {
   "cell_type": "markdown",
   "metadata": {},
   "source": [
    "## What about the temperature data?"
   ]
  },
  {
   "cell_type": "code",
   "execution_count": 299,
   "metadata": {
    "collapsed": false
   },
   "outputs": [
    {
     "data": {
      "text/plain": [
       "RandomForestRegressor(bootstrap=True, criterion='mse', max_depth=None,\n",
       "           max_features='auto', max_leaf_nodes=None,\n",
       "           min_impurity_decrease=0.0, min_impurity_split=None,\n",
       "           min_samples_leaf=1, min_samples_split=2,\n",
       "           min_weight_fraction_leaf=0.0, n_estimators=300, n_jobs=2,\n",
       "           oob_score=True, random_state=None, verbose=0, warm_start=False)"
      ]
     },
     "execution_count": 299,
     "metadata": {},
     "output_type": "execute_result"
    }
   ],
   "source": [
    "y = cleaned_df['Temphigh_interp']\n",
    "X = cleaned_df.drop(['time','tsince_start','M3_20_Avg_interp','Temphigh_interp'],axis=1)\n",
    "X_train, X_test, y_train, y_test = train_test_split(X,y,test_size=0.3)\n",
    "regr = RandomForestRegressor(n_estimators=300,min_samples_leaf=1,min_samples_split=2,oob_score=True,n_jobs=2)\n",
    "regr.fit(X_train,y_train)"
   ]
  },
  {
   "cell_type": "code",
   "execution_count": 300,
   "metadata": {
    "collapsed": false
   },
   "outputs": [
    {
     "name": "stdout",
     "output_type": "stream",
     "text": [
      "[0.00483764 0.04388163 0.01456332 0.01166174 0.10341495 0.07999347\n",
      " 0.07900935 0.02734766 0.08036    0.03152787 0.01436041 0.01173093\n",
      " 0.14179528 0.03883696 0.05301781 0.26366098]\n",
      "0.9140374131247182\n"
     ]
    }
   ],
   "source": [
    "print(regr.feature_importances_)\n",
    "print(regr.oob_score_)"
   ]
  },
  {
   "cell_type": "code",
   "execution_count": 301,
   "metadata": {
    "collapsed": true
   },
   "outputs": [],
   "source": [
    "regr_pred = regr.predict(X_test)\n",
    "outliers_y = []\n",
    "outliers_x = []\n",
    "X_test_indices = []\n",
    "i = 0\n",
    "for element in zip(regr_pred,y_test):\n",
    "    if abs(element[0]-element[1]) > 4:\n",
    "        outliers_x.append(element[0])\n",
    "        outliers_y.append(element[1])\n",
    "        X_test_indices.append(X_test.index[i])\n",
    "    i += 1"
   ]
  },
  {
   "cell_type": "code",
   "execution_count": 302,
   "metadata": {
    "collapsed": false
   },
   "outputs": [
    {
     "data": {
      "image/png": "[encoded data removed]",
      "text/plain": [
       "<Figure size 720x432 with 1 Axes>"
      ]
     },
     "metadata": {},
     "output_type": "display_data"
    }
   ],
   "source": [
    "plt.figure(figsize=(10,6))\n",
    "plt.title('Temperature predictions vs observations')\n",
    "plt.plot(regr_pred,y_test,'b.')\n",
    "plt.plot(outliers_x,outliers_y,'k.')\n",
    "plt.xlabel('Prediction')\n",
    "plt.ylabel('Observation')\n",
    "plt.grid()\n",
    "plt.savefig('temperature_prediction_sliding_window.png')"
   ]
  },
  {
   "cell_type": "markdown",
   "metadata": {},
   "source": [
    "Again, this is very well predicted. We need to understand why this is so much better than previous cases"
   ]
  },
  {
   "cell_type": "markdown",
   "metadata": {},
   "source": [
    "# Test 2 \n",
    "\n",
    "## Just extracting features at channel 85"
   ]
  },
  {
   "cell_type": "code",
   "execution_count": 213,
   "metadata": {
    "collapsed": false
   },
   "outputs": [
    {
     "name": "stdout",
     "output_type": "stream",
     "text": [
      "64649\n",
      "64649\n",
      "64649\n",
      "64649\n",
      "64649\n",
      "64649\n",
      "64649\n",
      "64649\n",
      "64649\n",
      "64649\n",
      "64649\n",
      "64649\n",
      "64649\n",
      "64649\n",
      "64649\n"
     ]
    }
   ],
   "source": [
    "channels_to_drop = ['time','channel_80','channel_81','channel_82','channel_83','channel_84','channel_86',\n",
    "                    'channel_87','channel_88','channel_89']\n",
    "indf = extract_mean_over_channels(feature_dfs[0],channels_to_drop)\n",
    "\n",
    "for feature_df in feature_dfs[1:]:\n",
    "    \n",
    "    mean_feature = extract_mean_over_channels(feature_df,channels_to_drop)\n",
    "    merged_df = pd.merge(indf,mean_feature,on='time')\n",
    "    indf = merged_df\n",
    "    print(len(indf))"
   ]
  },
  {
   "cell_type": "code",
   "execution_count": 214,
   "metadata": {
    "collapsed": true
   },
   "outputs": [],
   "source": [
    "merged_df = merged_df.assign(tsince_start=merged_df['time'].apply(lambda x: op.UTCDateTime(x)-op.UTCDateTime(stime)))  \n",
    "merged_df = merged_df.assign(M3_20_Avg_interp=merged_df['tsince_start'].apply(lambda x: f_soilM(x)))\n",
    "merged_df = merged_df.assign(Temphigh_interp=merged_df['tsince_start'].apply(lambda x: f_temp(x)))"
   ]
  },
  {
   "cell_type": "code",
   "execution_count": 215,
   "metadata": {
    "collapsed": false
   },
   "outputs": [
    {
     "name": "stdout",
     "output_type": "stream",
     "text": [
      "64649\n"
     ]
    },
    {
     "data": {
      "text/plain": [
       "11207"
      ]
     },
     "execution_count": 215,
     "metadata": {},
     "output_type": "execute_result"
    }
   ],
   "source": [
    "print(len(merged_df))\n",
    "cleaned_df = merged_df.dropna()\n",
    "len(cleaned_df)"
   ]
  },
  {
   "cell_type": "code",
   "execution_count": 216,
   "metadata": {
    "collapsed": true
   },
   "outputs": [],
   "source": [
    "from sklearn.ensemble import RandomForestRegressor\n",
    "from sklearn.model_selection import train_test_split"
   ]
  },
  {
   "cell_type": "code",
   "execution_count": 217,
   "metadata": {
    "collapsed": false
   },
   "outputs": [
    {
     "data": {
      "text/plain": [
       "RandomForestRegressor(bootstrap=True, criterion='mse', max_depth=None,\n",
       "           max_features='auto', max_leaf_nodes=None,\n",
       "           min_impurity_decrease=0.0, min_impurity_split=None,\n",
       "           min_samples_leaf=1, min_samples_split=2,\n",
       "           min_weight_fraction_leaf=0.0, n_estimators=500, n_jobs=2,\n",
       "           oob_score=True, random_state=None, verbose=0, warm_start=False)"
      ]
     },
     "execution_count": 217,
     "metadata": {},
     "output_type": "execute_result"
    }
   ],
   "source": [
    "y = cleaned_df['M3_20_Avg_interp']\n",
    "X = cleaned_df.drop(['time','tsince_start','M3_20_Avg_interp','Temphigh_interp'],axis=1)\n",
    "X_train, X_test, y_train, y_test = train_test_split(X,y,test_size=0.3)\n",
    "regr = RandomForestRegressor(n_estimators=500,min_samples_leaf=1,min_samples_split=2,oob_score=True,n_jobs=2)\n",
    "regr.fit(X_train,y_train)"
   ]
  },
  {
   "cell_type": "code",
   "execution_count": 218,
   "metadata": {
    "collapsed": false
   },
   "outputs": [
    {
     "name": "stdout",
     "output_type": "stream",
     "text": [
      "[0.00717145 0.06320637 0.01352507 0.01372207 0.11901746 0.11488\n",
      " 0.11868895 0.04326473 0.09634612 0.0375254  0.01327864 0.01347392\n",
      " 0.09264411 0.06214963 0.04244637 0.14865971]\n",
      "0.8837614158585876\n"
     ]
    }
   ],
   "source": [
    "print(regr.feature_importances_)\n",
    "print(regr.oob_score_)"
   ]
  },
  {
   "cell_type": "code",
   "execution_count": 219,
   "metadata": {
    "collapsed": false
   },
   "outputs": [
    {
     "data": {
      "text/plain": [
       "0.8894486383276381"
      ]
     },
     "execution_count": 219,
     "metadata": {},
     "output_type": "execute_result"
    }
   ],
   "source": [
    "regr.score(X_test,y_test)"
   ]
  },
  {
   "cell_type": "code",
   "execution_count": 220,
   "metadata": {
    "collapsed": true
   },
   "outputs": [],
   "source": [
    "regr_pred = regr.predict(X_test)\n",
    "\n",
    "outliers_y = []\n",
    "outliers_x = []\n",
    "X_test_indices_bad = []\n",
    "X_test_indices_good = []\n",
    "i = 0\n",
    "for element in zip(regr_pred,y_test):\n",
    "    if abs(element[0]-element[1]) > 0.015:\n",
    "        outliers_x.append(element[0])\n",
    "        outliers_y.append(element[1])\n",
    "        X_test_indices_bad.append(X_test.index[i])\n",
    "    else:\n",
    "        X_test_indices_good.append(X_test.index[i])\n",
    "    i += 1"
   ]
  },
  {
   "cell_type": "code",
   "execution_count": 222,
   "metadata": {
    "collapsed": false
   },
   "outputs": [
    {
     "data": {
      "image/png": "[encoded data removed]",
      "text/plain": [
       "<Figure size 720x432 with 1 Axes>"
      ]
     },
     "metadata": {},
     "output_type": "display_data"
    }
   ],
   "source": [
    "plt.figure(figsize=(10,6))\n",
    "plt.title('M3_20 soil moisture predictions vs observations')\n",
    "plt.plot(regr_pred,y_test,'r.')\n",
    "plt.plot(outliers_x,outliers_y,'k.')\n",
    "plt.xlabel('Prediction')\n",
    "plt.ylabel('Observation')\n",
    "plt.grid()\n",
    "plt.savefig('soil_moisture_prediction_sliding_window.png')"
   ]
  },
  {
   "cell_type": "code",
   "execution_count": 221,
   "metadata": {
    "collapsed": false
   },
   "outputs": [
    {
     "data": {
      "image/png": "[encoded data removed]",
      "text/plain": [
       "<Figure size 1080x720 with 1 Axes>"
      ]
     },
     "metadata": {},
     "output_type": "display_data"
    }
   ],
   "source": [
    "plt.figure(figsize=(15,10))\n",
    "plt.plot(reg_x,reg_y,label='soil_M_timeseries')\n",
    "plt.plot(inlier_x,inlier_y,'k.',label='inlier location')\n",
    "plt.plot(outlier_x,outlier_y,'r.',label='outlier location')\n",
    "plt.xlabel('Time since start (s)')\n",
    "plt.ylabel('Soil moisture value')\n",
    "plt.legend()\n",
    "plt.grid()"
   ]
  },
  {
   "cell_type": "code",
   "execution_count": 223,
   "metadata": {
    "collapsed": false
   },
   "outputs": [
    {
     "name": "stdout",
     "output_type": "stream",
     "text": [
      "0.1486597086992985 mean_x_crossing_m_rms\n",
      "0.1190174570555897 mean_mean_rms\n",
      "0.11868894757651169 mean_minimum_rms\n",
      "0.11488000192613602 mean_maximum_rms\n",
      "0.09634611627420185 mean_median_rms\n",
      "0.09264410713699686 mean_peak_welch_rms\n",
      "0.06320637449707597 mean_kurtosis_rms\n",
      "0.062149632393657346 mean_skewness_rms\n",
      "0.04326472963089188 mean_cid_ce_rms\n",
      "0.042446367786689275 mean_interquartile_range_rms\n"
     ]
    }
   ],
   "source": [
    "inds = np.argsort(regr.feature_importances_)[::-1]\n",
    "\n",
    "for i in range(10):\n",
    "    print(regr.feature_importances_[inds[i]],X.columns[inds[i]])"
   ]
  },
  {
   "cell_type": "markdown",
   "metadata": {},
   "source": [
    "Very similar result to using the mean of the three channels"
   ]
  },
  {
   "cell_type": "code",
   "execution_count": 158,
   "metadata": {
    "collapsed": false
   },
   "outputs": [
    {
     "data": {
      "text/plain": [
       "3363"
      ]
     },
     "execution_count": 158,
     "metadata": {},
     "output_type": "execute_result"
    }
   ],
   "source": [
    "len(regr_pred)"
   ]
  },
  {
   "cell_type": "markdown",
   "metadata": {
    "collapsed": true
   },
   "source": [
    "# Test 3 \n",
    "\n",
    "## Use channel-specific features "
   ]
  },
  {
   "cell_type": "code",
   "execution_count": 260,
   "metadata": {
    "collapsed": true
   },
   "outputs": [],
   "source": [
    "def extract_specific_channels(indf,channels_to_drop=None):\n",
    "    \n",
    "    newchannames = []\n",
    "    if channels_to_drop:\n",
    "        opdf = indf.drop(channels_to_drop,axis=1)\n",
    "    else:\n",
    "        opdf = indf.copy()\n",
    "    for name in opdf.columns:\n",
    "        new_name = \"%s_%s\" %(name,indf.name)\n",
    "        newchannames.append(new_name)\n",
    "        \n",
    "    newchannames[-1] = \"time\"\n",
    "    opdf.columns = newchannames\n",
    "    \n",
    "    return opdf"
   ]
  },
  {
   "cell_type": "code",
   "execution_count": 261,
   "metadata": {
    "collapsed": false
   },
   "outputs": [
    {
     "data": {
      "text/html": [
       "<div>\n",
       "<style scoped>\n",
       "    .dataframe tbody tr th:only-of-type {\n",
       "        vertical-align: middle;\n",
       "    }\n",
       "\n",
       "    .dataframe tbody tr th {\n",
       "        vertical-align: top;\n",
       "    }\n",
       "\n",
       "    .dataframe thead th {\n",
       "        text-align: right;\n",
       "    }\n",
       "</style>\n",
       "<table border=\"1\" class=\"dataframe\">\n",
       "  <thead>\n",
       "    <tr style=\"text-align: right;\">\n",
       "      <th></th>\n",
       "      <th>channel_80</th>\n",
       "      <th>channel_81</th>\n",
       "      <th>channel_82</th>\n",
       "      <th>channel_83</th>\n",
       "      <th>channel_84</th>\n",
       "      <th>channel_85</th>\n",
       "      <th>channel_86</th>\n",
       "      <th>channel_87</th>\n",
       "      <th>channel_88</th>\n",
       "      <th>channel_89</th>\n",
       "      <th>time</th>\n",
       "    </tr>\n",
       "  </thead>\n",
       "  <tbody>\n",
       "    <tr>\n",
       "      <th>0</th>\n",
       "      <td>NaN</td>\n",
       "      <td>NaN</td>\n",
       "      <td>NaN</td>\n",
       "      <td>NaN</td>\n",
       "      <td>NaN</td>\n",
       "      <td>NaN</td>\n",
       "      <td>NaN</td>\n",
       "      <td>NaN</td>\n",
       "      <td>NaN</td>\n",
       "      <td>NaN</td>\n",
       "      <td>2016-08-05T18:53:01.281914Z</td>\n",
       "    </tr>\n",
       "    <tr>\n",
       "      <th>1</th>\n",
       "      <td>NaN</td>\n",
       "      <td>NaN</td>\n",
       "      <td>NaN</td>\n",
       "      <td>NaN</td>\n",
       "      <td>NaN</td>\n",
       "      <td>NaN</td>\n",
       "      <td>NaN</td>\n",
       "      <td>NaN</td>\n",
       "      <td>NaN</td>\n",
       "      <td>NaN</td>\n",
       "      <td>2016-08-05T18:54:01.282279Z</td>\n",
       "    </tr>\n",
       "    <tr>\n",
       "      <th>2</th>\n",
       "      <td>NaN</td>\n",
       "      <td>NaN</td>\n",
       "      <td>NaN</td>\n",
       "      <td>NaN</td>\n",
       "      <td>NaN</td>\n",
       "      <td>NaN</td>\n",
       "      <td>NaN</td>\n",
       "      <td>NaN</td>\n",
       "      <td>NaN</td>\n",
       "      <td>NaN</td>\n",
       "      <td>2016-08-05T18:55:01.282279Z</td>\n",
       "    </tr>\n",
       "    <tr>\n",
       "      <th>3</th>\n",
       "      <td>NaN</td>\n",
       "      <td>NaN</td>\n",
       "      <td>NaN</td>\n",
       "      <td>NaN</td>\n",
       "      <td>NaN</td>\n",
       "      <td>NaN</td>\n",
       "      <td>NaN</td>\n",
       "      <td>NaN</td>\n",
       "      <td>NaN</td>\n",
       "      <td>NaN</td>\n",
       "      <td>2016-08-05T18:56:01.282279Z</td>\n",
       "    </tr>\n",
       "    <tr>\n",
       "      <th>4</th>\n",
       "      <td>NaN</td>\n",
       "      <td>NaN</td>\n",
       "      <td>NaN</td>\n",
       "      <td>NaN</td>\n",
       "      <td>NaN</td>\n",
       "      <td>NaN</td>\n",
       "      <td>NaN</td>\n",
       "      <td>NaN</td>\n",
       "      <td>NaN</td>\n",
       "      <td>NaN</td>\n",
       "      <td>2016-08-05T18:57:01.282279Z</td>\n",
       "    </tr>\n",
       "  </tbody>\n",
       "</table>\n",
       "</div>"
      ],
      "text/plain": [
       "   channel_80  channel_81  channel_82  channel_83  channel_84  channel_85  \\\n",
       "0         NaN         NaN         NaN         NaN         NaN         NaN   \n",
       "1         NaN         NaN         NaN         NaN         NaN         NaN   \n",
       "2         NaN         NaN         NaN         NaN         NaN         NaN   \n",
       "3         NaN         NaN         NaN         NaN         NaN         NaN   \n",
       "4         NaN         NaN         NaN         NaN         NaN         NaN   \n",
       "\n",
       "   channel_86  channel_87  channel_88  channel_89                         time  \n",
       "0         NaN         NaN         NaN         NaN  2016-08-05T18:53:01.281914Z  \n",
       "1         NaN         NaN         NaN         NaN  2016-08-05T18:54:01.282279Z  \n",
       "2         NaN         NaN         NaN         NaN  2016-08-05T18:55:01.282279Z  \n",
       "3         NaN         NaN         NaN         NaN  2016-08-05T18:56:01.282279Z  \n",
       "4         NaN         NaN         NaN         NaN  2016-08-05T18:57:01.282279Z  "
      ]
     },
     "execution_count": 261,
     "metadata": {},
     "output_type": "execute_result"
    }
   ],
   "source": [
    "feature_dfs[0].head()"
   ]
  },
  {
   "cell_type": "code",
   "execution_count": 262,
   "metadata": {
    "collapsed": false
   },
   "outputs": [],
   "source": [
    "channels_to_drop = ['channel_80','channel_81','channel_82','channel_83',\n",
    "                    'channel_87','channel_88','channel_89']\n",
    "channels_to_drop = None\n",
    "\n",
    "odf = extract_specific_channels(feature_dfs[0],channels_to_drop)"
   ]
  },
  {
   "cell_type": "code",
   "execution_count": 263,
   "metadata": {
    "collapsed": false
   },
   "outputs": [],
   "source": [
    "for feature_df in feature_dfs[1:]:\n",
    "       \n",
    "    selected_features_df = extract_specific_channels(feature_df,channels_to_drop)\n",
    "    merged_df = pd.merge(odf,selected_features_df,on='time')\n",
    "    odf = merged_df"
   ]
  },
  {
   "cell_type": "code",
   "execution_count": 264,
   "metadata": {
    "collapsed": false
   },
   "outputs": [
    {
     "data": {
      "text/html": [
       "<div>\n",
       "<style scoped>\n",
       "    .dataframe tbody tr th:only-of-type {\n",
       "        vertical-align: middle;\n",
       "    }\n",
       "\n",
       "    .dataframe tbody tr th {\n",
       "        vertical-align: top;\n",
       "    }\n",
       "\n",
       "    .dataframe thead th {\n",
       "        text-align: right;\n",
       "    }\n",
       "</style>\n",
       "<table border=\"1\" class=\"dataframe\">\n",
       "  <thead>\n",
       "    <tr style=\"text-align: right;\">\n",
       "      <th></th>\n",
       "      <th>channel_80_mean_change_rms</th>\n",
       "      <th>channel_81_mean_change_rms</th>\n",
       "      <th>channel_82_mean_change_rms</th>\n",
       "      <th>channel_83_mean_change_rms</th>\n",
       "      <th>channel_84_mean_change_rms</th>\n",
       "      <th>channel_85_mean_change_rms</th>\n",
       "      <th>channel_86_mean_change_rms</th>\n",
       "      <th>channel_87_mean_change_rms</th>\n",
       "      <th>channel_88_mean_change_rms</th>\n",
       "      <th>channel_89_mean_change_rms</th>\n",
       "      <th>...</th>\n",
       "      <th>channel_80_x_crossing_m_rms</th>\n",
       "      <th>channel_81_x_crossing_m_rms</th>\n",
       "      <th>channel_82_x_crossing_m_rms</th>\n",
       "      <th>channel_83_x_crossing_m_rms</th>\n",
       "      <th>channel_84_x_crossing_m_rms</th>\n",
       "      <th>channel_85_x_crossing_m_rms</th>\n",
       "      <th>channel_86_x_crossing_m_rms</th>\n",
       "      <th>channel_87_x_crossing_m_rms</th>\n",
       "      <th>channel_88_x_crossing_m_rms</th>\n",
       "      <th>channel_89_x_crossing_m_rms</th>\n",
       "    </tr>\n",
       "  </thead>\n",
       "  <tbody>\n",
       "    <tr>\n",
       "      <th>0</th>\n",
       "      <td>NaN</td>\n",
       "      <td>NaN</td>\n",
       "      <td>NaN</td>\n",
       "      <td>NaN</td>\n",
       "      <td>NaN</td>\n",
       "      <td>NaN</td>\n",
       "      <td>NaN</td>\n",
       "      <td>NaN</td>\n",
       "      <td>NaN</td>\n",
       "      <td>NaN</td>\n",
       "      <td>...</td>\n",
       "      <td>NaN</td>\n",
       "      <td>NaN</td>\n",
       "      <td>NaN</td>\n",
       "      <td>NaN</td>\n",
       "      <td>NaN</td>\n",
       "      <td>NaN</td>\n",
       "      <td>NaN</td>\n",
       "      <td>NaN</td>\n",
       "      <td>NaN</td>\n",
       "      <td>NaN</td>\n",
       "    </tr>\n",
       "    <tr>\n",
       "      <th>1</th>\n",
       "      <td>NaN</td>\n",
       "      <td>NaN</td>\n",
       "      <td>NaN</td>\n",
       "      <td>NaN</td>\n",
       "      <td>NaN</td>\n",
       "      <td>NaN</td>\n",
       "      <td>NaN</td>\n",
       "      <td>NaN</td>\n",
       "      <td>NaN</td>\n",
       "      <td>NaN</td>\n",
       "      <td>...</td>\n",
       "      <td>NaN</td>\n",
       "      <td>NaN</td>\n",
       "      <td>NaN</td>\n",
       "      <td>NaN</td>\n",
       "      <td>NaN</td>\n",
       "      <td>NaN</td>\n",
       "      <td>NaN</td>\n",
       "      <td>NaN</td>\n",
       "      <td>NaN</td>\n",
       "      <td>NaN</td>\n",
       "    </tr>\n",
       "    <tr>\n",
       "      <th>2</th>\n",
       "      <td>NaN</td>\n",
       "      <td>NaN</td>\n",
       "      <td>NaN</td>\n",
       "      <td>NaN</td>\n",
       "      <td>NaN</td>\n",
       "      <td>NaN</td>\n",
       "      <td>NaN</td>\n",
       "      <td>NaN</td>\n",
       "      <td>NaN</td>\n",
       "      <td>NaN</td>\n",
       "      <td>...</td>\n",
       "      <td>NaN</td>\n",
       "      <td>NaN</td>\n",
       "      <td>NaN</td>\n",
       "      <td>NaN</td>\n",
       "      <td>NaN</td>\n",
       "      <td>NaN</td>\n",
       "      <td>NaN</td>\n",
       "      <td>NaN</td>\n",
       "      <td>NaN</td>\n",
       "      <td>NaN</td>\n",
       "    </tr>\n",
       "    <tr>\n",
       "      <th>3</th>\n",
       "      <td>NaN</td>\n",
       "      <td>NaN</td>\n",
       "      <td>NaN</td>\n",
       "      <td>NaN</td>\n",
       "      <td>NaN</td>\n",
       "      <td>NaN</td>\n",
       "      <td>NaN</td>\n",
       "      <td>NaN</td>\n",
       "      <td>NaN</td>\n",
       "      <td>NaN</td>\n",
       "      <td>...</td>\n",
       "      <td>NaN</td>\n",
       "      <td>NaN</td>\n",
       "      <td>NaN</td>\n",
       "      <td>NaN</td>\n",
       "      <td>NaN</td>\n",
       "      <td>NaN</td>\n",
       "      <td>NaN</td>\n",
       "      <td>NaN</td>\n",
       "      <td>NaN</td>\n",
       "      <td>NaN</td>\n",
       "    </tr>\n",
       "    <tr>\n",
       "      <th>4</th>\n",
       "      <td>NaN</td>\n",
       "      <td>NaN</td>\n",
       "      <td>NaN</td>\n",
       "      <td>NaN</td>\n",
       "      <td>NaN</td>\n",
       "      <td>NaN</td>\n",
       "      <td>NaN</td>\n",
       "      <td>NaN</td>\n",
       "      <td>NaN</td>\n",
       "      <td>NaN</td>\n",
       "      <td>...</td>\n",
       "      <td>NaN</td>\n",
       "      <td>NaN</td>\n",
       "      <td>NaN</td>\n",
       "      <td>NaN</td>\n",
       "      <td>NaN</td>\n",
       "      <td>NaN</td>\n",
       "      <td>NaN</td>\n",
       "      <td>NaN</td>\n",
       "      <td>NaN</td>\n",
       "      <td>NaN</td>\n",
       "    </tr>\n",
       "  </tbody>\n",
       "</table>\n",
       "<p>5 rows × 161 columns</p>\n",
       "</div>"
      ],
      "text/plain": [
       "   channel_80_mean_change_rms  channel_81_mean_change_rms  \\\n",
       "0                         NaN                         NaN   \n",
       "1                         NaN                         NaN   \n",
       "2                         NaN                         NaN   \n",
       "3                         NaN                         NaN   \n",
       "4                         NaN                         NaN   \n",
       "\n",
       "   channel_82_mean_change_rms  channel_83_mean_change_rms  \\\n",
       "0                         NaN                         NaN   \n",
       "1                         NaN                         NaN   \n",
       "2                         NaN                         NaN   \n",
       "3                         NaN                         NaN   \n",
       "4                         NaN                         NaN   \n",
       "\n",
       "   channel_84_mean_change_rms  channel_85_mean_change_rms  \\\n",
       "0                         NaN                         NaN   \n",
       "1                         NaN                         NaN   \n",
       "2                         NaN                         NaN   \n",
       "3                         NaN                         NaN   \n",
       "4                         NaN                         NaN   \n",
       "\n",
       "   channel_86_mean_change_rms  channel_87_mean_change_rms  \\\n",
       "0                         NaN                         NaN   \n",
       "1                         NaN                         NaN   \n",
       "2                         NaN                         NaN   \n",
       "3                         NaN                         NaN   \n",
       "4                         NaN                         NaN   \n",
       "\n",
       "   channel_88_mean_change_rms  channel_89_mean_change_rms  \\\n",
       "0                         NaN                         NaN   \n",
       "1                         NaN                         NaN   \n",
       "2                         NaN                         NaN   \n",
       "3                         NaN                         NaN   \n",
       "4                         NaN                         NaN   \n",
       "\n",
       "              ...              channel_80_x_crossing_m_rms  \\\n",
       "0             ...                                      NaN   \n",
       "1             ...                                      NaN   \n",
       "2             ...                                      NaN   \n",
       "3             ...                                      NaN   \n",
       "4             ...                                      NaN   \n",
       "\n",
       "   channel_81_x_crossing_m_rms  channel_82_x_crossing_m_rms  \\\n",
       "0                          NaN                          NaN   \n",
       "1                          NaN                          NaN   \n",
       "2                          NaN                          NaN   \n",
       "3                          NaN                          NaN   \n",
       "4                          NaN                          NaN   \n",
       "\n",
       "   channel_83_x_crossing_m_rms  channel_84_x_crossing_m_rms  \\\n",
       "0                          NaN                          NaN   \n",
       "1                          NaN                          NaN   \n",
       "2                          NaN                          NaN   \n",
       "3                          NaN                          NaN   \n",
       "4                          NaN                          NaN   \n",
       "\n",
       "   channel_85_x_crossing_m_rms  channel_86_x_crossing_m_rms  \\\n",
       "0                          NaN                          NaN   \n",
       "1                          NaN                          NaN   \n",
       "2                          NaN                          NaN   \n",
       "3                          NaN                          NaN   \n",
       "4                          NaN                          NaN   \n",
       "\n",
       "   channel_87_x_crossing_m_rms  channel_88_x_crossing_m_rms  \\\n",
       "0                          NaN                          NaN   \n",
       "1                          NaN                          NaN   \n",
       "2                          NaN                          NaN   \n",
       "3                          NaN                          NaN   \n",
       "4                          NaN                          NaN   \n",
       "\n",
       "   channel_89_x_crossing_m_rms  \n",
       "0                          NaN  \n",
       "1                          NaN  \n",
       "2                          NaN  \n",
       "3                          NaN  \n",
       "4                          NaN  \n",
       "\n",
       "[5 rows x 161 columns]"
      ]
     },
     "execution_count": 264,
     "metadata": {},
     "output_type": "execute_result"
    }
   ],
   "source": [
    "merged_df.head()"
   ]
  },
  {
   "cell_type": "code",
   "execution_count": 265,
   "metadata": {
    "collapsed": false
   },
   "outputs": [
    {
     "name": "stdout",
     "output_type": "stream",
     "text": [
      "64649\n",
      "6195\n"
     ]
    }
   ],
   "source": [
    "merged_df = merged_df.assign(tsince_start=merged_df['time'].apply(lambda x: op.UTCDateTime(x)-op.UTCDateTime(stime)))\n",
    "merged_df = merged_df.assign(M3_20_Avg_interp=merged_df['tsince_start'].apply(lambda x: f_soilM(x)))\n",
    "merged_df = merged_df.assign(Temphigh_interp=merged_df['tsince_start'].apply(lambda x: f_temp(x)))\n",
    "print(len(merged_df))\n",
    "cleaned_df = merged_df.dropna()\n",
    "print(len(cleaned_df)) #This should be equal to the number of data points in the 'mean across channels' experiment"
   ]
  },
  {
   "cell_type": "code",
   "execution_count": 275,
   "metadata": {
    "collapsed": false
   },
   "outputs": [
    {
     "data": {
      "text/plain": [
       "RandomForestRegressor(bootstrap=True, criterion='mse', max_depth=None,\n",
       "           max_features='auto', max_leaf_nodes=None,\n",
       "           min_impurity_decrease=0.0, min_impurity_split=None,\n",
       "           min_samples_leaf=1, min_samples_split=2,\n",
       "           min_weight_fraction_leaf=0.0, n_estimators=800, n_jobs=2,\n",
       "           oob_score=True, random_state=None, verbose=0, warm_start=False)"
      ]
     },
     "execution_count": 275,
     "metadata": {},
     "output_type": "execute_result"
    }
   ],
   "source": [
    "y = cleaned_df['M3_20_Avg_interp']\n",
    "X = cleaned_df.drop(['time','tsince_start','M3_20_Avg_interp','Temphigh_interp'],axis=1)\n",
    "X_train, X_test, y_train, y_test = train_test_split(X,y,test_size=0.3)\n",
    "regr = RandomForestRegressor(n_estimators=800,min_samples_leaf=1,oob_score=True,n_jobs=2)\n",
    "regr.fit(X_train,y_train)"
   ]
  },
  {
   "cell_type": "code",
   "execution_count": 276,
   "metadata": {
    "collapsed": false
   },
   "outputs": [
    {
     "data": {
      "text/plain": [
       "0.9144426022059774"
      ]
     },
     "execution_count": 276,
     "metadata": {},
     "output_type": "execute_result"
    }
   ],
   "source": [
    "regr.oob_score_"
   ]
  },
  {
   "cell_type": "code",
   "execution_count": 277,
   "metadata": {
    "collapsed": false
   },
   "outputs": [
    {
     "name": "stdout",
     "output_type": "stream",
     "text": [
      "0.04850093997746094 channel_82_peak_welch_rms\n",
      "0.03778649070435955 channel_85_x_crossing_m_rms\n",
      "0.03223950530897072 channel_88_mean_rms\n",
      "0.031499573117622325 channel_84_skewness_rms\n",
      "0.024812289757360245 channel_82_median_rms\n",
      "0.024793330576032425 channel_80_minimum_rms\n",
      "0.02169572843450377 channel_87_peak_welch_rms\n",
      "0.021389062238417002 channel_89_x_crossing_m_rms\n",
      "0.020697773403278722 channel_88_peak_welch_rms\n",
      "0.020287175500774416 channel_82_maximum_rms\n"
     ]
    }
   ],
   "source": [
    "inds = np.argsort(regr.feature_importances_)[::-1]\n",
    "\n",
    "for i in range(10):\n",
    "    print(regr.feature_importances_[inds[i]],X.columns[inds[i]])"
   ]
  },
  {
   "cell_type": "code",
   "execution_count": 272,
   "metadata": {
    "collapsed": false
   },
   "outputs": [
    {
     "data": {
      "text/plain": [
       "0.9291006659199604"
      ]
     },
     "execution_count": 272,
     "metadata": {},
     "output_type": "execute_result"
    }
   ],
   "source": [
    "regr.score(X_test,y_test)"
   ]
  },
  {
   "cell_type": "code",
   "execution_count": 273,
   "metadata": {
    "collapsed": true
   },
   "outputs": [],
   "source": [
    "regr_pred = regr.predict(X_test)\n",
    "\n",
    "outliers_y = []\n",
    "outliers_x = []\n",
    "X_test_indices_bad = []\n",
    "X_test_indices_good = []\n",
    "i = 0\n",
    "for element in zip(regr_pred,y_test):\n",
    "    if abs(element[0]-element[1]) > 0.015:\n",
    "        outliers_x.append(element[0])\n",
    "        outliers_y.append(element[1])\n",
    "        X_test_indices_bad.append(X_test.index[i])\n",
    "    else:\n",
    "        X_test_indices_good.append(X_test.index[i])\n",
    "    i += 1"
   ]
  },
  {
   "cell_type": "code",
   "execution_count": 274,
   "metadata": {
    "collapsed": false
   },
   "outputs": [
    {
     "data": {
      "image/png": "[encoded data removed]",
      "text/plain": [
       "<Figure size 720x432 with 1 Axes>"
      ]
     },
     "metadata": {},
     "output_type": "display_data"
    }
   ],
   "source": [
    "plt.figure(figsize=(10,6))\n",
    "plt.title('M3_20 soil moisture predictions vs observations')\n",
    "plt.plot(regr_pred,y_test,'r.')\n",
    "plt.plot(outliers_x,outliers_y,'k.')\n",
    "plt.xlabel('Prediction')\n",
    "plt.ylabel('Observation')\n",
    "plt.grid()\n",
    "plt.savefig('soil_moisture_prediction_sliding_window.png')"
   ]
  },
  {
   "cell_type": "markdown",
   "metadata": {},
   "source": [
    "If channels_to_drop = None,the fit is excellent. Note that the number of points is quite small though, corresponding to just 30 minute time windows where the DAS data had no NaN valued samples"
   ]
  },
  {
   "cell_type": "code",
   "execution_count": null,
   "metadata": {
    "collapsed": true
   },
   "outputs": [],
   "source": []
  }
 ],
 "metadata": {
  "anaconda-cloud": {},
  "kernelspec": {
   "display_name": "Python [conda env:python3]",
   "language": "python",
   "name": "conda-env-python3-py"
  },
  "language_info": {
   "codemirror_mode": {
    "name": "ipython",
    "version": 3
   },
   "file_extension": ".py",
   "mimetype": "text/x-python",
   "name": "python",
   "nbconvert_exporter": "python",
   "pygments_lexer": "ipython3",
   "version": "3.6.4"
  }
 },
 "nbformat": 4,
 "nbformat_minor": 1
}
