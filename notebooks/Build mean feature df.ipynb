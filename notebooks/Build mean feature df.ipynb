{
 "cells": [
  {
   "cell_type": "markdown",
   "metadata": {},
   "source": [
    "### Test 1\n",
    "Basic features, calculated on each minute of DAS data, directly on the demeaned, despiked (although maybe not forcefully enough) files\n",
    "\n",
    "We get one column of features per DAS channel, but here we choose to average over them to create a mean column per feature\n",
    "\n",
    "Its clear from the timeseries that there is correlation between the features and the temperature variations in the region. This is not surprising but its nice to see. A connection to the soil moisture TS is not obvious, but may be revealed (?)"
   ]
  },
  {
   "cell_type": "code",
   "execution_count": 1,
   "metadata": {
    "collapsed": true
   },
   "outputs": [],
   "source": [
    "import pandas as pd\n",
    "import obspy as op\n",
    "import numpy as np\n",
    "import matplotlib.pyplot as plt\n",
    "%matplotlib inline"
   ]
  },
  {
   "cell_type": "code",
   "execution_count": 15,
   "metadata": {
    "collapsed": false
   },
   "outputs": [
    {
     "name": "stderr",
     "output_type": "stream",
     "text": [
      "/home/rmartinshort/anaconda2/envs/python3/lib/python3.6/site-packages/ipykernel/__main__.py:9: SettingWithCopyWarning: \n",
      "A value is trying to be set on a copy of a slice from a DataFrame.\n",
      "Try using .loc[row_indexer,col_indexer] = value instead\n",
      "\n",
      "See the caveats in the documentation: http://pandas.pydata.org/pandas-docs/stable/indexing.html#indexing-view-versus-copy\n"
     ]
    }
   ],
   "source": [
    "all_data = pd.read_csv(\"Fnames_soilM_temp.csv\")\n",
    "lineCSN = all_data[all_data['Line'] == \"LineCSN\"]\n",
    "\n",
    "#Extract just the soil moisture time series corresponding to probe M3_20, and the regional temperature\n",
    "#These will be the variables we want to train on \n",
    "\n",
    "lineCSN_M3 = lineCSN[['file_name','DateTime','M3_20_Avg_interp','Temphigh_interp']]\n",
    "lineCSN_M3.reset_index(drop=True,inplace=True)\n",
    "lineCSN_M3['DateTime'] = pd.to_datetime(lineCSN_M3['DateTime'])\n",
    "lineCSN_M3.set_index('DateTime',inplace=True)"
   ]
  },
  {
   "cell_type": "code",
   "execution_count": 16,
   "metadata": {
    "collapsed": false
   },
   "outputs": [
    {
     "name": "stderr",
     "output_type": "stream",
     "text": [
      "/home/rmartinshort/anaconda2/envs/python3/lib/python3.6/site-packages/ipykernel/__main__.py:2: SettingWithCopyWarning: \n",
      "A value is trying to be set on a copy of a slice from a DataFrame.\n",
      "Try using .loc[row_indexer,col_indexer] = value instead\n",
      "\n",
      "See the caveats in the documentation: http://pandas.pydata.org/pandas-docs/stable/indexing.html#indexing-view-versus-copy\n",
      "  from ipykernel import kernelapp as app\n"
     ]
    }
   ],
   "source": [
    "#Generate linking column\n",
    "lineCSN_M3['file_name'] = lineCSN_M3['file_name'].apply(lambda x: x[2:])"
   ]
  },
  {
   "cell_type": "code",
   "execution_count": 17,
   "metadata": {
    "collapsed": false
   },
   "outputs": [
    {
     "data": {
      "text/html": [
       "<div>\n",
       "<style scoped>\n",
       "    .dataframe tbody tr th:only-of-type {\n",
       "        vertical-align: middle;\n",
       "    }\n",
       "\n",
       "    .dataframe tbody tr th {\n",
       "        vertical-align: top;\n",
       "    }\n",
       "\n",
       "    .dataframe thead th {\n",
       "        text-align: right;\n",
       "    }\n",
       "</style>\n",
       "<table border=\"1\" class=\"dataframe\">\n",
       "  <thead>\n",
       "    <tr style=\"text-align: right;\">\n",
       "      <th></th>\n",
       "      <th>file_name</th>\n",
       "      <th>M3_20_Avg_interp</th>\n",
       "      <th>Temphigh_interp</th>\n",
       "    </tr>\n",
       "    <tr>\n",
       "      <th>DateTime</th>\n",
       "      <th></th>\n",
       "      <th></th>\n",
       "      <th></th>\n",
       "    </tr>\n",
       "  </thead>\n",
       "  <tbody>\n",
       "    <tr>\n",
       "      <th>2016-08-05 18:07:38</th>\n",
       "      <td>20160805180738_40_Hz_LineCSN.mseed</td>\n",
       "      <td>0.202000</td>\n",
       "      <td>27.437489</td>\n",
       "    </tr>\n",
       "    <tr>\n",
       "      <th>2016-08-05 18:08:38</th>\n",
       "      <td>20160805180838_40_Hz_LineCSN.mseed</td>\n",
       "      <td>0.202000</td>\n",
       "      <td>27.423656</td>\n",
       "    </tr>\n",
       "    <tr>\n",
       "      <th>2016-08-05 18:09:38</th>\n",
       "      <td>20160805180938_40_Hz_LineCSN.mseed</td>\n",
       "      <td>0.202013</td>\n",
       "      <td>27.409822</td>\n",
       "    </tr>\n",
       "    <tr>\n",
       "      <th>2016-08-05 18:10:38</th>\n",
       "      <td>20160805181038_40_Hz_LineCSN.mseed</td>\n",
       "      <td>0.202113</td>\n",
       "      <td>27.395989</td>\n",
       "    </tr>\n",
       "    <tr>\n",
       "      <th>2016-08-05 18:11:38</th>\n",
       "      <td>20160805181138_40_Hz_LineCSN.mseed</td>\n",
       "      <td>0.202213</td>\n",
       "      <td>27.382156</td>\n",
       "    </tr>\n",
       "  </tbody>\n",
       "</table>\n",
       "</div>"
      ],
      "text/plain": [
       "                                              file_name  M3_20_Avg_interp  \\\n",
       "DateTime                                                                    \n",
       "2016-08-05 18:07:38  20160805180738_40_Hz_LineCSN.mseed          0.202000   \n",
       "2016-08-05 18:08:38  20160805180838_40_Hz_LineCSN.mseed          0.202000   \n",
       "2016-08-05 18:09:38  20160805180938_40_Hz_LineCSN.mseed          0.202013   \n",
       "2016-08-05 18:10:38  20160805181038_40_Hz_LineCSN.mseed          0.202113   \n",
       "2016-08-05 18:11:38  20160805181138_40_Hz_LineCSN.mseed          0.202213   \n",
       "\n",
       "                     Temphigh_interp  \n",
       "DateTime                              \n",
       "2016-08-05 18:07:38        27.437489  \n",
       "2016-08-05 18:08:38        27.423656  \n",
       "2016-08-05 18:09:38        27.409822  \n",
       "2016-08-05 18:10:38        27.395989  \n",
       "2016-08-05 18:11:38        27.382156  "
      ]
     },
     "execution_count": 17,
     "metadata": {},
     "output_type": "execute_result"
    }
   ],
   "source": [
    "lineCSN_M3.head()"
   ]
  },
  {
   "cell_type": "markdown",
   "metadata": {},
   "source": [
    "Load the feature dataframes that were generated by running build_feature_from_file.py"
   ]
  },
  {
   "cell_type": "code",
   "execution_count": 18,
   "metadata": {
    "collapsed": true
   },
   "outputs": [],
   "source": [
    "features = ['mean','median','cav','Z','energy','skew','rms','mad',\n",
    "            'sma_1_comp','std','variance','xcrossing_rate','minmax','iqr','kurtosis']"
   ]
  },
  {
   "cell_type": "code",
   "execution_count": 19,
   "metadata": {
    "collapsed": true
   },
   "outputs": [],
   "source": [
    "def extract_mean_over_channels(indf):\n",
    "    \n",
    "    newcolname = \"mean_%s\" %indf.name\n",
    "    opdf = indf[['file_name']]\n",
    "    odf = indf.drop('file_name',axis=1)\n",
    "    opdf[newcolname] = odf.mean(axis=1)\n",
    "    \n",
    "    return opdf"
   ]
  },
  {
   "cell_type": "markdown",
   "metadata": {},
   "source": [
    "What other features might be useful? We should investigate this, and produce an easy way of calculating them, with a feature calculator class or something "
   ]
  },
  {
   "cell_type": "code",
   "execution_count": 20,
   "metadata": {
    "collapsed": false
   },
   "outputs": [
    {
     "name": "stderr",
     "output_type": "stream",
     "text": [
      "/home/rmartinshort/anaconda2/envs/python3/lib/python3.6/site-packages/ipykernel/__main__.py:6: SettingWithCopyWarning: \n",
      "A value is trying to be set on a copy of a slice from a DataFrame.\n",
      "Try using .loc[row_indexer,col_indexer] = value instead\n",
      "\n",
      "See the caveats in the documentation: http://pandas.pydata.org/pandas-docs/stable/indexing.html#indexing-view-versus-copy\n"
     ]
    }
   ],
   "source": [
    "mergeddf = lineCSN_M3\n",
    "\n",
    "for feature in features:\n",
    "    df = pd.read_csv(feature)\n",
    "    df.name = feature\n",
    "    mean_feature = extract_mean_over_channels(df)\n",
    "    odf = pd.merge(mergeddf,mean_feature,on='file_name')\n",
    "    mergeddf = odf"
   ]
  },
  {
   "cell_type": "code",
   "execution_count": 21,
   "metadata": {
    "collapsed": false
   },
   "outputs": [
    {
     "data": {
      "text/html": [
       "<div>\n",
       "<style scoped>\n",
       "    .dataframe tbody tr th:only-of-type {\n",
       "        vertical-align: middle;\n",
       "    }\n",
       "\n",
       "    .dataframe tbody tr th {\n",
       "        vertical-align: top;\n",
       "    }\n",
       "\n",
       "    .dataframe thead th {\n",
       "        text-align: right;\n",
       "    }\n",
       "</style>\n",
       "<table border=\"1\" class=\"dataframe\">\n",
       "  <thead>\n",
       "    <tr style=\"text-align: right;\">\n",
       "      <th></th>\n",
       "      <th>file_name</th>\n",
       "      <th>M3_20_Avg_interp</th>\n",
       "      <th>Temphigh_interp</th>\n",
       "      <th>mean_mean</th>\n",
       "      <th>mean_median</th>\n",
       "      <th>mean_cav</th>\n",
       "      <th>mean_Z</th>\n",
       "      <th>mean_energy</th>\n",
       "      <th>mean_skew</th>\n",
       "      <th>mean_rms</th>\n",
       "      <th>mean_mad</th>\n",
       "      <th>mean_sma_1_comp</th>\n",
       "      <th>mean_std</th>\n",
       "      <th>mean_variance</th>\n",
       "      <th>mean_xcrossing_rate</th>\n",
       "      <th>mean_minmax</th>\n",
       "      <th>mean_iqr</th>\n",
       "      <th>mean_kurtosis</th>\n",
       "    </tr>\n",
       "  </thead>\n",
       "  <tbody>\n",
       "    <tr>\n",
       "      <th>0</th>\n",
       "      <td>20160805180738_40_Hz_LineCSN.mseed</td>\n",
       "      <td>0.202000</td>\n",
       "      <td>27.437489</td>\n",
       "      <td>14.361770</td>\n",
       "      <td>8.309841</td>\n",
       "      <td>861.647286</td>\n",
       "      <td>0.446708</td>\n",
       "      <td>1.338238e+06</td>\n",
       "      <td>2.851846</td>\n",
       "      <td>0.470759</td>\n",
       "      <td>3.426352</td>\n",
       "      <td>861.647286</td>\n",
       "      <td>18.029467</td>\n",
       "      <td>341.555477</td>\n",
       "      <td>1226.15</td>\n",
       "      <td>150.839529</td>\n",
       "      <td>13.717603</td>\n",
       "      <td>10.819143</td>\n",
       "    </tr>\n",
       "    <tr>\n",
       "      <th>1</th>\n",
       "      <td>20160805180838_40_Hz_LineCSN.mseed</td>\n",
       "      <td>0.202000</td>\n",
       "      <td>27.423656</td>\n",
       "      <td>13.701386</td>\n",
       "      <td>6.213150</td>\n",
       "      <td>821.345942</td>\n",
       "      <td>0.404207</td>\n",
       "      <td>1.937958e+06</td>\n",
       "      <td>4.377103</td>\n",
       "      <td>0.570359</td>\n",
       "      <td>3.627463</td>\n",
       "      <td>821.345942</td>\n",
       "      <td>24.327355</td>\n",
       "      <td>611.562809</td>\n",
       "      <td>1258.00</td>\n",
       "      <td>248.077050</td>\n",
       "      <td>9.952303</td>\n",
       "      <td>24.638108</td>\n",
       "    </tr>\n",
       "    <tr>\n",
       "      <th>2</th>\n",
       "      <td>20160805180938_40_Hz_LineCSN.mseed</td>\n",
       "      <td>0.202013</td>\n",
       "      <td>27.409822</td>\n",
       "      <td>20.205624</td>\n",
       "      <td>12.393668</td>\n",
       "      <td>1211.619954</td>\n",
       "      <td>0.500408</td>\n",
       "      <td>3.119695e+06</td>\n",
       "      <td>5.666495</td>\n",
       "      <td>0.717259</td>\n",
       "      <td>3.993771</td>\n",
       "      <td>1211.619954</td>\n",
       "      <td>28.717980</td>\n",
       "      <td>875.824013</td>\n",
       "      <td>1243.00</td>\n",
       "      <td>446.195626</td>\n",
       "      <td>18.797455</td>\n",
       "      <td>56.579966</td>\n",
       "    </tr>\n",
       "    <tr>\n",
       "      <th>3</th>\n",
       "      <td>20160805181038_40_Hz_LineCSN.mseed</td>\n",
       "      <td>0.202113</td>\n",
       "      <td>27.395989</td>\n",
       "      <td>22.655810</td>\n",
       "      <td>13.747387</td>\n",
       "      <td>1359.193771</td>\n",
       "      <td>0.354066</td>\n",
       "      <td>3.047592e+06</td>\n",
       "      <td>2.911729</td>\n",
       "      <td>0.719105</td>\n",
       "      <td>4.269980</td>\n",
       "      <td>1359.193771</td>\n",
       "      <td>26.964447</td>\n",
       "      <td>745.507721</td>\n",
       "      <td>1316.50</td>\n",
       "      <td>268.897080</td>\n",
       "      <td>24.549586</td>\n",
       "      <td>13.650838</td>\n",
       "    </tr>\n",
       "    <tr>\n",
       "      <th>4</th>\n",
       "      <td>20160805181138_40_Hz_LineCSN.mseed</td>\n",
       "      <td>0.202213</td>\n",
       "      <td>27.382156</td>\n",
       "      <td>9.052441</td>\n",
       "      <td>5.527184</td>\n",
       "      <td>543.045438</td>\n",
       "      <td>0.710345</td>\n",
       "      <td>4.471846e+05</td>\n",
       "      <td>2.155085</td>\n",
       "      <td>0.275294</td>\n",
       "      <td>2.668708</td>\n",
       "      <td>543.045438</td>\n",
       "      <td>9.993083</td>\n",
       "      <td>102.746092</td>\n",
       "      <td>1252.15</td>\n",
       "      <td>78.910585</td>\n",
       "      <td>9.537744</td>\n",
       "      <td>5.977357</td>\n",
       "    </tr>\n",
       "    <tr>\n",
       "      <th>5</th>\n",
       "      <td>20160805181238_40_Hz_LineCSN.mseed</td>\n",
       "      <td>0.202313</td>\n",
       "      <td>27.368322</td>\n",
       "      <td>8.627466</td>\n",
       "      <td>5.499426</td>\n",
       "      <td>517.405159</td>\n",
       "      <td>0.844500</td>\n",
       "      <td>4.131829e+05</td>\n",
       "      <td>2.435125</td>\n",
       "      <td>0.262419</td>\n",
       "      <td>2.563802</td>\n",
       "      <td>517.405159</td>\n",
       "      <td>9.524195</td>\n",
       "      <td>94.674329</td>\n",
       "      <td>1242.55</td>\n",
       "      <td>81.792978</td>\n",
       "      <td>8.707979</td>\n",
       "      <td>8.419048</td>\n",
       "    </tr>\n",
       "    <tr>\n",
       "      <th>6</th>\n",
       "      <td>20160805181338_40_Hz_LineCSN.mseed</td>\n",
       "      <td>0.202413</td>\n",
       "      <td>27.354489</td>\n",
       "      <td>26.460252</td>\n",
       "      <td>14.703773</td>\n",
       "      <td>1587.489450</td>\n",
       "      <td>0.257395</td>\n",
       "      <td>4.403811e+06</td>\n",
       "      <td>2.809590</td>\n",
       "      <td>0.862578</td>\n",
       "      <td>4.713052</td>\n",
       "      <td>1587.489450</td>\n",
       "      <td>32.933261</td>\n",
       "      <td>1119.715728</td>\n",
       "      <td>1214.15</td>\n",
       "      <td>307.233676</td>\n",
       "      <td>28.677278</td>\n",
       "      <td>11.763342</td>\n",
       "    </tr>\n",
       "    <tr>\n",
       "      <th>7</th>\n",
       "      <td>20160805181438_40_Hz_LineCSN.mseed</td>\n",
       "      <td>0.202513</td>\n",
       "      <td>27.340656</td>\n",
       "      <td>16.519360</td>\n",
       "      <td>8.692209</td>\n",
       "      <td>991.100540</td>\n",
       "      <td>0.382212</td>\n",
       "      <td>1.781066e+06</td>\n",
       "      <td>2.700716</td>\n",
       "      <td>0.545073</td>\n",
       "      <td>3.777695</td>\n",
       "      <td>991.100540</td>\n",
       "      <td>20.967610</td>\n",
       "      <td>459.704164</td>\n",
       "      <td>1255.00</td>\n",
       "      <td>183.181363</td>\n",
       "      <td>18.065695</td>\n",
       "      <td>10.654987</td>\n",
       "    </tr>\n",
       "    <tr>\n",
       "      <th>8</th>\n",
       "      <td>20160805181538_40_Hz_LineCSN.mseed</td>\n",
       "      <td>0.202613</td>\n",
       "      <td>27.326822</td>\n",
       "      <td>44.295320</td>\n",
       "      <td>18.708027</td>\n",
       "      <td>2657.347432</td>\n",
       "      <td>0.114965</td>\n",
       "      <td>1.824516e+07</td>\n",
       "      <td>3.528740</td>\n",
       "      <td>1.760777</td>\n",
       "      <td>6.600293</td>\n",
       "      <td>2657.347432</td>\n",
       "      <td>74.011403</td>\n",
       "      <td>5595.136678</td>\n",
       "      <td>1175.55</td>\n",
       "      <td>679.688776</td>\n",
       "      <td>35.739100</td>\n",
       "      <td>15.274357</td>\n",
       "    </tr>\n",
       "    <tr>\n",
       "      <th>9</th>\n",
       "      <td>20160805181638_40_Hz_LineCSN.mseed</td>\n",
       "      <td>0.202713</td>\n",
       "      <td>27.312989</td>\n",
       "      <td>11.724042</td>\n",
       "      <td>7.207041</td>\n",
       "      <td>703.246091</td>\n",
       "      <td>0.688407</td>\n",
       "      <td>7.847253e+05</td>\n",
       "      <td>2.699983</td>\n",
       "      <td>0.364083</td>\n",
       "      <td>3.035430</td>\n",
       "      <td>703.246091</td>\n",
       "      <td>13.439377</td>\n",
       "      <td>185.060551</td>\n",
       "      <td>1278.60</td>\n",
       "      <td>127.276353</td>\n",
       "      <td>11.880259</td>\n",
       "      <td>11.850197</td>\n",
       "    </tr>\n",
       "  </tbody>\n",
       "</table>\n",
       "</div>"
      ],
      "text/plain": [
       "                            file_name  M3_20_Avg_interp  Temphigh_interp  \\\n",
       "0  20160805180738_40_Hz_LineCSN.mseed          0.202000        27.437489   \n",
       "1  20160805180838_40_Hz_LineCSN.mseed          0.202000        27.423656   \n",
       "2  20160805180938_40_Hz_LineCSN.mseed          0.202013        27.409822   \n",
       "3  20160805181038_40_Hz_LineCSN.mseed          0.202113        27.395989   \n",
       "4  20160805181138_40_Hz_LineCSN.mseed          0.202213        27.382156   \n",
       "5  20160805181238_40_Hz_LineCSN.mseed          0.202313        27.368322   \n",
       "6  20160805181338_40_Hz_LineCSN.mseed          0.202413        27.354489   \n",
       "7  20160805181438_40_Hz_LineCSN.mseed          0.202513        27.340656   \n",
       "8  20160805181538_40_Hz_LineCSN.mseed          0.202613        27.326822   \n",
       "9  20160805181638_40_Hz_LineCSN.mseed          0.202713        27.312989   \n",
       "\n",
       "   mean_mean  mean_median     mean_cav    mean_Z   mean_energy  mean_skew  \\\n",
       "0  14.361770     8.309841   861.647286  0.446708  1.338238e+06   2.851846   \n",
       "1  13.701386     6.213150   821.345942  0.404207  1.937958e+06   4.377103   \n",
       "2  20.205624    12.393668  1211.619954  0.500408  3.119695e+06   5.666495   \n",
       "3  22.655810    13.747387  1359.193771  0.354066  3.047592e+06   2.911729   \n",
       "4   9.052441     5.527184   543.045438  0.710345  4.471846e+05   2.155085   \n",
       "5   8.627466     5.499426   517.405159  0.844500  4.131829e+05   2.435125   \n",
       "6  26.460252    14.703773  1587.489450  0.257395  4.403811e+06   2.809590   \n",
       "7  16.519360     8.692209   991.100540  0.382212  1.781066e+06   2.700716   \n",
       "8  44.295320    18.708027  2657.347432  0.114965  1.824516e+07   3.528740   \n",
       "9  11.724042     7.207041   703.246091  0.688407  7.847253e+05   2.699983   \n",
       "\n",
       "   mean_rms  mean_mad  mean_sma_1_comp   mean_std  mean_variance  \\\n",
       "0  0.470759  3.426352       861.647286  18.029467     341.555477   \n",
       "1  0.570359  3.627463       821.345942  24.327355     611.562809   \n",
       "2  0.717259  3.993771      1211.619954  28.717980     875.824013   \n",
       "3  0.719105  4.269980      1359.193771  26.964447     745.507721   \n",
       "4  0.275294  2.668708       543.045438   9.993083     102.746092   \n",
       "5  0.262419  2.563802       517.405159   9.524195      94.674329   \n",
       "6  0.862578  4.713052      1587.489450  32.933261    1119.715728   \n",
       "7  0.545073  3.777695       991.100540  20.967610     459.704164   \n",
       "8  1.760777  6.600293      2657.347432  74.011403    5595.136678   \n",
       "9  0.364083  3.035430       703.246091  13.439377     185.060551   \n",
       "\n",
       "   mean_xcrossing_rate  mean_minmax   mean_iqr  mean_kurtosis  \n",
       "0              1226.15   150.839529  13.717603      10.819143  \n",
       "1              1258.00   248.077050   9.952303      24.638108  \n",
       "2              1243.00   446.195626  18.797455      56.579966  \n",
       "3              1316.50   268.897080  24.549586      13.650838  \n",
       "4              1252.15    78.910585   9.537744       5.977357  \n",
       "5              1242.55    81.792978   8.707979       8.419048  \n",
       "6              1214.15   307.233676  28.677278      11.763342  \n",
       "7              1255.00   183.181363  18.065695      10.654987  \n",
       "8              1175.55   679.688776  35.739100      15.274357  \n",
       "9              1278.60   127.276353  11.880259      11.850197  "
      ]
     },
     "execution_count": 21,
     "metadata": {},
     "output_type": "execute_result"
    }
   ],
   "source": [
    "mergeddf.head(10)"
   ]
  },
  {
   "cell_type": "markdown",
   "metadata": {},
   "source": [
    "### Set up and train a random forest"
   ]
  },
  {
   "cell_type": "code",
   "execution_count": 24,
   "metadata": {
    "collapsed": true
   },
   "outputs": [],
   "source": [
    "mergeddf.dropna(inplace=True)\n",
    "soilM = mergeddf['M3_20_Avg_interp']\n",
    "temp = mergeddf['Temphigh_interp']"
   ]
  },
  {
   "cell_type": "code",
   "execution_count": 25,
   "metadata": {
    "collapsed": true
   },
   "outputs": [],
   "source": [
    "X = mergeddf.drop(['file_name','M3_20_Avg_interp','Temphigh_interp'],axis=1)"
   ]
  },
  {
   "cell_type": "markdown",
   "metadata": {},
   "source": [
    "### Our first test will be to train on the soil moisture dataset"
   ]
  },
  {
   "cell_type": "code",
   "execution_count": 26,
   "metadata": {
    "collapsed": true
   },
   "outputs": [],
   "source": [
    "y = soilM"
   ]
  },
  {
   "cell_type": "code",
   "execution_count": 27,
   "metadata": {
    "collapsed": true
   },
   "outputs": [],
   "source": [
    "from sklearn.cross_validation import train_test_split"
   ]
  },
  {
   "cell_type": "code",
   "execution_count": 28,
   "metadata": {
    "collapsed": true
   },
   "outputs": [],
   "source": [
    "X_train, X_test, y_train, y_test = train_test_split(X,y,test_size=0.3)"
   ]
  },
  {
   "cell_type": "code",
   "execution_count": 29,
   "metadata": {
    "collapsed": true
   },
   "outputs": [],
   "source": [
    "from sklearn.ensemble import RandomForestRegressor"
   ]
  },
  {
   "cell_type": "code",
   "execution_count": 95,
   "metadata": {
    "collapsed": true
   },
   "outputs": [],
   "source": [
    "rfc = RandomForestRegressor(n_estimators=300,min_samples_leaf=150,min_samples_split=50,n_jobs=2,oob_score=True)"
   ]
  },
  {
   "cell_type": "markdown",
   "metadata": {},
   "source": [
    "This next step takes about 5 minutes"
   ]
  },
  {
   "cell_type": "code",
   "execution_count": 96,
   "metadata": {
    "collapsed": false
   },
   "outputs": [
    {
     "data": {
      "text/plain": [
       "RandomForestRegressor(bootstrap=True, criterion='mse', max_depth=None,\n",
       "           max_features='auto', max_leaf_nodes=None,\n",
       "           min_impurity_decrease=0.0, min_impurity_split=None,\n",
       "           min_samples_leaf=150, min_samples_split=50,\n",
       "           min_weight_fraction_leaf=0.0, n_estimators=300, n_jobs=2,\n",
       "           oob_score=True, random_state=None, verbose=0, warm_start=False)"
      ]
     },
     "execution_count": 96,
     "metadata": {},
     "output_type": "execute_result"
    }
   ],
   "source": [
    "rfc.fit(X_train,y_train)"
   ]
  },
  {
   "cell_type": "code",
   "execution_count": 33,
   "metadata": {
    "collapsed": true
   },
   "outputs": [],
   "source": [
    "rfc_pred = rfc.predict(X_test)"
   ]
  },
  {
   "cell_type": "code",
   "execution_count": 35,
   "metadata": {
    "collapsed": false
   },
   "outputs": [
    {
     "name": "stdout",
     "output_type": "stream",
     "text": [
      "[0.02747764 0.09223911 0.026129   0.09521155 0.05513533 0.07773054\n",
      " 0.04549026 0.06708252 0.02647551 0.05234725 0.06074788 0.12939805\n",
      " 0.08718934 0.07967375 0.07767227]\n"
     ]
    }
   ],
   "source": [
    "print(rfc.feature_importances_)"
   ]
  },
  {
   "cell_type": "code",
   "execution_count": 36,
   "metadata": {
    "collapsed": false
   },
   "outputs": [
    {
     "data": {
      "text/plain": [
       "-0.004836043223724662"
      ]
     },
     "execution_count": 36,
     "metadata": {},
     "output_type": "execute_result"
    }
   ],
   "source": [
    "rfc.score(X_test,y_test)"
   ]
  },
  {
   "cell_type": "code",
   "execution_count": 38,
   "metadata": {
    "collapsed": false
   },
   "outputs": [
    {
     "data": {
      "text/plain": [
       "[<matplotlib.lines.Line2D at 0x7f01304985f8>]"
      ]
     },
     "execution_count": 38,
     "metadata": {},
     "output_type": "execute_result"
    },
    {
     "data": {
      "image/png": "[encoded data removed]",
      "text/plain": [
       "<Figure size 432x288 with 1 Axes>"
      ]
     },
     "metadata": {},
     "output_type": "display_data"
    }
   ],
   "source": [
    "plt.plot(rfc_pred,y_test,'r.')"
   ]
  },
  {
   "cell_type": "markdown",
   "metadata": {},
   "source": [
    "The regressor does not do a good job here - the R^2 score is very and the predictions are not well correlated with the actual values"
   ]
  },
  {
   "cell_type": "markdown",
   "metadata": {},
   "source": [
    "### Now lets try the temperature dataset - hopefully this will work better since we were able to see correlation in the timeseries"
   ]
  },
  {
   "cell_type": "code",
   "execution_count": 39,
   "metadata": {
    "collapsed": true
   },
   "outputs": [],
   "source": [
    "y = temp"
   ]
  },
  {
   "cell_type": "code",
   "execution_count": 40,
   "metadata": {
    "collapsed": true
   },
   "outputs": [],
   "source": [
    "X_train, X_test, y_train, y_test = train_test_split(X,y,test_size=0.3)"
   ]
  },
  {
   "cell_type": "code",
   "execution_count": 89,
   "metadata": {
    "collapsed": false
   },
   "outputs": [],
   "source": [
    "rftemp = RandomForestRegressor(n_estimators=300,min_samples_leaf=150,min_samples_split=50,n_jobs=2,oob_score=True)"
   ]
  },
  {
   "cell_type": "code",
   "execution_count": 90,
   "metadata": {
    "collapsed": false
   },
   "outputs": [
    {
     "data": {
      "text/plain": [
       "RandomForestRegressor(bootstrap=True, criterion='mse', max_depth=None,\n",
       "           max_features='auto', max_leaf_nodes=None,\n",
       "           min_impurity_decrease=0.0, min_impurity_split=None,\n",
       "           min_samples_leaf=150, min_samples_split=50,\n",
       "           min_weight_fraction_leaf=0.0, n_estimators=300, n_jobs=2,\n",
       "           oob_score=True, random_state=None, verbose=0, warm_start=False)"
      ]
     },
     "execution_count": 90,
     "metadata": {},
     "output_type": "execute_result"
    }
   ],
   "source": [
    "rftemp.fit(X_train,y_train)"
   ]
  },
  {
   "cell_type": "code",
   "execution_count": 91,
   "metadata": {
    "collapsed": true
   },
   "outputs": [],
   "source": [
    "rftemp_pred = rftemp.predict(X_test)"
   ]
  },
  {
   "cell_type": "code",
   "execution_count": 92,
   "metadata": {
    "collapsed": false
   },
   "outputs": [
    {
     "name": "stdout",
     "output_type": "stream",
     "text": [
      "[0.00780664 0.15842762 0.00445555 0.0394828  0.00748511 0.08989978\n",
      " 0.00750737 0.01528114 0.00476189 0.01011448 0.01420411 0.54229619\n",
      " 0.02976455 0.03327603 0.03523675]\n"
     ]
    }
   ],
   "source": [
    "print(rftemp.feature_importances_)"
   ]
  },
  {
   "cell_type": "code",
   "execution_count": 93,
   "metadata": {
    "collapsed": false
   },
   "outputs": [
    {
     "data": {
      "text/plain": [
       "0.10106799743987027"
      ]
     },
     "execution_count": 93,
     "metadata": {},
     "output_type": "execute_result"
    }
   ],
   "source": [
    "rftemp.score(X_test,y_test)"
   ]
  },
  {
   "cell_type": "code",
   "execution_count": 94,
   "metadata": {
    "collapsed": false
   },
   "outputs": [
    {
     "data": {
      "text/plain": [
       "[<matplotlib.lines.Line2D at 0x7f012e621f98>]"
      ]
     },
     "execution_count": 94,
     "metadata": {},
     "output_type": "execute_result"
    },
    {
     "data": {
      "image/png": "[encoded data removed]",
      "text/plain": [
       "<Figure size 432x288 with 1 Axes>"
      ]
     },
     "metadata": {},
     "output_type": "display_data"
    }
   ],
   "source": [
    "plt.plot(rftemp_pred,y_test,'r.')"
   ]
  },
  {
   "cell_type": "markdown",
   "metadata": {},
   "source": [
    "This is slightly better, but there is a lot of scatter "
   ]
  },
  {
   "cell_type": "markdown",
   "metadata": {},
   "source": [
    "We can try to do a grid search over parameters to find the parameters that work best. This can be done with GridSearchCV - note that this could take some time"
   ]
  },
  {
   "cell_type": "code",
   "execution_count": null,
   "metadata": {
    "collapsed": true
   },
   "outputs": [],
   "source": []
  }
 ],
 "metadata": {
  "kernelspec": {
   "display_name": "Python [conda env:python3]",
   "language": "python",
   "name": "conda-env-python3-py"
  },
  "language_info": {
   "codemirror_mode": {
    "name": "ipython",
    "version": 3
   },
   "file_extension": ".py",
   "mimetype": "text/x-python",
   "name": "python",
   "nbconvert_exporter": "python",
   "pygments_lexer": "ipython3",
   "version": "3.6.4"
  }
 },
 "nbformat": 4,
 "nbformat_minor": 1
}
