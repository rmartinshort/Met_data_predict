{
 "cells": [
  {
   "cell_type": "markdown",
   "metadata": {},
   "source": [
    "# Data processing workflow so far   \n",
    "\n",
    "1) Lowpass filter DAS 1 minute .mseed files at 40Hz    \n",
    "2) Assemble sliding windows of given size (not done in this example)   \n",
    "3) Apply additional filter(s) to sliding windows?  \n",
    "4) Despike, replacing spikes with NaN  \n",
    "5) Ignore all sliding windows containing NaN    \n",
    "6) Calculate 16 features (time and freq domain) on each window, for each channel   \n",
    "7) Assemble the features in some way (use all of them, mean over channels, PCA etc.)  \n",
    "8) Train a random forest regression   \n",
    "9) Assess this by graphing prediction performance    "
   ]
  },
  {
   "cell_type": "markdown",
   "metadata": {},
   "source": [
    "### Training a random forest on features calculated from a sliding window of 30 minutes\n",
    "\n",
    "The window length is 30mins, window overlap is 5mins. We can train the algorithm on the mean over channels around probe M3_20_Avg, on all channels or on a PCA-derived dataframe of all channels"
   ]
  },
  {
   "cell_type": "code",
   "execution_count": 1,
   "metadata": {
    "collapsed": true
   },
   "outputs": [],
   "source": [
    "import pandas as pd\n",
    "import obspy as op\n",
    "import numpy as np\n",
    "import matplotlib.pyplot as plt\n",
    "from scipy import interpolate\n",
    "import glob\n",
    "%matplotlib inline"
   ]
  },
  {
   "cell_type": "code",
   "execution_count": 2,
   "metadata": {
    "collapsed": false
   },
   "outputs": [],
   "source": [
    "all_data = pd.read_csv(\"Fnames_soilM_temp.csv\")\n",
    "lineCSN = all_data[all_data['Line'] == \"LineCSN\"]\n",
    "\n",
    "#Extract just the soil moisture time series corresponding to probe M3_20\n",
    "lineCSN_M3 = lineCSN[['file_name','DateTime','M3_20_Avg_interp','Temphigh_interp']]\n",
    "lineCSN_M3.reset_index(drop=True,inplace=True)\n",
    "lineCSN_M3.assign(DateTime = pd.to_datetime(lineCSN_M3['DateTime']))\n",
    "lineCSN_M3.set_index('DateTime',inplace=True)\n",
    "#Generate linking column\n",
    "lineCSN_M3 = lineCSN_M3.assign(file_name=lineCSN_M3['file_name'].apply(lambda x: x[2:]))"
   ]
  },
  {
   "cell_type": "code",
   "execution_count": 3,
   "metadata": {
    "collapsed": false
   },
   "outputs": [],
   "source": [
    "feature_files = glob.glob('/home/rmartinshort/Documents/Berkeley/Fiber/data_test/Soil_moisture_predict/rms_sliding_30/*.csv')\n",
    "feature_dfs = []\n",
    "for csv_file in feature_files:\n",
    "    fname = csv_file.split('/')[-1].split('.')[0][:-18]\n",
    "    df = pd.read_csv(csv_file)\n",
    "    df.name = fname\n",
    "    feature_dfs.append(df)"
   ]
  },
  {
   "cell_type": "markdown",
   "metadata": {},
   "source": [
    "Example of a feature datagframe. Columns are channels. Rows are that feature calculated at each time window"
   ]
  },
  {
   "cell_type": "code",
   "execution_count": 4,
   "metadata": {
    "collapsed": false
   },
   "outputs": [
    {
     "name": "stdout",
     "output_type": "stream",
     "text": [
      "mean_rms_fc\n"
     ]
    }
   ],
   "source": [
    "print(feature_dfs[0].name)"
   ]
  },
  {
   "cell_type": "code",
   "execution_count": 5,
   "metadata": {
    "collapsed": false
   },
   "outputs": [
    {
     "name": "stdout",
     "output_type": "stream",
     "text": [
      "2016-08-05T18:07:38.000000Z\n"
     ]
    }
   ],
   "source": [
    "lineCSN_M3['TTime'] = lineCSN_M3.index\n",
    "stime = lineCSN_M3.index[0]\n",
    "print(op.UTCDateTime(stime))\n",
    "lineCSN_M3 = lineCSN_M3.assign(tsince_start=lineCSN_M3['TTime'].apply(lambda x: op.UTCDateTime(x) - op.UTCDateTime(stime)))"
   ]
  },
  {
   "cell_type": "markdown",
   "metadata": {},
   "source": [
    "Generate interpolation functions for the soil moisture and temperature datasets so that they can be sampled at the times associated with each sliding window (the central time of each window)"
   ]
  },
  {
   "cell_type": "code",
   "execution_count": 6,
   "metadata": {
    "collapsed": false
   },
   "outputs": [],
   "source": [
    "f_soilM = interpolate.interp1d(lineCSN_M3['tsince_start'].values,lineCSN_M3['M3_20_Avg_interp'].values)\n",
    "f_temp = interpolate.interp1d(lineCSN_M3['tsince_start'].values,lineCSN_M3['Temphigh_interp'].values)"
   ]
  },
  {
   "cell_type": "markdown",
   "metadata": {},
   "source": [
    "### Test 1: Attempt to predict soil moisture and temperature from channel stack"
   ]
  },
  {
   "cell_type": "code",
   "execution_count": 7,
   "metadata": {
    "collapsed": true
   },
   "outputs": [],
   "source": [
    "def extract_mean_over_channels(indf,channels_to_drop):\n",
    "    \n",
    "    '''Takes an input dataframe, calculates the mean over columns that are not in the list \n",
    "    \"channels_to_drop\". Returns mean dataframe\n",
    "    '''\n",
    "    \n",
    "    newcolname = \"mean_%s\" %indf.name\n",
    "    opdf = indf[['time']]\n",
    "    opdf = opdf.assign(mean_col = indf.drop(channels_to_drop,axis=1).mean(axis=1))\n",
    "    opdf.columns = ['time',newcolname]\n",
    "    \n",
    "    return opdf"
   ]
  },
  {
   "cell_type": "markdown",
   "metadata": {},
   "source": [
    "Calculate the mean over all channels"
   ]
  },
  {
   "cell_type": "code",
   "execution_count": 8,
   "metadata": {
    "collapsed": true
   },
   "outputs": [],
   "source": [
    "channels_to_drop = ['time']\n",
    "indf = extract_mean_over_channels(feature_dfs[0],channels_to_drop)\n",
    "\n",
    "for feature_df in feature_dfs[1:]:\n",
    "    \n",
    "    mean_feature = extract_mean_over_channels(feature_df,channels_to_drop)\n",
    "    merged_df = pd.merge(indf,mean_feature,on='time')\n",
    "    indf = merged_df"
   ]
  },
  {
   "cell_type": "markdown",
   "metadata": {},
   "source": [
    "NaNs appear in the columns if either   \n",
    "a) That 30 minute time window contains missing data  \n",
    "b) That 30 minute window contains a spike detected by the despiking filter (Bakku 2015)  "
   ]
  },
  {
   "cell_type": "code",
   "execution_count": 9,
   "metadata": {
    "collapsed": false
   },
   "outputs": [
    {
     "data": {
      "text/html": [
       "<div>\n",
       "<style scoped>\n",
       "    .dataframe tbody tr th:only-of-type {\n",
       "        vertical-align: middle;\n",
       "    }\n",
       "\n",
       "    .dataframe tbody tr th {\n",
       "        vertical-align: top;\n",
       "    }\n",
       "\n",
       "    .dataframe thead th {\n",
       "        text-align: right;\n",
       "    }\n",
       "</style>\n",
       "<table border=\"1\" class=\"dataframe\">\n",
       "  <thead>\n",
       "    <tr style=\"text-align: right;\">\n",
       "      <th></th>\n",
       "      <th>time</th>\n",
       "      <th>mean_mean_rms_fc</th>\n",
       "      <th>mean_mean_change_rms_fc</th>\n",
       "      <th>mean_peak_welch_rms_fc</th>\n",
       "      <th>mean_abs_energy_rms_fc</th>\n",
       "      <th>mean_kurtosis_rms_fc</th>\n",
       "      <th>mean_interquartile_range_rms_fc</th>\n",
       "      <th>mean_skewness_rms_fc</th>\n",
       "      <th>mean_minimum_rms_fc</th>\n",
       "      <th>mean_median_rms_fc</th>\n",
       "      <th>mean_mean_abs_change_rms_fc</th>\n",
       "      <th>mean_x_crossing_m_rms_fc</th>\n",
       "      <th>mean_cid_ce_rms_fc</th>\n",
       "      <th>mean_root_mean_square_rms_fc</th>\n",
       "      <th>mean_fft_energy_rms_fc</th>\n",
       "      <th>mean_maximum_rms_fc</th>\n",
       "      <th>mean_variance_rms_fc</th>\n",
       "    </tr>\n",
       "  </thead>\n",
       "  <tbody>\n",
       "    <tr>\n",
       "      <th>0</th>\n",
       "      <td>2016-08-05T18:53:01.281914Z</td>\n",
       "      <td>NaN</td>\n",
       "      <td>NaN</td>\n",
       "      <td>NaN</td>\n",
       "      <td>NaN</td>\n",
       "      <td>NaN</td>\n",
       "      <td>NaN</td>\n",
       "      <td>NaN</td>\n",
       "      <td>NaN</td>\n",
       "      <td>NaN</td>\n",
       "      <td>NaN</td>\n",
       "      <td>NaN</td>\n",
       "      <td>NaN</td>\n",
       "      <td>NaN</td>\n",
       "      <td>NaN</td>\n",
       "      <td>NaN</td>\n",
       "      <td>NaN</td>\n",
       "    </tr>\n",
       "    <tr>\n",
       "      <th>1</th>\n",
       "      <td>2016-08-05T18:58:01.282279Z</td>\n",
       "      <td>NaN</td>\n",
       "      <td>NaN</td>\n",
       "      <td>NaN</td>\n",
       "      <td>NaN</td>\n",
       "      <td>NaN</td>\n",
       "      <td>NaN</td>\n",
       "      <td>NaN</td>\n",
       "      <td>NaN</td>\n",
       "      <td>NaN</td>\n",
       "      <td>NaN</td>\n",
       "      <td>NaN</td>\n",
       "      <td>NaN</td>\n",
       "      <td>NaN</td>\n",
       "      <td>NaN</td>\n",
       "      <td>NaN</td>\n",
       "      <td>NaN</td>\n",
       "    </tr>\n",
       "    <tr>\n",
       "      <th>2</th>\n",
       "      <td>2016-08-05T19:03:01.282279Z</td>\n",
       "      <td>NaN</td>\n",
       "      <td>NaN</td>\n",
       "      <td>NaN</td>\n",
       "      <td>NaN</td>\n",
       "      <td>NaN</td>\n",
       "      <td>NaN</td>\n",
       "      <td>NaN</td>\n",
       "      <td>NaN</td>\n",
       "      <td>NaN</td>\n",
       "      <td>NaN</td>\n",
       "      <td>NaN</td>\n",
       "      <td>NaN</td>\n",
       "      <td>NaN</td>\n",
       "      <td>NaN</td>\n",
       "      <td>NaN</td>\n",
       "      <td>NaN</td>\n",
       "    </tr>\n",
       "    <tr>\n",
       "      <th>3</th>\n",
       "      <td>2016-08-05T19:08:01.282279Z</td>\n",
       "      <td>NaN</td>\n",
       "      <td>NaN</td>\n",
       "      <td>NaN</td>\n",
       "      <td>NaN</td>\n",
       "      <td>NaN</td>\n",
       "      <td>NaN</td>\n",
       "      <td>NaN</td>\n",
       "      <td>NaN</td>\n",
       "      <td>NaN</td>\n",
       "      <td>NaN</td>\n",
       "      <td>NaN</td>\n",
       "      <td>NaN</td>\n",
       "      <td>NaN</td>\n",
       "      <td>NaN</td>\n",
       "      <td>NaN</td>\n",
       "      <td>NaN</td>\n",
       "    </tr>\n",
       "    <tr>\n",
       "      <th>4</th>\n",
       "      <td>2016-08-05T19:13:01.282279Z</td>\n",
       "      <td>NaN</td>\n",
       "      <td>NaN</td>\n",
       "      <td>NaN</td>\n",
       "      <td>NaN</td>\n",
       "      <td>NaN</td>\n",
       "      <td>NaN</td>\n",
       "      <td>NaN</td>\n",
       "      <td>NaN</td>\n",
       "      <td>NaN</td>\n",
       "      <td>NaN</td>\n",
       "      <td>NaN</td>\n",
       "      <td>NaN</td>\n",
       "      <td>NaN</td>\n",
       "      <td>NaN</td>\n",
       "      <td>NaN</td>\n",
       "      <td>NaN</td>\n",
       "    </tr>\n",
       "    <tr>\n",
       "      <th>5</th>\n",
       "      <td>2016-08-05T19:18:01.282279Z</td>\n",
       "      <td>NaN</td>\n",
       "      <td>NaN</td>\n",
       "      <td>NaN</td>\n",
       "      <td>NaN</td>\n",
       "      <td>NaN</td>\n",
       "      <td>NaN</td>\n",
       "      <td>NaN</td>\n",
       "      <td>NaN</td>\n",
       "      <td>NaN</td>\n",
       "      <td>NaN</td>\n",
       "      <td>NaN</td>\n",
       "      <td>NaN</td>\n",
       "      <td>NaN</td>\n",
       "      <td>NaN</td>\n",
       "      <td>NaN</td>\n",
       "      <td>NaN</td>\n",
       "    </tr>\n",
       "    <tr>\n",
       "      <th>6</th>\n",
       "      <td>2016-08-05T19:53:23.598811Z</td>\n",
       "      <td>-0.634725</td>\n",
       "      <td>-0.000186</td>\n",
       "      <td>10.000000</td>\n",
       "      <td>8.392325e+07</td>\n",
       "      <td>18.332625</td>\n",
       "      <td>25.616011</td>\n",
       "      <td>-0.203451</td>\n",
       "      <td>-855.200867</td>\n",
       "      <td>-0.561311</td>\n",
       "      <td>31.918699</td>\n",
       "      <td>37576.500</td>\n",
       "      <td>13926.653020</td>\n",
       "      <td>33.972910</td>\n",
       "      <td>8.389500e+07</td>\n",
       "      <td>592.547368</td>\n",
       "      <td>1165.181851</td>\n",
       "    </tr>\n",
       "    <tr>\n",
       "      <th>7</th>\n",
       "      <td>2016-08-05T19:58:23.598811Z</td>\n",
       "      <td>-0.622174</td>\n",
       "      <td>0.000235</td>\n",
       "      <td>9.859375</td>\n",
       "      <td>9.368056e+07</td>\n",
       "      <td>16.484640</td>\n",
       "      <td>26.876477</td>\n",
       "      <td>-0.139451</td>\n",
       "      <td>-855.200867</td>\n",
       "      <td>-0.596317</td>\n",
       "      <td>33.755028</td>\n",
       "      <td>37715.100</td>\n",
       "      <td>14716.518423</td>\n",
       "      <td>35.884998</td>\n",
       "      <td>9.365340e+07</td>\n",
       "      <td>601.425187</td>\n",
       "      <td>1300.715807</td>\n",
       "    </tr>\n",
       "    <tr>\n",
       "      <th>8</th>\n",
       "      <td>2016-08-05T20:03:23.598811Z</td>\n",
       "      <td>-0.602403</td>\n",
       "      <td>0.000174</td>\n",
       "      <td>9.843750</td>\n",
       "      <td>9.555552e+07</td>\n",
       "      <td>16.988736</td>\n",
       "      <td>26.835830</td>\n",
       "      <td>-0.113767</td>\n",
       "      <td>-855.200867</td>\n",
       "      <td>-0.628666</td>\n",
       "      <td>33.910917</td>\n",
       "      <td>37821.500</td>\n",
       "      <td>14884.366028</td>\n",
       "      <td>36.237023</td>\n",
       "      <td>9.553024e+07</td>\n",
       "      <td>610.510516</td>\n",
       "      <td>1326.778289</td>\n",
       "    </tr>\n",
       "    <tr>\n",
       "      <th>9</th>\n",
       "      <td>2016-08-05T20:08:23.598811Z</td>\n",
       "      <td>-0.694001</td>\n",
       "      <td>-0.000260</td>\n",
       "      <td>10.031250</td>\n",
       "      <td>1.068234e+08</td>\n",
       "      <td>33.458226</td>\n",
       "      <td>27.379865</td>\n",
       "      <td>0.019779</td>\n",
       "      <td>-969.127814</td>\n",
       "      <td>-0.673735</td>\n",
       "      <td>35.494483</td>\n",
       "      <td>38189.900</td>\n",
       "      <td>15945.677225</td>\n",
       "      <td>38.364261</td>\n",
       "      <td>1.067907e+08</td>\n",
       "      <td>997.685402</td>\n",
       "      <td>1483.166341</td>\n",
       "    </tr>\n",
       "    <tr>\n",
       "      <th>10</th>\n",
       "      <td>2016-08-05T20:13:23.598811Z</td>\n",
       "      <td>-0.697832</td>\n",
       "      <td>-0.000023</td>\n",
       "      <td>9.960938</td>\n",
       "      <td>1.027101e+08</td>\n",
       "      <td>36.390312</td>\n",
       "      <td>26.762195</td>\n",
       "      <td>-0.153733</td>\n",
       "      <td>-1032.267800</td>\n",
       "      <td>-0.653202</td>\n",
       "      <td>34.591417</td>\n",
       "      <td>38242.625</td>\n",
       "      <td>15633.719114</td>\n",
       "      <td>37.641660</td>\n",
       "      <td>1.026774e+08</td>\n",
       "      <td>944.300548</td>\n",
       "      <td>1426.036798</td>\n",
       "    </tr>\n",
       "    <tr>\n",
       "      <th>11</th>\n",
       "      <td>2016-08-05T20:18:23.598811Z</td>\n",
       "      <td>-0.502725</td>\n",
       "      <td>0.001116</td>\n",
       "      <td>9.890625</td>\n",
       "      <td>1.061203e+08</td>\n",
       "      <td>29.428109</td>\n",
       "      <td>28.193986</td>\n",
       "      <td>0.322173</td>\n",
       "      <td>-902.161470</td>\n",
       "      <td>-0.651961</td>\n",
       "      <td>35.792942</td>\n",
       "      <td>38300.000</td>\n",
       "      <td>15862.206578</td>\n",
       "      <td>38.287105</td>\n",
       "      <td>1.061018e+08</td>\n",
       "      <td>997.685402</td>\n",
       "      <td>1473.602931</td>\n",
       "    </tr>\n",
       "    <tr>\n",
       "      <th>12</th>\n",
       "      <td>2016-08-05T20:23:23.598811Z</td>\n",
       "      <td>NaN</td>\n",
       "      <td>NaN</td>\n",
       "      <td>NaN</td>\n",
       "      <td>NaN</td>\n",
       "      <td>NaN</td>\n",
       "      <td>NaN</td>\n",
       "      <td>NaN</td>\n",
       "      <td>NaN</td>\n",
       "      <td>NaN</td>\n",
       "      <td>NaN</td>\n",
       "      <td>NaN</td>\n",
       "      <td>NaN</td>\n",
       "      <td>NaN</td>\n",
       "      <td>NaN</td>\n",
       "      <td>NaN</td>\n",
       "      <td>NaN</td>\n",
       "    </tr>\n",
       "    <tr>\n",
       "      <th>13</th>\n",
       "      <td>2016-08-05T20:28:23.598811Z</td>\n",
       "      <td>NaN</td>\n",
       "      <td>NaN</td>\n",
       "      <td>NaN</td>\n",
       "      <td>NaN</td>\n",
       "      <td>NaN</td>\n",
       "      <td>NaN</td>\n",
       "      <td>NaN</td>\n",
       "      <td>NaN</td>\n",
       "      <td>NaN</td>\n",
       "      <td>NaN</td>\n",
       "      <td>NaN</td>\n",
       "      <td>NaN</td>\n",
       "      <td>NaN</td>\n",
       "      <td>NaN</td>\n",
       "      <td>NaN</td>\n",
       "      <td>NaN</td>\n",
       "    </tr>\n",
       "    <tr>\n",
       "      <th>14</th>\n",
       "      <td>2016-08-05T20:33:23.598811Z</td>\n",
       "      <td>NaN</td>\n",
       "      <td>NaN</td>\n",
       "      <td>NaN</td>\n",
       "      <td>NaN</td>\n",
       "      <td>NaN</td>\n",
       "      <td>NaN</td>\n",
       "      <td>NaN</td>\n",
       "      <td>NaN</td>\n",
       "      <td>NaN</td>\n",
       "      <td>NaN</td>\n",
       "      <td>NaN</td>\n",
       "      <td>NaN</td>\n",
       "      <td>NaN</td>\n",
       "      <td>NaN</td>\n",
       "      <td>NaN</td>\n",
       "      <td>NaN</td>\n",
       "    </tr>\n",
       "    <tr>\n",
       "      <th>15</th>\n",
       "      <td>2016-08-05T20:38:23.598811Z</td>\n",
       "      <td>NaN</td>\n",
       "      <td>NaN</td>\n",
       "      <td>NaN</td>\n",
       "      <td>NaN</td>\n",
       "      <td>NaN</td>\n",
       "      <td>NaN</td>\n",
       "      <td>NaN</td>\n",
       "      <td>NaN</td>\n",
       "      <td>NaN</td>\n",
       "      <td>NaN</td>\n",
       "      <td>NaN</td>\n",
       "      <td>NaN</td>\n",
       "      <td>NaN</td>\n",
       "      <td>NaN</td>\n",
       "      <td>NaN</td>\n",
       "      <td>NaN</td>\n",
       "    </tr>\n",
       "    <tr>\n",
       "      <th>16</th>\n",
       "      <td>2016-08-05T20:43:23.598811Z</td>\n",
       "      <td>NaN</td>\n",
       "      <td>NaN</td>\n",
       "      <td>NaN</td>\n",
       "      <td>NaN</td>\n",
       "      <td>NaN</td>\n",
       "      <td>NaN</td>\n",
       "      <td>NaN</td>\n",
       "      <td>NaN</td>\n",
       "      <td>NaN</td>\n",
       "      <td>NaN</td>\n",
       "      <td>NaN</td>\n",
       "      <td>NaN</td>\n",
       "      <td>NaN</td>\n",
       "      <td>NaN</td>\n",
       "      <td>NaN</td>\n",
       "      <td>NaN</td>\n",
       "    </tr>\n",
       "    <tr>\n",
       "      <th>17</th>\n",
       "      <td>2016-08-05T20:48:23.598811Z</td>\n",
       "      <td>NaN</td>\n",
       "      <td>NaN</td>\n",
       "      <td>NaN</td>\n",
       "      <td>NaN</td>\n",
       "      <td>NaN</td>\n",
       "      <td>NaN</td>\n",
       "      <td>NaN</td>\n",
       "      <td>NaN</td>\n",
       "      <td>NaN</td>\n",
       "      <td>NaN</td>\n",
       "      <td>NaN</td>\n",
       "      <td>NaN</td>\n",
       "      <td>NaN</td>\n",
       "      <td>NaN</td>\n",
       "      <td>NaN</td>\n",
       "      <td>NaN</td>\n",
       "    </tr>\n",
       "    <tr>\n",
       "      <th>18</th>\n",
       "      <td>2016-08-05T20:53:23.598811Z</td>\n",
       "      <td>-0.994264</td>\n",
       "      <td>-0.000234</td>\n",
       "      <td>9.687500</td>\n",
       "      <td>1.014306e+08</td>\n",
       "      <td>51.398418</td>\n",
       "      <td>22.816539</td>\n",
       "      <td>0.335154</td>\n",
       "      <td>-1070.492568</td>\n",
       "      <td>-0.902648</td>\n",
       "      <td>32.035452</td>\n",
       "      <td>38371.000</td>\n",
       "      <td>16051.360469</td>\n",
       "      <td>37.533427</td>\n",
       "      <td>1.013619e+08</td>\n",
       "      <td>860.421960</td>\n",
       "      <td>1407.769605</td>\n",
       "    </tr>\n",
       "    <tr>\n",
       "      <th>19</th>\n",
       "      <td>2016-08-05T20:58:23.598811Z</td>\n",
       "      <td>-0.836532</td>\n",
       "      <td>0.000246</td>\n",
       "      <td>9.875000</td>\n",
       "      <td>1.081954e+08</td>\n",
       "      <td>14.477746</td>\n",
       "      <td>26.355107</td>\n",
       "      <td>0.096863</td>\n",
       "      <td>-495.458633</td>\n",
       "      <td>-0.820072</td>\n",
       "      <td>36.164065</td>\n",
       "      <td>39531.000</td>\n",
       "      <td>16173.700572</td>\n",
       "      <td>38.618577</td>\n",
       "      <td>1.081419e+08</td>\n",
       "      <td>516.864212</td>\n",
       "      <td>1501.934314</td>\n",
       "    </tr>\n",
       "  </tbody>\n",
       "</table>\n",
       "</div>"
      ],
      "text/plain": [
       "                           time  mean_mean_rms_fc  mean_mean_change_rms_fc  \\\n",
       "0   2016-08-05T18:53:01.281914Z               NaN                      NaN   \n",
       "1   2016-08-05T18:58:01.282279Z               NaN                      NaN   \n",
       "2   2016-08-05T19:03:01.282279Z               NaN                      NaN   \n",
       "3   2016-08-05T19:08:01.282279Z               NaN                      NaN   \n",
       "4   2016-08-05T19:13:01.282279Z               NaN                      NaN   \n",
       "5   2016-08-05T19:18:01.282279Z               NaN                      NaN   \n",
       "6   2016-08-05T19:53:23.598811Z         -0.634725                -0.000186   \n",
       "7   2016-08-05T19:58:23.598811Z         -0.622174                 0.000235   \n",
       "8   2016-08-05T20:03:23.598811Z         -0.602403                 0.000174   \n",
       "9   2016-08-05T20:08:23.598811Z         -0.694001                -0.000260   \n",
       "10  2016-08-05T20:13:23.598811Z         -0.697832                -0.000023   \n",
       "11  2016-08-05T20:18:23.598811Z         -0.502725                 0.001116   \n",
       "12  2016-08-05T20:23:23.598811Z               NaN                      NaN   \n",
       "13  2016-08-05T20:28:23.598811Z               NaN                      NaN   \n",
       "14  2016-08-05T20:33:23.598811Z               NaN                      NaN   \n",
       "15  2016-08-05T20:38:23.598811Z               NaN                      NaN   \n",
       "16  2016-08-05T20:43:23.598811Z               NaN                      NaN   \n",
       "17  2016-08-05T20:48:23.598811Z               NaN                      NaN   \n",
       "18  2016-08-05T20:53:23.598811Z         -0.994264                -0.000234   \n",
       "19  2016-08-05T20:58:23.598811Z         -0.836532                 0.000246   \n",
       "\n",
       "    mean_peak_welch_rms_fc  mean_abs_energy_rms_fc  mean_kurtosis_rms_fc  \\\n",
       "0                      NaN                     NaN                   NaN   \n",
       "1                      NaN                     NaN                   NaN   \n",
       "2                      NaN                     NaN                   NaN   \n",
       "3                      NaN                     NaN                   NaN   \n",
       "4                      NaN                     NaN                   NaN   \n",
       "5                      NaN                     NaN                   NaN   \n",
       "6                10.000000            8.392325e+07             18.332625   \n",
       "7                 9.859375            9.368056e+07             16.484640   \n",
       "8                 9.843750            9.555552e+07             16.988736   \n",
       "9                10.031250            1.068234e+08             33.458226   \n",
       "10                9.960938            1.027101e+08             36.390312   \n",
       "11                9.890625            1.061203e+08             29.428109   \n",
       "12                     NaN                     NaN                   NaN   \n",
       "13                     NaN                     NaN                   NaN   \n",
       "14                     NaN                     NaN                   NaN   \n",
       "15                     NaN                     NaN                   NaN   \n",
       "16                     NaN                     NaN                   NaN   \n",
       "17                     NaN                     NaN                   NaN   \n",
       "18                9.687500            1.014306e+08             51.398418   \n",
       "19                9.875000            1.081954e+08             14.477746   \n",
       "\n",
       "    mean_interquartile_range_rms_fc  mean_skewness_rms_fc  \\\n",
       "0                               NaN                   NaN   \n",
       "1                               NaN                   NaN   \n",
       "2                               NaN                   NaN   \n",
       "3                               NaN                   NaN   \n",
       "4                               NaN                   NaN   \n",
       "5                               NaN                   NaN   \n",
       "6                         25.616011             -0.203451   \n",
       "7                         26.876477             -0.139451   \n",
       "8                         26.835830             -0.113767   \n",
       "9                         27.379865              0.019779   \n",
       "10                        26.762195             -0.153733   \n",
       "11                        28.193986              0.322173   \n",
       "12                              NaN                   NaN   \n",
       "13                              NaN                   NaN   \n",
       "14                              NaN                   NaN   \n",
       "15                              NaN                   NaN   \n",
       "16                              NaN                   NaN   \n",
       "17                              NaN                   NaN   \n",
       "18                        22.816539              0.335154   \n",
       "19                        26.355107              0.096863   \n",
       "\n",
       "    mean_minimum_rms_fc  mean_median_rms_fc  mean_mean_abs_change_rms_fc  \\\n",
       "0                   NaN                 NaN                          NaN   \n",
       "1                   NaN                 NaN                          NaN   \n",
       "2                   NaN                 NaN                          NaN   \n",
       "3                   NaN                 NaN                          NaN   \n",
       "4                   NaN                 NaN                          NaN   \n",
       "5                   NaN                 NaN                          NaN   \n",
       "6           -855.200867           -0.561311                    31.918699   \n",
       "7           -855.200867           -0.596317                    33.755028   \n",
       "8           -855.200867           -0.628666                    33.910917   \n",
       "9           -969.127814           -0.673735                    35.494483   \n",
       "10         -1032.267800           -0.653202                    34.591417   \n",
       "11          -902.161470           -0.651961                    35.792942   \n",
       "12                  NaN                 NaN                          NaN   \n",
       "13                  NaN                 NaN                          NaN   \n",
       "14                  NaN                 NaN                          NaN   \n",
       "15                  NaN                 NaN                          NaN   \n",
       "16                  NaN                 NaN                          NaN   \n",
       "17                  NaN                 NaN                          NaN   \n",
       "18         -1070.492568           -0.902648                    32.035452   \n",
       "19          -495.458633           -0.820072                    36.164065   \n",
       "\n",
       "    mean_x_crossing_m_rms_fc  mean_cid_ce_rms_fc  \\\n",
       "0                        NaN                 NaN   \n",
       "1                        NaN                 NaN   \n",
       "2                        NaN                 NaN   \n",
       "3                        NaN                 NaN   \n",
       "4                        NaN                 NaN   \n",
       "5                        NaN                 NaN   \n",
       "6                  37576.500        13926.653020   \n",
       "7                  37715.100        14716.518423   \n",
       "8                  37821.500        14884.366028   \n",
       "9                  38189.900        15945.677225   \n",
       "10                 38242.625        15633.719114   \n",
       "11                 38300.000        15862.206578   \n",
       "12                       NaN                 NaN   \n",
       "13                       NaN                 NaN   \n",
       "14                       NaN                 NaN   \n",
       "15                       NaN                 NaN   \n",
       "16                       NaN                 NaN   \n",
       "17                       NaN                 NaN   \n",
       "18                 38371.000        16051.360469   \n",
       "19                 39531.000        16173.700572   \n",
       "\n",
       "    mean_root_mean_square_rms_fc  mean_fft_energy_rms_fc  mean_maximum_rms_fc  \\\n",
       "0                            NaN                     NaN                  NaN   \n",
       "1                            NaN                     NaN                  NaN   \n",
       "2                            NaN                     NaN                  NaN   \n",
       "3                            NaN                     NaN                  NaN   \n",
       "4                            NaN                     NaN                  NaN   \n",
       "5                            NaN                     NaN                  NaN   \n",
       "6                      33.972910            8.389500e+07           592.547368   \n",
       "7                      35.884998            9.365340e+07           601.425187   \n",
       "8                      36.237023            9.553024e+07           610.510516   \n",
       "9                      38.364261            1.067907e+08           997.685402   \n",
       "10                     37.641660            1.026774e+08           944.300548   \n",
       "11                     38.287105            1.061018e+08           997.685402   \n",
       "12                           NaN                     NaN                  NaN   \n",
       "13                           NaN                     NaN                  NaN   \n",
       "14                           NaN                     NaN                  NaN   \n",
       "15                           NaN                     NaN                  NaN   \n",
       "16                           NaN                     NaN                  NaN   \n",
       "17                           NaN                     NaN                  NaN   \n",
       "18                     37.533427            1.013619e+08           860.421960   \n",
       "19                     38.618577            1.081419e+08           516.864212   \n",
       "\n",
       "    mean_variance_rms_fc  \n",
       "0                    NaN  \n",
       "1                    NaN  \n",
       "2                    NaN  \n",
       "3                    NaN  \n",
       "4                    NaN  \n",
       "5                    NaN  \n",
       "6            1165.181851  \n",
       "7            1300.715807  \n",
       "8            1326.778289  \n",
       "9            1483.166341  \n",
       "10           1426.036798  \n",
       "11           1473.602931  \n",
       "12                   NaN  \n",
       "13                   NaN  \n",
       "14                   NaN  \n",
       "15                   NaN  \n",
       "16                   NaN  \n",
       "17                   NaN  \n",
       "18           1407.769605  \n",
       "19           1501.934314  "
      ]
     },
     "execution_count": 9,
     "metadata": {},
     "output_type": "execute_result"
    }
   ],
   "source": [
    "merged_df.head(20)"
   ]
  },
  {
   "cell_type": "markdown",
   "metadata": {},
   "source": [
    "Apply interpolation functions that we created earlier "
   ]
  },
  {
   "cell_type": "code",
   "execution_count": 10,
   "metadata": {
    "collapsed": true
   },
   "outputs": [],
   "source": [
    "merged_df = merged_df.assign(tsince_start=merged_df['time'].apply(lambda x: op.UTCDateTime(x)-op.UTCDateTime(stime)))"
   ]
  },
  {
   "cell_type": "code",
   "execution_count": 11,
   "metadata": {
    "collapsed": true
   },
   "outputs": [],
   "source": [
    "merged_df = merged_df.assign(M3_20_Avg_interp=merged_df['tsince_start'].apply(lambda x: f_soilM(x)))\n",
    "merged_df = merged_df.assign(Temphigh_interp=merged_df['tsince_start'].apply(lambda x: f_temp(x)))"
   ]
  },
  {
   "cell_type": "code",
   "execution_count": 12,
   "metadata": {
    "collapsed": false
   },
   "outputs": [
    {
     "data": {
      "text/html": [
       "<div>\n",
       "<style scoped>\n",
       "    .dataframe tbody tr th:only-of-type {\n",
       "        vertical-align: middle;\n",
       "    }\n",
       "\n",
       "    .dataframe tbody tr th {\n",
       "        vertical-align: top;\n",
       "    }\n",
       "\n",
       "    .dataframe thead th {\n",
       "        text-align: right;\n",
       "    }\n",
       "</style>\n",
       "<table border=\"1\" class=\"dataframe\">\n",
       "  <thead>\n",
       "    <tr style=\"text-align: right;\">\n",
       "      <th></th>\n",
       "      <th>time</th>\n",
       "      <th>mean_mean_rms_fc</th>\n",
       "      <th>mean_mean_change_rms_fc</th>\n",
       "      <th>mean_peak_welch_rms_fc</th>\n",
       "      <th>mean_abs_energy_rms_fc</th>\n",
       "      <th>mean_kurtosis_rms_fc</th>\n",
       "      <th>mean_interquartile_range_rms_fc</th>\n",
       "      <th>mean_skewness_rms_fc</th>\n",
       "      <th>mean_minimum_rms_fc</th>\n",
       "      <th>mean_median_rms_fc</th>\n",
       "      <th>mean_mean_abs_change_rms_fc</th>\n",
       "      <th>mean_x_crossing_m_rms_fc</th>\n",
       "      <th>mean_cid_ce_rms_fc</th>\n",
       "      <th>mean_root_mean_square_rms_fc</th>\n",
       "      <th>mean_fft_energy_rms_fc</th>\n",
       "      <th>mean_maximum_rms_fc</th>\n",
       "      <th>mean_variance_rms_fc</th>\n",
       "      <th>tsince_start</th>\n",
       "      <th>M3_20_Avg_interp</th>\n",
       "      <th>Temphigh_interp</th>\n",
       "    </tr>\n",
       "  </thead>\n",
       "  <tbody>\n",
       "    <tr>\n",
       "      <th>0</th>\n",
       "      <td>2016-08-05T18:53:01.281914Z</td>\n",
       "      <td>NaN</td>\n",
       "      <td>NaN</td>\n",
       "      <td>NaN</td>\n",
       "      <td>NaN</td>\n",
       "      <td>NaN</td>\n",
       "      <td>NaN</td>\n",
       "      <td>NaN</td>\n",
       "      <td>NaN</td>\n",
       "      <td>NaN</td>\n",
       "      <td>NaN</td>\n",
       "      <td>NaN</td>\n",
       "      <td>NaN</td>\n",
       "      <td>NaN</td>\n",
       "      <td>NaN</td>\n",
       "      <td>NaN</td>\n",
       "      <td>NaN</td>\n",
       "      <td>2723.281914</td>\n",
       "      <td>0.202000</td>\n",
       "      <td>26.471626</td>\n",
       "    </tr>\n",
       "    <tr>\n",
       "      <th>1</th>\n",
       "      <td>2016-08-05T18:58:01.282279Z</td>\n",
       "      <td>NaN</td>\n",
       "      <td>NaN</td>\n",
       "      <td>NaN</td>\n",
       "      <td>NaN</td>\n",
       "      <td>NaN</td>\n",
       "      <td>NaN</td>\n",
       "      <td>NaN</td>\n",
       "      <td>NaN</td>\n",
       "      <td>NaN</td>\n",
       "      <td>NaN</td>\n",
       "      <td>NaN</td>\n",
       "      <td>NaN</td>\n",
       "      <td>NaN</td>\n",
       "      <td>NaN</td>\n",
       "      <td>NaN</td>\n",
       "      <td>NaN</td>\n",
       "      <td>3023.282279</td>\n",
       "      <td>0.202000</td>\n",
       "      <td>26.315293</td>\n",
       "    </tr>\n",
       "    <tr>\n",
       "      <th>2</th>\n",
       "      <td>2016-08-05T19:03:01.282279Z</td>\n",
       "      <td>NaN</td>\n",
       "      <td>NaN</td>\n",
       "      <td>NaN</td>\n",
       "      <td>NaN</td>\n",
       "      <td>NaN</td>\n",
       "      <td>NaN</td>\n",
       "      <td>NaN</td>\n",
       "      <td>NaN</td>\n",
       "      <td>NaN</td>\n",
       "      <td>NaN</td>\n",
       "      <td>NaN</td>\n",
       "      <td>NaN</td>\n",
       "      <td>NaN</td>\n",
       "      <td>NaN</td>\n",
       "      <td>NaN</td>\n",
       "      <td>NaN</td>\n",
       "      <td>3323.282279</td>\n",
       "      <td>0.202000</td>\n",
       "      <td>26.158960</td>\n",
       "    </tr>\n",
       "    <tr>\n",
       "      <th>3</th>\n",
       "      <td>2016-08-05T19:08:01.282279Z</td>\n",
       "      <td>NaN</td>\n",
       "      <td>NaN</td>\n",
       "      <td>NaN</td>\n",
       "      <td>NaN</td>\n",
       "      <td>NaN</td>\n",
       "      <td>NaN</td>\n",
       "      <td>NaN</td>\n",
       "      <td>NaN</td>\n",
       "      <td>NaN</td>\n",
       "      <td>NaN</td>\n",
       "      <td>NaN</td>\n",
       "      <td>NaN</td>\n",
       "      <td>NaN</td>\n",
       "      <td>NaN</td>\n",
       "      <td>NaN</td>\n",
       "      <td>NaN</td>\n",
       "      <td>3623.282279</td>\n",
       "      <td>0.202000</td>\n",
       "      <td>26.002628</td>\n",
       "    </tr>\n",
       "    <tr>\n",
       "      <th>4</th>\n",
       "      <td>2016-08-05T19:13:01.282279Z</td>\n",
       "      <td>NaN</td>\n",
       "      <td>NaN</td>\n",
       "      <td>NaN</td>\n",
       "      <td>NaN</td>\n",
       "      <td>NaN</td>\n",
       "      <td>NaN</td>\n",
       "      <td>NaN</td>\n",
       "      <td>NaN</td>\n",
       "      <td>NaN</td>\n",
       "      <td>NaN</td>\n",
       "      <td>NaN</td>\n",
       "      <td>NaN</td>\n",
       "      <td>NaN</td>\n",
       "      <td>NaN</td>\n",
       "      <td>NaN</td>\n",
       "      <td>NaN</td>\n",
       "      <td>3923.282279</td>\n",
       "      <td>0.202000</td>\n",
       "      <td>25.846295</td>\n",
       "    </tr>\n",
       "    <tr>\n",
       "      <th>5</th>\n",
       "      <td>2016-08-05T19:18:01.282279Z</td>\n",
       "      <td>NaN</td>\n",
       "      <td>NaN</td>\n",
       "      <td>NaN</td>\n",
       "      <td>NaN</td>\n",
       "      <td>NaN</td>\n",
       "      <td>NaN</td>\n",
       "      <td>NaN</td>\n",
       "      <td>NaN</td>\n",
       "      <td>NaN</td>\n",
       "      <td>NaN</td>\n",
       "      <td>NaN</td>\n",
       "      <td>NaN</td>\n",
       "      <td>NaN</td>\n",
       "      <td>NaN</td>\n",
       "      <td>NaN</td>\n",
       "      <td>NaN</td>\n",
       "      <td>4223.282279</td>\n",
       "      <td>0.202000</td>\n",
       "      <td>25.689962</td>\n",
       "    </tr>\n",
       "    <tr>\n",
       "      <th>6</th>\n",
       "      <td>2016-08-05T19:53:23.598811Z</td>\n",
       "      <td>-0.634725</td>\n",
       "      <td>-0.000186</td>\n",
       "      <td>10.000000</td>\n",
       "      <td>8.392325e+07</td>\n",
       "      <td>18.332625</td>\n",
       "      <td>25.616011</td>\n",
       "      <td>-0.203451</td>\n",
       "      <td>-855.200867</td>\n",
       "      <td>-0.561311</td>\n",
       "      <td>31.918699</td>\n",
       "      <td>37576.500</td>\n",
       "      <td>13926.653020</td>\n",
       "      <td>33.972910</td>\n",
       "      <td>8.389500e+07</td>\n",
       "      <td>592.547368</td>\n",
       "      <td>1165.181851</td>\n",
       "      <td>6345.598811</td>\n",
       "      <td>0.201611</td>\n",
       "      <td>24.357676</td>\n",
       "    </tr>\n",
       "    <tr>\n",
       "      <th>7</th>\n",
       "      <td>2016-08-05T19:58:23.598811Z</td>\n",
       "      <td>-0.622174</td>\n",
       "      <td>0.000235</td>\n",
       "      <td>9.859375</td>\n",
       "      <td>9.368056e+07</td>\n",
       "      <td>16.484640</td>\n",
       "      <td>26.876477</td>\n",
       "      <td>-0.139451</td>\n",
       "      <td>-855.200867</td>\n",
       "      <td>-0.596317</td>\n",
       "      <td>33.755028</td>\n",
       "      <td>37715.100</td>\n",
       "      <td>14716.518423</td>\n",
       "      <td>35.884998</td>\n",
       "      <td>9.365340e+07</td>\n",
       "      <td>601.425187</td>\n",
       "      <td>1300.715807</td>\n",
       "      <td>6645.598811</td>\n",
       "      <td>0.201111</td>\n",
       "      <td>24.138510</td>\n",
       "    </tr>\n",
       "    <tr>\n",
       "      <th>8</th>\n",
       "      <td>2016-08-05T20:03:23.598811Z</td>\n",
       "      <td>-0.602403</td>\n",
       "      <td>0.000174</td>\n",
       "      <td>9.843750</td>\n",
       "      <td>9.555552e+07</td>\n",
       "      <td>16.988736</td>\n",
       "      <td>26.835830</td>\n",
       "      <td>-0.113767</td>\n",
       "      <td>-855.200867</td>\n",
       "      <td>-0.628666</td>\n",
       "      <td>33.910917</td>\n",
       "      <td>37821.500</td>\n",
       "      <td>14884.366028</td>\n",
       "      <td>36.237023</td>\n",
       "      <td>9.553024e+07</td>\n",
       "      <td>610.510516</td>\n",
       "      <td>1326.778289</td>\n",
       "      <td>6945.598811</td>\n",
       "      <td>0.201000</td>\n",
       "      <td>23.989423</td>\n",
       "    </tr>\n",
       "    <tr>\n",
       "      <th>9</th>\n",
       "      <td>2016-08-05T20:08:23.598811Z</td>\n",
       "      <td>-0.694001</td>\n",
       "      <td>-0.000260</td>\n",
       "      <td>10.031250</td>\n",
       "      <td>1.068234e+08</td>\n",
       "      <td>33.458226</td>\n",
       "      <td>27.379865</td>\n",
       "      <td>0.019779</td>\n",
       "      <td>-969.127814</td>\n",
       "      <td>-0.673735</td>\n",
       "      <td>35.494483</td>\n",
       "      <td>38189.900</td>\n",
       "      <td>15945.677225</td>\n",
       "      <td>38.364261</td>\n",
       "      <td>1.067907e+08</td>\n",
       "      <td>997.685402</td>\n",
       "      <td>1483.166341</td>\n",
       "      <td>7245.598811</td>\n",
       "      <td>0.201000</td>\n",
       "      <td>23.860256</td>\n",
       "    </tr>\n",
       "    <tr>\n",
       "      <th>10</th>\n",
       "      <td>2016-08-05T20:13:23.598811Z</td>\n",
       "      <td>-0.697832</td>\n",
       "      <td>-0.000023</td>\n",
       "      <td>9.960938</td>\n",
       "      <td>1.027101e+08</td>\n",
       "      <td>36.390312</td>\n",
       "      <td>26.762195</td>\n",
       "      <td>-0.153733</td>\n",
       "      <td>-1032.267800</td>\n",
       "      <td>-0.653202</td>\n",
       "      <td>34.591417</td>\n",
       "      <td>38242.625</td>\n",
       "      <td>15633.719114</td>\n",
       "      <td>37.641660</td>\n",
       "      <td>1.026774e+08</td>\n",
       "      <td>944.300548</td>\n",
       "      <td>1426.036798</td>\n",
       "      <td>7545.598811</td>\n",
       "      <td>0.201389</td>\n",
       "      <td>23.731089</td>\n",
       "    </tr>\n",
       "    <tr>\n",
       "      <th>11</th>\n",
       "      <td>2016-08-05T20:18:23.598811Z</td>\n",
       "      <td>-0.502725</td>\n",
       "      <td>0.001116</td>\n",
       "      <td>9.890625</td>\n",
       "      <td>1.061203e+08</td>\n",
       "      <td>29.428109</td>\n",
       "      <td>28.193986</td>\n",
       "      <td>0.322173</td>\n",
       "      <td>-902.161470</td>\n",
       "      <td>-0.651961</td>\n",
       "      <td>35.792942</td>\n",
       "      <td>38300.000</td>\n",
       "      <td>15862.206578</td>\n",
       "      <td>38.287105</td>\n",
       "      <td>1.061018e+08</td>\n",
       "      <td>997.685402</td>\n",
       "      <td>1473.602931</td>\n",
       "      <td>7845.598811</td>\n",
       "      <td>0.201889</td>\n",
       "      <td>23.601923</td>\n",
       "    </tr>\n",
       "    <tr>\n",
       "      <th>12</th>\n",
       "      <td>2016-08-05T20:23:23.598811Z</td>\n",
       "      <td>NaN</td>\n",
       "      <td>NaN</td>\n",
       "      <td>NaN</td>\n",
       "      <td>NaN</td>\n",
       "      <td>NaN</td>\n",
       "      <td>NaN</td>\n",
       "      <td>NaN</td>\n",
       "      <td>NaN</td>\n",
       "      <td>NaN</td>\n",
       "      <td>NaN</td>\n",
       "      <td>NaN</td>\n",
       "      <td>NaN</td>\n",
       "      <td>NaN</td>\n",
       "      <td>NaN</td>\n",
       "      <td>NaN</td>\n",
       "      <td>NaN</td>\n",
       "      <td>8145.598811</td>\n",
       "      <td>0.202000</td>\n",
       "      <td>23.472756</td>\n",
       "    </tr>\n",
       "    <tr>\n",
       "      <th>13</th>\n",
       "      <td>2016-08-05T20:28:23.598811Z</td>\n",
       "      <td>NaN</td>\n",
       "      <td>NaN</td>\n",
       "      <td>NaN</td>\n",
       "      <td>NaN</td>\n",
       "      <td>NaN</td>\n",
       "      <td>NaN</td>\n",
       "      <td>NaN</td>\n",
       "      <td>NaN</td>\n",
       "      <td>NaN</td>\n",
       "      <td>NaN</td>\n",
       "      <td>NaN</td>\n",
       "      <td>NaN</td>\n",
       "      <td>NaN</td>\n",
       "      <td>NaN</td>\n",
       "      <td>NaN</td>\n",
       "      <td>NaN</td>\n",
       "      <td>8445.598811</td>\n",
       "      <td>0.202000</td>\n",
       "      <td>23.343589</td>\n",
       "    </tr>\n",
       "    <tr>\n",
       "      <th>14</th>\n",
       "      <td>2016-08-05T20:33:23.598811Z</td>\n",
       "      <td>NaN</td>\n",
       "      <td>NaN</td>\n",
       "      <td>NaN</td>\n",
       "      <td>NaN</td>\n",
       "      <td>NaN</td>\n",
       "      <td>NaN</td>\n",
       "      <td>NaN</td>\n",
       "      <td>NaN</td>\n",
       "      <td>NaN</td>\n",
       "      <td>NaN</td>\n",
       "      <td>NaN</td>\n",
       "      <td>NaN</td>\n",
       "      <td>NaN</td>\n",
       "      <td>NaN</td>\n",
       "      <td>NaN</td>\n",
       "      <td>NaN</td>\n",
       "      <td>8745.598811</td>\n",
       "      <td>0.201611</td>\n",
       "      <td>23.214423</td>\n",
       "    </tr>\n",
       "    <tr>\n",
       "      <th>15</th>\n",
       "      <td>2016-08-05T20:38:23.598811Z</td>\n",
       "      <td>NaN</td>\n",
       "      <td>NaN</td>\n",
       "      <td>NaN</td>\n",
       "      <td>NaN</td>\n",
       "      <td>NaN</td>\n",
       "      <td>NaN</td>\n",
       "      <td>NaN</td>\n",
       "      <td>NaN</td>\n",
       "      <td>NaN</td>\n",
       "      <td>NaN</td>\n",
       "      <td>NaN</td>\n",
       "      <td>NaN</td>\n",
       "      <td>NaN</td>\n",
       "      <td>NaN</td>\n",
       "      <td>NaN</td>\n",
       "      <td>NaN</td>\n",
       "      <td>9045.598811</td>\n",
       "      <td>0.201111</td>\n",
       "      <td>23.085256</td>\n",
       "    </tr>\n",
       "    <tr>\n",
       "      <th>16</th>\n",
       "      <td>2016-08-05T20:43:23.598811Z</td>\n",
       "      <td>NaN</td>\n",
       "      <td>NaN</td>\n",
       "      <td>NaN</td>\n",
       "      <td>NaN</td>\n",
       "      <td>NaN</td>\n",
       "      <td>NaN</td>\n",
       "      <td>NaN</td>\n",
       "      <td>NaN</td>\n",
       "      <td>NaN</td>\n",
       "      <td>NaN</td>\n",
       "      <td>NaN</td>\n",
       "      <td>NaN</td>\n",
       "      <td>NaN</td>\n",
       "      <td>NaN</td>\n",
       "      <td>NaN</td>\n",
       "      <td>NaN</td>\n",
       "      <td>9345.598811</td>\n",
       "      <td>0.201389</td>\n",
       "      <td>22.956089</td>\n",
       "    </tr>\n",
       "    <tr>\n",
       "      <th>17</th>\n",
       "      <td>2016-08-05T20:48:23.598811Z</td>\n",
       "      <td>NaN</td>\n",
       "      <td>NaN</td>\n",
       "      <td>NaN</td>\n",
       "      <td>NaN</td>\n",
       "      <td>NaN</td>\n",
       "      <td>NaN</td>\n",
       "      <td>NaN</td>\n",
       "      <td>NaN</td>\n",
       "      <td>NaN</td>\n",
       "      <td>NaN</td>\n",
       "      <td>NaN</td>\n",
       "      <td>NaN</td>\n",
       "      <td>NaN</td>\n",
       "      <td>NaN</td>\n",
       "      <td>NaN</td>\n",
       "      <td>NaN</td>\n",
       "      <td>9645.598811</td>\n",
       "      <td>0.201889</td>\n",
       "      <td>22.826923</td>\n",
       "    </tr>\n",
       "    <tr>\n",
       "      <th>18</th>\n",
       "      <td>2016-08-05T20:53:23.598811Z</td>\n",
       "      <td>-0.994264</td>\n",
       "      <td>-0.000234</td>\n",
       "      <td>9.687500</td>\n",
       "      <td>1.014306e+08</td>\n",
       "      <td>51.398418</td>\n",
       "      <td>22.816539</td>\n",
       "      <td>0.335154</td>\n",
       "      <td>-1070.492568</td>\n",
       "      <td>-0.902648</td>\n",
       "      <td>32.035452</td>\n",
       "      <td>38371.000</td>\n",
       "      <td>16051.360469</td>\n",
       "      <td>37.533427</td>\n",
       "      <td>1.013619e+08</td>\n",
       "      <td>860.421960</td>\n",
       "      <td>1407.769605</td>\n",
       "      <td>9945.598811</td>\n",
       "      <td>0.201611</td>\n",
       "      <td>22.697756</td>\n",
       "    </tr>\n",
       "    <tr>\n",
       "      <th>19</th>\n",
       "      <td>2016-08-05T20:58:23.598811Z</td>\n",
       "      <td>-0.836532</td>\n",
       "      <td>0.000246</td>\n",
       "      <td>9.875000</td>\n",
       "      <td>1.081954e+08</td>\n",
       "      <td>14.477746</td>\n",
       "      <td>26.355107</td>\n",
       "      <td>0.096863</td>\n",
       "      <td>-495.458633</td>\n",
       "      <td>-0.820072</td>\n",
       "      <td>36.164065</td>\n",
       "      <td>39531.000</td>\n",
       "      <td>16173.700572</td>\n",
       "      <td>38.618577</td>\n",
       "      <td>1.081419e+08</td>\n",
       "      <td>516.864212</td>\n",
       "      <td>1501.934314</td>\n",
       "      <td>10245.598811</td>\n",
       "      <td>0.201111</td>\n",
       "      <td>22.568589</td>\n",
       "    </tr>\n",
       "  </tbody>\n",
       "</table>\n",
       "</div>"
      ],
      "text/plain": [
       "                           time  mean_mean_rms_fc  mean_mean_change_rms_fc  \\\n",
       "0   2016-08-05T18:53:01.281914Z               NaN                      NaN   \n",
       "1   2016-08-05T18:58:01.282279Z               NaN                      NaN   \n",
       "2   2016-08-05T19:03:01.282279Z               NaN                      NaN   \n",
       "3   2016-08-05T19:08:01.282279Z               NaN                      NaN   \n",
       "4   2016-08-05T19:13:01.282279Z               NaN                      NaN   \n",
       "5   2016-08-05T19:18:01.282279Z               NaN                      NaN   \n",
       "6   2016-08-05T19:53:23.598811Z         -0.634725                -0.000186   \n",
       "7   2016-08-05T19:58:23.598811Z         -0.622174                 0.000235   \n",
       "8   2016-08-05T20:03:23.598811Z         -0.602403                 0.000174   \n",
       "9   2016-08-05T20:08:23.598811Z         -0.694001                -0.000260   \n",
       "10  2016-08-05T20:13:23.598811Z         -0.697832                -0.000023   \n",
       "11  2016-08-05T20:18:23.598811Z         -0.502725                 0.001116   \n",
       "12  2016-08-05T20:23:23.598811Z               NaN                      NaN   \n",
       "13  2016-08-05T20:28:23.598811Z               NaN                      NaN   \n",
       "14  2016-08-05T20:33:23.598811Z               NaN                      NaN   \n",
       "15  2016-08-05T20:38:23.598811Z               NaN                      NaN   \n",
       "16  2016-08-05T20:43:23.598811Z               NaN                      NaN   \n",
       "17  2016-08-05T20:48:23.598811Z               NaN                      NaN   \n",
       "18  2016-08-05T20:53:23.598811Z         -0.994264                -0.000234   \n",
       "19  2016-08-05T20:58:23.598811Z         -0.836532                 0.000246   \n",
       "\n",
       "    mean_peak_welch_rms_fc  mean_abs_energy_rms_fc  mean_kurtosis_rms_fc  \\\n",
       "0                      NaN                     NaN                   NaN   \n",
       "1                      NaN                     NaN                   NaN   \n",
       "2                      NaN                     NaN                   NaN   \n",
       "3                      NaN                     NaN                   NaN   \n",
       "4                      NaN                     NaN                   NaN   \n",
       "5                      NaN                     NaN                   NaN   \n",
       "6                10.000000            8.392325e+07             18.332625   \n",
       "7                 9.859375            9.368056e+07             16.484640   \n",
       "8                 9.843750            9.555552e+07             16.988736   \n",
       "9                10.031250            1.068234e+08             33.458226   \n",
       "10                9.960938            1.027101e+08             36.390312   \n",
       "11                9.890625            1.061203e+08             29.428109   \n",
       "12                     NaN                     NaN                   NaN   \n",
       "13                     NaN                     NaN                   NaN   \n",
       "14                     NaN                     NaN                   NaN   \n",
       "15                     NaN                     NaN                   NaN   \n",
       "16                     NaN                     NaN                   NaN   \n",
       "17                     NaN                     NaN                   NaN   \n",
       "18                9.687500            1.014306e+08             51.398418   \n",
       "19                9.875000            1.081954e+08             14.477746   \n",
       "\n",
       "    mean_interquartile_range_rms_fc  mean_skewness_rms_fc  \\\n",
       "0                               NaN                   NaN   \n",
       "1                               NaN                   NaN   \n",
       "2                               NaN                   NaN   \n",
       "3                               NaN                   NaN   \n",
       "4                               NaN                   NaN   \n",
       "5                               NaN                   NaN   \n",
       "6                         25.616011             -0.203451   \n",
       "7                         26.876477             -0.139451   \n",
       "8                         26.835830             -0.113767   \n",
       "9                         27.379865              0.019779   \n",
       "10                        26.762195             -0.153733   \n",
       "11                        28.193986              0.322173   \n",
       "12                              NaN                   NaN   \n",
       "13                              NaN                   NaN   \n",
       "14                              NaN                   NaN   \n",
       "15                              NaN                   NaN   \n",
       "16                              NaN                   NaN   \n",
       "17                              NaN                   NaN   \n",
       "18                        22.816539              0.335154   \n",
       "19                        26.355107              0.096863   \n",
       "\n",
       "    mean_minimum_rms_fc  mean_median_rms_fc  mean_mean_abs_change_rms_fc  \\\n",
       "0                   NaN                 NaN                          NaN   \n",
       "1                   NaN                 NaN                          NaN   \n",
       "2                   NaN                 NaN                          NaN   \n",
       "3                   NaN                 NaN                          NaN   \n",
       "4                   NaN                 NaN                          NaN   \n",
       "5                   NaN                 NaN                          NaN   \n",
       "6           -855.200867           -0.561311                    31.918699   \n",
       "7           -855.200867           -0.596317                    33.755028   \n",
       "8           -855.200867           -0.628666                    33.910917   \n",
       "9           -969.127814           -0.673735                    35.494483   \n",
       "10         -1032.267800           -0.653202                    34.591417   \n",
       "11          -902.161470           -0.651961                    35.792942   \n",
       "12                  NaN                 NaN                          NaN   \n",
       "13                  NaN                 NaN                          NaN   \n",
       "14                  NaN                 NaN                          NaN   \n",
       "15                  NaN                 NaN                          NaN   \n",
       "16                  NaN                 NaN                          NaN   \n",
       "17                  NaN                 NaN                          NaN   \n",
       "18         -1070.492568           -0.902648                    32.035452   \n",
       "19          -495.458633           -0.820072                    36.164065   \n",
       "\n",
       "    mean_x_crossing_m_rms_fc  mean_cid_ce_rms_fc  \\\n",
       "0                        NaN                 NaN   \n",
       "1                        NaN                 NaN   \n",
       "2                        NaN                 NaN   \n",
       "3                        NaN                 NaN   \n",
       "4                        NaN                 NaN   \n",
       "5                        NaN                 NaN   \n",
       "6                  37576.500        13926.653020   \n",
       "7                  37715.100        14716.518423   \n",
       "8                  37821.500        14884.366028   \n",
       "9                  38189.900        15945.677225   \n",
       "10                 38242.625        15633.719114   \n",
       "11                 38300.000        15862.206578   \n",
       "12                       NaN                 NaN   \n",
       "13                       NaN                 NaN   \n",
       "14                       NaN                 NaN   \n",
       "15                       NaN                 NaN   \n",
       "16                       NaN                 NaN   \n",
       "17                       NaN                 NaN   \n",
       "18                 38371.000        16051.360469   \n",
       "19                 39531.000        16173.700572   \n",
       "\n",
       "    mean_root_mean_square_rms_fc  mean_fft_energy_rms_fc  mean_maximum_rms_fc  \\\n",
       "0                            NaN                     NaN                  NaN   \n",
       "1                            NaN                     NaN                  NaN   \n",
       "2                            NaN                     NaN                  NaN   \n",
       "3                            NaN                     NaN                  NaN   \n",
       "4                            NaN                     NaN                  NaN   \n",
       "5                            NaN                     NaN                  NaN   \n",
       "6                      33.972910            8.389500e+07           592.547368   \n",
       "7                      35.884998            9.365340e+07           601.425187   \n",
       "8                      36.237023            9.553024e+07           610.510516   \n",
       "9                      38.364261            1.067907e+08           997.685402   \n",
       "10                     37.641660            1.026774e+08           944.300548   \n",
       "11                     38.287105            1.061018e+08           997.685402   \n",
       "12                           NaN                     NaN                  NaN   \n",
       "13                           NaN                     NaN                  NaN   \n",
       "14                           NaN                     NaN                  NaN   \n",
       "15                           NaN                     NaN                  NaN   \n",
       "16                           NaN                     NaN                  NaN   \n",
       "17                           NaN                     NaN                  NaN   \n",
       "18                     37.533427            1.013619e+08           860.421960   \n",
       "19                     38.618577            1.081419e+08           516.864212   \n",
       "\n",
       "    mean_variance_rms_fc  tsince_start  M3_20_Avg_interp  Temphigh_interp  \n",
       "0                    NaN   2723.281914          0.202000        26.471626  \n",
       "1                    NaN   3023.282279          0.202000        26.315293  \n",
       "2                    NaN   3323.282279          0.202000        26.158960  \n",
       "3                    NaN   3623.282279          0.202000        26.002628  \n",
       "4                    NaN   3923.282279          0.202000        25.846295  \n",
       "5                    NaN   4223.282279          0.202000        25.689962  \n",
       "6            1165.181851   6345.598811          0.201611        24.357676  \n",
       "7            1300.715807   6645.598811          0.201111        24.138510  \n",
       "8            1326.778289   6945.598811          0.201000        23.989423  \n",
       "9            1483.166341   7245.598811          0.201000        23.860256  \n",
       "10           1426.036798   7545.598811          0.201389        23.731089  \n",
       "11           1473.602931   7845.598811          0.201889        23.601923  \n",
       "12                   NaN   8145.598811          0.202000        23.472756  \n",
       "13                   NaN   8445.598811          0.202000        23.343589  \n",
       "14                   NaN   8745.598811          0.201611        23.214423  \n",
       "15                   NaN   9045.598811          0.201111        23.085256  \n",
       "16                   NaN   9345.598811          0.201389        22.956089  \n",
       "17                   NaN   9645.598811          0.201889        22.826923  \n",
       "18           1407.769605   9945.598811          0.201611        22.697756  \n",
       "19           1501.934314  10245.598811          0.201111        22.568589  "
      ]
     },
     "execution_count": 12,
     "metadata": {},
     "output_type": "execute_result"
    }
   ],
   "source": [
    "merged_df.head(20)"
   ]
  },
  {
   "cell_type": "markdown",
   "metadata": {},
   "source": [
    "Soil moisture time series to be predicted. Note that there are some gaps in the data"
   ]
  },
  {
   "cell_type": "code",
   "execution_count": 13,
   "metadata": {
    "collapsed": false
   },
   "outputs": [
    {
     "data": {
      "text/plain": [
       "<matplotlib.axes._subplots.AxesSubplot at 0x7fb165fda0f0>"
      ]
     },
     "execution_count": 13,
     "metadata": {},
     "output_type": "execute_result"
    },
    {
     "data": {
      "image/png": "[encoded data removed]",
      "text/plain": [
       "<Figure size 432x288 with 1 Axes>"
      ]
     },
     "metadata": {},
     "output_type": "display_data"
    }
   ],
   "source": [
    "merged_df['M3_20_Avg_interp'].plot()"
   ]
  },
  {
   "cell_type": "markdown",
   "metadata": {},
   "source": [
    "Remove all rows that contain gaps"
   ]
  },
  {
   "cell_type": "code",
   "execution_count": 248,
   "metadata": {
    "collapsed": true
   },
   "outputs": [],
   "source": [
    "cleaned_df = merged_df.dropna()"
   ]
  },
  {
   "cell_type": "markdown",
   "metadata": {},
   "source": [
    "Train algorithm and assess prediction quality"
   ]
  },
  {
   "cell_type": "code",
   "execution_count": 249,
   "metadata": {
    "collapsed": true
   },
   "outputs": [],
   "source": [
    "from sklearn.ensemble import RandomForestRegressor\n",
    "from sklearn.model_selection import train_test_split "
   ]
  },
  {
   "cell_type": "code",
   "execution_count": 250,
   "metadata": {
    "collapsed": true
   },
   "outputs": [],
   "source": [
    "y = cleaned_df['M3_20_Avg_interp']\n",
    "X = cleaned_df.drop(['time','tsince_start','M3_20_Avg_interp','Temphigh_interp'],axis=1)"
   ]
  },
  {
   "cell_type": "code",
   "execution_count": 110,
   "metadata": {
    "collapsed": true
   },
   "outputs": [],
   "source": [
    "X_train, X_test, y_train, y_test = train_test_split(X,y,test_size=0.3)\n",
    "regr = RandomForestRegressor(n_estimators=300,min_samples_leaf=1,oob_score=True,n_jobs=2)"
   ]
  },
  {
   "cell_type": "code",
   "execution_count": 111,
   "metadata": {
    "collapsed": false
   },
   "outputs": [
    {
     "data": {
      "text/plain": [
       "RandomForestRegressor(bootstrap=True, criterion='mse', max_depth=None,\n",
       "           max_features='auto', max_leaf_nodes=None,\n",
       "           min_impurity_decrease=0.0, min_impurity_split=None,\n",
       "           min_samples_leaf=1, min_samples_split=2,\n",
       "           min_weight_fraction_leaf=0.0, n_estimators=300, n_jobs=2,\n",
       "           oob_score=True, random_state=None, verbose=0, warm_start=False)"
      ]
     },
     "execution_count": 111,
     "metadata": {},
     "output_type": "execute_result"
    }
   ],
   "source": [
    "regr.fit(X_train,y_train)"
   ]
  },
  {
   "cell_type": "code",
   "execution_count": 112,
   "metadata": {
    "collapsed": false
   },
   "outputs": [
    {
     "name": "stdout",
     "output_type": "stream",
     "text": [
      "[0.09984339 0.04730252 0.0825819  0.01583297 0.07074524 0.08468823\n",
      " 0.07513709 0.07132021 0.10622756 0.04372598 0.13191386 0.04140366\n",
      " 0.02476278 0.01592149 0.07256947 0.01602367]\n",
      "0.44653614140320375\n"
     ]
    }
   ],
   "source": [
    "print(regr.feature_importances_)\n",
    "print(regr.oob_score_)"
   ]
  },
  {
   "cell_type": "markdown",
   "metadata": {},
   "source": [
    "Print features with the highest importance"
   ]
  },
  {
   "cell_type": "code",
   "execution_count": 117,
   "metadata": {
    "collapsed": false
   },
   "outputs": [
    {
     "name": "stdout",
     "output_type": "stream",
     "text": [
      "0.13191385546926554 mean_x_crossing_m_rms_fc\n",
      "0.10622755795823853 mean_median_rms_fc\n",
      "0.099843391329641 mean_mean_rms_fc\n",
      "0.0846882282038692 mean_interquartile_range_rms_fc\n",
      "0.08258189520089104 mean_peak_welch_rms_fc\n"
     ]
    }
   ],
   "source": [
    "inds = np.argsort(regr.feature_importances_)[::-1]\n",
    "\n",
    "for i in range(5):\n",
    "    print(regr.feature_importances_[inds[i]],X.columns[inds[i]])"
   ]
  },
  {
   "cell_type": "markdown",
   "metadata": {},
   "source": [
    "None of the features have especially high importance"
   ]
  },
  {
   "cell_type": "code",
   "execution_count": 114,
   "metadata": {
    "collapsed": false
   },
   "outputs": [
    {
     "data": {
      "text/plain": [
       "0.42984848443448676"
      ]
     },
     "execution_count": 114,
     "metadata": {},
     "output_type": "execute_result"
    }
   ],
   "source": [
    "regr.score(X_test,y_test)"
   ]
  },
  {
   "cell_type": "code",
   "execution_count": 115,
   "metadata": {
    "collapsed": true
   },
   "outputs": [],
   "source": [
    "regr_pred = regr.predict(X_test)"
   ]
  },
  {
   "cell_type": "code",
   "execution_count": 116,
   "metadata": {
    "collapsed": false
   },
   "outputs": [
    {
     "data": {
      "image/png": "[encoded data removed]",
      "text/plain": [
       "<Figure size 720x432 with 1 Axes>"
      ]
     },
     "metadata": {},
     "output_type": "display_data"
    }
   ],
   "source": [
    "plt.figure(figsize=(10,6))\n",
    "plt.title('M3_20 soil moisture predictions vs observations')\n",
    "plt.plot(regr_pred,y_test,'r.')\n",
    "plt.xlabel('Prediction')\n",
    "plt.ylabel('Observation')\n",
    "plt.grid()\n",
    "plt.savefig('soil_moisture_prediction_sliding_window.png')"
   ]
  },
  {
   "cell_type": "markdown",
   "metadata": {},
   "source": [
    "The fit is not great, but at least there is a positive correlation that could be improved with better parameter choice or perhaps a different algorithm (such as a neutral network) "
   ]
  },
  {
   "cell_type": "markdown",
   "metadata": {},
   "source": [
    "Lets try the same workflow on the temperature timeseries"
   ]
  },
  {
   "cell_type": "code",
   "execution_count": 251,
   "metadata": {
    "collapsed": false
   },
   "outputs": [
    {
     "data": {
      "text/plain": [
       "RandomForestRegressor(bootstrap=True, criterion='mse', max_depth=None,\n",
       "           max_features='auto', max_leaf_nodes=None,\n",
       "           min_impurity_decrease=0.0, min_impurity_split=None,\n",
       "           min_samples_leaf=1, min_samples_split=2,\n",
       "           min_weight_fraction_leaf=0.0, n_estimators=300, n_jobs=2,\n",
       "           oob_score=True, random_state=None, verbose=0, warm_start=False)"
      ]
     },
     "execution_count": 251,
     "metadata": {},
     "output_type": "execute_result"
    }
   ],
   "source": [
    "y = cleaned_df['Temphigh_interp']\n",
    "X = cleaned_df.drop(['time','tsince_start','M3_20_Avg_interp','Temphigh_interp'],axis=1)\n",
    "X_train, X_test, y_train, y_test = train_test_split(X,y,test_size=0.3)\n",
    "regr = RandomForestRegressor(n_estimators=300,min_samples_leaf=1,oob_score=True,n_jobs=2)\n",
    "regr.fit(X_train,y_train)"
   ]
  },
  {
   "cell_type": "code",
   "execution_count": 130,
   "metadata": {
    "collapsed": false
   },
   "outputs": [
    {
     "name": "stdout",
     "output_type": "stream",
     "text": [
      "[0.09804821 0.0316613  0.1112476  0.01253769 0.08777833 0.06713743\n",
      " 0.05434542 0.05024754 0.10231132 0.03198212 0.22760205 0.02474168\n",
      " 0.01862541 0.01180752 0.05769305 0.01223335]\n",
      "0.6043794886315528\n"
     ]
    }
   ],
   "source": [
    "print(regr.feature_importances_)\n",
    "print(regr.oob_score_)"
   ]
  },
  {
   "cell_type": "code",
   "execution_count": 141,
   "metadata": {
    "collapsed": false
   },
   "outputs": [
    {
     "name": "stdout",
     "output_type": "stream",
     "text": [
      "0.13152707686599727 mean_x_crossing_m_rms_fc\n",
      "0.10945098135108158 mean_median_rms_fc\n",
      "0.10435314390255068 mean_peak_welch_rms_fc\n",
      "0.10315202516644088 mean_mean_rms_fc\n",
      "0.08267064763395598 mean_maximum_rms_fc\n"
     ]
    }
   ],
   "source": [
    "inds = np.argsort(regr.feature_importances_)[::-1]\n",
    "\n",
    "for i in range(5):\n",
    "    print(regr.feature_importances_[inds[i]],X.columns[inds[i]])"
   ]
  },
  {
   "cell_type": "code",
   "execution_count": 132,
   "metadata": {
    "collapsed": false
   },
   "outputs": [
    {
     "data": {
      "text/plain": [
       "0.6163337580795134"
      ]
     },
     "execution_count": 132,
     "metadata": {},
     "output_type": "execute_result"
    }
   ],
   "source": [
    "regr.score(X_test,y_test)"
   ]
  },
  {
   "cell_type": "code",
   "execution_count": 133,
   "metadata": {
    "collapsed": false
   },
   "outputs": [
    {
     "data": {
      "image/png": "[encoded data removed]",
      "text/plain": [
       "<Figure size 720x432 with 1 Axes>"
      ]
     },
     "metadata": {},
     "output_type": "display_data"
    }
   ],
   "source": [
    "regr_pred = regr.predict(X_test)\n",
    "plt.figure(figsize=(10,6))\n",
    "plt.title('Temperature predictions vs observations')\n",
    "plt.plot(regr_pred,y_test,'b.')\n",
    "plt.xlabel('Prediction')\n",
    "plt.ylabel('Observation')\n",
    "plt.grid()\n",
    "plt.savefig('temperature_prediction_sliding_window.png')"
   ]
  },
  {
   "cell_type": "markdown",
   "metadata": {},
   "source": [
    "The temperature feature timeseries shows a clear day/night cycle, although it is very noisy"
   ]
  },
  {
   "cell_type": "code",
   "execution_count": 252,
   "metadata": {
    "collapsed": false
   },
   "outputs": [
    {
     "data": {
      "text/plain": [
       "<matplotlib.axes._subplots.AxesSubplot at 0x7f5c815f4048>"
      ]
     },
     "execution_count": 252,
     "metadata": {},
     "output_type": "execute_result"
    },
    {
     "data": {
      "image/png": "[encoded data removed]",
      "text/plain": [
       "<Figure size 432x288 with 1 Axes>"
      ]
     },
     "metadata": {},
     "output_type": "display_data"
    }
   ],
   "source": [
    "X['mean_x_crossing_m_rms_fc'].plot()"
   ]
  },
  {
   "cell_type": "code",
   "execution_count": 253,
   "metadata": {
    "collapsed": false
   },
   "outputs": [
    {
     "data": {
      "text/plain": [
       "<matplotlib.axes._subplots.AxesSubplot at 0x7f5c8be5e588>"
      ]
     },
     "execution_count": 253,
     "metadata": {},
     "output_type": "execute_result"
    },
    {
     "data": {
      "image/png": "[encoded data removed]",
      "text/plain": [
       "<Figure size 432x288 with 1 Axes>"
      ]
     },
     "metadata": {},
     "output_type": "display_data"
    }
   ],
   "source": [
    "y.plot()"
   ]
  },
  {
   "cell_type": "code",
   "execution_count": 264,
   "metadata": {
    "collapsed": false
   },
   "outputs": [
    {
     "data": {
      "text/plain": [
       "<matplotlib.axes._subplots.AxesSubplot at 0x7f5c86686f28>"
      ]
     },
     "execution_count": 264,
     "metadata": {},
     "output_type": "execute_result"
    },
    {
     "data": {
      "image/png": "[encoded data removed]",
      "text/plain": [
       "<Figure size 432x288 with 1 Axes>"
      ]
     },
     "metadata": {},
     "output_type": "display_data"
    }
   ],
   "source": [
    "X['mean_x_crossing_m_rms_fc'][4000:5000].plot()"
   ]
  },
  {
   "cell_type": "code",
   "execution_count": 260,
   "metadata": {
    "collapsed": false
   },
   "outputs": [
    {
     "data": {
      "text/plain": [
       "<matplotlib.axes._subplots.AxesSubplot at 0x7f5c8c210278>"
      ]
     },
     "execution_count": 260,
     "metadata": {},
     "output_type": "execute_result"
    },
    {
     "data": {
      "image/png": "[encoded data removed]",
      "text/plain": [
       "<Figure size 432x288 with 1 Axes>"
      ]
     },
     "metadata": {},
     "output_type": "display_data"
    }
   ],
   "source": [
    "y[4000:5000].plot()"
   ]
  },
  {
   "cell_type": "markdown",
   "metadata": {},
   "source": [
    "### What about calculating the mean over a smaller set of channels - just the 84,85 and 86, which are closest to the soil moisture probe?"
   ]
  },
  {
   "cell_type": "code",
   "execution_count": 136,
   "metadata": {
    "collapsed": false
   },
   "outputs": [
    {
     "data": {
      "text/html": [
       "<div>\n",
       "<style scoped>\n",
       "    .dataframe tbody tr th:only-of-type {\n",
       "        vertical-align: middle;\n",
       "    }\n",
       "\n",
       "    .dataframe tbody tr th {\n",
       "        vertical-align: top;\n",
       "    }\n",
       "\n",
       "    .dataframe thead th {\n",
       "        text-align: right;\n",
       "    }\n",
       "</style>\n",
       "<table border=\"1\" class=\"dataframe\">\n",
       "  <thead>\n",
       "    <tr style=\"text-align: right;\">\n",
       "      <th></th>\n",
       "      <th>channel_80</th>\n",
       "      <th>channel_81</th>\n",
       "      <th>channel_82</th>\n",
       "      <th>channel_83</th>\n",
       "      <th>channel_84</th>\n",
       "      <th>channel_85</th>\n",
       "      <th>channel_86</th>\n",
       "      <th>channel_87</th>\n",
       "      <th>channel_88</th>\n",
       "      <th>channel_89</th>\n",
       "      <th>time</th>\n",
       "    </tr>\n",
       "  </thead>\n",
       "  <tbody>\n",
       "    <tr>\n",
       "      <th>0</th>\n",
       "      <td>NaN</td>\n",
       "      <td>NaN</td>\n",
       "      <td>NaN</td>\n",
       "      <td>NaN</td>\n",
       "      <td>NaN</td>\n",
       "      <td>NaN</td>\n",
       "      <td>NaN</td>\n",
       "      <td>NaN</td>\n",
       "      <td>NaN</td>\n",
       "      <td>NaN</td>\n",
       "      <td>2016-08-05T18:53:01.281914Z</td>\n",
       "    </tr>\n",
       "    <tr>\n",
       "      <th>1</th>\n",
       "      <td>NaN</td>\n",
       "      <td>NaN</td>\n",
       "      <td>NaN</td>\n",
       "      <td>NaN</td>\n",
       "      <td>NaN</td>\n",
       "      <td>NaN</td>\n",
       "      <td>NaN</td>\n",
       "      <td>NaN</td>\n",
       "      <td>NaN</td>\n",
       "      <td>NaN</td>\n",
       "      <td>2016-08-05T18:58:01.282279Z</td>\n",
       "    </tr>\n",
       "    <tr>\n",
       "      <th>2</th>\n",
       "      <td>NaN</td>\n",
       "      <td>NaN</td>\n",
       "      <td>NaN</td>\n",
       "      <td>NaN</td>\n",
       "      <td>NaN</td>\n",
       "      <td>NaN</td>\n",
       "      <td>NaN</td>\n",
       "      <td>NaN</td>\n",
       "      <td>NaN</td>\n",
       "      <td>NaN</td>\n",
       "      <td>2016-08-05T19:03:01.282279Z</td>\n",
       "    </tr>\n",
       "    <tr>\n",
       "      <th>3</th>\n",
       "      <td>NaN</td>\n",
       "      <td>NaN</td>\n",
       "      <td>NaN</td>\n",
       "      <td>NaN</td>\n",
       "      <td>NaN</td>\n",
       "      <td>NaN</td>\n",
       "      <td>NaN</td>\n",
       "      <td>NaN</td>\n",
       "      <td>NaN</td>\n",
       "      <td>NaN</td>\n",
       "      <td>2016-08-05T19:08:01.282279Z</td>\n",
       "    </tr>\n",
       "    <tr>\n",
       "      <th>4</th>\n",
       "      <td>NaN</td>\n",
       "      <td>NaN</td>\n",
       "      <td>NaN</td>\n",
       "      <td>NaN</td>\n",
       "      <td>NaN</td>\n",
       "      <td>NaN</td>\n",
       "      <td>NaN</td>\n",
       "      <td>NaN</td>\n",
       "      <td>NaN</td>\n",
       "      <td>NaN</td>\n",
       "      <td>2016-08-05T19:13:01.282279Z</td>\n",
       "    </tr>\n",
       "  </tbody>\n",
       "</table>\n",
       "</div>"
      ],
      "text/plain": [
       "   channel_80  channel_81  channel_82  channel_83  channel_84  channel_85  \\\n",
       "0         NaN         NaN         NaN         NaN         NaN         NaN   \n",
       "1         NaN         NaN         NaN         NaN         NaN         NaN   \n",
       "2         NaN         NaN         NaN         NaN         NaN         NaN   \n",
       "3         NaN         NaN         NaN         NaN         NaN         NaN   \n",
       "4         NaN         NaN         NaN         NaN         NaN         NaN   \n",
       "\n",
       "   channel_86  channel_87  channel_88  channel_89                         time  \n",
       "0         NaN         NaN         NaN         NaN  2016-08-05T18:53:01.281914Z  \n",
       "1         NaN         NaN         NaN         NaN  2016-08-05T18:58:01.282279Z  \n",
       "2         NaN         NaN         NaN         NaN  2016-08-05T19:03:01.282279Z  \n",
       "3         NaN         NaN         NaN         NaN  2016-08-05T19:08:01.282279Z  \n",
       "4         NaN         NaN         NaN         NaN  2016-08-05T19:13:01.282279Z  "
      ]
     },
     "execution_count": 136,
     "metadata": {},
     "output_type": "execute_result"
    }
   ],
   "source": [
    "feature_dfs[0].head()"
   ]
  },
  {
   "cell_type": "code",
   "execution_count": 138,
   "metadata": {
    "collapsed": false
   },
   "outputs": [],
   "source": [
    "channels_to_drop = ['time','channel_80','channel_81','channel_82','channel_83','channel_87','channel_88',\n",
    "                    'channel_89']\n",
    "indf = extract_mean_over_channels(feature_dfs[0],channels_to_drop)\n",
    "\n",
    "for feature_df in feature_dfs[1:]:\n",
    "    \n",
    "    mean_feature = extract_mean_over_channels(feature_df,channels_to_drop)\n",
    "    merged_df = pd.merge(indf,mean_feature,on='time')\n",
    "    indf = merged_df"
   ]
  },
  {
   "cell_type": "code",
   "execution_count": 139,
   "metadata": {
    "collapsed": true
   },
   "outputs": [],
   "source": [
    "merged_df = merged_df.assign(tsince_start=merged_df['time'].apply(lambda x: op.UTCDateTime(x)-op.UTCDateTime(stime)))\n",
    "merged_df = merged_df.assign(M3_20_Avg_interp=merged_df['tsince_start'].apply(lambda x: f_soilM(x)))\n",
    "merged_df = merged_df.assign(Temphigh_interp=merged_df['tsince_start'].apply(lambda x: f_temp(x)))\n",
    "cleaned_df = merged_df.dropna()"
   ]
  },
  {
   "cell_type": "code",
   "execution_count": 140,
   "metadata": {
    "collapsed": false
   },
   "outputs": [
    {
     "data": {
      "text/plain": [
       "RandomForestRegressor(bootstrap=True, criterion='mse', max_depth=None,\n",
       "           max_features='auto', max_leaf_nodes=None,\n",
       "           min_impurity_decrease=0.0, min_impurity_split=None,\n",
       "           min_samples_leaf=1, min_samples_split=2,\n",
       "           min_weight_fraction_leaf=0.0, n_estimators=300, n_jobs=2,\n",
       "           oob_score=True, random_state=None, verbose=0, warm_start=False)"
      ]
     },
     "execution_count": 140,
     "metadata": {},
     "output_type": "execute_result"
    }
   ],
   "source": [
    "y = cleaned_df['M3_20_Avg_interp']\n",
    "X = cleaned_df.drop(['time','tsince_start','M3_20_Avg_interp','Temphigh_interp'],axis=1)\n",
    "X_train, X_test, y_train, y_test = train_test_split(X,y,test_size=0.3)\n",
    "regr = RandomForestRegressor(n_estimators=300,min_samples_leaf=1,oob_score=True,n_jobs=2)\n",
    "regr.fit(X_train,y_train)"
   ]
  },
  {
   "cell_type": "code",
   "execution_count": 142,
   "metadata": {
    "collapsed": false
   },
   "outputs": [
    {
     "name": "stdout",
     "output_type": "stream",
     "text": [
      "[0.10315203 0.0427258  0.10435314 0.01560317 0.06623167 0.06788312\n",
      " 0.07553295 0.07669522 0.10945098 0.03862066 0.13152708 0.03784324\n",
      " 0.01692566 0.01532861 0.08267065 0.01545605]\n",
      "0.49929055083930174\n"
     ]
    }
   ],
   "source": [
    "print(regr.feature_importances_)\n",
    "print(regr.oob_score_)"
   ]
  },
  {
   "cell_type": "code",
   "execution_count": 143,
   "metadata": {
    "collapsed": false
   },
   "outputs": [
    {
     "name": "stdout",
     "output_type": "stream",
     "text": [
      "0.13152707686599727 mean_x_crossing_m_rms_fc\n",
      "0.10945098135108158 mean_median_rms_fc\n",
      "0.10435314390255068 mean_peak_welch_rms_fc\n",
      "0.10315202516644088 mean_mean_rms_fc\n",
      "0.08267064763395598 mean_maximum_rms_fc\n"
     ]
    }
   ],
   "source": [
    "inds = np.argsort(regr.feature_importances_)[::-1]\n",
    "\n",
    "for i in range(5):\n",
    "    print(regr.feature_importances_[inds[i]],X.columns[inds[i]])"
   ]
  },
  {
   "cell_type": "code",
   "execution_count": 144,
   "metadata": {
    "collapsed": false
   },
   "outputs": [
    {
     "data": {
      "image/png": "[encoded data removed]",
      "text/plain": [
       "<Figure size 720x432 with 1 Axes>"
      ]
     },
     "metadata": {},
     "output_type": "display_data"
    }
   ],
   "source": [
    "regr.score(X_test,y_test)\n",
    "regr_pred = regr.predict(X_test)\n",
    "plt.figure(figsize=(10,6))\n",
    "plt.title('Temperature predictions vs observations')\n",
    "plt.plot(regr_pred,y_test,'b.')\n",
    "plt.xlabel('Prediction')\n",
    "plt.ylabel('Observation')\n",
    "plt.grid()\n",
    "plt.savefig('temperature_prediction_sliding_window.png')"
   ]
  },
  {
   "cell_type": "markdown",
   "metadata": {},
   "source": [
    "The fit is slighty improved over a mean of 10 channels"
   ]
  },
  {
   "cell_type": "markdown",
   "metadata": {},
   "source": [
    "### Test 2: Attempt to predict soil moisture and temperature using channel-specific features"
   ]
  },
  {
   "cell_type": "code",
   "execution_count": 145,
   "metadata": {
    "collapsed": true
   },
   "outputs": [],
   "source": [
    "def extract_specific_channels(indf,channels_to_drop=None):\n",
    "    \n",
    "    newchannames = []\n",
    "    if channels_to_drop:\n",
    "        opdf = indf.drop(channels_to_drop,axis=1)\n",
    "    else:\n",
    "        opdf = indf\n",
    "    for name in opdf.columns:\n",
    "        new_name = \"%s_%s\" %(name,indf.name)\n",
    "        newchannames.append(new_name)\n",
    "        \n",
    "    newchannames[-1] = \"time\"\n",
    "    opdf.columns = newchannames\n",
    "    \n",
    "    return opdf"
   ]
  },
  {
   "cell_type": "code",
   "execution_count": 146,
   "metadata": {
    "collapsed": true
   },
   "outputs": [],
   "source": [
    "odf = extract_specific_channels(feature_dfs[0])\n",
    "for feature_df in feature_dfs[1:]:\n",
    "       \n",
    "    selected_features_df = extract_specific_channels(feature_df)\n",
    "    \n",
    "    merged_df = pd.merge(odf,selected_features_df,on='time')\n",
    "    odf = merged_df"
   ]
  },
  {
   "cell_type": "code",
   "execution_count": 147,
   "metadata": {
    "collapsed": true
   },
   "outputs": [],
   "source": [
    "merged_df = merged_df.assign(tsince_start=merged_df['time'].apply(lambda x: op.UTCDateTime(x)-op.UTCDateTime(stime)))\n",
    "merged_df = merged_df.assign(M3_20_Avg_interp=merged_df['tsince_start'].apply(lambda x: f_soilM(x)))\n",
    "merged_df = merged_df.assign(Temphigh_interp=merged_df['tsince_start'].apply(lambda x: f_temp(x)))\n",
    "cleaned_df = merged_df.dropna()"
   ]
  },
  {
   "cell_type": "markdown",
   "metadata": {},
   "source": [
    "Train algorithm"
   ]
  },
  {
   "cell_type": "code",
   "execution_count": 208,
   "metadata": {
    "collapsed": false
   },
   "outputs": [
    {
     "data": {
      "text/plain": [
       "RandomForestRegressor(bootstrap=True, criterion='mse', max_depth=None,\n",
       "           max_features='auto', max_leaf_nodes=None,\n",
       "           min_impurity_decrease=0.0, min_impurity_split=None,\n",
       "           min_samples_leaf=1, min_samples_split=2,\n",
       "           min_weight_fraction_leaf=0.0, n_estimators=300, n_jobs=2,\n",
       "           oob_score=True, random_state=None, verbose=0, warm_start=False)"
      ]
     },
     "execution_count": 208,
     "metadata": {},
     "output_type": "execute_result"
    }
   ],
   "source": [
    "y = cleaned_df['M3_20_Avg_interp']\n",
    "X = cleaned_df.drop(['time','tsince_start','M3_20_Avg_interp','Temphigh_interp'],axis=1)\n",
    "X_train, X_test, y_train, y_test = train_test_split(X,y,test_size=0.3)\n",
    "regr = RandomForestRegressor(n_estimators=300,min_samples_leaf=1,oob_score=True,n_jobs=2)\n",
    "regr.fit(X_train,y_train)"
   ]
  },
  {
   "cell_type": "code",
   "execution_count": 209,
   "metadata": {
    "collapsed": false
   },
   "outputs": [
    {
     "name": "stdout",
     "output_type": "stream",
     "text": [
      "[0.00676658 0.00575105 0.00779086 0.00491909 0.00558094 0.01084921\n",
      " 0.01771355 0.01009954 0.01393077 0.00828762 0.00312071 0.00236038\n",
      " 0.00236483 0.00221297 0.00228375 0.00209725 0.00245374 0.00238507\n",
      " 0.0025153  0.00356765 0.00360446 0.00281402 0.05134109 0.02724243\n",
      " 0.00419201 0.00495682 0.00909187 0.01352615 0.00424215 0.00710327\n",
      " 0.00348798 0.00183803 0.00125816 0.00130544 0.00137026 0.000896\n",
      " 0.0010975  0.00103556 0.00157286 0.00179186 0.00666731 0.00548419\n",
      " 0.00614225 0.00663052 0.00342937 0.0038259  0.0045521  0.00353388\n",
      " 0.00410369 0.00680889 0.00757095 0.00439583 0.0041465  0.00372598\n",
      " 0.00511008 0.00313593 0.00255774 0.00355769 0.00546155 0.0053831\n",
      " 0.01259373 0.01128003 0.01011192 0.0117502  0.00940224 0.01024703\n",
      " 0.01360555 0.00960407 0.00830252 0.00890507 0.00862048 0.0069339\n",
      " 0.00729327 0.0065323  0.00739956 0.00882665 0.00622947 0.0054064\n",
      " 0.0075725  0.008837   0.0117944  0.00570934 0.00739082 0.00526374\n",
      " 0.00617966 0.00522704 0.00938229 0.00660847 0.00848016 0.00666525\n",
      " 0.01074098 0.01516604 0.00549447 0.00307108 0.0026064  0.00261279\n",
      " 0.00203025 0.0020997  0.00425394 0.00447644 0.01214595 0.01525432\n",
      " 0.01615385 0.01103783 0.00910335 0.02092284 0.01404584 0.02286448\n",
      " 0.01745048 0.02831403 0.01025965 0.01158559 0.01253162 0.00308548\n",
      " 0.00277136 0.0023751  0.00205279 0.00182997 0.00332655 0.00335728\n",
      " 0.00326968 0.00173406 0.00153235 0.00116362 0.00129964 0.00100539\n",
      " 0.00093904 0.00086603 0.00239462 0.00224127 0.00314036 0.00178473\n",
      " 0.00141265 0.00120141 0.00152482 0.00084659 0.00123661 0.00117311\n",
      " 0.0020101  0.00254637 0.00817453 0.00620875 0.00922585 0.00511015\n",
      " 0.00644786 0.00672338 0.00605836 0.00613776 0.00618848 0.00751783\n",
      " 0.00268021 0.00153269 0.00163233 0.00109776 0.00230868 0.00109276\n",
      " 0.00116744 0.00097089 0.00219615 0.00198794]\n",
      "0.6333968914663533\n"
     ]
    }
   ],
   "source": [
    "print(regr.feature_importances_)\n",
    "print(regr.oob_score_)"
   ]
  },
  {
   "cell_type": "code",
   "execution_count": 154,
   "metadata": {
    "collapsed": false
   },
   "outputs": [
    {
     "name": "stdout",
     "output_type": "stream",
     "text": [
      "0.04032258108174198 channel_82_peak_welch_rms_fc\n",
      "0.03307779473116595 channel_83_peak_welch_rms_fc\n",
      "0.022238304428507272 channel_89_x_crossing_m_rms_fc\n",
      "0.021605339322953013 channel_85_x_crossing_m_rms_fc\n",
      "0.01916598490241936 channel_87_x_crossing_m_rms_fc\n",
      "0.018409707613436768 channel_81_cid_ce_rms_fc\n",
      "0.018304443032795187 channel_81_mean_abs_change_rms_fc\n",
      "0.017464130577485262 channel_86_x_crossing_m_rms_fc\n",
      "0.01601510191684833 channel_88_mean_rms_fc\n",
      "0.01590374132051736 channel_80_mean_abs_change_rms_fc\n"
     ]
    }
   ],
   "source": [
    "inds = np.argsort(regr.feature_importances_)[::-1]\n",
    "\n",
    "for i in range(10):\n",
    "    print(regr.feature_importances_[inds[i]],X.columns[inds[i]])"
   ]
  },
  {
   "cell_type": "markdown",
   "metadata": {},
   "source": [
    "Its interesting that features from channel 85, which is closest to the probe, do not dominate this list"
   ]
  },
  {
   "cell_type": "code",
   "execution_count": 156,
   "metadata": {
    "collapsed": false
   },
   "outputs": [
    {
     "name": "stdout",
     "output_type": "stream",
     "text": [
      "0.6008654859302272\n"
     ]
    },
    {
     "data": {
      "image/png": "[encoded data removed]",
      "text/plain": [
       "<Figure size 720x432 with 1 Axes>"
      ]
     },
     "metadata": {},
     "output_type": "display_data"
    }
   ],
   "source": [
    "print(regr.score(X_test,y_test))\n",
    "regr_pred = regr.predict(X_test)\n",
    "plt.figure(figsize=(10,6))\n",
    "plt.title('soil moisture predictions vs observations: All channels')\n",
    "plt.plot(regr_pred,y_test,'r.')\n",
    "plt.xlabel('Prediction')\n",
    "plt.ylabel('Observation')\n",
    "plt.grid()\n",
    "plt.savefig('soil_M_prediction_all_chan_sliding_window.png')"
   ]
  },
  {
   "cell_type": "markdown",
   "metadata": {},
   "source": [
    "Using more channels produces better results, but I'm unsure of what this means. This is the best fit to the soil moisture data that we have so far"
   ]
  },
  {
   "cell_type": "code",
   "execution_count": 157,
   "metadata": {
    "collapsed": false
   },
   "outputs": [
    {
     "data": {
      "text/plain": [
       "RandomForestRegressor(bootstrap=True, criterion='mse', max_depth=None,\n",
       "           max_features='auto', max_leaf_nodes=None,\n",
       "           min_impurity_decrease=0.0, min_impurity_split=None,\n",
       "           min_samples_leaf=1, min_samples_split=2,\n",
       "           min_weight_fraction_leaf=0.0, n_estimators=300, n_jobs=2,\n",
       "           oob_score=True, random_state=None, verbose=0, warm_start=False)"
      ]
     },
     "execution_count": 157,
     "metadata": {},
     "output_type": "execute_result"
    }
   ],
   "source": [
    "y = cleaned_df['Temphigh_interp']\n",
    "X = cleaned_df.drop(['time','tsince_start','M3_20_Avg_interp','Temphigh_interp'],axis=1)\n",
    "X_train, X_test, y_train, y_test = train_test_split(X,y,test_size=0.3)\n",
    "regr = RandomForestRegressor(n_estimators=300,min_samples_leaf=1,oob_score=True,n_jobs=2)\n",
    "regr.fit(X_train,y_train)"
   ]
  },
  {
   "cell_type": "code",
   "execution_count": 158,
   "metadata": {
    "collapsed": false
   },
   "outputs": [
    {
     "name": "stdout",
     "output_type": "stream",
     "text": [
      "[0.01650945 0.005261   0.00522032 0.01185146 0.00502434 0.00495123\n",
      " 0.00352355 0.00750284 0.00555534 0.01097742 0.00298999 0.00233684\n",
      " 0.00212013 0.00195229 0.00176166 0.00182982 0.00182775 0.00168615\n",
      " 0.00222756 0.00252022 0.01502326 0.00693753 0.00237877 0.00802196\n",
      " 0.0073783  0.04000588 0.0078454  0.03530755 0.00362045 0.00594993\n",
      " 0.00207965 0.0010317  0.00078926 0.00091314 0.0006925  0.00085881\n",
      " 0.0009958  0.0009211  0.0008495  0.00099512 0.02535212 0.01559857\n",
      " 0.0068726  0.00474437 0.0041037  0.00401283 0.00360237 0.00409124\n",
      " 0.00436511 0.00449874 0.00421411 0.00327357 0.00456831 0.00291307\n",
      " 0.0033659  0.00464515 0.00255018 0.00251549 0.00219422 0.00302437\n",
      " 0.0100367  0.00890657 0.00802752 0.00741824 0.00699625 0.00737389\n",
      " 0.00881361 0.00772152 0.00926542 0.00843574 0.00957335 0.00622952\n",
      " 0.00485894 0.00542451 0.00499368 0.00477351 0.00412078 0.00536709\n",
      " 0.00524409 0.00866115 0.01552874 0.00726992 0.00591245 0.00403003\n",
      " 0.0047743  0.00430305 0.00467561 0.00414093 0.00568124 0.00974253\n",
      " 0.00298128 0.00190605 0.00203629 0.00248272 0.00339167 0.00234554\n",
      " 0.00320572 0.00197138 0.00194584 0.00224753 0.02030614 0.01988572\n",
      " 0.00935807 0.00921917 0.02122647 0.08659826 0.02150858 0.09308214\n",
      " 0.01066387 0.01357553 0.00463575 0.00220676 0.00250728 0.00269199\n",
      " 0.00159237 0.00152524 0.00224726 0.00136496 0.00184682 0.00290915\n",
      " 0.001755   0.00091601 0.00085288 0.00105523 0.00057501 0.00064892\n",
      " 0.0010507  0.00083858 0.0009229  0.0011075  0.00233664 0.00093766\n",
      " 0.00074977 0.00086077 0.00081756 0.0006644  0.00106061 0.00110595\n",
      " 0.00103513 0.00095049 0.01055195 0.00679346 0.00634287 0.00437003\n",
      " 0.00413151 0.00467972 0.00429293 0.00442263 0.00541593 0.00679449\n",
      " 0.00182745 0.00078693 0.00088222 0.00078969 0.00061841 0.000654\n",
      " 0.0010856  0.00095454 0.00088032 0.0009862 ]\n",
      "0.7090937571348386\n"
     ]
    }
   ],
   "source": [
    "print(regr.feature_importances_)\n",
    "print(regr.oob_score_)"
   ]
  },
  {
   "cell_type": "code",
   "execution_count": 159,
   "metadata": {
    "collapsed": false
   },
   "outputs": [
    {
     "name": "stdout",
     "output_type": "stream",
     "text": [
      "0.09308213774736934 channel_87_x_crossing_m_rms_fc\n",
      "0.08659826028541139 channel_85_x_crossing_m_rms_fc\n",
      "0.040005875206787826 channel_85_peak_welch_rms_fc\n",
      "0.035307546902797 channel_87_peak_welch_rms_fc\n",
      "0.02535212221991616 channel_80_kurtosis_rms_fc\n",
      "0.021508581904452474 channel_86_x_crossing_m_rms_fc\n",
      "0.021226472859131443 channel_84_x_crossing_m_rms_fc\n",
      "0.02030614434371012 channel_80_x_crossing_m_rms_fc\n",
      "0.01988572058905525 channel_81_x_crossing_m_rms_fc\n",
      "0.016509453331787743 channel_80_mean_rms_fc\n"
     ]
    }
   ],
   "source": [
    "inds = np.argsort(regr.feature_importances_)[::-1]\n",
    "\n",
    "for i in range(10):\n",
    "    print(regr.feature_importances_[inds[i]],X.columns[inds[i]])"
   ]
  },
  {
   "cell_type": "code",
   "execution_count": 160,
   "metadata": {
    "collapsed": false
   },
   "outputs": [
    {
     "name": "stdout",
     "output_type": "stream",
     "text": [
      "0.7211810238985512\n"
     ]
    },
    {
     "data": {
      "image/png": "[encoded data removed]",
      "text/plain": [
       "<Figure size 720x432 with 1 Axes>"
      ]
     },
     "metadata": {},
     "output_type": "display_data"
    }
   ],
   "source": [
    "print(regr.score(X_test,y_test))\n",
    "regr_pred = regr.predict(X_test)\n",
    "plt.figure(figsize=(10,6))\n",
    "plt.title('temperature predictions vs observations: All channels')\n",
    "plt.plot(regr_pred,y_test,'b.')\n",
    "plt.xlabel('Prediction')\n",
    "plt.ylabel('Observation')\n",
    "plt.grid()\n",
    "plt.savefig('temperature_prediction_all_chan_sliding_window.png')"
   ]
  },
  {
   "cell_type": "markdown",
   "metadata": {},
   "source": [
    "### Test 3: More experimental  - apply scaling and PCA before training  "
   ]
  },
  {
   "cell_type": "code",
   "execution_count": 161,
   "metadata": {
    "collapsed": true
   },
   "outputs": [],
   "source": [
    "from sklearn.preprocessing import StandardScaler\n",
    "from sklearn.decomposition import PCA"
   ]
  },
  {
   "cell_type": "code",
   "execution_count": 162,
   "metadata": {
    "collapsed": true
   },
   "outputs": [],
   "source": [
    "scaler = StandardScaler()\n",
    "scaler.fit(X)\n",
    "scaled_X = scaler.transform(X)"
   ]
  },
  {
   "cell_type": "code",
   "execution_count": 164,
   "metadata": {
    "collapsed": false
   },
   "outputs": [
    {
     "data": {
      "text/plain": [
       "RandomForestRegressor(bootstrap=True, criterion='mse', max_depth=None,\n",
       "           max_features='auto', max_leaf_nodes=None,\n",
       "           min_impurity_decrease=0.0, min_impurity_split=None,\n",
       "           min_samples_leaf=1, min_samples_split=2,\n",
       "           min_weight_fraction_leaf=0.0, n_estimators=300, n_jobs=2,\n",
       "           oob_score=True, random_state=None, verbose=0, warm_start=False)"
      ]
     },
     "execution_count": 164,
     "metadata": {},
     "output_type": "execute_result"
    }
   ],
   "source": [
    "X_train, X_test, y_train, y_test = train_test_split(scaled_X,y,test_size=0.3)\n",
    "regr = RandomForestRegressor(n_estimators=300,min_samples_leaf=1,oob_score=True,n_jobs=2)\n",
    "regr.fit(X_train,y_train)"
   ]
  },
  {
   "cell_type": "code",
   "execution_count": 165,
   "metadata": {
    "collapsed": false
   },
   "outputs": [
    {
     "name": "stdout",
     "output_type": "stream",
     "text": [
      "[0.01223125 0.00530047 0.00981592 0.01137268 0.00553724 0.00432678\n",
      " 0.00436682 0.00389464 0.00507352 0.01152577 0.00276759 0.00222398\n",
      " 0.00194609 0.0019988  0.00187501 0.00168993 0.00172538 0.00184469\n",
      " 0.00195033 0.00276008 0.01180467 0.01231205 0.0024611  0.0066268\n",
      " 0.00392831 0.04243631 0.0103826  0.03489034 0.00462361 0.00324939\n",
      " 0.00176501 0.00093206 0.00094406 0.00084983 0.00075715 0.00081499\n",
      " 0.00131168 0.00121076 0.00113861 0.00113531 0.01936487 0.01376035\n",
      " 0.00673404 0.00533618 0.0031295  0.00396143 0.00384491 0.00401558\n",
      " 0.00391132 0.00487543 0.00436853 0.00293366 0.00520116 0.0030798\n",
      " 0.00326437 0.00377692 0.00287316 0.00253333 0.00233999 0.00326363\n",
      " 0.01110804 0.0085066  0.00858805 0.0078838  0.0066476  0.00807401\n",
      " 0.00918907 0.0082507  0.00828279 0.00760057 0.00894746 0.00824138\n",
      " 0.00511003 0.00614706 0.00524755 0.00457203 0.00463067 0.00499294\n",
      " 0.00488037 0.00851339 0.01938036 0.00621482 0.00552958 0.00496102\n",
      " 0.00418453 0.0040769  0.00407304 0.00322671 0.00628473 0.01303761\n",
      " 0.00273397 0.00213402 0.00210773 0.00269842 0.0023959  0.00269693\n",
      " 0.00333231 0.00204181 0.00196189 0.00273872 0.02260132 0.01713007\n",
      " 0.01000213 0.01038313 0.02856222 0.05960555 0.06237525 0.06958651\n",
      " 0.0102782  0.01247066 0.00469263 0.00237186 0.0027242  0.00245589\n",
      " 0.00159714 0.00135787 0.00194712 0.00157235 0.00177264 0.00260454\n",
      " 0.00184545 0.00081689 0.00095955 0.0007898  0.00082594 0.0007646\n",
      " 0.00111702 0.0012899  0.00097876 0.00115262 0.00239475 0.00086071\n",
      " 0.00087745 0.00089385 0.00095202 0.00096429 0.00119998 0.00131784\n",
      " 0.00122802 0.0011999  0.01162502 0.00673569 0.00597434 0.00489649\n",
      " 0.00401904 0.00485146 0.00397672 0.0040411  0.00509166 0.00654436\n",
      " 0.00248691 0.00092679 0.0008221  0.00087044 0.00095796 0.00081415\n",
      " 0.00120451 0.00118385 0.00158531 0.00127664]\n",
      "0.7133560908273322\n"
     ]
    }
   ],
   "source": [
    "print(regr.feature_importances_)\n",
    "print(regr.oob_score_)"
   ]
  },
  {
   "cell_type": "code",
   "execution_count": 166,
   "metadata": {
    "collapsed": false
   },
   "outputs": [
    {
     "name": "stdout",
     "output_type": "stream",
     "text": [
      "0.0695865072770721 channel_87_x_crossing_m_rms_fc\n",
      "0.06237524622467874 channel_86_x_crossing_m_rms_fc\n",
      "0.0596055470896359 channel_85_x_crossing_m_rms_fc\n",
      "0.04243631184259084 channel_85_peak_welch_rms_fc\n",
      "0.03489033682952561 channel_87_peak_welch_rms_fc\n",
      "0.02856222360268162 channel_84_x_crossing_m_rms_fc\n",
      "0.02260131995355535 channel_80_x_crossing_m_rms_fc\n",
      "0.019380356433305802 channel_80_median_rms_fc\n",
      "0.019364869359927497 channel_80_kurtosis_rms_fc\n",
      "0.017130073891847286 channel_81_x_crossing_m_rms_fc\n"
     ]
    }
   ],
   "source": [
    "inds = np.argsort(regr.feature_importances_)[::-1]\n",
    "\n",
    "for i in range(10):\n",
    "    print(regr.feature_importances_[inds[i]],X.columns[inds[i]])"
   ]
  },
  {
   "cell_type": "code",
   "execution_count": 167,
   "metadata": {
    "collapsed": false
   },
   "outputs": [
    {
     "name": "stdout",
     "output_type": "stream",
     "text": [
      "0.7262043395292791\n"
     ]
    },
    {
     "data": {
      "image/png": "[encoded data removed]",
      "text/plain": [
       "<Figure size 720x432 with 1 Axes>"
      ]
     },
     "metadata": {},
     "output_type": "display_data"
    }
   ],
   "source": [
    "print(regr.score(X_test,y_test))\n",
    "regr_pred = regr.predict(X_test)\n",
    "plt.figure(figsize=(10,6))\n",
    "plt.title('temperature predictions vs observations: All channels, scaled')\n",
    "plt.plot(regr_pred,y_test,'b.')\n",
    "plt.xlabel('Prediction')\n",
    "plt.ylabel('Observation')\n",
    "plt.grid()\n",
    "plt.savefig('temperature_prediction_all_chan_scaled_sliding_window.png')"
   ]
  },
  {
   "cell_type": "markdown",
   "metadata": {},
   "source": [
    "### Attempt to use PCA to understand the feature space"
   ]
  },
  {
   "cell_type": "code",
   "execution_count": 227,
   "metadata": {
    "collapsed": true
   },
   "outputs": [],
   "source": [
    "y = cleaned_df['M3_20_Avg_interp']\n",
    "X = cleaned_df.drop(['time','tsince_start','M3_20_Avg_interp','Temphigh_interp'],axis=1)\n",
    "scaler = StandardScaler()\n",
    "scaler.fit(X)\n",
    "scaled_X = scaler.transform(X)"
   ]
  },
  {
   "cell_type": "code",
   "execution_count": 228,
   "metadata": {
    "collapsed": false
   },
   "outputs": [
    {
     "data": {
      "text/plain": [
       "PCA(copy=True, iterated_power='auto', n_components=20, random_state=None,\n",
       "  svd_solver='auto', tol=0.0, whiten=False)"
      ]
     },
     "execution_count": 228,
     "metadata": {},
     "output_type": "execute_result"
    }
   ],
   "source": [
    "pca = PCA(n_components=20)\n",
    "pca.fit(scaled_X)"
   ]
  },
  {
   "cell_type": "code",
   "execution_count": 229,
   "metadata": {
    "collapsed": true
   },
   "outputs": [],
   "source": [
    "X_pca = pca.transform(scaled_X)"
   ]
  },
  {
   "cell_type": "markdown",
   "metadata": {},
   "source": [
    "Scree plot to understand the importance of the components"
   ]
  },
  {
   "cell_type": "code",
   "execution_count": 235,
   "metadata": {
    "collapsed": false
   },
   "outputs": [
    {
     "data": {
      "text/plain": [
       "Text(0,0.5,'Eigenvalue')"
      ]
     },
     "execution_count": 235,
     "metadata": {},
     "output_type": "execute_result"
    },
    {
     "data": {
      "image/png": "[encoded data removed]",
      "text/plain": [
       "<Figure size 432x288 with 1 Axes>"
      ]
     },
     "metadata": {},
     "output_type": "display_data"
    }
   ],
   "source": [
    "plt.plot(pca.singular_values_)\n",
    "plt.xlabel('Component')\n",
    "plt.ylabel('Eigenvalue')"
   ]
  },
  {
   "cell_type": "code",
   "execution_count": 236,
   "metadata": {
    "collapsed": false
   },
   "outputs": [
    {
     "name": "stdout",
     "output_type": "stream",
     "text": [
      "[0.49335203 0.11900066 0.09015943 0.04906558 0.04388422 0.03109978\n",
      " 0.02483325 0.01523294 0.01472213 0.01260263 0.01127855 0.0090413\n",
      " 0.00873908 0.00750205 0.00646374 0.00544444 0.00473935 0.00431997\n",
      " 0.00364062 0.00290366]\n"
     ]
    }
   ],
   "source": [
    "print(pca.explained_variance_ratio_)"
   ]
  },
  {
   "cell_type": "code",
   "execution_count": 238,
   "metadata": {
    "collapsed": false
   },
   "outputs": [
    {
     "data": {
      "text/plain": [
       "RandomForestRegressor(bootstrap=True, criterion='mse', max_depth=None,\n",
       "           max_features='auto', max_leaf_nodes=None,\n",
       "           min_impurity_decrease=0.0, min_impurity_split=None,\n",
       "           min_samples_leaf=1, min_samples_split=2,\n",
       "           min_weight_fraction_leaf=0.0, n_estimators=300, n_jobs=2,\n",
       "           oob_score=True, random_state=None, verbose=0, warm_start=False)"
      ]
     },
     "execution_count": 238,
     "metadata": {},
     "output_type": "execute_result"
    }
   ],
   "source": [
    "X_train, X_test, y_train, y_test = train_test_split(X_pca,y,test_size=0.3)\n",
    "regr = RandomForestRegressor(n_estimators=300,min_samples_leaf=1,oob_score=True,n_jobs=2)\n",
    "regr.fit(X_train,y_train)"
   ]
  },
  {
   "cell_type": "code",
   "execution_count": 239,
   "metadata": {
    "collapsed": false
   },
   "outputs": [
    {
     "name": "stdout",
     "output_type": "stream",
     "text": [
      "[0.07993813 0.08689036 0.05624595 0.08864219 0.02506795 0.07396193\n",
      " 0.04073471 0.02973165 0.02336472 0.07863484 0.03478052 0.03292998\n",
      " 0.04341653 0.0338968  0.06151527 0.06867295 0.03801164 0.03717741\n",
      " 0.03065616 0.03573031]\n",
      "0.44579174560674417\n"
     ]
    }
   ],
   "source": [
    "print(regr.feature_importances_)\n",
    "print(regr.oob_score_)"
   ]
  },
  {
   "cell_type": "markdown",
   "metadata": {},
   "source": [
    "The fact that training on a small number of PCA components (which together appear to explain the vast majority of the variance in the data) produced a worse fit than when all the channels are used suggests that we might be fitting noise.  "
   ]
  },
  {
   "cell_type": "code",
   "execution_count": null,
   "metadata": {
    "collapsed": true
   },
   "outputs": [],
   "source": []
  }
 ],
 "metadata": {
  "anaconda-cloud": {},
  "kernelspec": {
   "display_name": "Python [conda env:python3]",
   "language": "python",
   "name": "conda-env-python3-py"
  },
  "language_info": {
   "codemirror_mode": {
    "name": "ipython",
    "version": 3
   },
   "file_extension": ".py",
   "mimetype": "text/x-python",
   "name": "python",
   "nbconvert_exporter": "python",
   "pygments_lexer": "ipython3",
   "version": "3.6.4"
  }
 },
 "nbformat": 4,
 "nbformat_minor": 1
}
